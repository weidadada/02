{
 "cells": [
  {
   "cell_type": "markdown",
   "metadata": {},
   "source": [
    "# lambda 函数用法"
   ]
  },
  {
   "cell_type": "code",
   "execution_count": 2,
   "metadata": {},
   "outputs": [],
   "source": [
    "import random"
   ]
  },
  {
   "cell_type": "code",
   "execution_count": 3,
   "metadata": {},
   "outputs": [],
   "source": [
    "def adj():\n",
    "    return random.choice('蓝色的 | 好看的 | 小小的'.split('|'))#.split()[0]"
   ]
  },
  {
   "cell_type": "code",
   "execution_count": 4,
   "metadata": {},
   "outputs": [
    {
     "data": {
      "text/plain": [
       "' 小小的'"
      ]
     },
     "execution_count": 4,
     "metadata": {},
     "output_type": "execute_result"
    }
   ],
   "source": [
    "adj()"
   ]
  },
  {
   "cell_type": "code",
   "execution_count": 5,
   "metadata": {},
   "outputs": [],
   "source": [
    "def adj_star():\n",
    "    return random.choice([\"\",adj()+adj_star()])#会死循环，每一次.choice"
   ]
  },
  {
   "cell_type": "code",
   "execution_count": 6,
   "metadata": {},
   "outputs": [],
   "source": [
    "def adj_star_1():\n",
    "    return random.choice([lambda :'',lambda : adj()+adj_star_1()])()"
   ]
  },
  {
   "cell_type": "code",
   "execution_count": 7,
   "metadata": {},
   "outputs": [
    {
     "data": {
      "text/plain": [
       "' 小小的'"
      ]
     },
     "execution_count": 7,
     "metadata": {},
     "output_type": "execute_result"
    }
   ],
   "source": [
    "adj_star_1()"
   ]
  },
  {
   "cell_type": "markdown",
   "metadata": {},
   "source": [
    "# 02"
   ]
  },
  {
   "cell_type": "markdown",
   "metadata": {},
   "source": [
    "# 城市坐标"
   ]
  },
  {
   "cell_type": "code",
   "execution_count": 9,
   "metadata": {},
   "outputs": [],
   "source": [
    "coordination_source = \"\"\"\n",
    "{name:'兰州', geoCoord:[103.73, 36.03]},\n",
    "{name:'嘉峪关', geoCoord:[98.17, 39.47]},\n",
    "{name:'西宁', geoCoord:[101.74, 36.56]},\n",
    "{name:'成都', geoCoord:[104.06, 30.67]},\n",
    "{name:'石家庄', geoCoord:[114.48, 38.03]},\n",
    "{name:'拉萨', geoCoord:[102.73, 25.04]},\n",
    "{name:'贵阳', geoCoord:[106.71, 26.57]},\n",
    "{name:'武汉', geoCoord:[114.31, 30.52]},\n",
    "{name:'郑州', geoCoord:[113.65, 34.76]},\n",
    "{name:'济南', geoCoord:[117, 36.65]},\n",
    "{name:'南京', geoCoord:[118.78, 32.04]},\n",
    "{name:'合肥', geoCoord:[117.27, 31.86]},\n",
    "{name:'杭州', geoCoord:[120.19, 30.26]},\n",
    "{name:'南昌', geoCoord:[115.89, 28.68]},\n",
    "{name:'福州', geoCoord:[119.3, 26.08]},\n",
    "{name:'广州', geoCoord:[113.23, 23.16]},\n",
    "{name:'长沙', geoCoord:[113, 28.21]},\n",
    "//{name:'海口', geoCoord:[110.35, 20.02]},\n",
    "{name:'沈阳', geoCoord:[123.38, 41.8]},\n",
    "{name:'长春', geoCoord:[125.35, 43.88]},\n",
    "{name:'哈尔滨', geoCoord:[126.63, 45.75]},\n",
    "{name:'太原', geoCoord:[112.53, 37.87]},\n",
    "{name:'西安', geoCoord:[108.95, 34.27]},\n",
    "//{name:'台湾', geoCoord:[121.30, 25.03]},\n",
    "{name:'北京', geoCoord:[116.46, 39.92]},\n",
    "{name:'上海', geoCoord:[121.48, 31.22]},\n",
    "{name:'重庆', geoCoord:[106.54, 29.59]},\n",
    "{name:'天津', geoCoord:[117.2, 39.13]},\n",
    "{name:'呼和浩特', geoCoord:[111.65, 40.82]},\n",
    "{name:'南宁', geoCoord:[108.33, 22.84]},\n",
    "//{name:'西藏', geoCoord:[91.11, 29.97]},\n",
    "{name:'银川', geoCoord:[106.27, 38.47]},\n",
    "{name:'乌鲁木齐', geoCoord:[87.68, 43.77]},\n",
    "{name:'香港', geoCoord:[114.17, 22.28]},\n",
    "{name:'澳门', geoCoord:[113.54, 22.19]}\n",
    "\"\"\""
   ]
  },
  {
   "cell_type": "code",
   "execution_count": 10,
   "metadata": {},
   "outputs": [],
   "source": [
    "import re"
   ]
  },
  {
   "cell_type": "code",
   "execution_count": 11,
   "metadata": {},
   "outputs": [],
   "source": [
    "test_string = \"{name:'兰州', geoCoord:[103.73, 36.03]},\""
   ]
  },
  {
   "cell_type": "code",
   "execution_count": 12,
   "metadata": {},
   "outputs": [],
   "source": [
    "pattern = re.compile(r\"name:'(\\w+)',\\s+geoCoord:\\[(\\d+.?\\d+),\\s(\\d+.?\\d+)\\]\")#r代表这是个正则表达，？表示有或者没有，\\[:\\斜杠表示转译,[在正则中有其他意思。\\s？？"
   ]
  },
  {
   "cell_type": "code",
   "execution_count": 13,
   "metadata": {},
   "outputs": [
    {
     "data": {
      "text/plain": [
       "[('兰州', '103.73', '36.03')]"
      ]
     },
     "execution_count": 13,
     "metadata": {},
     "output_type": "execute_result"
    }
   ],
   "source": [
    "city_info = pattern.findall(test_string)\n",
    "city_info"
   ]
  },
  {
   "cell_type": "code",
   "execution_count": 14,
   "metadata": {},
   "outputs": [],
   "source": [
    "city_location = {}"
   ]
  },
  {
   "cell_type": "code",
   "execution_count": 15,
   "metadata": {},
   "outputs": [],
   "source": [
    "for line in coordination_source.split('\\n'):\n",
    "    city_info = pattern.findall(line)\n",
    "    if not city_info: continue\n",
    "    \n",
    "    # following: we find the city info\n",
    "    \n",
    "    city, long, lat = city_info[0]##[0]别忘了\n",
    "    \n",
    "    long, lat = float(long), float(lat)#字符串转float数子\n",
    "    \n",
    "    city_location[city] = (long, lat)"
   ]
  },
  {
   "cell_type": "code",
   "execution_count": 16,
   "metadata": {},
   "outputs": [
    {
     "data": {
      "text/plain": [
       "{'兰州': (103.73, 36.03),\n",
       " '嘉峪关': (98.17, 39.47),\n",
       " '西宁': (101.74, 36.56),\n",
       " '成都': (104.06, 30.67),\n",
       " '石家庄': (114.48, 38.03),\n",
       " '拉萨': (102.73, 25.04),\n",
       " '贵阳': (106.71, 26.57),\n",
       " '武汉': (114.31, 30.52),\n",
       " '郑州': (113.65, 34.76),\n",
       " '济南': (117.0, 36.65),\n",
       " '南京': (118.78, 32.04),\n",
       " '合肥': (117.27, 31.86),\n",
       " '杭州': (120.19, 30.26),\n",
       " '南昌': (115.89, 28.68),\n",
       " '福州': (119.3, 26.08),\n",
       " '广州': (113.23, 23.16),\n",
       " '长沙': (113.0, 28.21),\n",
       " '海口': (110.35, 20.02),\n",
       " '沈阳': (123.38, 41.8),\n",
       " '长春': (125.35, 43.88),\n",
       " '哈尔滨': (126.63, 45.75),\n",
       " '太原': (112.53, 37.87),\n",
       " '西安': (108.95, 34.27),\n",
       " '台湾': (121.3, 25.03),\n",
       " '北京': (116.46, 39.92),\n",
       " '上海': (121.48, 31.22),\n",
       " '重庆': (106.54, 29.59),\n",
       " '天津': (117.2, 39.13),\n",
       " '呼和浩特': (111.65, 40.82),\n",
       " '南宁': (108.33, 22.84),\n",
       " '西藏': (91.11, 29.97),\n",
       " '银川': (106.27, 38.47),\n",
       " '乌鲁木齐': (87.68, 43.77),\n",
       " '香港': (114.17, 22.28),\n",
       " '澳门': (113.54, 22.19)}"
      ]
     },
     "execution_count": 16,
     "metadata": {},
     "output_type": "execute_result"
    }
   ],
   "source": [
    "city_location"
   ]
  },
  {
   "cell_type": "code",
   "execution_count": 17,
   "metadata": {},
   "outputs": [],
   "source": [
    "import math"
   ]
  },
  {
   "cell_type": "code",
   "execution_count": 18,
   "metadata": {},
   "outputs": [],
   "source": [
    "#根据经纬度计算直线距离\n",
    "def geo_distance(origin, destination):\n",
    "    \"\"\"\n",
    "    Calculate the Haversine distance.\n",
    "\n",
    "    Parameters\n",
    "    ----------\n",
    "    origin : tuple of float\n",
    "        (lat, long)\n",
    "    destination : tuple of float\n",
    "        (lat, long)\n",
    "\n",
    "    Returns\n",
    "    -------\n",
    "    distance_in_km : float\n",
    "\n",
    "    Examples\n",
    "    --------\n",
    "    >>> origin = (48.1372, 11.5756)  # Munich\n",
    "    >>> destination = (52.5186, 13.4083)  # Berlin\n",
    "    >>> round(distance(origin, destination), 1)\n",
    "    504.2\n",
    "    \"\"\"\n",
    "    lat1, lon1 = origin\n",
    "    lat2, lon2 = destination\n",
    "    radius = 6371  # km\n",
    "\n",
    "    dlat = math.radians(lat2 - lat1)#radians() 方法将角度转换为弧度\n",
    "    dlon = math.radians(lon2 - lon1)\n",
    "    a = (math.sin(dlat / 2) * math.sin(dlat / 2) +\n",
    "         math.cos(math.radians(lat1)) * math.cos(math.radians(lat2)) *\n",
    "         math.sin(dlon / 2) * math.sin(dlon / 2))\n",
    "    c = 2 * math.atan2(math.sqrt(a), math.sqrt(1 - a))#atan2() 返回给定的 X 及 Y 坐标值的反正切值;sqrt() 方法返回数字x的平方根\n",
    "    d = radius * c\n",
    "\n",
    "    return d"
   ]
  },
  {
   "cell_type": "code",
   "execution_count": 19,
   "metadata": {},
   "outputs": [
    {
     "data": {
      "text/plain": [
       "70.16960262636923"
      ]
     },
     "execution_count": 19,
     "metadata": {},
     "output_type": "execute_result"
    }
   ],
   "source": [
    "geo_distance((114.17, 22.28),(113.54, 22.19))"
   ]
  },
  {
   "cell_type": "code",
   "execution_count": 20,
   "metadata": {},
   "outputs": [],
   "source": [
    "def get_geo_distance(city1, city2):\n",
    "    return geo_distance(city_location[city1], city_location[city2])"
   ]
  },
  {
   "cell_type": "code",
   "execution_count": 21,
   "metadata": {},
   "outputs": [
    {
     "data": {
      "text/plain": [
       "70.16960262636923"
      ]
     },
     "execution_count": 21,
     "metadata": {},
     "output_type": "execute_result"
    }
   ],
   "source": [
    "get_geo_distance(\"香港\",\"澳门\")"
   ]
  },
  {
   "cell_type": "code",
   "execution_count": null,
   "metadata": {},
   "outputs": [],
   "source": []
  },
  {
   "cell_type": "code",
   "execution_count": 22,
   "metadata": {},
   "outputs": [],
   "source": [
    "import networkx as nx"
   ]
  },
  {
   "cell_type": "code",
   "execution_count": 23,
   "metadata": {},
   "outputs": [],
   "source": [
    "city_graph = nx.Graph()#创建一个nx.Graph对象"
   ]
  },
  {
   "cell_type": "code",
   "execution_count": 24,
   "metadata": {},
   "outputs": [],
   "source": [
    "city_graph.add_nodes_from(list(city_location.keys()))#.keys() 方法会返回一个由一个给定对象的自身可枚举属性组成的数组"
   ]
  },
  {
   "cell_type": "code",
   "execution_count": 25,
   "metadata": {},
   "outputs": [
    {
     "data": {
      "text/plain": [
       "['兰州',\n",
       " '嘉峪关',\n",
       " '西宁',\n",
       " '成都',\n",
       " '石家庄',\n",
       " '拉萨',\n",
       " '贵阳',\n",
       " '武汉',\n",
       " '郑州',\n",
       " '济南',\n",
       " '南京',\n",
       " '合肥',\n",
       " '杭州',\n",
       " '南昌',\n",
       " '福州',\n",
       " '广州',\n",
       " '长沙',\n",
       " '海口',\n",
       " '沈阳',\n",
       " '长春',\n",
       " '哈尔滨',\n",
       " '太原',\n",
       " '西安',\n",
       " '台湾',\n",
       " '北京',\n",
       " '上海',\n",
       " '重庆',\n",
       " '天津',\n",
       " '呼和浩特',\n",
       " '南宁',\n",
       " '西藏',\n",
       " '银川',\n",
       " '乌鲁木齐',\n",
       " '香港',\n",
       " '澳门']"
      ]
     },
     "execution_count": 25,
     "metadata": {},
     "output_type": "execute_result"
    }
   ],
   "source": [
    "list(city_location.keys())"
   ]
  },
  {
   "cell_type": "code",
   "execution_count": 26,
   "metadata": {},
   "outputs": [],
   "source": [
    "%matplotlib inline"
   ]
  },
  {
   "cell_type": "code",
   "execution_count": 27,
   "metadata": {},
   "outputs": [],
   "source": [
    "import matplotlib.pyplot as plt"
   ]
  },
  {
   "cell_type": "code",
   "execution_count": 28,
   "metadata": {},
   "outputs": [
    {
     "data": {
      "image/png": "[encoded data removed]",
      "text/plain": [
       "<Figure size 432x288 with 1 Axes>"
      ]
     },
     "metadata": {},
     "output_type": "display_data"
    }
   ],
   "source": [
    "nx.draw(city_graph, city_location, with_labels=True, node_size=50)"
   ]
  },
  {
   "cell_type": "code",
   "execution_count": 29,
   "metadata": {},
   "outputs": [],
   "source": [
    "from collections import defaultdict\n",
    "city_connection = defaultdict(list)#defaultdict类的初始化函数接受一个类型作为参数，当所访问的键不存在的时候，可以实例化一个值作为默认值"
   ]
  },
  {
   "cell_type": "code",
   "execution_count": 30,
   "metadata": {},
   "outputs": [],
   "source": [
    "for c1 in city_location:\n",
    "    for c2 in city_location:\n",
    "        if c1 == c2: continue\n",
    "        \n",
    "        distance = get_geo_distance(c1, c2)\n",
    "        \n",
    "        if distance < 300:\n",
    "            city_connection[c1].append(c2)\n",
    "            city_connection[c2].append(c1)"
   ]
  },
  {
   "cell_type": "code",
   "execution_count": 31,
   "metadata": {},
   "outputs": [
    {
     "data": {
      "text/plain": [
       "defaultdict(list,\n",
       "            {'兰州': ['西宁', '成都', '银川', '西宁', '成都', '银川'],\n",
       "             '西宁': ['兰州', '兰州', '成都', '拉萨', '成都', '拉萨'],\n",
       "             '成都': ['兰州', '西宁', '兰州', '西宁', '拉萨', '重庆', '拉萨', '重庆'],\n",
       "             '银川': ['兰州', '重庆', '兰州', '重庆'],\n",
       "             '拉萨': ['西宁', '成都', '西宁', '成都'],\n",
       "             '重庆': ['成都', '贵阳', '成都', '贵阳', '银川', '银川'],\n",
       "             '石家庄': ['郑州', '济南', '太原', '北京', '郑州', '济南', '太原', '北京'],\n",
       "             '郑州': ['石家庄', '武汉', '石家庄', '武汉', '长沙', '太原', '长沙', '太原'],\n",
       "             '济南': ['石家庄', '石家庄', '合肥', '北京', '天津', '合肥', '北京', '天津'],\n",
       "             '太原': ['石家庄', '郑州', '石家庄', '郑州', '呼和浩特', '呼和浩特'],\n",
       "             '北京': ['石家庄', '济南', '石家庄', '济南', '天津', '天津'],\n",
       "             '贵阳': ['重庆', '南宁', '重庆', '南宁'],\n",
       "             '南宁': ['贵阳', '海口', '贵阳', '海口'],\n",
       "             '武汉': ['郑州', '南昌', '长沙', '郑州', '南昌', '长沙'],\n",
       "             '南昌': ['武汉', '合肥', '武汉', '合肥'],\n",
       "             '长沙': ['武汉',\n",
       "              '郑州',\n",
       "              '广州',\n",
       "              '武汉',\n",
       "              '郑州',\n",
       "              '广州',\n",
       "              '香港',\n",
       "              '澳门',\n",
       "              '香港',\n",
       "              '澳门'],\n",
       "             '合肥': ['济南', '南京', '济南', '南京', '南昌', '南昌'],\n",
       "             '天津': ['济南', '北京', '济南', '北京'],\n",
       "             '南京': ['合肥', '杭州', '合肥', '杭州'],\n",
       "             '杭州': ['南京', '南京', '福州', '上海', '福州', '上海'],\n",
       "             '福州': ['杭州', '杭州', '台湾', '台湾'],\n",
       "             '上海': ['杭州', '杭州'],\n",
       "             '台湾': ['福州', '福州'],\n",
       "             '广州': ['长沙', '香港', '澳门', '长沙', '香港', '澳门'],\n",
       "             '香港': ['广州', '长沙', '广州', '长沙', '澳门', '澳门'],\n",
       "             '澳门': ['广州', '长沙', '香港', '广州', '长沙', '香港'],\n",
       "             '海口': ['南宁', '南宁'],\n",
       "             '沈阳': ['长春', '长春'],\n",
       "             '长春': ['沈阳', '沈阳', '哈尔滨', '哈尔滨'],\n",
       "             '哈尔滨': ['长春', '长春'],\n",
       "             '呼和浩特': ['太原', '太原']})"
      ]
     },
     "execution_count": 31,
     "metadata": {},
     "output_type": "execute_result"
    }
   ],
   "source": [
    "city_connection"
   ]
  },
  {
   "cell_type": "code",
   "execution_count": 32,
   "metadata": {},
   "outputs": [],
   "source": [
    "city_with_road = nx.Graph(city_connection)"
   ]
  },
  {
   "cell_type": "code",
   "execution_count": 33,
   "metadata": {},
   "outputs": [
    {
     "data": {
      "image/png": "[encoded data removed]",
      "text/plain": [
       "<Figure size 432x288 with 1 Axes>"
      ]
     },
     "metadata": {},
     "output_type": "display_data"
    }
   ],
   "source": [
    "nx.draw(city_with_road, city_location, with_labels=True, node_size=30)"
   ]
  },
  {
   "cell_type": "markdown",
   "metadata": {},
   "source": [
    "# 例子"
   ]
  },
  {
   "cell_type": "code",
   "execution_count": 34,
   "metadata": {},
   "outputs": [],
   "source": [
    "simple_connection_info_src = {\n",
    "    '北京': ['太原', '沈阳'],\n",
    "    '太原': ['北京', '西安', '郑州'],\n",
    "    '兰州': ['西安'],\n",
    "    '郑州': ['太原'],\n",
    "    '西安': ['兰州', '长沙'],\n",
    "    '长沙': ['福州', '南宁'],\n",
    "    '沈阳': ['北京']\n",
    "}"
   ]
  },
  {
   "cell_type": "code",
   "execution_count": 35,
   "metadata": {},
   "outputs": [],
   "source": [
    "simple_connection_info = defaultdict(list)"
   ]
  },
  {
   "cell_type": "code",
   "execution_count": 36,
   "metadata": {},
   "outputs": [],
   "source": [
    "simple_connection_info.update(simple_connection_info_src)#update() 方法用于更新字典中的键/值对，可以修改存在的键对应的值，也可以添加新的键/值对到字典中。"
   ]
  },
  {
   "cell_type": "code",
   "execution_count": 37,
   "metadata": {},
   "outputs": [
    {
     "data": {
      "text/plain": [
       "defaultdict(list,\n",
       "            {'北京': ['太原', '沈阳'],\n",
       "             '太原': ['北京', '西安', '郑州'],\n",
       "             '兰州': ['西安'],\n",
       "             '郑州': ['太原'],\n",
       "             '西安': ['兰州', '长沙'],\n",
       "             '长沙': ['福州', '南宁'],\n",
       "             '沈阳': ['北京']})"
      ]
     },
     "execution_count": 37,
     "metadata": {},
     "output_type": "execute_result"
    }
   ],
   "source": [
    "simple_connection_info"
   ]
  },
  {
   "cell_type": "code",
   "execution_count": 38,
   "metadata": {},
   "outputs": [],
   "source": [
    "def bfs(graph, start):\n",
    "    \"\"\"\n",
    "    breath first search\n",
    "    \"\"\"\n",
    "    visited = [start]\n",
    "    \n",
    "    seen = set()##set() 函数创建一个无序不重复元素集，可进行关系测试，删除重复数据，还可以计算交集、差集、并集等\n",
    "    while visited:\n",
    "        froninter = visited.pop() #用于移除列表中的一个元素（默认最后一个元素），并且返回该元素的值\n",
    "        #print(froninter)\n",
    "        if froninter in seen: continue\n",
    "        for successor in graph[froninter]:\n",
    "            if successor in seen: continue\n",
    "            visited = visited + [successor] # 我们每次扩展都扩展最新发现的点 -> depth first\n",
    "            #visited = [successor] + visited # 我们每次扩展都先考虑已经发现的 老的点 -> breath first\n",
    "            \n",
    "            # 所以说，这个扩展顺序其实是决定了我们的深度优先还是广度优先\n",
    "        print(seen)\n",
    "        seen.add(froninter)\n",
    "    \n",
    "    return seen"
   ]
  },
  {
   "cell_type": "code",
   "execution_count": 39,
   "metadata": {},
   "outputs": [],
   "source": [
    "number_grpah = defaultdict(list)\n",
    "\n",
    "number_grpah.update({\n",
    "    1: [2, 3],\n",
    "    2: [1, 4], \n",
    "    3: [1, 5],\n",
    "    4: [2, 6], \n",
    "    5: [3, 7],\n",
    "    7: [5, 8]\n",
    "})"
   ]
  },
  {
   "cell_type": "code",
   "execution_count": 84,
   "metadata": {},
   "outputs": [
    {
     "name": "stdout",
     "output_type": "stream",
     "text": [
      "set()\n",
      "{3}\n",
      "{3, 5}\n",
      "{3, 5, 7}\n",
      "{8, 3, 5, 7}\n",
      "{1, 3, 5, 7, 8}\n",
      "{1, 2, 3, 5, 7, 8}\n",
      "{1, 2, 3, 4, 5, 7, 8}\n"
     ]
    },
    {
     "data": {
      "text/plain": [
       "{1, 2, 3, 4, 5, 6, 7, 8}"
      ]
     },
     "execution_count": 84,
     "metadata": {},
     "output_type": "execute_result"
    }
   ],
   "source": [
    "bfs(number_grpah, 3)"
   ]
  },
  {
   "cell_type": "code",
   "execution_count": 41,
   "metadata": {},
   "outputs": [
    {
     "data": {
      "text/plain": [
       "['兰州', '长沙']"
      ]
     },
     "execution_count": 41,
     "metadata": {},
     "output_type": "execute_result"
    }
   ],
   "source": [
    "simple_connection_info['西安']"
   ]
  },
  {
   "cell_type": "code",
   "execution_count": 82,
   "metadata": {},
   "outputs": [
    {
     "name": "stdout",
     "output_type": "stream",
     "text": [
      "set()\n",
      "{'西安'}\n",
      "{'长沙', '西安'}\n",
      "{'长沙', '南宁', '西安'}\n",
      "{'长沙', '南宁', '福州', '西安'}\n"
     ]
    },
    {
     "data": {
      "text/plain": [
       "{'兰州', '南宁', '福州', '西安', '长沙'}"
      ]
     },
     "execution_count": 82,
     "metadata": {},
     "output_type": "execute_result"
    }
   ],
   "source": [
    "bfs(simple_connection_info, \"西安\")"
   ]
  },
  {
   "cell_type": "code",
   "execution_count": 42,
   "metadata": {},
   "outputs": [
    {
     "data": {
      "image/png": "[encoded data removed]",
      "text/plain": [
       "<Figure size 432x288 with 1 Axes>"
      ]
     },
     "metadata": {},
     "output_type": "display_data"
    }
   ],
   "source": [
    "nx.draw(nx.Graph(simple_connection_info), city_location, with_labels=True, node_size=10)"
   ]
  },
  {
   "cell_type": "markdown",
   "metadata": {},
   "source": [
    "# 例子结束"
   ]
  },
  {
   "cell_type": "code",
   "execution_count": 32,
   "metadata": {},
   "outputs": [],
   "source": [
    "def search(start, destination, connection_grpah, sort_candidate):\n",
    "    pathes = [[start]]##[[起始，目的地]]\n",
    "    \n",
    "    visitied = set()\n",
    "    \n",
    "    while pathes: # if we find existing pathes\n",
    "        path = pathes.pop(0)\n",
    "        froninter = path[-1]\n",
    "        \n",
    "        if froninter in visitied: continue#找到目的地\n",
    "            \n",
    "        successors = connection_grpah[froninter]\n",
    "        \n",
    "        for city in successors:\n",
    "            if city in path: continue  # eliminate loop，找到起始\n",
    "                \n",
    "            new_path = path + [city]\n",
    "            \n",
    "            pathes.append(new_path)\n",
    "            \n",
    "            if city == destination: return new_path\n",
    "        \n",
    "        visitied.add(froninter)\n",
    "        \n",
    "        #pathes = sort_candidate(pathes) # 我们可以加一个排序函数 对我们的搜索策略进行控制\n",
    "        #print(pathes)"
   ]
  },
  {
   "cell_type": "code",
   "execution_count": 33,
   "metadata": {},
   "outputs": [],
   "source": [
    "def transfer_stations_first(pathes): \n",
    "    return sorted(pathes, key=len)"
   ]
  },
  {
   "cell_type": "code",
   "execution_count": 34,
   "metadata": {},
   "outputs": [],
   "source": [
    "def transfer_as_much_possible(pathes):\n",
    "    return sorted(pathes, key=len, reverse=True)"
   ]
  },
  {
   "cell_type": "code",
   "execution_count": 35,
   "metadata": {},
   "outputs": [],
   "source": [
    "def shortest_path_first(pathes):\n",
    "    \n",
    "    if len(pathes) <= 1: return pathes\n",
    "    \n",
    "    def get_path_distnace(path):\n",
    "        distance = 0\n",
    "        for i in range(1, len(path)):\n",
    "            distance += get_geo_distance(path[i - 1], path[i])\n",
    "        return distance\n",
    "\n",
    "    return sorted(pathes, key=get_path_distnace)# key主要是用来进行比较的元素，只有一个参数，具体的函数的参数就是取自于可迭代对象中，指定可迭代对象中的一个元素来进行排序"
   ]
  },
  {
   "cell_type": "code",
   "execution_count": 36,
   "metadata": {},
   "outputs": [],
   "source": [
    "def pretty_print(cities):\n",
    "    print('🚗->'.join(cities))"
   ]
  },
  {
   "cell_type": "code",
   "execution_count": 37,
   "metadata": {},
   "outputs": [],
   "source": [
    "#pretty_print(search('北京', '福州', simple_connection_info))"
   ]
  },
  {
   "cell_type": "code",
   "execution_count": 40,
   "metadata": {},
   "outputs": [
    {
     "name": "stdout",
     "output_type": "stream",
     "text": [
      "香港🚗->长沙🚗->郑州🚗->太原\n"
     ]
    }
   ],
   "source": [
    "pretty_print(search('香港', '太原', city_connection, sort_candidate=shortest_path_first))"
   ]
  },
  {
   "cell_type": "markdown",
   "metadata": {},
   "source": [
    "# "
   ]
  },
  {
   "cell_type": "markdown",
   "metadata": {},
   "source": [
    "# networkx不显示中文"
   ]
  },
  {
   "cell_type": "code",
   "execution_count": 6,
   "metadata": {},
   "outputs": [],
   "source": [
    "matplotlib.rcParams['font.sans-serif'] = ['SimHei'] ###加这两家显示中文\n",
    "matplotlib.rcParams['font.family']='sans-serif'"
   ]
  },
  {
   "cell_type": "code",
   "execution_count": 7,
   "metadata": {},
   "outputs": [
    {
     "data": {
      "image/png": "[encoded data removed]",
      "text/plain": [
       "<Figure size 432x288 with 1 Axes>"
      ]
     },
     "metadata": {},
     "output_type": "display_data"
    }
   ],
   "source": [
    "# coding = utf-8\n",
    "from pylab import *\n",
    "import networkx as nx\n",
    "g=nx.Graph()\n",
    "g.add_edge('张三','李四')\n",
    "g.add_edge('张三','王五')\n",
    "nx.draw(g,with_labels=True)\n",
    "plt.show()"
   ]
  },
  {
   "cell_type": "code",
   "execution_count": 51,
   "metadata": {},
   "outputs": [
    {
     "name": "stdout",
     "output_type": "stream",
     "text": [
      "['D:\\\\Anaconda3\\\\lib\\\\site-packages\\\\matplotlib']\n"
     ]
    }
   ],
   "source": [
    "import matplotlib\n",
    "print(matplotlib.__path__)"
   ]
  },
  {
   "cell_type": "markdown",
   "metadata": {},
   "source": [
    "# 作业02 北京地铁换乘"
   ]
  },
  {
   "cell_type": "markdown",
   "metadata": {},
   "source": [
    "\n",
    "# 爬虫"
   ]
  },
  {
   "cell_type": "code",
   "execution_count": 89,
   "metadata": {},
   "outputs": [],
   "source": [
    "import requests"
   ]
  },
  {
   "cell_type": "code",
   "execution_count": 90,
   "metadata": {},
   "outputs": [
    {
     "data": {
      "text/plain": [
       "'<!DOCTYPE html PUBLIC \"-//W3C//DTD XHTML 1.0 Transitional//EN\" \"http://www.w3.org/TR/xhtml1/DTD/xhtml1-transitional.dtd\">\\r\\n<html xmlns=\"http://www.w3.org/1999/xhtml\">\\r\\n<head>\\r\\n<meta http-equiv=\"Content-Type\" content=\"text/html; charset=gb2312\" />\\r\\n<title>站间公里数 | 北京地铁官方网站</title>\\r\\n<meta name=\"keywords\" content=\"北京地铁官方网站,首末车时间\" />\\r\\n<meta name=\"description\" content=\"可以查询站点的首末车通车时间，避免错过对出行造成不便。\" />\\r\\n<link rel=\"shortcut icon\" href=\"http://www.bjsubway.com/favicon.ico\" type=\"image/x-icon\" />\\r\\n<link href=\"http://www.bjsubway.com/subway/css/common.css\" rel=\"stylesheet\" type=\"text/css\" />\\r\\n<link href=\"http://www.bjsubway.com/subway/css/search.css\" rel=\"stylesheet\" type=\"text/css\" />\\r\\n<script type=\"text/javascript\" src=\"http://www.bjsubway.com/subway/js/jquery.js\"></script>\\r\\n<script type=\"text/javascript\" src=\"http://www.bjsubway.com/subway/js/around.js\"></script>\\r\\n<script type=\"text/javascript\">\\r\\n/*线路名称多窗口切换效果*/\\r\\nfunction GetId(id){\\r\\n  return document.getElementById(id)        \\r\\n }\\r\\n  function doClick(o){\\r\\n  var j,id,e;\\r\\n  for(var i=0;i<=17;i++){     \\r\\n      id =i;\\r\\n      j =GetId(id);\\r\\n      e = GetId(\"sub\"+i);\\r\\n      if(id != o.id){      \\r\\n          j.className=\"\";\\r\\n          e.style.display=\"none\";\\r\\n    }else{\\r\\n          if(o.id==0){j.className=\"current0\";} \\r\\n\\telse if(o.id==1){j.className=\"current1\";}\\r\\n\\telse if(o.id==2){j.className=\"current2\";}\\r\\n\\telse if(o.id==3){j.className=\"current3\";}\\r\\n\\telse if(o.id==4){j.className=\"current4\";}\\r\\n\\telse if(o.id==5){j.className=\"current5\";}\\r\\n\\telse if(o.id==6){j.className=\"current6\";}\\r\\n\\telse if(o.id==7){j.className=\"current7\";}\\r\\n\\telse if(o.id==8){j.className=\"current8\";}\\r\\n\\telse if(o.id==9){j.className=\"current9\";}\\r\\n\\telse if(o.id==10){j.className=\"current10\";}\\r\\n\\telse if(o.id==11){j.className=\"current11\";}\\r\\n\\telse if(o.id==12){j.className=\"current12\";}\\r\\n\\telse if(o.id==13){j.className=\"current13\";}\\r\\n\\telse if(o.id==14){j.className=\"current14\";}\\r\\n\\telse if(o.id==15){j.className=\"current15\";}\\r\\n\\telse if(o.id==16){j.className=\"current16\";}\\t\\t\\r\\n\\telse if(o.id==17){j.className=\"current17\";}\\t\\t\\r\\n            e.style.display = \"block\";   \\r\\n        }\\r\\n    }\\r\\n}\\r\\n</script>\\r\\n</head>\\r\\n\\r\\n<body>\\r\\n<div class=\"wrap\">\\r\\n    <div class=\"header\">\\r\\n       <div class=\"header_top\">\\r\\n          <div class=\"logo\" onclick=\"javascript:window.location.href=\\'http://www.bjsubway.com/index.html\\'\" onmouseover=\"this.style.backgroundColor=\\'#e6edf5\\'\" onmouseleave=\"this.style.backgroundColor=\\'#fff\\'\"  style=\"cursor:pointer\"></div>\\r\\n          <div class=\"weather\"><script type=\"text/javascript\" src=\"http://ext.weather.com.cn/45339.js\"></script></div>\\r\\n          <div class=\"search\">\\r\\n          \\t<div class=\"search_top\">\\r\\n            \\t<!--<div class=\"lang\">\\r\\n              \\t<ul>\\r\\n                    <li><a href=\"http://www.bjsubway.com/\">首&nbsp;页</a></li>\\r\\n                    <li><a href=\"javascript:void(0)\">ENGLISH</a></li>\\r\\n                </ul>\\r\\n              </div>-->\\r\\n              <div class=\"info\">\\r\\n              \\t<ul>\\r\\n                  <li style=\"text-align:left;\"><a href=\"http://www.bjsubway.com/\" >网站首页</a></li>\\r\\n                  <li><a href=\"http://www.bjsubway.com/support/xxgkzn/2013-12-13/1297.html\" >信息公开</a></li>\\r\\n                 \\r\\n                  <li><a href=\"http://www.bjsubway.com/job/\">人才招聘</a></li>\\r\\n                  <li style=\"text-align:right;\"><a href=\"http://www.bjsubway.com/contact/\" target=\"_blank\">联系我们</a></li>\\r\\n                  <li style=\"text-align:right;\"><a href=\"http://www.bjsubway.com/en/\" >English</a></li>\\r\\n              \\t</ul>\\r\\n              </div>\\r\\n            </div>\\r\\n            <div class=\"search_bottom\">\\r\\n            \\t<form  action=\\'http://www.bjsubway.com/e/sch/index.php\\' method=\"GET\" >\\r\\n                    <input type=\"hidden\" name=\"hh\" value=\"LK\">\\r\\n                    <input type=hidden name=classid value=\"115,170,62,63,104,70,265,266,267,268,269,270,271,272\">\\r\\n            \\t    <input type=\"text\" name=\"keyboard\" class=\"text\"  value=\"\"/>\\r\\n               \\t    <input type=\"submit\" name=\"Submit2\" class=\"sub\" value=\"\" />\\r\\n              \\t</form>\\r\\n            </div>\\r\\n          </div>\\r\\n      </div>\\r\\n      <div class=\"banner_ej\" id=oTransContainer  style=\"FILTER: progid:DXImageTransform.Microsoft.Wipe(GradientSize=1.0,wipeStyle=0, motion=\\'forward\\')\" ><img id=oDIV1 src=\"http://www.bjsubway.com/subway/images/stationinfo/2.jpg\"/><script>var NowFrame = 1;var MaxFrame = 5;var bStart = 0;function fnToggle(){var next = NowFrame + 1;if(next == MaxFrame+1) {NowFrame = MaxFrame;next = 1;}if(bStart == 0){bStart = 1;setTimeout(\\'fnToggle()\\', 2000);return;}else{oTransContainer.filters[0].Apply();document.images[\\'oDIV\\'+next].style.display = \"\";document.images[\\'oDIV\\'+NowFrame].style.display = \"none\";oTransContainer.filters[0].Play(duration=2);if(NowFrame == MaxFrame){NowFrame = 1;}else{NowFrame++;}}\\tsetTimeout(\\'fnToggle()\\', 6000);}fnToggle();</script>\\r\\n          <img class=pic id=oDIV2 src=\"http://www.bjsubway.com/subway/images/stationinfo/3.jpg\" style=\"DISPLAY: none;\">\\r\\n          <img  id=oDIV3 src=\"http://www.bjsubway.com/subway/images/stationinfo/4.jpg\" style=\"DISPLAY: none;\">\\r\\n          <img  id=oDIV4 src=\"http://www.bjsubway.com/subway/images/stationinfo/5.jpg\" style=\"DISPLAY: none;\">\\r\\n          <img  id=oDIV5 src=\"http://www.bjsubway.com/subway/images/stationinfo/6.jpg\" style=\"DISPLAY: none;\">\\r\\n          <img  id=oDIV5 src=\"http://www.bjsubway.com/subway/images/stationinfo/1.jpg\" style=\"DISPLAY: none;\">\\r\\n      </div>\\r\\n      <script>\\r\\nvar _hmt = _hmt || [];\\r\\n(function() {\\r\\n  var hm = document.createElement(\"script\");\\r\\n  hm.src = \"https://hm.baidu.com/hm.js?01cf1cc88df5ecf7e38164197b4a2001\";\\r\\n  var s = document.getElementsByTagName(\"script\")[0]; \\r\\n  s.parentNode.insertBefore(hm, s);\\r\\n})();\\r\\n</script>\\r\\n<div class=\"header_nav\">\\r\\n      <ul id=\"nav_zzjs\">\\r\\n      <li class=\"menu\" style=\"width:121px;\">\\r\\n            <a href=\"http://map.bjsubway.com:8080/subwaymap2/public/\" class=\"title_ts1\">地铁查询</a>\\r\\n            <dl class=\"submenu_zzjs\">\\r\\n           \\t<dd><a href=\"http://map.bjsubway.com:8080/subwaymap2/public/\">线路图查询</a></dd>\\r\\n            <!--<dd><a href=\"http://www.bjsubway.com/station/zjgls/\">站间公里数</a></dd>-->\\r\\n            \\t<dd><a href=\"http://www.bjsubway.com/station/xltcx/\">站点及周边信息</a></dd>\\r\\n            \\t<dd><a href=\"http://www.bjsubway.com/e/action/ListInfo/?classid=39&ph=1\">首末车时间</a></dd>\\r\\n                <dd><a href=\"http://www.bjsubway.com/jcsk.html\">机场线时刻表</a></dd>\\r\\n                <dd><a href=\"http://www.bjsubway.com/e/action/ListInfo/?classid=40&ph=1&station=苹果园\">服务设施</a></dd>\\r\\n                <dd><a href=\"http://www.bjsubway.com/e/action/ListInfo/?classid=41&ph=1&station=苹果园\">无障碍服务设施</a></dd>\\r\\n            \\t<dd><a href=\"http://www.bjsubway.com/e/action/ListInfo/?classid=42&ph=1\">一卡通服务网点</a></dd>\\r\\n               <dd><a href=\"http://www.bjsubway.com/station/xltzs/\">线路图下载</a></dd>\\r\\n               \\r\\n           </dl>\\r\\n          </li>\\r\\n          <!--<li class=\"menu\">\\r\\n          \\t<a href=\"http://www.bjsubway.com/e/action/ListInfo/?classid=43&ph=1&station=苹果园\" class=\"title\">乘客服务</a>\\r\\n                <dl class=\"submenu_zzjs\">\\r\\n                  <dd><a href=\"http://www.bjsubway.com/e/action/ListInfo/?classid=44\">周边美食</a></dd>\\r\\n                  <dd><a href=\"http://www.bjsubway.com/e/action/ListInfo/?classid=45\">周边商场</a></dd>\\r\\n                  <dd><a href=\"http://www.bjsubway.com/attractions/\">周边景点</a></dd>\\r\\n                  <dd><a href=\"http://www.bjsubway.com/e/action/ListInfo/?classid=47\">周边医院</a></dd>\\r\\n            </dl>\\r\\n          </li>-->\\r\\n          <li class=\"menu\">\\r\\n          \\t<a href=\"http://www.bjsubway.com/support/cxyd/cxts/\" class=\"title\">乘客服务</a>\\r\\n            <dl class=\"submenu_zzjs\">\\r\\n                <dd><a href=\"http://www.bjsubway.com/support/cxyd/cxts/\">出行引导</a></dd>\\r\\n                <!--<dd><a href=\"http://www.bjsubway.com/support/ywgz/\">延误告知</a></dd>-->\\r\\n                <dd><a href=\"http://www.bjsubway.com/support/swzl/\">失物招领</a></dd>\\r\\n                <dd><a href=\"http://www.bjsubway.com/support/ccgd/\">乘车规定</a></dd>\\r\\n                <dd><a href=\"http://www.bjsubway.com/e/tool/gbook/?bid=4\">乘客问答</a></dd>\\r\\n                <!--<dd><a href=\"http://www.bjsubway.com/e/tool/feedback/?bid=1\">网上调查</a></dd>-->\\r\\n                <!--<dd><a href=\"http://www.bjsubway.com/support/xxgkzn/2013-12-13/1297.html\">信息公开</a></dd>-->\\r\\n            </dl>\\r\\n          </li>\\r\\n          <!--<li class=\"menu\">\\r\\n          \\t<a href=\"http://www.bjsubway.com/ride/ccgd/\" class=\"title\">乘车须知</a>\\r\\n            <dl class=\"submenu_zzjs\">\\r\\n                <dd><a href=\"http://www.bjsubway.com/ride/ccgd/\">乘车规定</a></dd>\\r\\n                <dd><a href=\"http://www.bjsubway.com/ride/pwxx/\">票务信息</a></dd>\\r\\n                <dd><a href=\"http://www.bjsubway.com/ride/ccaq/aqgd/\">乘车安全</a></dd>\\r\\n            </dl>\\r\\n          </li>-->\\r\\n          <li class=\"menu\">\\r\\n          \\t<a href=\"http://www.bjsubway.com/news/qyxw/yyzd/\" class=\"title\">企业动态</a>\\r\\n            <dl class=\"submenu_zzjs\">\\r\\n            \\t<dd><a href=\"http://www.bjsubway.com/news/qyxw/yyzd/\">地铁新闻</a></dd>\\r\\n            \\t<dd><a href=\"javascript:void(0)\" style=\"color:#737373;  cursor:default\">更新改造</a></dd>\\r\\n            \\t<dd><a href=\"http://www.bjsubway.com/news/ghjs/\">规划建设</a></dd>\\r\\n                <dd><a href=\"http://www.bjsubway.com/news/qyxw/ygzj/\">员工之家</a></dd>\\r\\n           </dl>\\r\\n          </li>\\r\\n          <li class=\"menu\">\\r\\n          \\t<a href=\"http://www.bjsubway.com/culture/dtzs/\" class=\"title\">地铁文化</a>\\r\\n           \\t<dl class=\"submenu_zzjs\">\\r\\n            \\t<dd><a href=\"http://www.bjsubway.com/culture/dtzs/\">地铁知识</a></dd>\\r\\n            \\t<dd><a href=\"http://www.bjsubway.com/culture/qywh/\">企业文化</a></dd>\\r\\n                <dd><a href=\"http://www.bjsubway.com/culture/ygzp/\">员工展示</a></dd>\\r\\n            \\t<!--<dd><a href=\"http://www.bjsubway.com/culture/zbcp/\">周边产品</a></dd>-->\\r\\n           \\t</dl>\\r\\n          </li>\\r\\n          <li class=\"menu\">\\r\\n          \\t<a href=\"http://www.bjsubway.com/corporate/gsgk/\"  class=\"title\">走进地铁</a>\\r\\n                 <dl class=\"submenu_zzjs\">\\r\\n            \\t<dd><a href=\"http://www.bjsubway.com/corporate/gsgk/\">公司概况</a></dd>\\r\\n            \\t<!--<dd><a href=\"http://www.bjsubway.com/corporate/zzjg/\">组织机构</a></dd>-->\\r\\n            \\t<dd><a href=\"http://www.bjsubway.com/corporate/dtdsj/\">地铁大事记</a></dd>\\r\\n           </dl>\\r\\n          </li>\\r\\n          <li class=\"menu\">\\r\\n                <a href=\"http://www.bjsubway.com/tsjlb/ckhd/\" class=\"title\">铁丝俱乐部</a>\\r\\n           \\t<dl class=\"submenu_zzjs\">\\r\\n            \\t<dd><a href=\"http://www.bjsubway.com/tsjlb/ckhd/\">乘客活动</a></dd>\\r\\n                <dd><a href=\"http://www.bjsubway.com/tsjlb/wjdc/\">问卷调查</a></dd>\\r\\n            \\t<!--<dd><a href=\"http://www.bjsubway.com/culture/zbcp/\">周边产品</a></dd>-->\\r\\n           \\t</dl>\\r\\n          </li>\\r\\n          <li class=\"menu\" style=\"\">\\r\\n          \\t<a href=\"http://www.bjsubway.com/support/ywgz/\" class=\"title\">延误告知</a>\\r\\n           \\t<dl class=\"submenu_zzjs\">\\r\\n\\r\\n           \\t</dl>\\r\\n          </li>\\r\\n          <li class=\"menu\" style=\"width:121px;\">\\r\\n          \\t<a href=\"http://www.bjsubway.com/wzcg/\" class=\"title_ts7\">物资采购</a>\\r\\n           \\t<dl class=\"submenu_zzjs\">\\r\\n\\r\\n           \\t</dl>\\r\\n          </li>\\r\\n        </ul>\\r\\n        <script type=\"text/javascript\">\\r\\n        var nav_zzjs = document.getElementById(\"nav_zzjs\").childNodes;\\r\\n        for (var i=0;i<nav_zzjs.length;i++)\\r\\n        {\\r\\n        \\tif (nav_zzjs[i].className==\"menu\")\\r\\n         \\t{\\r\\n          \\t\\tnav_zzjs[i].onmouseover = function(){fnNav(this,\"block\")};\\r\\n          \\t\\tnav_zzjs[i].onmouseout = function(){fnNav(this,\"none\")};\\r\\n         \\t}\\r\\n        }\\r\\n        function fnNav(obj,flag)\\r\\n        {\\r\\n         \\tobj.getElementsByTagName(\"dl\")[0].style.display = flag;\\r\\n        }\\r\\n        </script>\\r\\n      </div>\\r\\n    </div>\\r\\n    <div class=\"here\"><a href=\"http://www.bjsubway.com/index.html\">首页</a> > <a href=\"http://www.bjsubway.com/station/xltcx/\">地铁查询</a> > <a href=\"http://www.bjsubway.com/e/action/ListInfo/?classid=39&ph=1\">站间公里数</a></div>\\r\\n    <div class=\"clear\"></div>\\r\\n    <div class=\"content\">\\r\\n        <div class=\"main\">\\r\\n        <div class=\"about_right_center_history\">\\r\\n            <div class=\"history_top\">\\r\\n\\t<div class=\"history_top_c\">\\r\\n                    <ul>\\r\\n                         <li class=\"current0\" id=\"0\" onclick=\"doClick(this)\"><a href=\"#\">1号线</a></li>\\r\\n                         <li class=\" \" id=\"1\" onclick=\"doClick(this)\"><a href=\"#\">2号线</a></li>\\r\\n                         <li class=\" \" id=\"2\" onclick=\"doClick(this)\"><a href=\"#\">4号线</a></li>\\r\\n                         <li class=\" \" id=\"3\" onclick=\"doClick(this)\"><a href=\"#\">5号线</a></li>\\r\\n                         <li class=\" \" id=\"4\" onclick=\"doClick(this)\"><a href=\"#\">6号线</a></li>\\r\\n                         <li class=\" \" id=\"17\" onclick=\"doClick(this)\"><a href=\"#\">7号线</a></li>\\r\\n                         <li class=\" \" id=\"5\" onclick=\"doClick(this)\"><a href=\"#\">8号线</a></li>\\r\\n                         <li class=\" \" id=\"6\" onclick=\"doClick(this)\"><a href=\"#\">9号线</a></li>\\r\\n                         <li class=\" \" id=\"7\" onclick=\"doClick(this)\"><a href=\"#\">10号线</a></li>\\r\\n                         <li class=\" \" id=\"8\" onclick=\"doClick(this)\"><a href=\"#\">13号线</a></li>\\r\\n                         <li class=\" \" id=\"9\" onclick=\"doClick(this)\"><a href=\"#\">14号线</a></li>\\r\\n                         <li class=\" \" id=\"10\" onclick=\"doClick(this)\"><a href=\"#\">15号线</a></li>\\r\\n                         <li class=\" \" id=\"11\" onclick=\"doClick(this)\"><a href=\"#\">八通线</a></li>\\r\\n                         <li class=\" \" id=\"12\" onclick=\"doClick(this)\"><a href=\"#\">昌平线</a></li>\\r\\n                         <li class=\" \" id=\"13\" onclick=\"doClick(this)\"><a href=\"#\">亦庄线</a></li>\\r\\n                         <li class=\" \" id=\"14\" onclick=\"doClick(this)\"><a href=\"#\">大兴线</a></li>\\r\\n                         <li class=\" \" id=\"15\" onclick=\"doClick(this)\"><a href=\"#\">房山线</a></li>\\r\\n                         <li class=\" \" id=\"16\" onclick=\"doClick(this)\"><a href=\"#\">机场线</a></li>\\r\\n                    </ul>\\r\\n                </div>\\r\\n\\t<div class=\"goarrow\"></div>\\r\\n                <div class=\"history_top_l\">\\r\\n                    <a href=\"javascript:void(0)\"><img src=\"http://www.bjsubway.com/subway/images/stationinfo/arrowl.png\"/></a>\\r\\n                </div>\\r\\n                <div class=\"arrow\">|</div>\\r\\n                <div class=\"history_top_r\">\\r\\n                    <a href=\"javascript:void(0)\"><img src=\"http://www.bjsubway.com/subway/images/stationinfo/arrowr.png\"/></a>\\r\\n                </div>\\r\\n            </div>\\r\\n        </div>\\r\\n        <div class=\"line_content\">\\r\\n            <div class=\"line_place\" id=\"sub0\">\\r\\n                <div class=\"con_text\">\\r\\n<table width=\"738\" height=\"1001\" cellspacing=\"0\" cellpadding=\"0\" border=\"0\" class=\"one\">\\r\\n\\t<thead>\\r\\n\\t<tr style=\"height:56px; background:#c43b33; color:#fff; font-size:26px;\">\\r\\n  \\t<td colspan=\"5\">1号线相邻站间距信息统计表</td>\\r\\n  </tr>\\r\\n  <tr style=\"height:56px; background:#d3795e; color:#fff; font-size:20px\">\\r\\n    <td width=\"171\">起始/终到车站</td>\\r\\n    <td  width=\"171\">区间距离（米）</td>\\r\\n       <td  width=\"171\">方向</td>\\r\\n  </tr>\\r\\n  \\r\\n  </thead>\\r\\n  <tbody>\\r\\n  <tr>\\r\\n    <th>苹果园——古城</th>\\r\\n    <td width=\"146\">2606</td>\\r\\n    <td width=\"148\">上行/下行</td>\\r\\n   \\r\\n  </tr>\\r\\n  <tr>\\r\\n    <th>古城——八角游乐园</th>\\r\\n    <td>1921</td>\\r\\n    <td>上行/下行</td>\\r\\n   \\r\\n   \\r\\n  </tr>\\r\\n  <tr>\\r\\n    <th>八角游乐园——八宝山</th>\\r\\n    <td>1953</td>\\r\\n    <td>上行/下行</td>\\r\\n  \\r\\n  \\r\\n  </tr>\\r\\n  <tr>\\r\\n    <th>八宝山——玉泉路</th>\\r\\n     <td>1479</td>\\r\\n    <td>上行/下行</td>\\r\\n    \\r\\n  </tr>\\r\\n  <tr>\\r\\n    <th>玉泉路——五棵松</th>\\r\\n    <td>1810</td>\\r\\n    <td>上行/下行</td>\\r\\n \\r\\n   \\r\\n  </tr>\\r\\n  <tr>\\r\\n    <th>五棵松——万寿路</th>\\r\\n    <td>1778</td>\\r\\n    <td>上行/下行</td>\\r\\n \\r\\n    \\r\\n   \\r\\n  </tr>\\r\\n  <tr>\\r\\n    <th>万寿路——公主坟</th>\\r\\n    <td>1313</td>\\r\\n    <td>上行/下行</td>\\r\\n \\r\\n    \\r\\n    \\r\\n  </tr>\\r\\n  <tr>\\r\\n    <th>公主坟——军事博物馆</th>\\r\\n     <td>1172</td>\\r\\n    <td>上行/下行</td>\\r\\n  \\r\\n   \\r\\n    \\r\\n  </tr>\\r\\n  <tr>\\r\\n    <th>军事博物馆——木樨地</th>\\r\\n     <td>1166</td>\\r\\n    <td>上行/下行</td>\\r\\n  \\r\\n   \\r\\n   \\r\\n  </tr>\\r\\n  <tr>\\r\\n    <th>木樨地——南礼士路</th>\\r\\n    <td>1291</td>\\r\\n    <td>上行/下行</td>\\r\\n  \\r\\n    \\r\\n   \\r\\n  </tr>\\r\\n  <tr>\\r\\n    <th>南礼士路——复兴门</th>\\r\\n     <td>424</td>\\r\\n    <td>上行/下行</td>\\r\\n   \\r\\n   \\r\\n   \\r\\n  </tr>\\r\\n  <tr>\\r\\n    <th>复兴门——西单</th>\\r\\n     <td>1590</td>\\r\\n    <td>上行/下行</td>\\r\\n   \\r\\n   \\r\\n   \\r\\n  </tr>\\r\\n  <tr>\\r\\n    <th>西单——天安门西</th>\\r\\n    <td>1217</td>\\r\\n    <td>上行/下行</td>\\r\\n  \\r\\n  \\r\\n   \\r\\n  </tr>\\r\\n  <tr>\\r\\n    <th>天安门西——天安门东</th>\\r\\n     <td>925</td>\\r\\n    <td>上行/下行</td>\\r\\n   \\r\\n   \\r\\n    \\r\\n  </tr>\\r\\n  <tr>\\r\\n    <th>天安门东——王府井</th>\\r\\n     <td>852</td>\\r\\n    <td>上行/下行</td>\\r\\n   \\r\\n   \\r\\n  </tr>\\r\\n  <tr>\\r\\n    <th>王府井——东单</th>\\r\\n    <td>774</td>\\r\\n    <td>上行/下行</td>\\r\\n   \\r\\n   \\r\\n  </tr>\\r\\n  <tr>\\r\\n    <th>东单——建国门</th>\\r\\n     <td>1230</td>\\r\\n    <td>上行/下行</td>\\r\\n    \\r\\n   \\r\\n   \\r\\n  </tr>\\r\\n  <tr>\\r\\n    <th>建国门——永安里</th>\\r\\n    <td>1377</td>\\r\\n    <td>上行/下行</td>\\r\\n   \\r\\n    \\r\\n  \\r\\n  </tr>\\r\\n  <tr>\\r\\n    <th>永安里——国贸</th>\\r\\n    <td>790</td>\\r\\n    <td>上行/下行</td>\\r\\n  \\r\\n    \\r\\n   \\r\\n  </tr>\\r\\n  <tr>\\r\\n    <th>国贸——大望路</th>\\r\\n    <td>1385</td>\\r\\n     <td>上行/下行</td>\\r\\n  \\r\\n  </tr>\\r\\n  <tr>\\r\\n    <th>大望路——四惠</th>\\r\\n    <td>1673</td>\\r\\n    <td>上行/下行</td>\\r\\n    \\r\\n    \\r\\n  </tr>\\r\\n  <tr>\\r\\n    <th>四惠——四惠东</th>\\r\\n     <td>1714</td>\\r\\n    <td>上行/下行</td>\\r\\n   \\r\\n   \\r\\n  </tr>\\r\\n  </tbody>\\r\\n</table></div>\\r\\n          </div>\\r\\n          <div class=\"line_place\" id=\"sub1\" style=\"display:none;\">\\r\\n              <div class=\"con_text\">\\r\\n<table width=\"738\" height=\"918\" cellspacing=\"0\" cellpadding=\"0\" border=\"0\" class=\"two\">\\r\\n\\t<thead>\\r\\n\\t<tr style=\"height:56px; background:#016299; color:#fff; font-size:26px;\">\\r\\n  \\t<td colspan=\"7\">2号线相邻站间距信息统计表</td>\\r\\n  </tr>\\r\\n  <tr style=\"height:56px; background:#6c89b3; color:#fff; font-size:20px\">\\r\\n   <td width=\"171\">起始/终到车站</td>\\r\\n      <td  width=\"171\">区间距离（米）</td>\\r\\n      <td  width=\"171\">方向</td>\\r\\n  </tr>\\r\\n\\r\\n  </thead>\\r\\n  <tbody>\\r\\n  <tr>\\r\\n    <th>西直门——车公庄</th>\\r\\n       <td>909</td>\\r\\n    <td>上行/下行</td>\\r\\n   \\r\\n \\r\\n   \\r\\n  </tr>\\r\\n  <tr>\\r\\n    <th>车公庄——阜成门</th>\\r\\n     <td>960</td>\\r\\n    <td>上行/下行</td>\\r\\n  \\r\\n   \\r\\n   \\r\\n  </tr>\\r\\n  <tr>\\r\\n    <th>阜成门——复兴门</th>\\r\\n    <td>1832</td>\\r\\n     <td>上行/下行</td>\\r\\n   \\r\\n  </tr>\\r\\n  <tr>\\r\\n    <th>复兴门——长椿街</th>\\r\\n     <td>1234</td>\\r\\n    <td>上行/下行</td>\\r\\n   \\r\\n   \\r\\n  </tr>\\r\\n  <tr>\\r\\n    <th>长椿街——宣武门</th>\\r\\n     <td>929</td>\\r\\n    <td>上行/下行</td>\\r\\n   \\r\\n   \\r\\n  </tr>\\r\\n  <tr>\\r\\n    <th>宣武门——和平门</th>\\r\\n     <td>851</td>\\r\\n    <td>上行/下行</td>\\r\\n  \\r\\n   \\r\\n   \\r\\n  </tr>\\r\\n  <tr>\\r\\n    <th>和平门——前门</th>\\r\\n      <td>1171</td>\\r\\n    <td>上行/下行</td>\\r\\n  \\r\\n  \\r\\n  \\r\\n  </tr>\\r\\n  <tr>\\r\\n    <th>前门——崇文门</th>\\r\\n     <td>1634</td>\\r\\n    <td>上行/下行</td>\\r\\n   \\r\\n   \\r\\n   \\r\\n  </tr>\\r\\n  <tr>\\r\\n    <th>崇文门——北京站</th>\\r\\n     <td>1023</td>\\r\\n    <td>上行/下行</td>\\r\\n  \\r\\n   \\r\\n   \\r\\n  </tr>\\r\\n  <tr>\\r\\n    <th>北京站——建国门</th>\\r\\n       <td>945</td>\\r\\n    <td>上行/下行</td>\\r\\n  \\r\\n \\r\\n   \\r\\n  </tr>\\r\\n  <tr>\\r\\n    <th>建国门——朝阳门</th>\\r\\n     <td>1763</td>\\r\\n    <td>上行/下行</td>\\r\\n  \\r\\n   \\r\\n   \\r\\n  </tr>\\r\\n  <tr>\\r\\n    <th>朝阳门——东四十条</th>\\r\\n     <td>1027</td>\\r\\n    <td>上行/下行</td>\\r\\n \\r\\n   \\r\\n   \\r\\n  </tr>\\r\\n  <tr>\\r\\n    <th>东四十条——东直门</th>\\r\\n     <td>824</td>\\r\\n    <td>上行/下行</td>\\r\\n \\r\\n   \\r\\n   \\r\\n  </tr>\\r\\n  <tr>\\r\\n    <th>东直门——雍和宫</th>\\r\\n      <td>2228</td>\\r\\n    <td>上行/下行</td>\\r\\n  \\r\\n   \\r\\n  </tr>\\r\\n  <tr>\\r\\n    <th>雍和宫——安定门</th>\\r\\n      <td>794</td>\\r\\n    <td>上行/下行</td>\\r\\n  \\r\\n  \\r\\n  \\r\\n  </tr>\\r\\n  <tr>\\r\\n    <th>安定门——鼓楼大街</th>\\r\\n      <td>1237</td>\\r\\n    <td>上行/下行</td>\\r\\n \\r\\n  \\r\\n  \\r\\n  </tr>\\r\\n  <tr>\\r\\n    <th>鼓楼大街——积水潭</th>\\r\\n      <td>1766</td>\\r\\n    <td>上行/下行</td>\\r\\n   \\r\\n  \\r\\n   \\r\\n  </tr>\\r\\n  <tr>\\r\\n    <th>积水潭——西直门</th>\\r\\n      <td>1899</td>\\r\\n    <td>上行/下行</td>\\r\\n   \\r\\n  \\r\\n  \\r\\n  </tr>\\r\\n  </tbody>\\r\\n</table>\\r\\n</div>\\r\\n          </div>\\r\\n          <div class=\"line_place\" id=\"sub2\" style=\"display:none;\">\\r\\n              <div class=\"con_text\">\\r\\n<table width=\"738\" height=\"1465\" cellspacing=\"0\" cellpadding=\"0\" border=\"0\" class=\"four\">\\r\\n\\t<thead>\\r\\n\\t<tr style=\"height:56px; background:#008e9c; color:#fff; font-size:26px;\">\\r\\n  \\t<td colspan=\"7\">4号线相邻站间距信息统计表</td>\\r\\n  </tr>\\r\\n  \\r\\n  <tr style=\"height:56px;   font-size:20px\">\\r\\n  \\r\\n    <th width=\"171\" bgcolor=\"#55adb7\">起始/终到车站</th>\\r\\n    <th  width=\"171\" bgcolor=\"#55adb7\">区间距离（米）</th>\\r\\n    <th  width=\"171\" bgcolor=\"#55adb7\">方向</th>\\r\\n \\r\\n    \\r\\n   \\r\\n  </tr>\\r\\n  </thead>\\r\\n  <tbody>\\r\\n  <tr>\\r\\n  <th>安河桥北——北宫门</th>\\r\\n    <td>1363</td>\\r\\n    <td>上行/下行</td>\\r\\n   \\r\\n  \\r\\n  </tr>\\r\\n  <tr>\\r\\n    <th>北宫门——西苑</th>\\r\\n    <td>1251</td>\\r\\n    <td>上行/下行</td>\\r\\n   \\r\\n    \\r\\n  </tr>\\r\\n  <tr>\\r\\n    <th>西苑——圆明园</th>\\r\\n    <td>1672</td>\\r\\n     <td>上行/下行</td>\\r\\n  </tr>\\r\\n  <tr>\\r\\n  <th>圆明园——北京大学东门</th>\\r\\n   <td>1295</td>\\r\\n    <td>上行/下行</td>\\r\\n   \\r\\n   \\r\\n  </tr>\\r\\n  <tr>\\r\\n   <th>北京大学东门——中关村</th>\\r\\n     <td>887</td>\\r\\n    <td>上行/下行</td>\\r\\n   \\r\\n  \\r\\n  </tr>\\r\\n  <tr>\\r\\n    <th>中关村——海淀黄庄</th>\\r\\n    <td>900</td>\\r\\n    <td>上行/下行</td>\\r\\n  \\r\\n    \\r\\n  </tr>\\r\\n  <tr>\\r\\n   <th>海淀黄庄——人民大学</th>\\r\\n    <td>1063</td>\\r\\n    <td>上行/下行</td>\\r\\n   \\r\\n   \\r\\n  </tr>\\r\\n  <tr>\\r\\n   <th>人民大学——魏公村</th>\\r\\n    <td>1051</td>\\r\\n    <td>上行/下行</td>\\r\\n    \\r\\n   \\r\\n  </tr>\\r\\n  <tr>\\r\\n  <th>魏公村——国家图书馆</th>\\r\\n    <td>1658</td>\\r\\n    <td>上行/下行</td>\\r\\n\\r\\n  \\r\\n  </tr>\\r\\n  <tr>\\r\\n    <th>国家图书馆——动物园</th>\\r\\n     <td>1517</td>\\r\\n    <td>上行/下行</td>\\r\\n   \\r\\n  </tr>\\r\\n  <tr>\\r\\n   <th>动物园——西直门</th>\\r\\n    <td>1441</td>\\r\\n    <td>上行/下行</td>\\r\\n \\r\\n   \\r\\n  </tr>\\r\\n  <tr>\\r\\n   <th>西直门——新街口</th>\\r\\n   <td>1025</td>\\r\\n    <td>上行/下行</td>\\r\\n    \\r\\n    \\r\\n  </tr>\\r\\n  <tr>\\r\\n   <th>新街口——平安里</th>\\r\\n    <td>1100</td>\\r\\n    <td>上行/下行</td>\\r\\n   \\r\\n   \\r\\n  </tr>\\r\\n  <tr>\\r\\n  <th>平安里——西四</th>\\r\\n    <td>1100</td>\\r\\n    <td>上行/下行</td>\\r\\n  \\r\\n  \\r\\n  </tr>\\r\\n  <tr>\\r\\n  <th>西四——灵境胡同</th>\\r\\n  <td>869</td>\\r\\n    <td>上行/下行</td>\\r\\n   \\r\\n    \\r\\n  </tr>\\r\\n  <tr>\\r\\n    <th>灵境胡同——西单</th>\\r\\n     <td>1011</td>\\r\\n    <td>上行/下行</td>\\r\\n  \\r\\n   \\r\\n  </tr>\\r\\n  <tr>\\r\\n   <th>西单——宣武门</th>\\r\\n     <td>815</td>\\r\\n    <td>上行/下行</td>\\r\\n  \\r\\n  \\r\\n  </tr>\\r\\n  <tr>\\r\\n    <th>宣武门——菜市口</th>\\r\\n      <td>1152</td>\\r\\n    <td>上行/下行</td>\\r\\n  \\r\\n  \\r\\n  </tr>\\r\\n  <tr>\\r\\n    <th>菜市口——陶然亭</th>\\r\\n      <td>1200</td>\\r\\n    <td>上行/下行</td>\\r\\n   \\r\\n  \\r\\n  </tr>\\r\\n  <tr>\\r\\n    <th>陶然亭——北京南站</th>\\r\\n     <td>1643</td>\\r\\n    <td>上行/下行</td>\\r\\n   \\r\\n   \\r\\n  </tr>\\r\\n  <tr>\\r\\n    <th>北京南站——马家堡</th>\\r\\n     <td>1480</td>\\r\\n    <td>上行/下行</td>\\r\\n  \\r\\n   \\r\\n  </tr>\\r\\n  <tr>\\r\\n   <th>马家堡——角门西</th>\\r\\n   <td>827</td>\\r\\n    <td>上行/下行</td>\\r\\n   \\r\\n    \\r\\n  </tr>\\r\\n  <tr>\\r\\n    <th>角门西——公益西桥</th>\\r\\n     <td>989</td>\\r\\n    <td>上行/下行</td>\\r\\n  \\r\\n   \\r\\n  </tr>\\r\\n  \\r\\n\\r\\n  </tbody>\\r\\n</table>\\r\\n</div>\\r\\n          </div>\\r\\n          <div class=\"line_place\" id=\"sub3\" style=\"display:none;\">\\r\\n              <div class=\"con_text\">\\r\\n<table width=\"738\" height=\"1001\" cellspacing=\"0\" cellpadding=\"0\" border=\"0\" class=\"five\">\\r\\n\\t<thead>\\r\\n\\t<tr style=\"height:56px; background:#a42380; color:#fff; font-size:26px;\">\\r\\n  \\t<td colspan=\"5\">5号线相邻站间距信息统计表</td>\\r\\n  </tr>\\r\\n  <tr style=\"height:56px; background:#bc6ea2; color:#fff; font-size:20px\">\\r\\n    <td width=\"171\">起始/终到车站</td>\\r\\n     <td  width=\"171\">区间距离（米）</td>\\r\\n    <td  width=\"171\">方向</td>\\r\\n  </tr>\\r\\n  </thead>\\r\\n  <tbody>\\r\\n  <tr>\\r\\n    <th>天通苑北——天通苑</th>\\r\\n     <td>939</td>\\r\\n    <td>上行/下行</td>\\r\\n\\r\\n   \\r\\n  </tr>\\r\\n  <tr>\\r\\n    <th>天通苑——天通苑南</th>\\r\\n      <td>965</td>\\r\\n    <td>上行/下行</td>\\r\\n   \\r\\n  \\r\\n  </tr>\\r\\n  <tr>\\r\\n    <th>天通苑南——立水桥</th>\\r\\n    <td>1544</td>\\r\\n    <td>上行/下行</td>\\r\\n   \\r\\n    \\r\\n  </tr>\\r\\n  <tr>\\r\\n    <th>立水桥——立水桥南</th>\\r\\n     <td>1305</td>\\r\\n    <td>上行/下行</td>\\r\\n   \\r\\n   \\r\\n  </tr>\\r\\n  <tr>\\r\\n    <th>立水桥南——北苑路北</th>\\r\\n     <td>1286</td>\\r\\n    <td>上行/下行</td>\\r\\n  \\r\\n   \\r\\n  </tr>\\r\\n <tr>\\r\\n    <th>北苑路北——大屯路东</th>\\r\\n    <td>3000</td>\\r\\n    <td>上行/下行</td>\\r\\n \\r\\n    \\r\\n  </tr>\\r\\n <tr>\\r\\n    <th>大屯路东——惠新西街北口</th>\\r\\n      <td>1838</td>\\r\\n    <td>上行/下行</td>\\r\\n   \\r\\n  \\r\\n  </tr>\\r\\n <tr>\\r\\n    <th>惠新西街北口——惠新西街南口</th>\\r\\n    <td>1122</td>\\r\\n    <td>上行/下行</td>\\r\\n   \\r\\n    \\r\\n  </tr>\\r\\n  <tr>\\r\\n    <th>惠新西街南口——和平西桥</th>\\r\\n    <td>1025</td>\\r\\n    <td>上行/下行</td>\\r\\n   \\r\\n    \\r\\n  </tr>\\r\\n <tr>\\r\\n    <th>和平西桥——和平里北街</th>\\r\\n     <td>1059</td>\\r\\n    <td>上行/下行</td>\\r\\n   \\r\\n   \\r\\n  </tr>\\r\\n <tr>\\r\\n    <th>和平里北街——雍和宫</th>\\r\\n      <td>1151</td>\\r\\n    <td>上行/下行</td>\\r\\n  \\r\\n  \\r\\n  </tr>\\r\\n <tr>\\r\\n    <th>雍和宫——北新桥</th>\\r\\n     <td>866</td>\\r\\n    <td>上行/下行</td>\\r\\n \\r\\n   \\r\\n  </tr>\\r\\n <tr>\\r\\n    <th>北新桥——张自忠路</th>\\r\\n     <td>791</td>\\r\\n    <td>上行/下行</td>\\r\\n  \\r\\n   \\r\\n  </tr>\\r\\n  <tr>\\r\\n    <th>张自忠路——东四</th>\\r\\n      <td>1016</td>\\r\\n    <td>上行/下行</td>\\r\\n  \\r\\n  \\r\\n  </tr>\\r\\n <tr>\\r\\n    <th>东四——灯市口</th>\\r\\n     <td>848</td>\\r\\n    <td>上行/下行</td>\\r\\n  \\r\\n   \\r\\n  </tr>\\r\\n  <tr>\\r\\n    <th>灯市口——东单</th>\\r\\n    <td>945</td>\\r\\n    <td>上行/下行</td>\\r\\n \\r\\n    \\r\\n  </tr>\\r\\n  <tr>\\r\\n    <th>东单——崇文门</th>\\r\\n     <td>821</td>\\r\\n    <td>上行/下行</td>\\r\\n  \\r\\n   \\r\\n  </tr>\\r\\n <tr>\\r\\n    <th>崇文门——磁器口</th>\\r\\n     <td>876</td>\\r\\n    <td>上行/下行</td>\\r\\n \\r\\n   \\r\\n  </tr>\\r\\n <tr>\\r\\n    <th>磁器口——天坛东门</th>\\r\\n     <td>1183</td>\\r\\n    <td>上行/下行</td>\\r\\n    \\r\\n   \\r\\n  </tr>\\r\\n <tr>\\r\\n    <th>天坛东门——蒲黄榆</th>\\r\\n     <td>1900</td>\\r\\n    <td>上行/下行</td>\\r\\n \\r\\n   \\r\\n  </tr>\\r\\n <tr>\\r\\n    <th>蒲黄榆——刘家窑</th>\\r\\n     <td>905</td>\\r\\n    <td>上行/下行</td>\\r\\n  \\r\\n   \\r\\n  </tr>\\r\\n  <tr>\\r\\n    <th>刘家窑——宋家庄</th>\\r\\n       <td>1670</td>\\r\\n    <td>上行/下行</td>\\r\\n  \\r\\n \\r\\n  </tr>\\r\\n  </tbody>\\r\\n</table>\\r\\n</div>\\r\\n          </div>\\r\\n          <div class=\"line_place\" id=\"sub4\" style=\"display:none;\">\\r\\n              <div class=\"con_text\">\\r\\n<table width=\"738\" height=\"887\" cellspacing=\"0\" cellpadding=\"0\" border=\"0\" class=\"six\">\\r\\n\\t<thead>\\r\\n\\t<tr style=\"height:56px; background:#d09900; color:#fff; font-size:26px;\">\\r\\n  \\t<td colspan=\"5\">6号线相邻站间距信息统计表</td>\\r\\n  </tr>\\r\\n  <tr style=\"height:56px; background:#dfb65a; color:#fff; font-size:20px\">\\r\\n     <td width=\"171\">起始/终到车站</td>\\r\\n      <td  width=\"171\">区间距离（米）</td>\\r\\n    <td  width=\"171\">方向</td>\\r\\n\\r\\n   \\r\\n  </tr>\\r\\n  </thead>\\r\\n  <tbody>\\r\\n <tr>\\r\\n    <th>海淀五路居——慈寿寺</th>\\r\\n      <td>1508</td>\\r\\n    <td>上行/下行</td>\\r\\n   \\r\\n  \\r\\n  </tr>\\r\\n\\r\\n <tr>\\r\\n    <th>慈寿寺——花园桥</th>\\r\\n     <td>1431</td>\\r\\n    <td>上行/下行</td>\\r\\n  \\r\\n   \\r\\n  </tr>\\r\\n <tr>\\r\\n    <th>花园桥——白石桥南</th>\\r\\n       <td>1166</td>\\r\\n    <td>上行/下行</td>\\r\\n \\r\\n \\r\\n  </tr>\\r\\n <tr>\\r\\n    <th>白石桥南——车公庄西</th>\\r\\n     <td>1664</td>\\r\\n    <td>上行/下行</td>\\r\\n\\r\\n   \\r\\n  </tr>\\r\\n  <tr>\\r\\n    <th>车公庄西——车公庄</th>\\r\\n      <td>887</td>\\r\\n    <td>上行/下行</td>\\r\\n  \\r\\n  \\r\\n  </tr>\\r\\n  <tr>\\r\\n    <th>车公庄——平安里</th>\\r\\n      <td>1443</td>\\r\\n    <td>上行/下行</td>\\r\\n  \\r\\n  \\r\\n  </tr>\\r\\n <tr>\\r\\n    <th>平安里——北海北</th>\\r\\n     <td>1321</td>\\r\\n    <td>上行/下行</td>\\r\\n   \\r\\n   \\r\\n  </tr>\\r\\n <tr>\\r\\n    <th>北海北——南锣鼓巷</th>\\r\\n      <td>1349</td>\\r\\n    <td>上行/下行</td>\\r\\n\\r\\n  \\r\\n  </tr>\\r\\n <tr>\\r\\n    <th>南锣鼓巷——东四</th>\\r\\n       <td>1937</td>\\r\\n    <td>上行/下行</td>\\r\\n   \\r\\n \\r\\n  </tr>\\r\\n  <tr>\\r\\n    <th>东四——朝阳门</th>\\r\\n      <td>1399</td>\\r\\n    <td>上行/下行</td>\\r\\n  \\r\\n  \\r\\n  </tr>\\r\\n <tr>\\r\\n    <th>朝阳门——东大桥</th>\\r\\n        <td>1668</td>\\r\\n    <td>上行/下行</td>\\r\\n  \\r\\n\\r\\n  </tr>\\r\\n <tr>\\r\\n    <th>东大桥——呼家楼</th>\\r\\n      <td>845</td>\\r\\n    <td>上行/下行</td>\\r\\n   \\r\\n  \\r\\n  </tr>\\r\\n <tr>\\r\\n    <th>呼家楼——金台路</th>\\r\\n      <td>1450</td>\\r\\n    <td>上行/下行</td>\\r\\n\\r\\n  \\r\\n  </tr>\\r\\n  <tr>\\r\\n    <th>金台路——十里堡</th>\\r\\n     <td>2036</td>\\r\\n    <td>上行/下行</td>\\r\\n   \\r\\n  </tr>\\r\\n   <tr>\\r\\n    <th>十里堡——青年路</th>\\r\\n     <td>1282</td>\\r\\n    <td>上行/下行</td>\\r\\n   \\r\\n  </tr>\\r\\n <tr>\\r\\n    <th>青年路——褡裢坡</th>\\r\\n    <td>3999</td>\\r\\n       <td>上行/下行</td>\\r\\n  </tr>\\r\\n <tr>\\r\\n    <th>褡裢坡——黄渠</th>\\r\\n    <td>1238</td>\\r\\n    <td>上行/下行</td>\\r\\n  </tr>\\r\\n  <tr>\\r\\n    <th>黄渠——常营</th>\\r\\n      <td>1854</td>\\r\\n    <td>上行/下行</td>\\r\\n  \\r\\n  \\r\\n  </tr>\\r\\n <tr>\\r\\n    <th>常营——草房</th>\\r\\n     <td>1405</td>\\r\\n    <td>上行/下行</td>\\r\\n  \\r\\n   \\r\\n  </tr>\\r\\n <tr>\\r\\n    <th>草房——物资学院路</th>\\r\\n      <td>2115</td>\\r\\n    <td>上行/下行</td>\\r\\n   \\r\\n  \\r\\n  </tr>\\r\\n  <tr>\\r\\n    <th>物资学院路——通州北关</th>\\r\\n      <td>2557</td>\\r\\n    <td>上行/下行</td>\\r\\n   \\r\\n  \\r\\n  </tr>\\r\\n  <tr>\\r\\n    <th>通州北关——通运门</th>\\r\\n     <td>1468</td>\\r\\n    <td>上行/下行</td>\\r\\n  \\r\\n   \\r\\n  </tr>\\r\\n  <tr>\\r\\n    <th>通运门——北运河西</th>\\r\\n     <td>1543</td>\\r\\n    <td>上行/下行</td>\\r\\n   \\r\\n  </tr>\\r\\n  <tr>\\r\\n    <th>北运河西——北运河东</th>\\r\\n      <td>1599</td>\\r\\n    <td>上行/下行</td>\\r\\n\\r\\n  \\r\\n  </tr>\\r\\n  <tr>\\r\\n    <th>北运河东——郝家府</th>\\r\\n      <td>929</td>\\r\\n    <td>上行/下行</td>\\r\\n\\r\\n  \\r\\n  </tr>\\r\\n  <tr>\\r\\n    <th>郝家府——东夏园</th>\\r\\n     <td>1346</td>\\r\\n    <td>上行/下行</td>\\r\\n  \\r\\n   \\r\\n  </tr>\\r\\n  <tr>\\r\\n    <th>东夏园——潞城</th>\\r\\n     <td>1194</td>\\r\\n    <td>上行/下行</td>\\r\\n \\r\\n   \\r\\n  </tr>\\r\\n  </tbody>\\r\\n</table>\\r\\n</div>\\r\\n          </div>\\r\\n          \\r\\n          <div class=\"line_place\" id=\"sub17\" style=\"display:none;\">\\r\\n              <div class=\"con_text\">\\r\\n<table width=\"738\" height=\"887\" cellspacing=\"0\" cellpadding=\"0\" border=\"0\" class=\"six\">\\r\\n\\t<thead>\\r\\n\\t<tr style=\"height:56px; background:#f2c171; color:#fff; font-size:26px;\">\\r\\n  \\t<td colspan=\"5\">7号线相邻站间距信息统计表</td>\\r\\n  </tr>\\r\\n  <tr style=\"height:56px; background:#e2b771; color:#fff; font-size:20px\">\\r\\n     <td width=\"171\">起始/终到车站</td>\\r\\n       <td  width=\"171\">区间距离（米）</td>\\r\\n    <td  width=\"171\">方向</td>\\r\\n \\r\\n  \\r\\n  </tr>\\r\\n  </thead>\\r\\n  <tbody>\\r\\n <tr>\\r\\n    <th>北京西站——湾子</th>\\r\\n       <td>935</td>\\r\\n    <td>上行/下行</td>\\r\\n  \\r\\n \\r\\n  </tr>\\r\\n  <tr>\\r\\n    <th>湾子——达官营</th>\\r\\n     <td>734</td>\\r\\n    <td>上行/下行</td>\\r\\n   \\r\\n   \\r\\n  </tr>\\r\\n <tr>\\r\\n    <th>达官营——广安门内</th>\\r\\n     <td>1874</td>\\r\\n    <td>上行/下行</td>\\r\\n    \\r\\n   \\r\\n  </tr>\\r\\n <tr>\\r\\n    <th>广安门内——菜市口</th>\\r\\n     <td>1374</td>\\r\\n    <td>上行/下行</td>\\r\\n   \\r\\n   \\r\\n  </tr>\\r\\n <tr>\\r\\n    <th>菜市口——虎坊桥</th>\\r\\n       <td>885</td>\\r\\n    <td>上行/下行</td>\\r\\n   \\r\\n \\r\\n  </tr>\\r\\n  <tr>\\r\\n    <th>虎坊桥——珠市口</th>\\r\\n     <td>1205</td>\\r\\n    <td>上行/下行</td>\\r\\n  \\r\\n   \\r\\n  </tr>\\r\\n  <tr>\\r\\n    <th>珠市口——桥湾</th>\\r\\n      <td>869</td>\\r\\n    <td>上行/下行</td>\\r\\n    \\r\\n  \\r\\n  </tr>\\r\\n <tr>\\r\\n    <th>桥湾——磁器口</th>\\r\\n    <td>1016</td>\\r\\n    <td>上行/下行</td>\\r\\n \\r\\n    \\r\\n  </tr>\\r\\n <tr>\\r\\n    <th>磁器口——广渠门内</th>\\r\\n     <td>1138</td>\\r\\n    <td>上行/下行</td>\\r\\n\\r\\n   \\r\\n  </tr>\\r\\n <tr>\\r\\n    <th>广渠门内——广渠门外</th>\\r\\n      <td>1332</td>\\r\\n    <td>上行/下行</td>\\r\\n   \\r\\n  \\r\\n  </tr>\\r\\n  <tr>\\r\\n    <th>广渠门外——双井</th>\\r\\n      <td>1241</td>\\r\\n    <td>上行/下行</td>\\r\\n  \\r\\n  \\r\\n  </tr>\\r\\n <tr>\\r\\n    <th>双井——九龙山</th>\\r\\n    <td>1311</td>\\r\\n    <td>上行/下行</td>\\r\\n  \\r\\n    \\r\\n  </tr>\\r\\n <tr>\\r\\n    <th>九龙山——大郊亭</th>\\r\\n       <td>781</td>\\r\\n    <td>上行/下行</td>\\r\\n   \\r\\n \\r\\n  </tr>\\r\\n <tr>\\r\\n    <th>大郊亭——百子湾</th>\\r\\n     <td>865</td>\\r\\n    <td>上行/下行</td>\\r\\n\\r\\n   \\r\\n  </tr>\\r\\n  <tr>\\r\\n    <th>百子湾——化工</th>\\r\\n     <td>903</td>\\r\\n    <td>上行/下行</td>\\r\\n \\r\\n   \\r\\n  </tr>\\r\\n <tr>\\r\\n    <th>化工——南楼梓庄</th>\\r\\n    <td>1464</td>\\r\\n    <td>上行/下行</td>\\r\\n  \\r\\n    \\r\\n  </tr>\\r\\n <tr>\\r\\n    <th>南楼梓庄——欢乐谷景区</th>\\r\\n      <td>906</td>\\r\\n    <td>上行/下行</td>\\r\\n   \\r\\n  \\r\\n  </tr>\\r\\n  <tr>\\r\\n    <th>欢乐谷景区——垡头</th>\\r\\n      <td>1679</td>\\r\\n    <td>上行/下行</td>\\r\\n  \\r\\n  \\r\\n  </tr>\\r\\n <tr>\\r\\n    <th>垡头——双合</th>\\r\\n      <td>1304</td>\\r\\n    <td>上行/下行</td>\\r\\n \\r\\n  \\r\\n  </tr>\\r\\n <tr>\\r\\n    <th>双合——焦化厂</th>\\r\\n    <td>1021</td>\\r\\n    <td>上行/下行</td>\\r\\n   \\r\\n    \\r\\n  </tr>\\r\\n \\r\\n  </tbody>\\r\\n</table>\\r\\n</div>\\r\\n          </div>\\r\\n          \\r\\n          \\r\\n          \\r\\n          <div class=\"line_place\" id=\"sub5\" style=\"display:none;\">\\r\\n              <div class=\"con_text\">\\r\\n<table width=\"738\" height=\"827\" cellspacing=\"0\" cellpadding=\"0\" border=\"0\" class=\"eight\">\\r\\n\\t<thead>\\r\\n\\t<tr style=\"height:56px; background:#009d6a; color:#fff; font-size:26px;\">\\r\\n  \\t<td colspan=\"5\">8号线相邻站间距信息统计表</td>\\r\\n  </tr>\\r\\n  <tr style=\"height:56px; background:#34b692; color:#fff; font-size:20px\">\\r\\n    <td  width=\"171\">起始/终到车站</td>\\r\\n      <td width=\"171\">区间距离（米）</td>\\r\\n    <td width=\"171\">方向</td>\\r\\n  \\r\\n  \\r\\n  </tr>\\r\\n  </thead>\\r\\n  <tbody>\\r\\n   <tr>\\r\\n    <th>朱辛庄——育知路</th>\\r\\n      <td>2318</td>\\r\\n    <td>上行/下行</td>\\r\\n   \\r\\n  \\r\\n  </tr>\\r\\n  <tr>\\r\\n    <th>育知路——平西府</th>\\r\\n    <td>1985</td>\\r\\n    <td>上行/下行</td>\\r\\n \\r\\n    \\r\\n    \\r\\n  </tr>\\r\\n  <tr>\\r\\n    <th>平西府——回龙观东大街</th>\\r\\n      <td>2056</td>\\r\\n    <td>上行/下行</td>\\r\\n  \\r\\n   \\r\\n  </tr>\\r\\n  <tr>\\r\\n    <th>回龙观东大街——霍营</th>\\r\\n      <td>1114</td>\\r\\n    <td>上行/下行</td>\\r\\n  \\r\\n  \\r\\n   \\r\\n  </tr>\\r\\n  <tr>\\r\\n    <th>霍营——育新</th>\\r\\n      <td>1894</td>\\r\\n    <td>上行/下行</td>\\r\\n \\r\\n  \\r\\n    \\r\\n  </tr>\\r\\n  <tr>\\r\\n    <th>育新——西小口</th>\\r\\n       <td>1543</td>\\r\\n    <td>上行/下行</td>\\r\\n \\r\\n \\r\\n   \\r\\n  </tr>\\r\\n  <tr>\\r\\n    <th>西小口——永泰庄</th>\\r\\n     <td>1041</td>\\r\\n    <td>上行/下行</td>\\r\\n \\r\\n   \\r\\n   \\r\\n  </tr>\\r\\n  <tr>\\r\\n    <th>永泰庄——林萃桥</th>\\r\\n       <td>2553</td>\\r\\n    <td>上行/下行</td>\\r\\n   \\r\\n \\r\\n    \\r\\n  </tr>\\r\\n  <tr>\\r\\n    <th>林萃桥——森林公园南门</th>\\r\\n      <td>2555</td>\\r\\n    <td>上行/下行</td>\\r\\n  \\r\\n    \\r\\n  </tr>\\r\\n  <tr>\\r\\n    <th>森林公园南门——奥林匹克公园</th>\\r\\n     <td>1016</td>\\r\\n    <td>上行/下行</td>\\r\\n  \\r\\n   \\r\\n    \\r\\n  </tr>\\r\\n  <tr>\\r\\n    <th>奥林匹克公园——奥体中心</th>\\r\\n     <td>1667</td>\\r\\n    <td>上行/下行</td>\\r\\n  \\r\\n   \\r\\n    \\r\\n  </tr>\\r\\n  <tr>\\r\\n    <th>奥体中心——北土城</th>\\r\\n      <td>900</td>\\r\\n    <td>上行/下行</td>\\r\\n  \\r\\n    \\r\\n  </tr>\\r\\n  <tr>\\r\\n    <th>北土城——安华桥</th>\\r\\n     <td>1018</td>\\r\\n    <td>上行/下行</td>\\r\\n   \\r\\n   \\r\\n   \\r\\n  </tr>\\r\\n  <tr>\\r\\n    <th>安华桥——安德里北街</th>\\r\\n     <td>1274</td>\\r\\n    <td>上行/下行</td>\\r\\n  \\r\\n   \\r\\n    \\r\\n  </tr>\\r\\n  <tr>\\r\\n    <th>安德里北街——鼓楼大街</th>\\r\\n      <td>1083</td>\\r\\n    <td>上行/下行</td>\\r\\n  \\r\\n  \\r\\n    \\r\\n  </tr>\\r\\n  <tr>\\r\\n    <th>鼓楼大街——什刹海</th>\\r\\n       <td>1188</td>\\r\\n    <td>上行/下行</td>\\r\\n  \\r\\n \\r\\n   \\r\\n  </tr>\\r\\n   <tr>\\r\\n    <th>什刹海——南锣鼓巷</th>\\r\\n     <td>902</td>\\r\\n    <td>上行/下行</td>\\r\\n   \\r\\n   \\r\\n   \\r\\n  </tr>\\r\\n \\r\\n  </tbody>\\r\\n</table>\\r\\n</div>\\r\\n          </div>\\r\\n         <div class=\"line_place\" id=\"sub6\" style=\"display:none;\">\\r\\n             <div class=\"con_text\">\\r\\n<table width=\"738\" height=\"638\" cellspacing=\"0\" cellpadding=\"0\" border=\"0\" class=\"nine\">\\r\\n\\t<thead>\\r\\n\\t<tr style=\"height:56px; background:#8fc41e; color:#fff; font-size:26px;\">\\r\\n  \\t<td colspan=\"5\">9号线相邻站间距信息统计表</td>\\r\\n  </tr>\\r\\n  <tr style=\"height:56px; background:#b6d669; color:#fff; font-size:20px\">\\r\\n    <td  width=\"171\">起始/终到车站</td>\\r\\n       <td width=\"171\">区间距离（米）</td>\\r\\n    <td width=\"171\">方向</td>\\r\\n    \\r\\n \\r\\n  </tr>\\r\\n  </thead>\\r\\n  <tbody>\\r\\n  <tr>\\r\\n    <th>国家图书馆——白石桥南</th>\\r\\n    <td>1096</td>\\r\\n    <td>上行/下行</td>\\r\\n   \\r\\n    \\r\\n  </tr>\\r\\n   <tr>\\r\\n    <th>白石桥南——白堆子</th>\\r\\n      <td>943</td>\\r\\n    <td>上行/下行</td>\\r\\n\\r\\n   \\r\\n  \\r\\n  </tr>\\r\\n  <tr>\\r\\n    <th>白堆子——军事博物馆</th>\\r\\n     <td>1912</td>\\r\\n    <td>上行/下行</td>\\r\\n \\r\\n   \\r\\n  </tr>\\r\\n   <tr>\\r\\n    <th>军事博物馆——北京西站</th>\\r\\n        <td>1398</td>\\r\\n    <td>上行/下行</td>\\r\\n \\r\\n\\r\\n  </tr>\\r\\n   <tr>\\r\\n    <th>北京西站——六里桥东</th>\\r\\n      <td>1170</td>\\r\\n    <td>上行/下行</td>\\r\\n   \\r\\n  \\r\\n  </tr>\\r\\n  <tr>\\r\\n    <th>六里桥东——六里桥</th>\\r\\n      <td>1309</td>\\r\\n    <td>上行/下行</td>\\r\\n   \\r\\n  \\r\\n  </tr>\\r\\n  <tr>\\r\\n    <th>六里桥——七里庄</th>\\r\\n      <td>1778</td>\\r\\n    <td>上行/下行</td>\\r\\n    \\r\\n  \\r\\n  </tr>\\r\\n  <tr>\\r\\n    <th>七里庄——丰台东大街</th>\\r\\n      <td>1325</td>\\r\\n    <td>上行/下行</td>\\r\\n \\r\\n  \\r\\n  </tr>\\r\\n  <tr>\\r\\n    <th>丰台东大街——丰台南路</th>\\r\\n      <td>1585</td>\\r\\n    <td>上行/下行</td>\\r\\n  \\r\\n  </tr>\\r\\n  <tr>\\r\\n    <th>丰台南路——科怡路</th>\\r\\n       <td>980</td>\\r\\n    <td>上行/下行</td>\\r\\n  \\r\\n \\r\\n  </tr>\\r\\n   <tr>\\r\\n    <th>科怡路——丰台科技园</th>\\r\\n       <td>788</td>\\r\\n    <td>上行/下行</td>\\r\\n  \\r\\n \\r\\n  </tr>\\r\\n <tr>\\r\\n    <th>丰台科技园——郭公庄</th>\\r\\n     <td>1347</td>\\r\\n    <td>上行/下行</td>\\r\\n   \\r\\n   \\r\\n  </tr>\\r\\n \\r\\n  </tbody>\\r\\n</table>\\r\\n</div>\\r\\n          </div>\\r\\n          <div class=\"line_place\" id=\"sub7\" style=\"display:none;\">\\r\\n              <div class=\"con_text\">\\r\\n<table width=\"738\" height=\"1947\" cellspacing=\"0\" cellpadding=\"0\" border=\"0\" class=\"ten\">\\r\\n  <thead>\\r\\n    <tr style=\"height:56px; background:#009dbe; color:#fff; font-size:26px;\">\\r\\n      <td colspan=\"9\">10号线相邻站间距信息统计表</td>\\r\\n    </tr>\\r\\n    <tr style=\"height:56px; background:#66b7d2; color:#fff; font-size:20px\">\\r\\n        <td  width=\"171\">起始/终到车站</td>\\r\\n          <td width=\"171\">区间距离（米）</td>\\r\\n        <td width=\"171\">方向</td>\\r\\n     \\r\\n      \\r\\n    </tr>\\r\\n  </thead>\\r\\n  <tbody>\\r\\n   <tr>\\r\\n    <th>巴沟——苏州街</th>\\r\\n    <td>1110</td>\\r\\n    <td>上行/下行</td>\\r\\n   \\r\\n    \\r\\n  </tr>\\r\\n    <tr>\\r\\n    <th>苏州街——海淀黄庄</th>\\r\\n       <td>950</td>\\r\\n    <td>上行/下行</td>\\r\\n \\r\\n \\r\\n  </tr>\\r\\n  <tr>\\r\\n    <th>海淀黄庄——知春里</th>\\r\\n     <td>975</td>\\r\\n    <td>上行/下行</td>\\r\\n   \\r\\n   \\r\\n  </tr>\\r\\n  <tr>\\r\\n    <th>知春里——知春路</th>\\r\\n      <td>1058</td>\\r\\n    <td>上行/下行</td>\\r\\n   \\r\\n  \\r\\n  </tr>\\r\\n  <tr>\\r\\n    <th>知春路——西土城</th>\\r\\n      <td>1101</td>\\r\\n    <td>上行/下行</td>\\r\\n  \\r\\n  \\r\\n  </tr>\\r\\n  <tr>\\r\\n    <th>西土城——牡丹园</th>\\r\\n       <td>1330</td>\\r\\n    <td>上行/下行</td>\\r\\n  \\r\\n \\r\\n  </tr>\\r\\n  <tr>\\r\\n    <th>牡丹园——健德门</th>\\r\\n        <td>973</td>\\r\\n    <td>上行/下行</td>\\r\\n  \\r\\n\\r\\n  </tr>\\r\\n  <tr>\\r\\n    <th>健德门——北土城</th>\\r\\n      <td>1100</td>\\r\\n    <td>上行/下行</td>\\r\\n  \\r\\n  \\r\\n  </tr>\\r\\n  <tr>\\r\\n    <th>北土城——安贞门</th>\\r\\n     <td>1020</td>\\r\\n    <td>上行/下行</td>\\r\\n   \\r\\n   \\r\\n  </tr>\\r\\n  <tr>\\r\\n    <th>安贞门——惠新西街南口</th>\\r\\n     <td>982</td>\\r\\n    <td>上行/下行</td>\\r\\n  \\r\\n   \\r\\n  </tr>\\r\\n  <tr>\\r\\n    <th>惠新西街南口——芍药居</th>\\r\\n    <td>1712</td>\\r\\n    <td>上行/下行</td>\\r\\n  </tr>\\r\\n  <tr>\\r\\n    <th>芍药居——太阳宫</th>\\r\\n        <td>1003</td>\\r\\n    <td>上行/下行</td>\\r\\n \\r\\n\\r\\n  </tr>\\r\\n  <tr>\\r\\n    <th>太阳宫——三元桥</th>\\r\\n    <td>1759</td>\\r\\n    <td>上行/下行</td>\\r\\n \\r\\n    \\r\\n  </tr>\\r\\n  <tr>\\r\\n    <th>三元桥——亮马桥</th>\\r\\n      <td>1506</td>\\r\\n    <td>上行/下行</td>\\r\\n  \\r\\n  \\r\\n  </tr>\\r\\n  <tr>\\r\\n    <th>亮马桥——农业展览馆</th>\\r\\n      <td>914</td>\\r\\n    <td>上行/下行</td>\\r\\n   \\r\\n  \\r\\n  </tr>\\r\\n  <tr>\\r\\n    <th>农业展览馆——团结湖</th>\\r\\n      <td>853</td>\\r\\n    <td>上行/下行</td>\\r\\n  \\r\\n  \\r\\n  </tr>\\r\\n  <tr>\\r\\n    <th>团结湖——呼家楼</th>\\r\\n     <td>1149</td>\\r\\n    <td>上行/下行</td>\\r\\n  \\r\\n   \\r\\n  </tr>\\r\\n  <tr>\\r\\n    <th>呼家楼——金台夕照</th>\\r\\n      <td>734</td>\\r\\n    <td>上行/下行</td>\\r\\n    \\r\\n  \\r\\n  </tr>\\r\\n\\r\\n  <tr>\\r\\n    <th>金台夕照——国贸</th>\\r\\n    <td>835</td>\\r\\n    <td>上行/下行</td>\\r\\n  </tr>\\r\\n  <tr>\\r\\n    <th>国贸——双井</th>\\r\\n     <td>1759</td>\\r\\n    <td>上行/下行</td>\\r\\n   \\r\\n   \\r\\n  </tr>\\r\\n  <tr>\\r\\n    <th>双井——劲松</th>\\r\\n    <td>1006</td>\\r\\n    <td>上行/下行</td>\\r\\n  </tr>\\r\\n  <tr>\\r\\n    <th>劲松——潘家园</th>\\r\\n    <td>1021</td>\\r\\n    <td>上行/下行</td>\\r\\n  </tr>\\r\\n  <tr>\\r\\n    <th>潘家园——十里河</th>\\r\\n    <td>1097</td>\\r\\n    <td>上行/下行</td>\\r\\n  </tr>\\r\\n  <tr>\\r\\n    <th>十里河——分钟寺</th>\\r\\n    <td>1804</td>\\r\\n    <td>上行/下行</td>\\r\\n  </tr>\\r\\n  <tr>\\r\\n    <th>分钟寺——成寿寺</th>\\r\\n    <td>1058</td>\\r\\n    <td>上行/下行</td>\\r\\n  </tr>\\r\\n  <tr>\\r\\n    <th>成寿寺——宋家庄</th>\\r\\n    <td>1677</td>\\r\\n    <td>上行/下行</td>\\r\\n  </tr>\\r\\n  <tr>\\r\\n    <th>宋家庄——石榴庄</th>\\r\\n    <td>1269</td>\\r\\n    <td>上行/下行</td>\\r\\n  </tr>\\r\\n  <tr>\\r\\n    <th>石榴庄——大红门</th>\\r\\n    <td>1244</td>\\r\\n    <td>上行/下行</td>\\r\\n  </tr>\\r\\n  <tr>\\r\\n    <th>大红门——角门东</th>\\r\\n    <td>1130</td>\\r\\n    <td>上行/下行</td>\\r\\n  </tr>\\r\\n  <tr>\\r\\n    <th>角门东——角门西</th>\\r\\n    <td>1254</td>\\r\\n    <td>上行/下行</td>\\r\\n  </tr>\\r\\n  <tr>\\r\\n    <th>角门西——草桥</th>\\r\\n    <td>1688</td>\\r\\n    <td>上行/下行</td>\\r\\n  </tr>\\r\\n  <tr>\\r\\n    <th>草桥——纪家庙</th>\\r\\n    <td>1547</td>\\r\\n    <td>上行/下行</td>\\r\\n  </tr>\\r\\n  <tr>\\r\\n    <th>纪家庙——首经贸</th>\\r\\n    <td>1143</td>\\r\\n    <td>上行/下行</td>\\r\\n  </tr>\\r\\n  <tr>\\r\\n    <th>首经贸——丰台站</th>\\r\\n    <td>1717</td>\\r\\n    <td>上行/下行</td>\\r\\n  </tr>\\r\\n  <tr>\\r\\n    <th>丰台站——泥洼</th>\\r\\n    <td>954</td>\\r\\n    <td>上行/下行</td>\\r\\n  </tr>\\r\\n  <tr>\\r\\n    <th>泥洼——西局</th>\\r\\n    <td>749</td>\\r\\n    <td>上行/下行</td>\\r\\n  </tr>\\r\\n  <tr>\\r\\n    <th>西局——六里桥</th>\\r\\n    <td>1584</td>\\r\\n    <td>上行/下行</td>\\r\\n  </tr>\\r\\n  <tr>\\r\\n    <th>六里桥——莲花桥</th>\\r\\n    <td>2392</td>\\r\\n    <td>上行/下行</td>\\r\\n  </tr>\\r\\n  <tr>\\r\\n    <th>莲花桥——公主坟</th>\\r\\n    <td>1016</td>\\r\\n    <td>上行/下行</td>\\r\\n  </tr>\\r\\n  <tr>\\r\\n    <th>公主坟——西钓鱼台</th>\\r\\n    <td>2386</td>\\r\\n    <td>上行/下行</td>\\r\\n  </tr>\\r\\n  <tr>\\r\\n    <th>西钓鱼台——慈寿寺</th>\\r\\n    <td>1214</td>\\r\\n    <td>上行/下行</td>\\r\\n  </tr>\\r\\n  <tr>\\r\\n    <th>慈寿寺——车道沟</th>\\r\\n    <td>1590</td>\\r\\n    <td>上行/下行</td>\\r\\n  </tr>\\r\\n  <tr>\\r\\n    <th>车道沟——长春桥</th>\\r\\n    <td>1205</td>\\r\\n    <td>上行/下行</td>\\r\\n  </tr>\\r\\n  <tr>\\r\\n    <th>长春桥——火器营</th>\\r\\n    <td>961</td>\\r\\n    <td>上行/下行</td>\\r\\n  </tr>\\r\\n  <tr>\\r\\n    <th>火器营——巴沟</th>\\r\\n    <td>1495</td>\\r\\n    <td>上行/下行</td>\\r\\n  </tr>\\r\\n  </tbody>\\r\\n</table>\\r\\n</div>\\r\\n          </div>\\r\\n          <div class=\"line_place\" id=\"sub8\" style=\"display:none;\">\\r\\n              <div class=\"con_text\">\\r\\n<table width=\"738\" height=\"886\" cellspacing=\"0\" cellpadding=\"0\" border=\"0\" class=\"thirteen\">\\r\\n\\t<thead>\\r\\n\\t<tr style=\"height:56px; background:#f9e701; color:#000; font-size:26px;\">\\r\\n  \\t<td colspan=\"7\">13号线相邻站间距信息统计表</td>\\r\\n  </tr>\\r\\n  <tr style=\"height:56px; background:#fdee77; color:#000; font-size:20px\">\\r\\n  \\t  <td width=\"171\">起始/终到车站</td>\\r\\n    <td  width=\"171\">区间距离（米）</td>\\r\\n       <td  width=\"171\">方向</td>\\r\\n  </tr>\\r\\n \\r\\n  </thead>\\r\\n  <tbody>\\r\\n <tr>\\r\\n    <th>西直门——大钟寺</th>\\r\\n    <td>2839</td>\\r\\n    <td>上行/下行</td>\\r\\n  </tr>\\r\\n  <tr>\\r\\n    <th>大钟寺——知春路</th>\\r\\n    <td>1206</td>\\r\\n   <td>上行/下行</td>\\r\\n  </tr>\\r\\n  <tr>\\r\\n    <th>知春路——五道口</th>\\r\\n    <td>1829</td>\\r\\n   <td>上行/下行</td>\\r\\n  </tr>\\r\\n  <tr>\\r\\n    <th>五道口——上地</th>\\r\\n    <td>4866</td>\\r\\n    <td>上行/下行</td>\\r\\n  </tr>\\r\\n  <tr>\\r\\n    <th>上地——西二旗</th>\\r\\n    <td>2538</td>\\r\\n   <td>上行/下行</td>\\r\\n  </tr>\\r\\n  <tr>\\r\\n    <th>西二旗——龙泽</th>\\r\\n    <td>3623</td>\\r\\n  <td>上行/下行</td>\\r\\n  </tr>\\r\\n  <tr>\\r\\n    <th>龙泽——回龙观</th>\\r\\n    <td>1423</td>\\r\\n   <td>上行/下行</td>\\r\\n  </tr>\\r\\n  <tr>\\r\\n    <th>回龙观——霍营</th>\\r\\n    <td>2110</td>\\r\\n   <td>上行/下行</td>\\r\\n  </tr>\\r\\n  <tr>\\r\\n    <th>霍营——立水桥</th>\\r\\n    <td>4785</td>\\r\\n   <td>上行/下行</td>\\r\\n  </tr>\\r\\n  <tr>\\r\\n    <th>立水桥——北苑</th>\\r\\n    <td>2272</td>\\r\\n  <td>上行/下行</td>\\r\\n  </tr>\\r\\n  <tr>\\r\\n    <th>北苑——望京西</th>\\r\\n    <td>6720</td>\\r\\n  <td>上行/下行</td>\\r\\n  </tr>\\r\\n  <tr>\\r\\n    <th>望京西——芍药居</th>\\r\\n    <td>2152</td>\\r\\n    <td>上行/下行</td>\\r\\n  </tr>\\r\\n  <tr>\\r\\n    <th>芍药居——光熙门</th>\\r\\n    <td>1110</td>\\r\\n   <td>上行/下行</td>\\r\\n  </tr>\\r\\n  <tr>\\r\\n    <th>光熙门——柳芳</th>\\r\\n    <td>1135</td>\\r\\n   <td>上行/下行</td>\\r\\n  </tr>\\r\\n  <tr>\\r\\n    <th>柳芳——东直门</th>\\r\\n    <td>1769</td>\\r\\n  <td>上行/下行</td>\\r\\n  </tr>\\r\\n \\r\\n  </tbody>\\r\\n</table>\\r\\n</div>\\r\\n          </div>\\r\\n          <div class=\"line_place\" id=\"sub9\" style=\"display:none;\">\\r\\n              <div class=\"con_text\">\\r\\n<table width=\"738\" height=\"405\" cellspacing=\"0\" cellpadding=\"0\" border=\"0\" class=\"fourteen\">\\r\\n\\t<thead>\\r\\n\\t<tr style=\"height:56px; background:#d4a7a2; color:#fff; font-size:26px;\">\\r\\n  \\t<td colspan=\"7\">14号线(西段)相邻站间距信息统计表</td>\\r\\n  </tr>\\r\\n  <tr style=\"height:56px; background:#e1c2bd; color:#000; font-size:20px\">\\r\\n       <td width=\"171\">起始/终到车站</td>\\r\\n    <td  width=\"171\">区间距离（米）</td>\\r\\n       <td  width=\"171\">方向</td>\\r\\n  </tr>\\r\\n  </thead>\\r\\n  <tbody>\\r\\n  <tr>\\r\\n    <th>张郭庄——园博园</th>\\r\\n    <td>1345</td>\\r\\n    <td>上行/下行</td>\\r\\n  </tr>\\r\\n <tr>\\r\\n    <th>园博园——大瓦窑</th>\\r\\n    <td>4073</td>\\r\\n    <td>上行/下行</td>\\r\\n  </tr>\\r\\n   <tr>\\r\\n    <th>大瓦窑——郭庄子</th>\\r\\n    <td>1236</td>\\r\\n    <td>上行/下行</td>\\r\\n  </tr>\\r\\n   <tr>\\r\\n    <th>郭庄子——大井</th>\\r\\n    <td>2044</td>\\r\\n    <td>上行/下行</td>\\r\\n  </tr>\\r\\n   <tr>\\r\\n    <th>大井——七里庄</th>\\r\\n    <td>1579</td>\\r\\n    <td>上行/下行</td>\\r\\n  </tr>\\r\\n   <tr>\\r\\n    <th>七里庄——西局</th>\\r\\n    <td>845</td>\\r\\n    <td>上行/下行</td>\\r\\n  </tr>\\r\\n  \\r\\n  </tbody>\\r\\n</table>\\r\\n<br />\\r\\n<br />\\r\\n<table width=\"738\" height=\"500\" cellspacing=\"0\" cellpadding=\"0\" border=\"0\" class=\"fourteen\">\\r\\n\\t<thead>\\r\\n\\t<tr style=\"height:56px; background:#d4a7a2; color:#fff; font-size:26px;\">\\r\\n  \\t<td colspan=\"7\">14号线（东段）相邻站间距信息统计表</td>\\r\\n  </tr>\\r\\n  <tr style=\"height:56px; background:#e1c2bd; color:#000; font-size:20px\">\\r\\n       <td width=\"171\">起始/终到车站</td>\\r\\n    <td  width=\"171\">区间距离（米）</td>\\r\\n       <td  width=\"171\">方向</td>\\r\\n  </tr>\\r\\n  </thead>\\r\\n  <tbody>\\r\\n  <tr>\\r\\n    <th>北京南站——陶然桥</th>\\r\\n    <td>887</td>\\r\\n    <td>上行/下行</td>\\r\\n  </tr>\\r\\n   <tr>\\r\\n    <th>陶然桥——永定门外</th>\\r\\n    <td>1063</td>\\r\\n    <td>上行/下行</td>\\r\\n  </tr>\\r\\n   <tr>\\r\\n    <th>永定门外——景泰</th>\\r\\n    <td>1119</td>\\r\\n    <td>上行/下行</td>\\r\\n  </tr>\\r\\n   <tr>\\r\\n    <th>景泰——蒲黄榆</th>\\r\\n    <td>1025</td>\\r\\n    <td>上行/下行</td>\\r\\n  </tr>\\r\\n   <tr>\\r\\n    <th>蒲黄榆——方庄</th>\\r\\n    <td>1486</td>\\r\\n    <td>上行/下行</td>\\r\\n  </tr>\\r\\n   <tr>\\r\\n    <th>方庄——十里河</th>\\r\\n    <td>1618</td>\\r\\n    <td>上行/下行</td>\\r\\n  </tr>\\r\\n   <tr>\\r\\n    <th>十里河——南八里庄</th>\\r\\n    <td>1147</td>\\r\\n    <td>上行/下行</td>\\r\\n  </tr>\\r\\n   <tr>\\r\\n    <th>南八里庄——北工大西门</th>\\r\\n    <td>1276</td>\\r\\n    <td>上行/下行</td>\\r\\n  </tr>\\r\\n   <tr>\\r\\n    <th>北工大西门——平乐园</th>\\r\\n    <td>1128</td>\\r\\n    <td>上行/下行</td>\\r\\n  </tr>\\r\\n   <tr>\\r\\n    <th>平乐园——九龙山</th>\\r\\n    <td>897</td>\\r\\n    <td>上行/下行</td>\\r\\n  </tr>\\r\\n   <tr>\\r\\n    <th>九龙山——大望路</th>\\r\\n    <td>1780</td>\\r\\n    <td>上行/下行</td>\\r\\n  </tr>\\r\\n   <tr>\\r\\n    <th>大望路——红庙</th>\\r\\n    <td>708</td>\\r\\n    <td>上行/下行</td>\\r\\n  </tr>\\r\\n   <tr>\\r\\n    <th>红庙——金台路</th>\\r\\n    <td>894</td>\\r\\n    <td>上行/下行</td>\\r\\n  </tr>\\r\\n\\r\\n\\r\\n\\r\\n   <tr>\\r\\n    <th>金台路——朝阳公园</th>\\r\\n    <td>1085</td>\\r\\n    <td>上行/下行</td>\\r\\n  </tr>\\r\\n   <tr>\\r\\n    <th>朝阳公园——枣营</th>\\r\\n    <td>1221</td>\\r\\n    <td>上行/下行</td>\\r\\n  </tr>\\r\\n   <tr>\\r\\n    <th>枣营——东风北桥</th>\\r\\n    <td>2173</td>\\r\\n    <td>上行/下行</td>\\r\\n  </tr>\\r\\n   <tr>\\r\\n    <th>东风北桥——将台</th>\\r\\n    <td>1600</td>\\r\\n    <td>上行/下行</td>\\r\\n  </tr>\\r\\n   <tr>\\r\\n    <th>将台——高家园</th>\\r\\n    <td>1171</td>\\r\\n    <td>上行/下行</td>\\r\\n  </tr>\\r\\n   <tr>\\r\\n    <th>高家园——望京南</th>\\r\\n    <td>676</td>\\r\\n    <td>上行/下行</td>\\r\\n  </tr>\\r\\n   <tr>\\r\\n    <th>望京南——阜通</th>\\r\\n    <td>1168</td>\\r\\n    <td>上行/下行</td>\\r\\n  </tr>\\r\\n   <tr>\\r\\n    <th>阜通——望京</th>\\r\\n    <td>903</td>\\r\\n    <td>上行/下行</td>\\r\\n  </tr>\\r\\n   <tr>\\r\\n    <th>望京——东湖渠</th>\\r\\n    <td>1283</td>\\r\\n    <td>上行/下行</td>\\r\\n  </tr>\\r\\n   <tr>\\r\\n    <th>东湖渠——来广营</th>\\r\\n    <td>1100</td>\\r\\n    <td>上行/下行</td>\\r\\n  </tr>\\r\\n   <tr>\\r\\n    <th>来广营——善各庄</th>\\r\\n    <td>1364</td>\\r\\n    <td>上行/下行</td>\\r\\n  </tr>\\r\\n  </tbody>\\r\\n</table>\\r\\n</div>\\r\\n          </div>\\r\\n          <div class=\"line_place\" id=\"sub10\" style=\"display:none;\">\\r\\n              <div class=\"con_text\">\\r\\n<table width=\"738\" height=\"700\" cellspacing=\"0\" cellpadding=\"0\" border=\"0\" class=\"fifteen\">\\r\\n\\t<thead>\\r\\n\\t<tr style=\"height:56px; background:#5d2d69; color:#fff; font-size:26px;\">\\r\\n  \\t<td colspan=\"6\">15号线相邻站间距信息统计表</td>\\r\\n  </tr>\\r\\n  <tr style=\"height:56px; background:#876389; color:#000; font-size:20px\">\\r\\n  \\t\\t  <td width=\"171\">起始/终到车站</td>\\r\\n    <td  width=\"171\">区间距离（米）</td>\\r\\n       <td  width=\"171\">方向</td>\\r\\n  </tr>\\r\\n  \\r\\n  </thead>\\r\\n  <tbody>\\r\\n  <tr>\\r\\n    <th>清华东路西口——六道口</th>\\r\\n    <td>1144</td>\\r\\n    <td>上行/下行</td>\\r\\n  </tr>\\r\\n   <tr>\\r\\n    <th>六道口——北沙滩</th>\\r\\n    <td>1337</td>\\r\\n    <td>上行/下行</td>\\r\\n  </tr>\\r\\n   <tr>\\r\\n    <th>北沙滩——奥林匹克公园</th>\\r\\n    <td>1999</td>\\r\\n    <td>上行/下行</td>\\r\\n  </tr>\\r\\n    <tr>\\r\\n    <th>奥林匹克公园——安立路</th>\\r\\n    <td>1368</td>\\r\\n    <td>上行/下行</td>\\r\\n  </tr>\\r\\n    <tr>\\r\\n    <th>安立路——大屯路东</th>\\r\\n    <td>938</td>\\r\\n    <td>上行/下行</td>\\r\\n  </tr>\\r\\n    <tr>\\r\\n    <th>大屯路东——关庄</th>\\r\\n    <td>1087</td>\\r\\n    <td>上行/下行</td>\\r\\n  </tr>\\r\\n    <tr>\\r\\n    <th>关庄——望京西</th>\\r\\n    <td>2071</td>\\r\\n    <td>上行/下行</td>\\r\\n  </tr>\\r\\n    <tr>\\r\\n    <th>望京西——望京</th>\\r\\n    <td>1758</td>\\r\\n    <td>上行/下行</td>\\r\\n  </tr>\\r\\n    <tr>\\r\\n    <th>望京——望京东</th>\\r\\n    <td>1652</td>\\r\\n    <td>上行/下行</td>\\r\\n  </tr>\\r\\n    <tr>\\r\\n    <th>望京东——崔各庄</th>\\r\\n    <td>2295</td>\\r\\n    <td>上行/下行</td>\\r\\n  </tr>\\r\\n    <tr>\\r\\n    <th>崔各庄——马泉营</th>\\r\\n    <td>2008</td>\\r\\n    <td>上行/下行</td>\\r\\n  </tr>\\r\\n    <tr>\\r\\n    <th>马泉营——孙河</th>\\r\\n    <td>3309</td>\\r\\n    <td>上行/下行</td>\\r\\n  </tr>\\r\\n    <tr>\\r\\n    <th>孙河——国展</th>\\r\\n    <td>3386</td>\\r\\n    <td>上行/下行</td>\\r\\n  </tr>\\r\\n    <tr>\\r\\n    <th>国展——花梨坎</th>\\r\\n    <td>1615</td>\\r\\n    <td>上行/下行</td>\\r\\n  </tr>\\r\\n    <tr>\\r\\n    <th>花梨坎——后沙峪</th>\\r\\n    <td>3354</td>\\r\\n    <td>上行/下行</td>\\r\\n  </tr>\\r\\n    <tr>\\r\\n    <th>后沙峪——南法信</th>\\r\\n    <td>4576</td>\\r\\n    <td>上行/下行</td>\\r\\n  </tr>\\r\\n    <tr>\\r\\n    <th>南法信——石门</th>\\r\\n    <td>2712</td>\\r\\n    <td>上行/下行</td>\\r\\n  </tr>\\r\\n    <tr>\\r\\n    <th>石门——顺义</th>\\r\\n    <td>1331</td>\\r\\n    <td>上行/下行</td>\\r\\n  </tr>\\r\\n    <tr>\\r\\n    <th>顺义——俸伯</th>\\r\\n    <td>2441</td>\\r\\n    <td>上行/下行</td>\\r\\n  </tr>\\r\\n  </tbody>\\r\\n</table>\\r\\n</div>\\r\\n          </div>\\r\\n          <div class=\"line_place\" id=\"sub11\" style=\"display:none;\">\\r\\n              <div class=\"con_text\">\\r\\n<table width=\"738\" height=\"645\" cellspacing=\"0\" cellpadding=\"0\" border=\"0\" class=\"bt\">\\r\\n\\t<thead>\\r\\n\\t<tr style=\"height:56px; background:#c33a32; color:#fff; font-size:26px;\">\\r\\n  \\t<td colspan=\"5\">八通线相邻站间距信息统计表</td>\\r\\n  </tr>\\r\\n  <tr style=\"height:56px; background:#d2785e; color:#fff; font-size:20px\">\\r\\n  \\t\\t  <td width=\"171\">起始/终到车站</td>\\r\\n    <td  width=\"171\">区间距离（米）</td>\\r\\n       <td  width=\"171\">方向</td>\\r\\n  </tr>\\r\\n  </thead>\\r\\n  <tbody>\\r\\n  <tr>\\r\\n    <th>四惠——四惠东</th>\\r\\n    <td>1715</td>\\r\\n    <td>上行/下行</td>\\r\\n  </tr>\\r\\n  <tr>\\r\\n    <th>四惠东——高碑店</th>\\r\\n    <td>1375</td>\\r\\n    <td>上行/下行</td>\\r\\n  </tr>\\r\\n  <tr>\\r\\n    <th>高碑店——传媒大学</th>\\r\\n    <td>2002</td>\\r\\n     <td>上行/下行</td>\\r\\n  </tr>\\r\\n  <tr>\\r\\n    <th>传媒大学——双桥</th>\\r\\n    <td>1894</td>\\r\\n    <td>上行/下行</td>\\r\\n  </tr>\\r\\n  <tr>\\r\\n    <th>双桥——管庄</th>\\r\\n    <td>1912</td>\\r\\n    <td>上行/下行</td>\\r\\n  </tr>\\r\\n  <tr>\\r\\n    <th>管庄——八里桥</th>\\r\\n    <td>1763</td>\\r\\n    <td>上行/下行</td>\\r\\n  </tr>\\r\\n  <tr>\\r\\n    <th>八里桥——通州北苑</th>\\r\\n    <td>1700</td>\\r\\n   <td>上行/下行</td>\\r\\n  </tr>\\r\\n  <tr>\\r\\n    <th>通州北苑——果园</th>\\r\\n    <td>1465</td>\\r\\n   <td>上行/下行</td>\\r\\n  </tr>\\r\\n  <tr>\\r\\n    <th>果园——九棵树</th>\\r\\n    <td>990</td>\\r\\n   <td>上行/下行</td>\\r\\n  </tr>\\r\\n  <tr>\\r\\n    <th>九棵树——梨园</th>\\r\\n    <td>1225</td>\\r\\n   <td>上行/下行</td>\\r\\n  </tr>\\r\\n  <tr>\\r\\n    <th>梨园——临河里</th>\\r\\n    <td>1257</td>\\r\\n    <td>上行/下行</td>\\r\\n  </tr>\\r\\n  <tr>\\r\\n    <th>临河里——土桥</th>\\r\\n    <td>776</td>\\r\\n   <td>上行/下行</td>\\r\\n  </tr>\\r\\n  </tbody>\\r\\n</table>\\r\\n</div>\\r\\n          </div>\\r\\n          <div class=\"line_place\" id=\"sub12\" style=\"display:none;\">\\r\\n               <div class=\"con_text\">\\r\\n<table width=\"738\" height=\"437\" cellspacing=\"0\" cellpadding=\"0\" border=\"0\" class=\"cp\">\\r\\n\\t<thead>\\r\\n\\t<tr style=\"height:56px; background:#de82b1; color:#fff; font-size:26px;\">\\r\\n  \\t<td colspan=\"6\">昌平线相邻站间距信息统计表</td>\\r\\n  </tr>\\r\\n  <tr style=\"height:46px; background:#e8adcd; color:#000; font-size:20px\">\\r\\n   \\t  <td width=\"171\">起始/终到车站</td>\\r\\n    <td  width=\"171\">区间距离（米）</td>\\r\\n       <td  width=\"171\">方向</td>\\r\\n    </tr>\\r\\n \\r\\n  </thead>\\r\\n  <tbody>\\r\\n  <tr>\\r\\n    <th>昌平西山口——十三陵景区</th>\\r\\n    <td>1213</td>\\r\\n    <td>上行/下行</td>\\r\\n  </tr>\\r\\n  <tr>\\r\\n    <th>十三陵景区——昌平</th>\\r\\n    <td>3508</td>\\r\\n    <td>上行/下行</td>\\r\\n  </tr>\\r\\n  <tr>\\r\\n    <th>昌平——昌平东关</th>\\r\\n    <td>2433</td>\\r\\n    <td>上行/下行</td>\\r\\n  </tr>\\r\\n  <tr>\\r\\n    <th>昌平东关——北邵洼</th>\\r\\n    <td>1683</td>\\r\\n    <td>上行/下行</td>\\r\\n  </tr>\\r\\n  <tr>\\r\\n    <th>北邵洼——南邵</th>\\r\\n    <td>1958</td>\\r\\n    <td>上行/下行</td>\\r\\n  </tr>\\r\\n\\r\\n\\r\\n\\r\\n  <tr>\\r\\n    <th>南邵——沙河高教园</th>\\r\\n    <td>5357</td>\\r\\n    <td>上行/下行</td>\\r\\n  </tr>\\r\\n  <tr>\\r\\n    <th>沙河高教园——沙河</th>\\r\\n    <td>1964</td>\\r\\n   <td>上行/下行</td>\\r\\n  </tr>\\r\\n  <tr>\\r\\n    <th>沙河——巩华城</th>\\r\\n    <td>2025</td>\\r\\n    <td>上行/下行</td>\\r\\n  </tr>\\r\\n  <tr>\\r\\n    <th>巩华城——朱辛庄</th>\\r\\n    <td>3799</td>\\r\\n    <td>上行/下行</td>\\r\\n  </tr>\\r\\n  <tr>\\r\\n    <th>朱辛庄——生命科学园</th>\\r\\n    <td>2367</td>\\r\\n    <td>上行/下行</td>\\r\\n  </tr>\\r\\n  <tr>\\r\\n    <th>生命科学园——西二旗</th>\\r\\n    <td>5440</td>\\r\\n   <td>上行/下行</td>\\r\\n  </tr>\\r\\n \\r\\n  </tbody>\\r\\n</table>\\r\\n</div>\\r\\n          </div>\\r\\n          <div class=\"line_place\" id=\"sub13\" style=\"display:none;\">\\r\\n              <div class=\"con_text\">\\r\\n<table width=\"738\" height=\"634\" cellspacing=\"0\" cellpadding=\"0\" border=\"0\" class=\"yz\">\\r\\n\\t<thead>\\r\\n\\t<tr style=\"height:56px; background:#e40177; color:#fff; font-size:26px;\">\\r\\n  \\t<td colspan=\"5\">亦庄线相邻站间距信息统计表</td>\\r\\n  </tr>\\r\\n  <tr style=\"height:56px; background:#ec6e9e; color:#fff; font-size:20px\">\\r\\n    \\t  <td width=\"171\">起始/终到车站</td>\\r\\n    <td  width=\"171\">区间距离（米）</td>\\r\\n       <td  width=\"171\">方向</td>\\r\\n  </tr>\\r\\n  </thead>\\r\\n  <tbody>\\r\\n  <tr>\\r\\n    <th>宋家庄——肖村</th>\\r\\n    <td>2631</td>\\r\\n   <td>上行/下行</td>\\r\\n  </tr>\\r\\n  <tr>\\r\\n    <th>肖村——小红门</th>\\r\\n    <td>1275</td>\\r\\n   <td>上行/下行</td>\\r\\n  </tr>\\r\\n  <tr>\\r\\n    <th>小红门——旧宫</th>\\r\\n    <td>2366</td>\\r\\n    <td>上行/下行</td>\\r\\n  </tr>\\r\\n  <tr>\\r\\n    <th>旧宫——亦庄桥</th>\\r\\n    <td>1982</td>\\r\\n   <td>上行/下行</td>\\r\\n  </tr>\\r\\n  <tr>\\r\\n    <th>亦庄桥——亦庄文化园</th>\\r\\n    <td>993</td>\\r\\n   <td>上行/下行</td>\\r\\n  </tr>\\r\\n  <tr>\\r\\n    <th>亦庄文化园——万源街</th>\\r\\n    <td>1728</td>\\r\\n <td>上行/下行</td>\\r\\n  </tr>\\r\\n  <tr>\\r\\n    <th>万源街——荣京东街</th>\\r\\n    <td>1090</td>\\r\\n  <td>上行/下行</td>\\r\\n  </tr>\\r\\n  <tr>\\r\\n    <th>荣京东街——荣昌东街</th>\\r\\n    <td>1355</td>\\r\\n   <td>上行/下行</td>\\r\\n  </tr>\\r\\n  <tr>\\r\\n    <th>荣昌东街——同济南路</th>\\r\\n    <td>2337</td>\\r\\n   <td>上行/下行</td>\\r\\n  </tr>\\r\\n  <tr>\\r\\n    <th>同济南路——经海路</th>\\r\\n    <td>2301</td>\\r\\n  <td>上行/下行</td>\\r\\n  </tr>\\r\\n  <tr>\\r\\n    <th>经海路——次渠南</th>\\r\\n    <td>2055</td>\\r\\n  <td>上行/下行</td>\\r\\n  </tr>\\r\\n  <tr>\\r\\n    <th>次渠南——次渠</th>\\r\\n    <td>1281</td>\\r\\n  <td>上行/下行</td>\\r\\n  </tr>\\r\\n \\r\\n  </tbody>\\r\\n</table>\\r\\n</div>\\r\\n          </div>\\r\\n          <div class=\"line_place\" id=\"sub14\" style=\"display:none;\">\\r\\n              <div class=\"con_text\">\\r\\n<table width=\"738\" height=\"665\" cellspacing=\"0\" cellpadding=\"0\" border=\"0\" class=\"four\">\\r\\n\\t<thead>\\r\\n\\t<tr style=\"height:56px; background:#008e9c; color:#fff; font-size:26px;\">\\r\\n  \\t<td colspan=\"7\">大兴线相邻站间距信息统计表</td>\\r\\n  </tr>\\r\\n  \\r\\n  <tr style=\"height:56px; font-size:20px\">\\r\\n    <td width=\"171\"  bgcolor=\"#55adb7\">起始/终到车站</td>\\r\\n    <td  width=\"171\"  bgcolor=\"#55adb7\">区间距离（米）</td>\\r\\n       <td  width=\"171\"  bgcolor=\"#55adb7\">方向</td>\\r\\n  </tr>\\r\\n  </thead>\\r\\n  <tbody>\\r\\n  <tr>\\r\\n    <th>公益西桥——新宫</th>\\r\\n    <td>2798</td>\\r\\n    <td>上行/下行</td>\\r\\n  </tr>\\r\\n  <tr>\\r\\n    <th>新宫——西红门</th>\\r\\n    <td>5102</td>\\r\\n    <td>上行/下行</td>\\r\\n  </tr>\\r\\n  <tr>\\r\\n    <th>西红门——高米店北</th>\\r\\n    <td>1810</td>\\r\\n    <td>上行/下行</td>\\r\\n  </tr>\\r\\n  <tr>\\r\\n    <th>高米店北——高米店南</th>\\r\\n    <td>1128</td>\\r\\n    <td>上行/下行</td>\\r\\n  </tr>\\r\\n  <tr>\\r\\n    <th>高米店南——枣园</th>\\r\\n    <td>1096</td>\\r\\n    <td>上行/下行</td>\\r\\n  </tr>\\r\\n  <tr>\\r\\n    <th>枣园——清源路</th>\\r\\n    <td>1200</td>\\r\\n\\r\\n    <td>上行/下行</td>\\r\\n  </tr>\\r\\n  <tr>\\r\\n    <th>清源路——黄村西大街</th>\\r\\n    <td>1214</td>\\r\\n    <td>上行/下行</td>\\r\\n  </tr>\\r\\n  <tr>\\r\\n    <th>黄村西大街——黄村火车站</th>\\r\\n    <td>987</td>\\r\\n    <td>上行/下行</td>\\r\\n  </tr>\\r\\n  <tr>\\r\\n    <th>黄村火车站——义和庄</th>\\r\\n    <td>2035</td>\\r\\n    <td>上行/下行</td>\\r\\n  </tr>\\r\\n <tr>\\r\\n    <th>义和庄——生物医药基地</th>\\r\\n    <td>2918</td>\\r\\n    <td>上行/下行</td>\\r\\n  </tr>\\r\\n   <tr>\\r\\n    <th>生物医药基地——天宫院</th>\\r\\n    <td>1811</td>\\r\\n    <td>上行/下行</td>\\r\\n  </tr>\\r\\n \\r\\n  </tbody>\\r\\n</table>\\r\\n</div>\\r\\n          </div>\\r\\n          <div class=\"line_place\" id=\"sub15\" style=\"display:none;\">\\r\\n              <div class=\"con_text\">\\r\\n<table width=\"738\" height=\"645\" cellspacing=\"0\" cellpadding=\"0\" border=\"0\" class=\"fs\">\\r\\n\\t<thead>\\r\\n\\t<tr style=\"height:56px; background:#e66021; color:#fff; font-size:26px;\">\\r\\n  \\t<td colspan=\"5\">房山线相邻站间距信息统计表</td>\\r\\n  </tr>\\r\\n  <tr style=\"height:56px; background:#ee935a; color:#fff; font-size:20px\">\\r\\n  <td width=\"171\">起始/终到车站</td>\\r\\n    <td  width=\"171\">区间距离（米）</td>\\r\\n       <td  width=\"171\">方向</td>  </tr>\\r\\n  </thead>\\r\\n  <tbody>\\r\\n  <tr>\\r\\n    <th>郭公庄——大葆台</th>\\r\\n    <td>1405</td>\\r\\n     <td>上行/下行</td>\\r\\n  </tr>\\r\\n  <tr>\\r\\n    <th>大葆台——稻田</th>\\r\\n    <td>6466</td>\\r\\n     <td>上行/下行</td>\\r\\n  </tr>\\r\\n  <tr>\\r\\n    <th>稻田——长阳</th>\\r\\n    <td>4041</td>\\r\\n     <td>上行/下行</td>\\r\\n  </tr>\\r\\n  <tr>\\r\\n    <th>长阳——篱笆房</th>\\r\\n    <td>2150</td>\\r\\n    <td>上行/下行</td>\\r\\n  </tr>\\r\\n  <tr>\\r\\n    <th>篱笆房——广阳城</th>\\r\\n    <td>1474</td>\\r\\n     <td>上行/下行</td>\\r\\n  </tr>\\r\\n  <tr>\\r\\n    <th>广阳城——良乡大学城北</th>\\r\\n    <td>2003</td>\\r\\n      <td>上行/下行</td>\\r\\n  </tr>\\r\\n  <tr>\\r\\n    <th>良乡大学城北——良乡大学城</th>\\r\\n    <td>1188</td>\\r\\n    <td>上行/下行</td>\\r\\n  </tr>\\r\\n  <tr>\\r\\n    <th>良乡大学城——良乡大学城西</th>\\r\\n    <td>1738</td>\\r\\n    <td>上行/下行</td>\\r\\n  </tr>\\r\\n  <tr>\\r\\n    <th>良乡大学城西——良乡南关</th>\\r\\n    <td>1332</td>\\r\\n    <td>上行/下行</td>\\r\\n  </tr>\\r\\n  <tr>\\r\\n    <th>良乡南关——苏庄</th>\\r\\n    <td>1330</td>\\r\\n     <td>上行/下行</td>\\r\\n  </tr>\\r\\n  </tbody>\\r\\n</table>\\r\\n</div>\\r\\n          </div>\\r\\n          <div class=\"line_place\" id=\"sub16\" style=\"display:none;\">\\r\\n              <div class=\"con_text\">\\r\\n<table width=\"738\" height=\"300\" cellspacing=\"0\" cellpadding=\"0\" border=\"0\" class=\"jc\">\\r\\n\\t<thead>\\r\\n\\t<tr style=\"height:56px; background:#a29bbc; color:#fff; font-size:26px;\">\\r\\n  \\t<td colspan=\"5\">机场线相邻站间距信息统计表</td>\\r\\n  </tr>\\r\\n  <tr style=\"height:56px; background:#bdb7cf; color:#fff; font-size:20px\">\\r\\n     <td width=\"171\">起始/终到车站</td>\\r\\n    <td  width=\"171\">区间距离（米）</td>\\r\\n       <td  width=\"171\">方向</td>\\r\\n  </tr>\\r\\n  </thead>\\r\\n  <tbody>\\r\\n  <tr>\\r\\n    <th>东直门——三元桥</th>\\r\\n    <td>2999</td>\\r\\n   <td>上行/下行</td>\\r\\n  </tr>\\r\\n  <tr>\\r\\n    <th>三元桥——T3航站楼</th>\\r\\n    <td>18329</td>\\r\\n   <td>下行</td>\\r\\n  </tr>\\r\\n  <tr>\\r\\n    <th>T3航站楼——T2航站楼</th>\\r\\n    <td>7239</td>\\r\\n    <td>下行</td>\\r\\n  </tr>\\r\\n  <tr>\\r\\n    <th>T2航站楼——三元桥</th>\\r\\n    <td>20619</td>\\r\\n    <td>上行</td>\\r\\n  </tr>\\r\\n  </tbody>\\r\\n</table>\\r\\n</div>\\r\\n          </div>\\r\\n          \\r\\n              \\r\\n            </div>\\r\\n            <div class=\"other\" style=\"display:none;\">\\r\\n        \\t<ul>\\r\\n               \\t<li><h2><a href=\"http://www.bjsubway.com/attractions/\">坐地铁游北京</a></h2><p style=\"color:#5c5c5c; line-height:1.75em; font-size:12px ; color: rgb(89,89,89); \">北京地铁为您提供完善的换乘指南服务，乘坐地铁便利快捷出行，轻松游遍整个北京！</p></li>\\r\\n                <li><h2><a href=\"http://www.bjsubway.com/support/swzl/\">失物招领</a></h2><p style=\" color:#5c5c5c; line-height:1.75em; font-size:12px; color: rgb(89,89,89);  \">提供物品丢失的相关信息与咨询。</p></li>\\r\\n                <li><h2><a href=\"http://www.bjsubway.com/culture/zbcp/\">周边产品</a></h2><p style=\"color:#5c5c5c; line-height:1.75em; font-size:12px ; color: rgb(89,89,89); \">定期推出文化车票等相关地铁周边产品，更好地展现了北京地铁的新风采、新形象。</p></li>\\r\\n                <li><h2><a href=\"http://www.bjsubway.com/news/qyxw/\">企业新闻</a></h2><p style=\" color:#5c5c5c; line-height:1.75em; font-size:12px ; color: rgb(89,89,89); \">第一时间向广大乘客发布北京地铁出行及时信息、行业动态和领导关怀指导与党群动态。</p></li>\\r\\n            </ul>\\r\\n         </div>\\r\\n        </div>\\r\\n        <div class=\"side\"><div class=\"search_right\" id=\"firstpane\">\\r\\n        \\t<div class=\"menu_head\"><div class=\"search_right_go\"></div><div class=\"search_right_tx\"><a href=\"http://www.bjsubway.com/station_map_xg.html\">线路图查询</a></div></div>\\r\\n   <div class=\"menu_head\"><div class=\"search_right_go\"></div><div class=\"search_right_tx\"><a href=\"http://www.bjsubway.com/station/zjgls/\">站间公里数</a></div></div>\\r\\n          \\t<div class=\"menu_head\"><div class=\"search_right_go\"></div><div class=\"search_right_tx\"><a href=\"http://www.bjsubway.com/station/xltcx/\">站点及周边信息</a></div></div>\\r\\n          \\t<div class=\"menu_head\"><div class=\"search_right_go\"></div><div class=\"search_right_tx\"><a href=\"http://www.bjsubway.com/e/action/ListInfo/?classid=39&ph=1\">首末车时间</a></div></div>\\r\\n                <div class=\"menu_head\"><div class=\"search_right_go\"></div><div class=\"search_right_tx\"><a href=\"http://www.bjsubway.com/jcsk.html\">机场线时刻表</a></div></div>\\r\\n          \\t<div class=\"menu_head\"><div class=\"search_right_go\"></div><div class=\"search_right_tx\"><a href=\"http://www.bjsubway.com/e/action/ListInfo/?classid=40&ph=1&station=苹果园\">服务设施</a></div></div>\\r\\n          \\t<div class=\"menu_head\"><div class=\"search_right_go\"></div><div class=\"search_right_tx\"><a href=\"http://www.bjsubway.com/e/action/ListInfo/?classid=41&ph=1&station=苹果园\">无障碍服务设施</a></div></div>\\r\\n          \\t<div class=\"menu_head\"><div class=\"search_right_go\"></div><div class=\"search_right_tx\"><a href=\"http://www.bjsubway.com/e/action/ListInfo/?classid=42&ph=1\">一卡通服务网点</a></div></div>\\r\\n                <div class=\"menu_head\"><div class=\"search_right_go\"></div><div class=\"search_right_tx\"><a href=\"http://www.bjsubway.com/station/xltzs/\">线路图下载</a></div></div>\\r\\n</div></div>\\r\\n        </div>\\r\\n        <div class=\"clear\"></div>\\r\\n        <div class=\"bottom\">\\r\\n    <div class=\"hot_line\">\\r\\n        <h1>地铁服务热线：010-96165</h1>\\r\\n        <h4 class=\"records\" style=\\'margin-top:-0px; line-height:20px;\\'><!--京ICP备12042668号-1  京公网安备110403010001 110102000183<br/> -->版权所有 北京市地铁运营有限公司  京ICP备12042668号-1<br/>网站建设：<a style=\"cursor: text;color:#fff;\" href=\"http://www.syouwadesign.com/\">北京市艺彩昭和企业形象设计有限责任公司</a>&nbsp;&nbsp;&nbsp;&nbsp;网站制作维护热线：400-667-1119</h4>\\r\\n      </div>\\r\\n                 <div class=\"ljt\">\\r\\n\\t\\t   <a href=\"http://www.bjsubway.com/contact/\"><img src=\"http://www.bjsubway.com/subway/images/weixin.png\" /></a>\\r\\n\\t\\t   <a href=\"http://e.weibo.com/bjsubway\"><img src=\"http://www.bjsubway.com/subway/images/xinlang.png\" /></a>\\r\\n\\t\\t   <a href=\"http://e.t.qq.com/bjsubway\"><img src=\"http://www.bjsubway.com/subway/images/tengxun.png\" /></a>\\r\\n\\t\\t   <a href=\"http://www.bjsubway.com/contact/\"><img src=\"http://www.bjsubway.com/subway/images/shouji.png\" /></a>\\r\\n\\t\\t   <a href=\"http://www.bjsubway.com/contact/\"><img src=\"http://www.bjsubway.com/subway/images/pingguo.png\" /></a>\\r\\n\\t\\t   <a href=\"http://www.bjsubway.com/contact/\"><img src=\"http://www.bjsubway.com/subway/images/anzhuo.png\" /></a>\\r\\n\\t\\t</div>\\r\\n\\r\\n\\t  \\r\\n       <script type=\"text/javascript\" src=\"http://www.bjsubway.com/subway/js/yqlj2.js\"></script>\\r\\n       <div class=\"friendmain\">\\r\\n        <div class=\"keleyi-com-menu\" style=\"background:url(http://www.bjsubway.com/subway/images/friendlink.png) no-repeat;\">\\r\\n        <ul class=\"lang\">\\r\\n        <li class=\"\">\\r\\n\\t\\t  <span style=\"float:left;color:rgb(89,89,89); line-height:22px; padding-left:2px;\">友情链接\\r\\n\\t\\t  <input type=\"text\" value=\"———请选择——\" style=\"text-align:center;border:0 none; width:150px; color:rgb(89,89,89);\" border=\"0\"/>\\r\\n\\t\\t  <img src=\"http://www.bjsubway.com/subway/images/down.jpg\" width=\"6px\" height=\"6px\"style=\"margin-top:10px;\"/></span>\\r\\n         <!--[if IE]>\\r\\n        <ul style=\"display: none;margin-bottom:-19px;background:url(http://www.bjsubway.com/subway/images/index_links_box.png) no-repeat;width:231px; margin-left:-1px;\">\\r\\n<![endif]-->\\r\\n<!--[if !IE]><!-->\\r\\n          <ul style=\"display: none;margin-bottom:-19px;background:url(http://www.bjsubway.com/subway/images/index_links_box.png) no-repeat;width:231px; margin-left:-1px;\">\\r\\n<!--<![endif]-->\\r\\n          \\r\\n\\t\\t  \\r\\n          <div style=\"text-align:center;width:224px; background:none; height:35px;\">\\r\\n <div style=\"height:5px;\"></div>\\r\\n\\t\\t  <div class=\"sublogo\"><img src=\"http://www.bjsubway.com/subway/images/guangzhou.jpg\"/></div>\\r\\n\\t\\t  <div class=\"subname\"><a href=\"http://www.gzmtr.com/\" target=\"_blank\" onclick=\"window.open(\\'http://www.gzmtr.com\\', \\'_blank\\')\" style=\"color:rgb(89,89,89);\">广州地铁</a></div>\\r\\n\\t\\t  </div>\\r\\n\\t\\t  \\r\\n\\t\\t  <div style=\"text-align:center;width:214px; background:none; height:1px; margin-left:5px;background:url(http://www.bjsubway.com/subway/images/links_linex.jpg);\"></div>\\r\\n\\t\\t  \\r\\n\\t\\t  <div style=\"text-align:center;width:224px; background:none; height:30px;\">\\r\\n\\t\\t  <div class=\"sublogo\"><img src=\"http://www.bjsubway.com/subway/images/shanghai.jpg\"/></div>\\r\\n\\t\\t  <div class=\"subname\"><a href=\"http://www.shmetro.com/\" target=\"_blank\" onclick=\"window.open(\\'http://www.shmetro.com/\\', \\'_blank\\')\" style=\"color:rgb(89,89,89);\">上海地铁</a></div>\\r\\n\\t\\t  </div>\\r\\n\\t\\t  <div style=\"text-align:center;width:214px; background:none; height:1px; margin-left:5px;background:url(http://www.bjsubway.com/subway/images/links_linex.jpg);\"></div>\\r\\n\\t\\t  \\r\\n          <div style=\"text-align:center;width:224px; background:none; height:30px;\">\\r\\n\\t\\t  <div class=\"sublogo\"><img src=\"http://www.bjsubway.com/subway/images/tianjin.jpg\"/></div>\\r\\n\\t\\t  <div class=\"subname\"><a href=\"http://www.tjdt.cn/\" target=\"_blank\" onclick=\"window.open(\\'http://www.tjdt.cn/\\', \\'_blank\\')\" style=\"color:rgb(89,89,89);\">天津地铁</a></div>\\r\\n\\t\\t  </div>\\r\\n\\t\\t  <div style=\"text-align:center;width:214px; background:none; height:1px;margin-left:5px;background:url(http://www.bjsubway.com/subway/images/links_linex.jpg);\"></div>\\r\\n\\t\\t\\r\\n          <div style=\"text-align:center;width:224px; background:none; height:30px;\">\\r\\n\\t\\t  <div class=\"sublogo\"><img src=\"http://www.bjsubway.com/subway/images/xianggang.jpg\"/></div>\\r\\n\\t\\t  <div class=\"subname\"><a href=\"http://www.mtrsz.com.cn\" target=\"_blank\" onclick=\"window.open(\\'http://www.mtrsz.com.cn\\', \\'_blank\\')\" style=\"color:rgb(89,89,89);\">港铁深圳</a></div>\\r\\n\\t\\t  </div>\\r\\n\\t\\t  <div style=\"text-align:center;width:214px; background:none; height:1px;margin-left:5px;background:url(http://www.bjsubway.com/subway/images/links_linex.jpg);\"></div>\\r\\n\\t\\t<div style=\"text-align:center;width:224px; background:#none; height:30px;\">\\r\\n\\t\\t  <div class=\"sublogo\"><img src=\"http://www.bjsubway.com/subway/images/jinggang.jpg\"/></div>\\r\\n\\t\\t  <div class=\"subname\"><a href=\"http://www.mtr.bj.cn\" target=\"_blank\" onclick=\"window.open(\\'http://www.mtr.bj.cn\\', \\'_blank\\')\" style=\"color:rgb(89,89,89);\">京港地铁</a></div>\\r\\n\\t\\t  </div>\\r\\n\\t\\t  <div style=\"text-align:center;width:214px; background:none; height:1px;margin-left:5px;background:url(http://www.bjsubway.com/subway/images/links_linex.jpg);\"></div>  \\r\\n\\t\\t<div style=\"text-align:center;width:224px; background:#none; height:30px;\">\\r\\n\\t\\t  <div class=\"sublogo\"><img src=\"http://www.bjsubway.com/subway/images/ruyixing.png\"/></div>\\r\\n\\t\\t  <div class=\"subname\"><a href=\"http://www.ruubypay.com\" target=\"_blank\" onclick=\"window.open(\\'http://www.ruubypay.com\\', \\'_blank\\')\" style=\"color:rgb(89,89,89);\">如易行科技</a></div>\\r\\n\\t\\t  </div>\\r\\n\\t\\t  <div style=\"text-align:center;width:214px; background:none; height:1px;margin-left:5px;background:url(http://www.bjsubway.com/subway/images/links_linex.jpg);\"></div> \\r\\n\\r\\n          </ul>   \\r\\n\\t\\t    </li>\\r\\n          </ul>\\r\\n         </div>\\r\\n      </div>\\r\\n      <script type=\"text/javascript\" src=\"http://www.bjsubway.com/subway/js/yqlj1.js\"></script>\\r\\n</div>\\r\\n<div style=\"display:none\"><script type=\"text/javascript\">\\r\\nvar _bdhmProtocol = ((\"https:\" == document.location.protocol) ? \" https://\" : \" http://\");\\r\\ndocument.write(unescape(\"%3Cscript src=\\'\" + _bdhmProtocol + \"hm.baidu.com/h.js%3F01cf1cc88df5ecf7e38164197b4a2001\\' type=\\'text/javascript\\'%3E%3C/script%3E\"));\\r\\n</script></div>\\r\\n        <!-- bottom end -->  \\r\\n    </div>\\r\\n</div>\\r\\n\\t\\r\\n</body>\\r\\n</html>'"
      ]
     },
     "execution_count": 90,
     "metadata": {},
     "output_type": "execute_result"
    }
   ],
   "source": [
    "url = 'http://www.bjsubway.com/station/zjgls/'\n",
    "response = requests.get(url)\n",
    "response.encoding = 'GBK'\n",
    "response.text"
   ]
  },
  {
   "cell_type": "code",
   "execution_count": null,
   "metadata": {},
   "outputs": [],
   "source": [
    "#模拟浏览器\n",
    "url = \"https://baike.baidu.com/item/%E5%8C%97%E4%BA%AC%E5%9C%B0%E9%93%81/408485\"\n",
    "headers = {\n",
    "    'accept': 'text/html,application/xhtml+xml,application/xml;q=0.9,image/webp,image/apng,*/*;q=0.8,application/signed-exchange;v=b3',\n",
    "    'user-agent': 'Mozilla/5.0 (Windows NT 10.0; Win64; x64) AppleWebKit/537.36 (KHTML, like Gecko) Chrome/75.0.3770.100 Safari/537.36',\n",
    "    'connection': 'keep-alive',\n",
    "    'host': 'baike.baidu.com',\n",
    "    'accept-encoding': 'gzip, deflate, br',\n",
    "    'accept-language': 'zh-CN,zh;q=0.9,en;q=0.8',\n",
    "    'upgrade-insecure-requests': '1'\n",
    "}\n",
    "header = {'User-Agent': 'Mozilla/5.0 (Windows NT 6.3; WOW64) AppleWebKit/537.36 (KHTML, like Gecko) Chrome/55.0.2883.87 Safari/537.36'}\n",
    "r = requests.get(url=url,headers = headers)\n",
    "r.encoding = 'utf-8'\n",
    "r.text"
   ]
  },
  {
   "cell_type": "code",
   "execution_count": 58,
   "metadata": {},
   "outputs": [
    {
     "name": "stdout",
     "output_type": "stream",
     "text": [
      "[('前门', '崇文门')]\n"
     ]
    }
   ],
   "source": [
    "test_string = \"<th>前门——崇文门</th>\"\n",
    "pattern = re.compile(r\"<th>(\\w+)——(\\w+)</th>\")\n",
    "info = pattern.findall(test_string)\n",
    "print(info)"
   ]
  },
  {
   "cell_type": "code",
   "execution_count": 59,
   "metadata": {},
   "outputs": [],
   "source": [
    "what_we_want = r'(\\w+)——(\\w+)'#正则专用符号. ? []"
   ]
  },
  {
   "cell_type": "code",
   "execution_count": 60,
   "metadata": {},
   "outputs": [],
   "source": [
    "pattern = re.compile(what_we_want)"
   ]
  },
  {
   "cell_type": "code",
   "execution_count": 64,
   "metadata": {},
   "outputs": [
    {
     "data": {
      "text/plain": [
       "[('苹果园', '古城'),\n",
       " ('古城', '八角游乐园'),\n",
       " ('八角游乐园', '八宝山'),\n",
       " ('八宝山', '玉泉路'),\n",
       " ('玉泉路', '五棵松'),\n",
       " ('五棵松', '万寿路'),\n",
       " ('万寿路', '公主坟'),\n",
       " ('公主坟', '军事博物馆'),\n",
       " ('军事博物馆', '木樨地'),\n",
       " ('木樨地', '南礼士路'),\n",
       " ('南礼士路', '复兴门'),\n",
       " ('复兴门', '西单'),\n",
       " ('西单', '天安门西'),\n",
       " ('天安门西', '天安门东'),\n",
       " ('天安门东', '王府井'),\n",
       " ('王府井', '东单'),\n",
       " ('东单', '建国门'),\n",
       " ('建国门', '永安里'),\n",
       " ('永安里', '国贸'),\n",
       " ('国贸', '大望路'),\n",
       " ('大望路', '四惠'),\n",
       " ('四惠', '四惠东'),\n",
       " ('西直门', '车公庄'),\n",
       " ('车公庄', '阜成门'),\n",
       " ('阜成门', '复兴门'),\n",
       " ('复兴门', '长椿街'),\n",
       " ('长椿街', '宣武门'),\n",
       " ('宣武门', '和平门'),\n",
       " ('和平门', '前门'),\n",
       " ('前门', '崇文门'),\n",
       " ('崇文门', '北京站'),\n",
       " ('北京站', '建国门'),\n",
       " ('建国门', '朝阳门'),\n",
       " ('朝阳门', '东四十条'),\n",
       " ('东四十条', '东直门'),\n",
       " ('东直门', '雍和宫'),\n",
       " ('雍和宫', '安定门'),\n",
       " ('安定门', '鼓楼大街'),\n",
       " ('鼓楼大街', '积水潭'),\n",
       " ('积水潭', '西直门'),\n",
       " ('安河桥北', '北宫门'),\n",
       " ('北宫门', '西苑'),\n",
       " ('西苑', '圆明园'),\n",
       " ('圆明园', '北京大学东门'),\n",
       " ('北京大学东门', '中关村'),\n",
       " ('中关村', '海淀黄庄'),\n",
       " ('海淀黄庄', '人民大学'),\n",
       " ('人民大学', '魏公村'),\n",
       " ('魏公村', '国家图书馆'),\n",
       " ('国家图书馆', '动物园'),\n",
       " ('动物园', '西直门'),\n",
       " ('西直门', '新街口'),\n",
       " ('新街口', '平安里'),\n",
       " ('平安里', '西四'),\n",
       " ('西四', '灵境胡同'),\n",
       " ('灵境胡同', '西单'),\n",
       " ('西单', '宣武门'),\n",
       " ('宣武门', '菜市口'),\n",
       " ('菜市口', '陶然亭'),\n",
       " ('陶然亭', '北京南站'),\n",
       " ('北京南站', '马家堡'),\n",
       " ('马家堡', '角门西'),\n",
       " ('角门西', '公益西桥'),\n",
       " ('天通苑北', '天通苑'),\n",
       " ('天通苑', '天通苑南'),\n",
       " ('天通苑南', '立水桥'),\n",
       " ('立水桥', '立水桥南'),\n",
       " ('立水桥南', '北苑路北'),\n",
       " ('北苑路北', '大屯路东'),\n",
       " ('大屯路东', '惠新西街北口'),\n",
       " ('惠新西街北口', '惠新西街南口'),\n",
       " ('惠新西街南口', '和平西桥'),\n",
       " ('和平西桥', '和平里北街'),\n",
       " ('和平里北街', '雍和宫'),\n",
       " ('雍和宫', '北新桥'),\n",
       " ('北新桥', '张自忠路'),\n",
       " ('张自忠路', '东四'),\n",
       " ('东四', '灯市口'),\n",
       " ('灯市口', '东单'),\n",
       " ('东单', '崇文门'),\n",
       " ('崇文门', '磁器口'),\n",
       " ('磁器口', '天坛东门'),\n",
       " ('天坛东门', '蒲黄榆'),\n",
       " ('蒲黄榆', '刘家窑'),\n",
       " ('刘家窑', '宋家庄'),\n",
       " ('海淀五路居', '慈寿寺'),\n",
       " ('慈寿寺', '花园桥'),\n",
       " ('花园桥', '白石桥南'),\n",
       " ('白石桥南', '车公庄西'),\n",
       " ('车公庄西', '车公庄'),\n",
       " ('车公庄', '平安里'),\n",
       " ('平安里', '北海北'),\n",
       " ('北海北', '南锣鼓巷'),\n",
       " ('南锣鼓巷', '东四'),\n",
       " ('东四', '朝阳门'),\n",
       " ('朝阳门', '东大桥'),\n",
       " ('东大桥', '呼家楼'),\n",
       " ('呼家楼', '金台路'),\n",
       " ('金台路', '十里堡'),\n",
       " ('十里堡', '青年路'),\n",
       " ('青年路', '褡裢坡'),\n",
       " ('褡裢坡', '黄渠'),\n",
       " ('黄渠', '常营'),\n",
       " ('常营', '草房'),\n",
       " ('草房', '物资学院路'),\n",
       " ('物资学院路', '通州北关'),\n",
       " ('通州北关', '通运门'),\n",
       " ('通运门', '北运河西'),\n",
       " ('北运河西', '北运河东'),\n",
       " ('北运河东', '郝家府'),\n",
       " ('郝家府', '东夏园'),\n",
       " ('东夏园', '潞城'),\n",
       " ('北京西站', '湾子'),\n",
       " ('湾子', '达官营'),\n",
       " ('达官营', '广安门内'),\n",
       " ('广安门内', '菜市口'),\n",
       " ('菜市口', '虎坊桥'),\n",
       " ('虎坊桥', '珠市口'),\n",
       " ('珠市口', '桥湾'),\n",
       " ('桥湾', '磁器口'),\n",
       " ('磁器口', '广渠门内'),\n",
       " ('广渠门内', '广渠门外'),\n",
       " ('广渠门外', '双井'),\n",
       " ('双井', '九龙山'),\n",
       " ('九龙山', '大郊亭'),\n",
       " ('大郊亭', '百子湾'),\n",
       " ('百子湾', '化工'),\n",
       " ('化工', '南楼梓庄'),\n",
       " ('南楼梓庄', '欢乐谷景区'),\n",
       " ('欢乐谷景区', '垡头'),\n",
       " ('垡头', '双合'),\n",
       " ('双合', '焦化厂'),\n",
       " ('朱辛庄', '育知路'),\n",
       " ('育知路', '平西府'),\n",
       " ('平西府', '回龙观东大街'),\n",
       " ('回龙观东大街', '霍营'),\n",
       " ('霍营', '育新'),\n",
       " ('育新', '西小口'),\n",
       " ('西小口', '永泰庄'),\n",
       " ('永泰庄', '林萃桥'),\n",
       " ('林萃桥', '森林公园南门'),\n",
       " ('森林公园南门', '奥林匹克公园'),\n",
       " ('奥林匹克公园', '奥体中心'),\n",
       " ('奥体中心', '北土城'),\n",
       " ('北土城', '安华桥'),\n",
       " ('安华桥', '安德里北街'),\n",
       " ('安德里北街', '鼓楼大街'),\n",
       " ('鼓楼大街', '什刹海'),\n",
       " ('什刹海', '南锣鼓巷'),\n",
       " ('国家图书馆', '白石桥南'),\n",
       " ('白石桥南', '白堆子'),\n",
       " ('白堆子', '军事博物馆'),\n",
       " ('军事博物馆', '北京西站'),\n",
       " ('北京西站', '六里桥东'),\n",
       " ('六里桥东', '六里桥'),\n",
       " ('六里桥', '七里庄'),\n",
       " ('七里庄', '丰台东大街'),\n",
       " ('丰台东大街', '丰台南路'),\n",
       " ('丰台南路', '科怡路'),\n",
       " ('科怡路', '丰台科技园'),\n",
       " ('丰台科技园', '郭公庄'),\n",
       " ('巴沟', '苏州街'),\n",
       " ('苏州街', '海淀黄庄'),\n",
       " ('海淀黄庄', '知春里'),\n",
       " ('知春里', '知春路'),\n",
       " ('知春路', '西土城'),\n",
       " ('西土城', '牡丹园'),\n",
       " ('牡丹园', '健德门'),\n",
       " ('健德门', '北土城'),\n",
       " ('北土城', '安贞门'),\n",
       " ('安贞门', '惠新西街南口'),\n",
       " ('惠新西街南口', '芍药居'),\n",
       " ('芍药居', '太阳宫'),\n",
       " ('太阳宫', '三元桥'),\n",
       " ('三元桥', '亮马桥'),\n",
       " ('亮马桥', '农业展览馆'),\n",
       " ('农业展览馆', '团结湖'),\n",
       " ('团结湖', '呼家楼'),\n",
       " ('呼家楼', '金台夕照'),\n",
       " ('金台夕照', '国贸'),\n",
       " ('国贸', '双井'),\n",
       " ('双井', '劲松'),\n",
       " ('劲松', '潘家园'),\n",
       " ('潘家园', '十里河'),\n",
       " ('十里河', '分钟寺'),\n",
       " ('分钟寺', '成寿寺'),\n",
       " ('成寿寺', '宋家庄'),\n",
       " ('宋家庄', '石榴庄'),\n",
       " ('石榴庄', '大红门'),\n",
       " ('大红门', '角门东'),\n",
       " ('角门东', '角门西'),\n",
       " ('角门西', '草桥'),\n",
       " ('草桥', '纪家庙'),\n",
       " ('纪家庙', '首经贸'),\n",
       " ('首经贸', '丰台站'),\n",
       " ('丰台站', '泥洼'),\n",
       " ('泥洼', '西局'),\n",
       " ('西局', '六里桥'),\n",
       " ('六里桥', '莲花桥'),\n",
       " ('莲花桥', '公主坟'),\n",
       " ('公主坟', '西钓鱼台'),\n",
       " ('西钓鱼台', '慈寿寺'),\n",
       " ('慈寿寺', '车道沟'),\n",
       " ('车道沟', '长春桥'),\n",
       " ('长春桥', '火器营'),\n",
       " ('火器营', '巴沟'),\n",
       " ('西直门', '大钟寺'),\n",
       " ('大钟寺', '知春路'),\n",
       " ('知春路', '五道口'),\n",
       " ('五道口', '上地'),\n",
       " ('上地', '西二旗'),\n",
       " ('西二旗', '龙泽'),\n",
       " ('龙泽', '回龙观'),\n",
       " ('回龙观', '霍营'),\n",
       " ('霍营', '立水桥'),\n",
       " ('立水桥', '北苑'),\n",
       " ('北苑', '望京西'),\n",
       " ('望京西', '芍药居'),\n",
       " ('芍药居', '光熙门'),\n",
       " ('光熙门', '柳芳'),\n",
       " ('柳芳', '东直门'),\n",
       " ('张郭庄', '园博园'),\n",
       " ('园博园', '大瓦窑'),\n",
       " ('大瓦窑', '郭庄子'),\n",
       " ('郭庄子', '大井'),\n",
       " ('大井', '七里庄'),\n",
       " ('七里庄', '西局'),\n",
       " ('北京南站', '陶然桥'),\n",
       " ('陶然桥', '永定门外'),\n",
       " ('永定门外', '景泰'),\n",
       " ('景泰', '蒲黄榆'),\n",
       " ('蒲黄榆', '方庄'),\n",
       " ('方庄', '十里河'),\n",
       " ('十里河', '南八里庄'),\n",
       " ('南八里庄', '北工大西门'),\n",
       " ('北工大西门', '平乐园'),\n",
       " ('平乐园', '九龙山'),\n",
       " ('九龙山', '大望路'),\n",
       " ('大望路', '红庙'),\n",
       " ('红庙', '金台路'),\n",
       " ('金台路', '朝阳公园'),\n",
       " ('朝阳公园', '枣营'),\n",
       " ('枣营', '东风北桥'),\n",
       " ('东风北桥', '将台'),\n",
       " ('将台', '高家园'),\n",
       " ('高家园', '望京南'),\n",
       " ('望京南', '阜通'),\n",
       " ('阜通', '望京'),\n",
       " ('望京', '东湖渠'),\n",
       " ('东湖渠', '来广营'),\n",
       " ('来广营', '善各庄'),\n",
       " ('清华东路西口', '六道口'),\n",
       " ('六道口', '北沙滩'),\n",
       " ('北沙滩', '奥林匹克公园'),\n",
       " ('奥林匹克公园', '安立路'),\n",
       " ('安立路', '大屯路东'),\n",
       " ('大屯路东', '关庄'),\n",
       " ('关庄', '望京西'),\n",
       " ('望京西', '望京'),\n",
       " ('望京', '望京东'),\n",
       " ('望京东', '崔各庄'),\n",
       " ('崔各庄', '马泉营'),\n",
       " ('马泉营', '孙河'),\n",
       " ('孙河', '国展'),\n",
       " ('国展', '花梨坎'),\n",
       " ('花梨坎', '后沙峪'),\n",
       " ('后沙峪', '南法信'),\n",
       " ('南法信', '石门'),\n",
       " ('石门', '顺义'),\n",
       " ('顺义', '俸伯'),\n",
       " ('四惠', '四惠东'),\n",
       " ('四惠东', '高碑店'),\n",
       " ('高碑店', '传媒大学'),\n",
       " ('传媒大学', '双桥'),\n",
       " ('双桥', '管庄'),\n",
       " ('管庄', '八里桥'),\n",
       " ('八里桥', '通州北苑'),\n",
       " ('通州北苑', '果园'),\n",
       " ('果园', '九棵树'),\n",
       " ('九棵树', '梨园'),\n",
       " ('梨园', '临河里'),\n",
       " ('临河里', '土桥'),\n",
       " ('昌平西山口', '十三陵景区'),\n",
       " ('十三陵景区', '昌平'),\n",
       " ('昌平', '昌平东关'),\n",
       " ('昌平东关', '北邵洼'),\n",
       " ('北邵洼', '南邵'),\n",
       " ('南邵', '沙河高教园'),\n",
       " ('沙河高教园', '沙河'),\n",
       " ('沙河', '巩华城'),\n",
       " ('巩华城', '朱辛庄'),\n",
       " ('朱辛庄', '生命科学园'),\n",
       " ('生命科学园', '西二旗'),\n",
       " ('宋家庄', '肖村'),\n",
       " ('肖村', '小红门'),\n",
       " ('小红门', '旧宫'),\n",
       " ('旧宫', '亦庄桥'),\n",
       " ('亦庄桥', '亦庄文化园'),\n",
       " ('亦庄文化园', '万源街'),\n",
       " ('万源街', '荣京东街'),\n",
       " ('荣京东街', '荣昌东街'),\n",
       " ('荣昌东街', '同济南路'),\n",
       " ('同济南路', '经海路'),\n",
       " ('经海路', '次渠南'),\n",
       " ('次渠南', '次渠'),\n",
       " ('公益西桥', '新宫'),\n",
       " ('新宫', '西红门'),\n",
       " ('西红门', '高米店北'),\n",
       " ('高米店北', '高米店南'),\n",
       " ('高米店南', '枣园'),\n",
       " ('枣园', '清源路'),\n",
       " ('清源路', '黄村西大街'),\n",
       " ('黄村西大街', '黄村火车站'),\n",
       " ('黄村火车站', '义和庄'),\n",
       " ('义和庄', '生物医药基地'),\n",
       " ('生物医药基地', '天宫院'),\n",
       " ('郭公庄', '大葆台'),\n",
       " ('大葆台', '稻田'),\n",
       " ('稻田', '长阳'),\n",
       " ('长阳', '篱笆房'),\n",
       " ('篱笆房', '广阳城'),\n",
       " ('广阳城', '良乡大学城北'),\n",
       " ('良乡大学城北', '良乡大学城'),\n",
       " ('良乡大学城', '良乡大学城西'),\n",
       " ('良乡大学城西', '良乡南关'),\n",
       " ('良乡南关', '苏庄'),\n",
       " ('东直门', '三元桥'),\n",
       " ('三元桥', 'T3航站楼'),\n",
       " ('T3航站楼', 'T2航站楼'),\n",
       " ('T2航站楼', '三元桥')]"
      ]
     },
     "execution_count": 64,
     "metadata": {},
     "output_type": "execute_result"
    }
   ],
   "source": [
    "subway_station = pattern.findall(response.text)\n",
    "subway_station"
   ]
  },
  {
   "cell_type": "code",
   "execution_count": 79,
   "metadata": {},
   "outputs": [],
   "source": [
    "subway_station_connection = defaultdict(list)\n",
    "for s1 in subway_station:\n",
    "    subway_station_connection[s1[0]].append(s1[1])\n",
    "    subway_station_connection[s1[1]].append(s1[0])"
   ]
  },
  {
   "cell_type": "code",
   "execution_count": 80,
   "metadata": {},
   "outputs": [
    {
     "data": {
      "text/plain": [
       "defaultdict(list,\n",
       "            {'苹果园': ['古城'],\n",
       "             '古城': ['苹果园', '八角游乐园'],\n",
       "             '八角游乐园': ['古城', '八宝山'],\n",
       "             '八宝山': ['八角游乐园', '玉泉路'],\n",
       "             '玉泉路': ['八宝山', '五棵松'],\n",
       "             '五棵松': ['玉泉路', '万寿路'],\n",
       "             '万寿路': ['五棵松', '公主坟'],\n",
       "             '公主坟': ['万寿路', '军事博物馆', '莲花桥', '西钓鱼台'],\n",
       "             '军事博物馆': ['公主坟', '木樨地', '白堆子', '北京西站'],\n",
       "             '木樨地': ['军事博物馆', '南礼士路'],\n",
       "             '南礼士路': ['木樨地', '复兴门'],\n",
       "             '复兴门': ['南礼士路', '西单', '阜成门', '长椿街'],\n",
       "             '西单': ['复兴门', '天安门西', '灵境胡同', '宣武门'],\n",
       "             '天安门西': ['西单', '天安门东'],\n",
       "             '天安门东': ['天安门西', '王府井'],\n",
       "             '王府井': ['天安门东', '东单'],\n",
       "             '东单': ['王府井', '建国门', '灯市口', '崇文门'],\n",
       "             '建国门': ['东单', '永安里', '北京站', '朝阳门'],\n",
       "             '永安里': ['建国门', '国贸'],\n",
       "             '国贸': ['永安里', '大望路', '金台夕照', '双井'],\n",
       "             '大望路': ['国贸', '四惠', '九龙山', '红庙'],\n",
       "             '四惠': ['大望路', '四惠东', '四惠东'],\n",
       "             '四惠东': ['四惠', '四惠', '高碑店'],\n",
       "             '西直门': ['车公庄', '积水潭', '动物园', '新街口', '大钟寺'],\n",
       "             '车公庄': ['西直门', '阜成门', '车公庄西', '平安里'],\n",
       "             '阜成门': ['车公庄', '复兴门'],\n",
       "             '长椿街': ['复兴门', '宣武门'],\n",
       "             '宣武门': ['长椿街', '和平门', '西单', '菜市口'],\n",
       "             '和平门': ['宣武门', '前门'],\n",
       "             '前门': ['和平门', '崇文门'],\n",
       "             '崇文门': ['前门', '北京站', '东单', '磁器口'],\n",
       "             '北京站': ['崇文门', '建国门'],\n",
       "             '朝阳门': ['建国门', '东四十条', '东四', '东大桥'],\n",
       "             '东四十条': ['朝阳门', '东直门'],\n",
       "             '东直门': ['东四十条', '雍和宫', '柳芳', '三元桥'],\n",
       "             '雍和宫': ['东直门', '安定门', '和平里北街', '北新桥'],\n",
       "             '安定门': ['雍和宫', '鼓楼大街'],\n",
       "             '鼓楼大街': ['安定门', '积水潭', '安德里北街', '什刹海'],\n",
       "             '积水潭': ['鼓楼大街', '西直门'],\n",
       "             '安河桥北': ['北宫门'],\n",
       "             '北宫门': ['安河桥北', '西苑'],\n",
       "             '西苑': ['北宫门', '圆明园'],\n",
       "             '圆明园': ['西苑', '北京大学东门'],\n",
       "             '北京大学东门': ['圆明园', '中关村'],\n",
       "             '中关村': ['北京大学东门', '海淀黄庄'],\n",
       "             '海淀黄庄': ['中关村', '人民大学', '苏州街', '知春里'],\n",
       "             '人民大学': ['海淀黄庄', '魏公村'],\n",
       "             '魏公村': ['人民大学', '国家图书馆'],\n",
       "             '国家图书馆': ['魏公村', '动物园', '白石桥南'],\n",
       "             '动物园': ['国家图书馆', '西直门'],\n",
       "             '新街口': ['西直门', '平安里'],\n",
       "             '平安里': ['新街口', '西四', '车公庄', '北海北'],\n",
       "             '西四': ['平安里', '灵境胡同'],\n",
       "             '灵境胡同': ['西四', '西单'],\n",
       "             '菜市口': ['宣武门', '陶然亭', '广安门内', '虎坊桥'],\n",
       "             '陶然亭': ['菜市口', '北京南站'],\n",
       "             '北京南站': ['陶然亭', '马家堡', '陶然桥'],\n",
       "             '马家堡': ['北京南站', '角门西'],\n",
       "             '角门西': ['马家堡', '公益西桥', '角门东', '草桥'],\n",
       "             '公益西桥': ['角门西', '新宫'],\n",
       "             '天通苑北': ['天通苑'],\n",
       "             '天通苑': ['天通苑北', '天通苑南'],\n",
       "             '天通苑南': ['天通苑', '立水桥'],\n",
       "             '立水桥': ['天通苑南', '立水桥南', '霍营', '北苑'],\n",
       "             '立水桥南': ['立水桥', '北苑路北'],\n",
       "             '北苑路北': ['立水桥南', '大屯路东'],\n",
       "             '大屯路东': ['北苑路北', '惠新西街北口', '安立路', '关庄'],\n",
       "             '惠新西街北口': ['大屯路东', '惠新西街南口'],\n",
       "             '惠新西街南口': ['惠新西街北口', '和平西桥', '安贞门', '芍药居'],\n",
       "             '和平西桥': ['惠新西街南口', '和平里北街'],\n",
       "             '和平里北街': ['和平西桥', '雍和宫'],\n",
       "             '北新桥': ['雍和宫', '张自忠路'],\n",
       "             '张自忠路': ['北新桥', '东四'],\n",
       "             '东四': ['张自忠路', '灯市口', '南锣鼓巷', '朝阳门'],\n",
       "             '灯市口': ['东四', '东单'],\n",
       "             '磁器口': ['崇文门', '天坛东门', '桥湾', '广渠门内'],\n",
       "             '天坛东门': ['磁器口', '蒲黄榆'],\n",
       "             '蒲黄榆': ['天坛东门', '刘家窑', '景泰', '方庄'],\n",
       "             '刘家窑': ['蒲黄榆', '宋家庄'],\n",
       "             '宋家庄': ['刘家窑', '成寿寺', '石榴庄', '肖村'],\n",
       "             '海淀五路居': ['慈寿寺'],\n",
       "             '慈寿寺': ['海淀五路居', '花园桥', '西钓鱼台', '车道沟'],\n",
       "             '花园桥': ['慈寿寺', '白石桥南'],\n",
       "             '白石桥南': ['花园桥', '车公庄西', '国家图书馆', '白堆子'],\n",
       "             '车公庄西': ['白石桥南', '车公庄'],\n",
       "             '北海北': ['平安里', '南锣鼓巷'],\n",
       "             '南锣鼓巷': ['北海北', '东四', '什刹海'],\n",
       "             '东大桥': ['朝阳门', '呼家楼'],\n",
       "             '呼家楼': ['东大桥', '金台路', '团结湖', '金台夕照'],\n",
       "             '金台路': ['呼家楼', '十里堡', '红庙', '朝阳公园'],\n",
       "             '十里堡': ['金台路', '青年路'],\n",
       "             '青年路': ['十里堡', '褡裢坡'],\n",
       "             '褡裢坡': ['青年路', '黄渠'],\n",
       "             '黄渠': ['褡裢坡', '常营'],\n",
       "             '常营': ['黄渠', '草房'],\n",
       "             '草房': ['常营', '物资学院路'],\n",
       "             '物资学院路': ['草房', '通州北关'],\n",
       "             '通州北关': ['物资学院路', '通运门'],\n",
       "             '通运门': ['通州北关', '北运河西'],\n",
       "             '北运河西': ['通运门', '北运河东'],\n",
       "             '北运河东': ['北运河西', '郝家府'],\n",
       "             '郝家府': ['北运河东', '东夏园'],\n",
       "             '东夏园': ['郝家府', '潞城'],\n",
       "             '潞城': ['东夏园'],\n",
       "             '北京西站': ['湾子', '军事博物馆', '六里桥东'],\n",
       "             '湾子': ['北京西站', '达官营'],\n",
       "             '达官营': ['湾子', '广安门内'],\n",
       "             '广安门内': ['达官营', '菜市口'],\n",
       "             '虎坊桥': ['菜市口', '珠市口'],\n",
       "             '珠市口': ['虎坊桥', '桥湾'],\n",
       "             '桥湾': ['珠市口', '磁器口'],\n",
       "             '广渠门内': ['磁器口', '广渠门外'],\n",
       "             '广渠门外': ['广渠门内', '双井'],\n",
       "             '双井': ['广渠门外', '九龙山', '国贸', '劲松'],\n",
       "             '九龙山': ['双井', '大郊亭', '平乐园', '大望路'],\n",
       "             '大郊亭': ['九龙山', '百子湾'],\n",
       "             '百子湾': ['大郊亭', '化工'],\n",
       "             '化工': ['百子湾', '南楼梓庄'],\n",
       "             '南楼梓庄': ['化工', '欢乐谷景区'],\n",
       "             '欢乐谷景区': ['南楼梓庄', '垡头'],\n",
       "             '垡头': ['欢乐谷景区', '双合'],\n",
       "             '双合': ['垡头', '焦化厂'],\n",
       "             '焦化厂': ['双合'],\n",
       "             '朱辛庄': ['育知路', '巩华城', '生命科学园'],\n",
       "             '育知路': ['朱辛庄', '平西府'],\n",
       "             '平西府': ['育知路', '回龙观东大街'],\n",
       "             '回龙观东大街': ['平西府', '霍营'],\n",
       "             '霍营': ['回龙观东大街', '育新', '回龙观', '立水桥'],\n",
       "             '育新': ['霍营', '西小口'],\n",
       "             '西小口': ['育新', '永泰庄'],\n",
       "             '永泰庄': ['西小口', '林萃桥'],\n",
       "             '林萃桥': ['永泰庄', '森林公园南门'],\n",
       "             '森林公园南门': ['林萃桥', '奥林匹克公园'],\n",
       "             '奥林匹克公园': ['森林公园南门', '奥体中心', '北沙滩', '安立路'],\n",
       "             '奥体中心': ['奥林匹克公园', '北土城'],\n",
       "             '北土城': ['奥体中心', '安华桥', '健德门', '安贞门'],\n",
       "             '安华桥': ['北土城', '安德里北街'],\n",
       "             '安德里北街': ['安华桥', '鼓楼大街'],\n",
       "             '什刹海': ['鼓楼大街', '南锣鼓巷'],\n",
       "             '白堆子': ['白石桥南', '军事博物馆'],\n",
       "             '六里桥东': ['北京西站', '六里桥'],\n",
       "             '六里桥': ['六里桥东', '七里庄', '西局', '莲花桥'],\n",
       "             '七里庄': ['六里桥', '丰台东大街', '大井', '西局'],\n",
       "             '丰台东大街': ['七里庄', '丰台南路'],\n",
       "             '丰台南路': ['丰台东大街', '科怡路'],\n",
       "             '科怡路': ['丰台南路', '丰台科技园'],\n",
       "             '丰台科技园': ['科怡路', '郭公庄'],\n",
       "             '郭公庄': ['丰台科技园', '大葆台'],\n",
       "             '巴沟': ['苏州街', '火器营'],\n",
       "             '苏州街': ['巴沟', '海淀黄庄'],\n",
       "             '知春里': ['海淀黄庄', '知春路'],\n",
       "             '知春路': ['知春里', '西土城', '大钟寺', '五道口'],\n",
       "             '西土城': ['知春路', '牡丹园'],\n",
       "             '牡丹园': ['西土城', '健德门'],\n",
       "             '健德门': ['牡丹园', '北土城'],\n",
       "             '安贞门': ['北土城', '惠新西街南口'],\n",
       "             '芍药居': ['惠新西街南口', '太阳宫', '望京西', '光熙门'],\n",
       "             '太阳宫': ['芍药居', '三元桥'],\n",
       "             '三元桥': ['太阳宫', '亮马桥', '东直门', 'T3航站楼', 'T2航站楼'],\n",
       "             '亮马桥': ['三元桥', '农业展览馆'],\n",
       "             '农业展览馆': ['亮马桥', '团结湖'],\n",
       "             '团结湖': ['农业展览馆', '呼家楼'],\n",
       "             '金台夕照': ['呼家楼', '国贸'],\n",
       "             '劲松': ['双井', '潘家园'],\n",
       "             '潘家园': ['劲松', '十里河'],\n",
       "             '十里河': ['潘家园', '分钟寺', '方庄', '南八里庄'],\n",
       "             '分钟寺': ['十里河', '成寿寺'],\n",
       "             '成寿寺': ['分钟寺', '宋家庄'],\n",
       "             '石榴庄': ['宋家庄', '大红门'],\n",
       "             '大红门': ['石榴庄', '角门东'],\n",
       "             '角门东': ['大红门', '角门西'],\n",
       "             '草桥': ['角门西', '纪家庙'],\n",
       "             '纪家庙': ['草桥', '首经贸'],\n",
       "             '首经贸': ['纪家庙', '丰台站'],\n",
       "             '丰台站': ['首经贸', '泥洼'],\n",
       "             '泥洼': ['丰台站', '西局'],\n",
       "             '西局': ['泥洼', '六里桥', '七里庄'],\n",
       "             '莲花桥': ['六里桥', '公主坟'],\n",
       "             '西钓鱼台': ['公主坟', '慈寿寺'],\n",
       "             '车道沟': ['慈寿寺', '长春桥'],\n",
       "             '长春桥': ['车道沟', '火器营'],\n",
       "             '火器营': ['长春桥', '巴沟'],\n",
       "             '大钟寺': ['西直门', '知春路'],\n",
       "             '五道口': ['知春路', '上地'],\n",
       "             '上地': ['五道口', '西二旗'],\n",
       "             '西二旗': ['上地', '龙泽', '生命科学园'],\n",
       "             '龙泽': ['西二旗', '回龙观'],\n",
       "             '回龙观': ['龙泽', '霍营'],\n",
       "             '北苑': ['立水桥', '望京西'],\n",
       "             '望京西': ['北苑', '芍药居', '关庄', '望京'],\n",
       "             '光熙门': ['芍药居', '柳芳'],\n",
       "             '柳芳': ['光熙门', '东直门'],\n",
       "             '张郭庄': ['园博园'],\n",
       "             '园博园': ['张郭庄', '大瓦窑'],\n",
       "             '大瓦窑': ['园博园', '郭庄子'],\n",
       "             '郭庄子': ['大瓦窑', '大井'],\n",
       "             '大井': ['郭庄子', '七里庄'],\n",
       "             '陶然桥': ['北京南站', '永定门外'],\n",
       "             '永定门外': ['陶然桥', '景泰'],\n",
       "             '景泰': ['永定门外', '蒲黄榆'],\n",
       "             '方庄': ['蒲黄榆', '十里河'],\n",
       "             '南八里庄': ['十里河', '北工大西门'],\n",
       "             '北工大西门': ['南八里庄', '平乐园'],\n",
       "             '平乐园': ['北工大西门', '九龙山'],\n",
       "             '红庙': ['大望路', '金台路'],\n",
       "             '朝阳公园': ['金台路', '枣营'],\n",
       "             '枣营': ['朝阳公园', '东风北桥'],\n",
       "             '东风北桥': ['枣营', '将台'],\n",
       "             '将台': ['东风北桥', '高家园'],\n",
       "             '高家园': ['将台', '望京南'],\n",
       "             '望京南': ['高家园', '阜通'],\n",
       "             '阜通': ['望京南', '望京'],\n",
       "             '望京': ['阜通', '东湖渠', '望京西', '望京东'],\n",
       "             '东湖渠': ['望京', '来广营'],\n",
       "             '来广营': ['东湖渠', '善各庄'],\n",
       "             '善各庄': ['来广营'],\n",
       "             '清华东路西口': ['六道口'],\n",
       "             '六道口': ['清华东路西口', '北沙滩'],\n",
       "             '北沙滩': ['六道口', '奥林匹克公园'],\n",
       "             '安立路': ['奥林匹克公园', '大屯路东'],\n",
       "             '关庄': ['大屯路东', '望京西'],\n",
       "             '望京东': ['望京', '崔各庄'],\n",
       "             '崔各庄': ['望京东', '马泉营'],\n",
       "             '马泉营': ['崔各庄', '孙河'],\n",
       "             '孙河': ['马泉营', '国展'],\n",
       "             '国展': ['孙河', '花梨坎'],\n",
       "             '花梨坎': ['国展', '后沙峪'],\n",
       "             '后沙峪': ['花梨坎', '南法信'],\n",
       "             '南法信': ['后沙峪', '石门'],\n",
       "             '石门': ['南法信', '顺义'],\n",
       "             '顺义': ['石门', '俸伯'],\n",
       "             '俸伯': ['顺义'],\n",
       "             '高碑店': ['四惠东', '传媒大学'],\n",
       "             '传媒大学': ['高碑店', '双桥'],\n",
       "             '双桥': ['传媒大学', '管庄'],\n",
       "             '管庄': ['双桥', '八里桥'],\n",
       "             '八里桥': ['管庄', '通州北苑'],\n",
       "             '通州北苑': ['八里桥', '果园'],\n",
       "             '果园': ['通州北苑', '九棵树'],\n",
       "             '九棵树': ['果园', '梨园'],\n",
       "             '梨园': ['九棵树', '临河里'],\n",
       "             '临河里': ['梨园', '土桥'],\n",
       "             '土桥': ['临河里'],\n",
       "             '昌平西山口': ['十三陵景区'],\n",
       "             '十三陵景区': ['昌平西山口', '昌平'],\n",
       "             '昌平': ['十三陵景区', '昌平东关'],\n",
       "             '昌平东关': ['昌平', '北邵洼'],\n",
       "             '北邵洼': ['昌平东关', '南邵'],\n",
       "             '南邵': ['北邵洼', '沙河高教园'],\n",
       "             '沙河高教园': ['南邵', '沙河'],\n",
       "             '沙河': ['沙河高教园', '巩华城'],\n",
       "             '巩华城': ['沙河', '朱辛庄'],\n",
       "             '生命科学园': ['朱辛庄', '西二旗'],\n",
       "             '肖村': ['宋家庄', '小红门'],\n",
       "             '小红门': ['肖村', '旧宫'],\n",
       "             '旧宫': ['小红门', '亦庄桥'],\n",
       "             '亦庄桥': ['旧宫', '亦庄文化园'],\n",
       "             '亦庄文化园': ['亦庄桥', '万源街'],\n",
       "             '万源街': ['亦庄文化园', '荣京东街'],\n",
       "             '荣京东街': ['万源街', '荣昌东街'],\n",
       "             '荣昌东街': ['荣京东街', '同济南路'],\n",
       "             '同济南路': ['荣昌东街', '经海路'],\n",
       "             '经海路': ['同济南路', '次渠南'],\n",
       "             '次渠南': ['经海路', '次渠'],\n",
       "             '次渠': ['次渠南'],\n",
       "             '新宫': ['公益西桥', '西红门'],\n",
       "             '西红门': ['新宫', '高米店北'],\n",
       "             '高米店北': ['西红门', '高米店南'],\n",
       "             '高米店南': ['高米店北', '枣园'],\n",
       "             '枣园': ['高米店南', '清源路'],\n",
       "             '清源路': ['枣园', '黄村西大街'],\n",
       "             '黄村西大街': ['清源路', '黄村火车站'],\n",
       "             '黄村火车站': ['黄村西大街', '义和庄'],\n",
       "             '义和庄': ['黄村火车站', '生物医药基地'],\n",
       "             '生物医药基地': ['义和庄', '天宫院'],\n",
       "             '天宫院': ['生物医药基地'],\n",
       "             '大葆台': ['郭公庄', '稻田'],\n",
       "             '稻田': ['大葆台', '长阳'],\n",
       "             '长阳': ['稻田', '篱笆房'],\n",
       "             '篱笆房': ['长阳', '广阳城'],\n",
       "             '广阳城': ['篱笆房', '良乡大学城北'],\n",
       "             '良乡大学城北': ['广阳城', '良乡大学城'],\n",
       "             '良乡大学城': ['良乡大学城北', '良乡大学城西'],\n",
       "             '良乡大学城西': ['良乡大学城', '良乡南关'],\n",
       "             '良乡南关': ['良乡大学城西', '苏庄'],\n",
       "             '苏庄': ['良乡南关'],\n",
       "             'T3航站楼': ['三元桥', 'T2航站楼'],\n",
       "             'T2航站楼': ['T3航站楼', '三元桥']})"
      ]
     },
     "execution_count": 80,
     "metadata": {},
     "output_type": "execute_result"
    }
   ],
   "source": [
    "subway_station_connection"
   ]
  },
  {
   "cell_type": "code",
   "execution_count": 81,
   "metadata": {},
   "outputs": [
    {
     "data": {
      "text/plain": [
       "['天安门东', '东单']"
      ]
     },
     "execution_count": 81,
     "metadata": {},
     "output_type": "execute_result"
    }
   ],
   "source": [
    "subway_station_connection['王府井']"
   ]
  },
  {
   "cell_type": "markdown",
   "metadata": {},
   "source": [
    "# search"
   ]
  },
  {
   "cell_type": "code",
   "execution_count": 85,
   "metadata": {},
   "outputs": [],
   "source": [
    "def search(start, destination, connection_grpah, sort_candidate):\n",
    "    pathes = [[start]]##[[起始，目的地]]\n",
    "    \n",
    "    visitied = set()\n",
    "    \n",
    "    while pathes: # if we find existing pathes\n",
    "        path = pathes.pop(0)\n",
    "        froninter = path[-1]\n",
    "        \n",
    "        if froninter in visitied: continue#找到目的地\n",
    "            \n",
    "        successors = connection_grpah[froninter]\n",
    "        \n",
    "        for city in successors:\n",
    "            if city in path: continue  # eliminate loop，找到起始\n",
    "                \n",
    "            new_path = path + [city]\n",
    "            \n",
    "            pathes.append(new_path)\n",
    "            \n",
    "            if city == destination: return new_path\n",
    "        \n",
    "        visitied.add(froninter)\n",
    "        \n",
    "        #pathes = sort_candidate(pathes) # 我们可以加一个排序函数 对我们的搜索策略进行控制\n",
    "        #print(pathes)"
   ]
  },
  {
   "cell_type": "code",
   "execution_count": 86,
   "metadata": {},
   "outputs": [],
   "source": [
    "def shortest_path_first(pathes):\n",
    "    \n",
    "    if len(pathes) <= 1: return pathes\n",
    "    \n",
    "    def get_path_distnace(path):\n",
    "        distance = 0\n",
    "        for i in range(1, len(path)):\n",
    "            distance += 1#距离默认1\n",
    "        return distance\n",
    "\n",
    "    return sorted(pathes, key=get_path_distnace)# key主要是用来进行比较的元素，只有一个参数，具体的函数的参数就是取自于可迭代对象中，指定可迭代对象中的一个元素来进行排序"
   ]
  },
  {
   "cell_type": "code",
   "execution_count": 88,
   "metadata": {},
   "outputs": [
    {
     "name": "stdout",
     "output_type": "stream",
     "text": [
      "五道口🚗->上地🚗->西二旗🚗->生命科学园\n"
     ]
    }
   ],
   "source": [
    "pretty_print(search('五道口', '生命科学园', subway_station_connection, sort_candidate=shortest_path_first))"
   ]
  },
  {
   "cell_type": "markdown",
   "metadata": {},
   "source": [
    "# Machine Learning"
   ]
  },
  {
   "cell_type": "code",
   "execution_count": 35,
   "metadata": {},
   "outputs": [],
   "source": [
    "from sklearn.datasets import load_boston#boston数据"
   ]
  },
  {
   "cell_type": "code",
   "execution_count": 36,
   "metadata": {},
   "outputs": [],
   "source": [
    "dataset = load_boston()"
   ]
  },
  {
   "cell_type": "code",
   "execution_count": 54,
   "metadata": {},
   "outputs": [],
   "source": [
    "x = dataset[\"data\"]"
   ]
  },
  {
   "cell_type": "code",
   "execution_count": 55,
   "metadata": {},
   "outputs": [
    {
     "data": {
      "text/plain": [
       "array([6.320e-03, 1.800e+01, 2.310e+00, 0.000e+00, 5.380e-01, 6.575e+00,\n",
       "       6.520e+01, 4.090e+00, 1.000e+00, 2.960e+02, 1.530e+01, 3.969e+02,\n",
       "       4.980e+00])"
      ]
     },
     "execution_count": 55,
     "metadata": {},
     "output_type": "execute_result"
    }
   ],
   "source": [
    "x[0]"
   ]
  },
  {
   "cell_type": "code",
   "execution_count": 58,
   "metadata": {},
   "outputs": [],
   "source": [
    "y = dataset[\"target\"]"
   ]
  },
  {
   "cell_type": "code",
   "execution_count": 64,
   "metadata": {},
   "outputs": [
    {
     "data": {
      "text/plain": [
       "<matplotlib.collections.PathCollection at 0x20c7293f9b0>"
      ]
     },
     "execution_count": 64,
     "metadata": {},
     "output_type": "execute_result"
    },
    {
     "data": {
      "image/png": "[encoded data removed]",
      "text/plain": [
       "<Figure size 432x288 with 1 Axes>"
      ]
     },
     "metadata": {
      "needs_background": "light"
     },
     "output_type": "display_data"
    }
   ],
   "source": [
    "plt.scatter(x[0:20,5], y[0:20])"
   ]
  },
  {
   "cell_type": "code",
   "execution_count": 81,
   "metadata": {},
   "outputs": [],
   "source": [
    "def draw_rm_and_price():\n",
    "    plt.scatter(x[:,5], y)"
   ]
  },
  {
   "cell_type": "code",
   "execution_count": 82,
   "metadata": {},
   "outputs": [
    {
     "data": {
      "image/png": "[encoded data removed]",
      "text/plain": [
       "<Figure size 432x288 with 1 Axes>"
      ]
     },
     "metadata": {
      "needs_background": "light"
     },
     "output_type": "display_data"
    }
   ],
   "source": [
    "draw_rm_and_price()"
   ]
  },
  {
   "cell_type": "code",
   "execution_count": 68,
   "metadata": {},
   "outputs": [],
   "source": [
    "room_num = x[:, 5]\n",
    "price = y"
   ]
  },
  {
   "cell_type": "code",
   "execution_count": 106,
   "metadata": {},
   "outputs": [],
   "source": [
    "import random\n",
    "import numpy as np"
   ]
  },
  {
   "cell_type": "code",
   "execution_count": 107,
   "metadata": {},
   "outputs": [],
   "source": [
    "def func(age, k, b): return k * age + b"
   ]
  },
  {
   "cell_type": "code",
   "execution_count": null,
   "metadata": {},
   "outputs": [],
   "source": [
    "def loss(y,yhat):#**2,平方\n",
    "    return np.sum((y_i - yhat_i)**2 for y_i,yhat_i in zip(y,yhat))/len(list(y))#zip() 函数用于将可迭代的对象作为参数，将对象中对应的元素打包成一个个元组，然后返回由这些元组组成的列表。"
   ]
  },
  {
   "cell_type": "code",
   "execution_count": 132,
   "metadata": {},
   "outputs": [
    {
     "name": "stderr",
     "output_type": "stream",
     "text": [
      "D:\\Anaconda3\\lib\\site-packages\\ipykernel_launcher.py:2: DeprecationWarning: Calling np.sum(generator) is deprecated, and in the future will give a different result. Use np.sum(np.fromiter(generator)) or the python sum builtin instead.\n",
      "  \n"
     ]
    },
    {
     "name": "stdout",
     "output_type": "stream",
     "text": [
      "best_k:-90 best_b:-77,and min_loss:447306.8636535574\n",
      "best_k:99 best_b:19,and min_loss:386748.2522609626\n",
      "best_k:-82 best_b:-46,and min_loss:345040.2479826638\n",
      "best_k:23 best_b:7,and min_loss:16783.321923049414\n",
      "best_k:4 best_b:-100,and min_loss:9542.069745359679\n",
      "best_k:-20 best_b:69,and min_loss:6737.559175494074\n",
      "best_k:16 best_b:-48,and min_loss:968.3245218023712\n",
      "best_k:3 best_b:9,and min_loss:90.26049134980238\n",
      "best_k:15 best_b:-72,and min_loss:60.80833512845851\n"
     ]
    }
   ],
   "source": [
    "min_loss = float(\"inf\")#\n",
    "for i in  range(1000):\n",
    "    k = random.randint(-100,100)\n",
    "    b = random.randint(-100,100)\n",
    "    price_by_random_k_and_b = [func(r,k,b) for r in room_num]\n",
    "    #draw_rm_and_price()\n",
    "    #plt.scatter(room_num,price_by_random_k_and_b)\n",
    "    current_loss =loss(y,price_by_random_k_and_b)\n",
    "    if current_loss < min_loss:\n",
    "        best_k = k\n",
    "        best_b = b\n",
    "        min_loss = current_loss        \n",
    "        print(\"best_k:{} best_b:{},and min_loss:{}\".format(best_k,best_b,min_loss))"
   ]
  },
  {
   "cell_type": "code",
   "execution_count": 141,
   "metadata": {},
   "outputs": [
    {
     "data": {
      "text/plain": [
       "<matplotlib.collections.PathCollection at 0x20c73800d68>"
      ]
     },
     "execution_count": 141,
     "metadata": {},
     "output_type": "execute_result"
    },
    {
     "data": {
      "image/png": "[encoded data removed]",
      "text/plain": [
       "<Figure size 432x288 with 1 Axes>"
      ]
     },
     "metadata": {
      "needs_background": "light"
     },
     "output_type": "display_data"
    }
   ],
   "source": [
    "price_by_random_k_and_b = [func(r,4.746301430212446,-6.7024787369638705) for r in room_num]\n",
    "draw_rm_and_price()\n",
    "plt.scatter(room_num,price_by_random_k_and_b)"
   ]
  },
  {
   "cell_type": "code",
   "execution_count": 140,
   "metadata": {},
   "outputs": [
    {
     "name": "stderr",
     "output_type": "stream",
     "text": [
      "D:\\Anaconda3\\lib\\site-packages\\ipykernel_launcher.py:2: DeprecationWarning: Calling np.sum(generator) is deprecated, and in the future will give a different result. Use np.sum(np.fromiter(generator)) or the python sum builtin instead.\n",
      "  \n"
     ]
    },
    {
     "name": "stdout",
     "output_type": "stream",
     "text": [
      "When time is : 0, get best_k: -82.55369856978714 best_b: -94.00247873696281, and the loss is: 407858.72856910515\n",
      "When time is : 2, get best_k: -82.45369856978715 best_b: -93.90247873696282, and the loss is: 406924.56656059413\n",
      "When time is : 3, get best_k: -82.35369856978716 best_b: -93.80247873696283, and the loss is: 405991.47572395136\n",
      "When time is : 4, get best_k: -82.25369856978716 best_b: -93.70247873696283, and the loss is: 405059.45605917554\n",
      "When time is : 5, get best_k: -82.15369856978717 best_b: -93.60247873696284, and the loss is: 404128.507566267\n",
      "When time is : 6, get best_k: -82.05369856978717 best_b: -93.50247873696284, and the loss is: 403198.63024522684\n",
      "When time is : 7, get best_k: -81.95369856978718 best_b: -93.40247873696285, and the loss is: 402269.82409605343\n",
      "When time is : 8, get best_k: -81.85369856978718 best_b: -93.30247873696285, and the loss is: 401342.0891187472\n",
      "When time is : 9, get best_k: -81.75369856978719 best_b: -93.20247873696286, and the loss is: 400415.4253133089\n",
      "When time is : 10, get best_k: -81.6536985697872 best_b: -93.10247873696287, and the loss is: 399489.8326797378\n",
      "When time is : 11, get best_k: -81.5536985697872 best_b: -93.00247873696287, and the loss is: 398565.3112180347\n",
      "When time is : 12, get best_k: -81.4536985697872 best_b: -92.90247873696288, and the loss is: 397641.86092819966\n",
      "When time is : 13, get best_k: -81.35369856978721 best_b: -92.80247873696288, and the loss is: 396719.4818102307\n",
      "When time is : 14, get best_k: -81.25369856978722 best_b: -92.70247873696289, and the loss is: 395798.1738641294\n",
      "When time is : 15, get best_k: -81.15369856978722 best_b: -92.6024787369629, and the loss is: 394877.93708989606\n",
      "When time is : 16, get best_k: -81.05369856978723 best_b: -92.5024787369629, and the loss is: 393958.7714875299\n",
      "When time is : 17, get best_k: -80.95369856978724 best_b: -92.4024787369629, and the loss is: 393040.67705703113\n",
      "When time is : 18, get best_k: -80.85369856978724 best_b: -92.30247873696291, and the loss is: 392123.6537984004\n",
      "When time is : 19, get best_k: -80.75369856978725 best_b: -92.20247873696292, and the loss is: 391207.70171163674\n",
      "When time is : 20, get best_k: -80.65369856978725 best_b: -92.10247873696292, and the loss is: 390292.8207967405\n",
      "When time is : 21, get best_k: -80.55369856978726 best_b: -92.00247873696293, and the loss is: 389379.0110537116\n",
      "When time is : 22, get best_k: -80.45369856978726 best_b: -91.90247873696293, and the loss is: 388466.2724825503\n",
      "When time is : 23, get best_k: -80.35369856978727 best_b: -91.80247873696294, and the loss is: 387554.60508325725\n",
      "When time is : 24, get best_k: -80.25369856978728 best_b: -91.70247873696295, and the loss is: 386644.00885583065\n",
      "When time is : 25, get best_k: -80.15369856978728 best_b: -91.60247873696295, and the loss is: 385734.4838002713\n",
      "When time is : 26, get best_k: -80.05369856978729 best_b: -91.50247873696296, and the loss is: 384826.02991658036\n",
      "When time is : 27, get best_k: -79.95369856978729 best_b: -91.40247873696296, and the loss is: 383918.6472047566\n",
      "When time is : 28, get best_k: -79.8536985697873 best_b: -91.30247873696297, and the loss is: 383012.3356647999\n",
      "When time is : 29, get best_k: -79.7536985697873 best_b: -91.20247873696297, and the loss is: 382107.095296711\n",
      "When time is : 30, get best_k: -79.65369856978731 best_b: -91.10247873696298, and the loss is: 381202.9261004895\n",
      "When time is : 31, get best_k: -79.55369856978731 best_b: -91.00247873696298, and the loss is: 380299.82807613554\n",
      "When time is : 32, get best_k: -79.45369856978732 best_b: -90.90247873696299, and the loss is: 379397.8012236491\n",
      "When time is : 33, get best_k: -79.35369856978733 best_b: -90.802478736963, and the loss is: 378496.8455430303\n",
      "When time is : 34, get best_k: -79.25369856978733 best_b: -90.702478736963, and the loss is: 377596.9610342784\n",
      "When time is : 35, get best_k: -79.15369856978734 best_b: -90.60247873696301, and the loss is: 376698.14769739425\n",
      "When time is : 36, get best_k: -79.05369856978734 best_b: -90.50247873696301, and the loss is: 375800.4055323781\n",
      "When time is : 37, get best_k: -78.95369856978735 best_b: -90.40247873696302, and the loss is: 374903.73453922855\n",
      "When time is : 38, get best_k: -78.85369856978735 best_b: -90.30247873696302, and the loss is: 374008.1347179467\n",
      "When time is : 39, get best_k: -78.75369856978736 best_b: -90.20247873696303, and the loss is: 373113.6060685328\n",
      "When time is : 40, get best_k: -78.65369856978737 best_b: -90.10247873696304, and the loss is: 372220.1485909855\n",
      "When time is : 41, get best_k: -78.55369856978737 best_b: -90.00247873696304, and the loss is: 371327.76228530623\n",
      "When time is : 42, get best_k: -78.45369856978738 best_b: -89.90247873696305, and the loss is: 370436.44715149485\n",
      "When time is : 43, get best_k: -78.35369856978738 best_b: -89.80247873696305, and the loss is: 369546.20318955055\n",
      "When time is : 44, get best_k: -78.25369856978739 best_b: -89.70247873696306, and the loss is: 368657.0303994733\n",
      "When time is : 45, get best_k: -78.1536985697874 best_b: -89.60247873696306, and the loss is: 367768.9287812639\n",
      "When time is : 46, get best_k: -78.0536985697874 best_b: -89.50247873696307, and the loss is: 366881.8983349218\n",
      "When time is : 47, get best_k: -77.9536985697874 best_b: -89.40247873696308, and the loss is: 365995.93906044756\n",
      "When time is : 48, get best_k: -77.85369856978741 best_b: -89.30247873696308, and the loss is: 365111.0509578404\n",
      "When time is : 49, get best_k: -77.75369856978742 best_b: -89.20247873696309, and the loss is: 364227.23402710125\n",
      "When time is : 50, get best_k: -77.65369856978742 best_b: -89.10247873696309, and the loss is: 363344.4882682287\n",
      "When time is : 51, get best_k: -77.55369856978743 best_b: -89.0024787369631, and the loss is: 362462.8136812245\n",
      "When time is : 52, get best_k: -77.45369856978743 best_b: -88.9024787369631, and the loss is: 361582.2102660876\n",
      "When time is : 53, get best_k: -77.35369856978744 best_b: -88.80247873696311, and the loss is: 360702.67802281794\n",
      "When time is : 54, get best_k: -77.25369856978745 best_b: -88.70247873696312, and the loss is: 359824.2169514156\n",
      "When time is : 55, get best_k: -77.15369856978745 best_b: -88.60247873696312, and the loss is: 358946.82705188036\n",
      "When time is : 56, get best_k: -77.05369856978746 best_b: -88.50247873696313, and the loss is: 358070.5083242134\n",
      "When time is : 57, get best_k: -76.95369856978746 best_b: -88.40247873696313, and the loss is: 357195.2607684138\n",
      "When time is : 58, get best_k: -76.85369856978747 best_b: -88.30247873696314, and the loss is: 356321.0843844815\n",
      "When time is : 59, get best_k: -76.75369856978747 best_b: -88.20247873696314, and the loss is: 355447.9791724167\n",
      "When time is : 60, get best_k: -76.65369856978748 best_b: -88.10247873696315, and the loss is: 354575.9451322191\n",
      "When time is : 61, get best_k: -76.55369856978749 best_b: -88.00247873696316, and the loss is: 353704.9822638891\n",
      "When time is : 62, get best_k: -76.45369856978749 best_b: -87.90247873696316, and the loss is: 352835.09056742693\n",
      "When time is : 63, get best_k: -76.3536985697875 best_b: -87.80247873696317, and the loss is: 351966.27004283195\n",
      "When time is : 64, get best_k: -76.2536985697875 best_b: -87.70247873696317, and the loss is: 351098.52069010446\n",
      "When time is : 65, get best_k: -76.15369856978751 best_b: -87.60247873696318, and the loss is: 350231.84250924457\n",
      "When time is : 66, get best_k: -76.05369856978751 best_b: -87.50247873696318, and the loss is: 349366.23550025217\n",
      "When time is : 67, get best_k: -75.95369856978752 best_b: -87.40247873696319, and the loss is: 348501.69966312696\n",
      "When time is : 68, get best_k: -75.85369856978753 best_b: -87.3024787369632, and the loss is: 347638.23499786924\n",
      "When time is : 69, get best_k: -75.75369856978753 best_b: -87.2024787369632, and the loss is: 346775.8415044797\n",
      "When time is : 70, get best_k: -75.65369856978754 best_b: -87.1024787369632, and the loss is: 345914.5191829571\n",
      "When time is : 71, get best_k: -75.55369856978754 best_b: -87.00247873696321, and the loss is: 345054.2680333014\n",
      "When time is : 72, get best_k: -75.45369856978755 best_b: -86.90247873696322, and the loss is: 344195.08805551415\n",
      "When time is : 73, get best_k: -75.35369856978755 best_b: -86.80247873696322, and the loss is: 343336.9792495936\n",
      "When time is : 74, get best_k: -75.25369856978756 best_b: -86.70247873696323, and the loss is: 342479.9416155408\n",
      "When time is : 75, get best_k: -75.15369856978757 best_b: -86.60247873696323, and the loss is: 341623.97515335545\n",
      "When time is : 76, get best_k: -75.05369856978757 best_b: -86.50247873696324, and the loss is: 340769.0798630374\n",
      "When time is : 77, get best_k: -74.95369856978758 best_b: -86.40247873696325, and the loss is: 339915.25574458716\n",
      "When time is : 78, get best_k: -74.85369856978758 best_b: -86.30247873696325, and the loss is: 339062.5027980046\n",
      "When time is : 79, get best_k: -74.75369856978759 best_b: -86.20247873696326, and the loss is: 338210.8210232891\n",
      "When time is : 80, get best_k: -74.6536985697876 best_b: -86.10247873696326, and the loss is: 337360.21042044106\n",
      "When time is : 81, get best_k: -74.5536985697876 best_b: -86.00247873696327, and the loss is: 336510.6709894605\n",
      "When time is : 82, get best_k: -74.4536985697876 best_b: -85.90247873696327, and the loss is: 335662.2027303472\n",
      "When time is : 83, get best_k: -74.35369856978761 best_b: -85.80247873696328, and the loss is: 334814.80564310204\n",
      "When time is : 84, get best_k: -74.25369856978762 best_b: -85.70247873696329, and the loss is: 333968.47972772387\n",
      "When time is : 85, get best_k: -74.15369856978762 best_b: -85.60247873696329, and the loss is: 333123.2249842135\n",
      "When time is : 86, get best_k: -74.05369856978763 best_b: -85.5024787369633, and the loss is: 332279.04141256993\n",
      "When time is : 87, get best_k: -73.95369856978763 best_b: -85.4024787369633, and the loss is: 331435.9290127945\n",
      "When time is : 88, get best_k: -73.85369856978764 best_b: -85.30247873696331, and the loss is: 330593.8877848863\n",
      "When time is : 89, get best_k: -73.75369856978764 best_b: -85.20247873696331, and the loss is: 329752.91772884596\n",
      "When time is : 90, get best_k: -73.65369856978765 best_b: -85.10247873696332, and the loss is: 328913.01884467213\n",
      "When time is : 91, get best_k: -73.55369856978766 best_b: -85.00247873696333, and the loss is: 328074.1911323665\n",
      "When time is : 92, get best_k: -73.45369856978766 best_b: -84.90247873696333, and the loss is: 327236.4345919282\n",
      "When time is : 93, get best_k: -73.35369856978767 best_b: -84.80247873696334, and the loss is: 326399.7492233572\n",
      "When time is : 94, get best_k: -73.25369856978767 best_b: -84.70247873696334, and the loss is: 325564.1350266539\n",
      "When time is : 95, get best_k: -73.15369856978768 best_b: -84.60247873696335, and the loss is: 324729.59200181783\n",
      "When time is : 96, get best_k: -73.05369856978768 best_b: -84.50247873696335, and the loss is: 323896.1201488497\n",
      "When time is : 97, get best_k: -72.95369856978769 best_b: -84.40247873696336, and the loss is: 323063.71946774924\n",
      "When time is : 98, get best_k: -72.8536985697877 best_b: -84.30247873696337, and the loss is: 322232.3899585154\n",
      "When time is : 99, get best_k: -72.7536985697877 best_b: -84.20247873696337, and the loss is: 321402.13162114914\n",
      "When time is : 100, get best_k: -72.65369856978771 best_b: -84.10247873696338, and the loss is: 320572.944455651\n",
      "When time is : 101, get best_k: -72.55369856978771 best_b: -84.00247873696338, and the loss is: 319744.82846201974\n",
      "When time is : 102, get best_k: -72.45369856978772 best_b: -83.90247873696339, and the loss is: 318917.7836402562\n",
      "When time is : 103, get best_k: -72.35369856978772 best_b: -83.8024787369634, and the loss is: 318091.8099903598\n",
      "When time is : 104, get best_k: -72.25369856978773 best_b: -83.7024787369634, and the loss is: 317266.90751233103\n",
      "When time is : 105, get best_k: -72.15369856978774 best_b: -83.6024787369634, and the loss is: 316443.0762061699\n",
      "When time is : 106, get best_k: -72.05369856978774 best_b: -83.50247873696341, and the loss is: 315620.3160718762\n",
      "When time is : 107, get best_k: -71.95369856978775 best_b: -83.40247873696342, and the loss is: 314798.62710944994\n",
      "When time is : 108, get best_k: -71.85369856978775 best_b: -83.30247873696342, and the loss is: 313978.00931889145\n",
      "When time is : 109, get best_k: -71.75369856978776 best_b: -83.20247873696343, and the loss is: 313158.4627001999\n",
      "When time is : 110, get best_k: -71.65369856978776 best_b: -83.10247873696343, and the loss is: 312339.9872533757\n",
      "When time is : 111, get best_k: -71.55369856978777 best_b: -83.00247873696344, and the loss is: 311522.5829784191\n",
      "When time is : 112, get best_k: -71.45369856978778 best_b: -82.90247873696345, and the loss is: 310706.24987533083\n",
      "When time is : 113, get best_k: -71.35369856978778 best_b: -82.80247873696345, and the loss is: 309890.9879441095\n",
      "When time is : 114, get best_k: -71.25369856978779 best_b: -82.70247873696346, and the loss is: 309076.79718475527\n",
      "When time is : 115, get best_k: -71.15369856978779 best_b: -82.60247873696346, and the loss is: 308263.6775972688\n",
      "When time is : 116, get best_k: -71.0536985697878 best_b: -82.50247873696347, and the loss is: 307451.62918164994\n",
      "When time is : 117, get best_k: -70.9536985697878 best_b: -82.40247873696347, and the loss is: 306640.65193789854\n",
      "When time is : 118, get best_k: -70.85369856978781 best_b: -82.30247873696348, and the loss is: 305830.74586601404\n",
      "When time is : 119, get best_k: -70.75369856978782 best_b: -82.20247873696349, and the loss is: 305021.91096599755\n",
      "When time is : 120, get best_k: -70.65369856978782 best_b: -82.10247873696349, and the loss is: 304214.1472378481\n",
      "When time is : 121, get best_k: -70.55369856978783 best_b: -82.0024787369635, and the loss is: 303407.454681567\n",
      "When time is : 122, get best_k: -70.45369856978783 best_b: -81.9024787369635, and the loss is: 302601.8332971524\n",
      "When time is : 123, get best_k: -70.35369856978784 best_b: -81.80247873696351, and the loss is: 301797.28308460594\n",
      "When time is : 124, get best_k: -70.25369856978784 best_b: -81.70247873696351, and the loss is: 300993.8040439264\n",
      "When time is : 125, get best_k: -70.15369856978785 best_b: -81.60247873696352, and the loss is: 300191.39617511467\n",
      "When time is : 126, get best_k: -70.05369856978785 best_b: -81.50247873696352, and the loss is: 299390.05947817035\n",
      "When time is : 127, get best_k: -69.95369856978786 best_b: -81.40247873696353, and the loss is: 298589.7939530936\n",
      "When time is : 128, get best_k: -69.85369856978787 best_b: -81.30247873696354, and the loss is: 297790.59959988465\n",
      "When time is : 129, get best_k: -69.75369856978787 best_b: -81.20247873696354, and the loss is: 296992.4764185428\n",
      "When time is : 130, get best_k: -69.65369856978788 best_b: -81.10247873696355, and the loss is: 296195.4244090679\n",
      "When time is : 131, get best_k: -69.55369856978788 best_b: -81.00247873696355, and the loss is: 295399.44357146055\n",
      "When time is : 132, get best_k: -69.45369856978789 best_b: -80.90247873696356, and the loss is: 294604.5339057213\n",
      "When time is : 133, get best_k: -69.3536985697879 best_b: -80.80247873696356, and the loss is: 293810.69541184907\n",
      "When time is : 134, get best_k: -69.2536985697879 best_b: -80.70247873696357, and the loss is: 293017.92808984505\n",
      "When time is : 135, get best_k: -69.1536985697879 best_b: -80.60247873696358, and the loss is: 292226.23193970777\n",
      "When time is : 136, get best_k: -69.05369856978791 best_b: -80.50247873696358, and the loss is: 291435.606961438\n",
      "When time is : 137, get best_k: -68.95369856978792 best_b: -80.40247873696359, and the loss is: 290646.0531550361\n",
      "When time is : 138, get best_k: -68.85369856978792 best_b: -80.3024787369636, and the loss is: 289857.57052050135\n",
      "When time is : 139, get best_k: -68.75369856978793 best_b: -80.2024787369636, and the loss is: 289070.159057834\n",
      "When time is : 140, get best_k: -68.65369856978793 best_b: -80.1024787369636, and the loss is: 288283.81876703387\n",
      "When time is : 141, get best_k: -68.55369856978794 best_b: -80.00247873696361, and the loss is: 287498.54964810197\n",
      "When time is : 142, get best_k: -68.45369856978795 best_b: -79.90247873696362, and the loss is: 286714.3517010369\n",
      "When time is : 143, get best_k: -68.35369856978795 best_b: -79.80247873696362, and the loss is: 285931.2249258398\n",
      "When time is : 144, get best_k: -68.25369856978796 best_b: -79.70247873696363, and the loss is: 285149.16932250996\n",
      "When time is : 145, get best_k: -68.15369856978796 best_b: -79.60247873696363, and the loss is: 284368.18489104765\n",
      "When time is : 146, get best_k: -68.05369856978797 best_b: -79.50247873696364, and the loss is: 283588.27163145255\n",
      "When time is : 147, get best_k: -67.95369856978797 best_b: -79.40247873696364, and the loss is: 282809.42954372533\n",
      "When time is : 148, get best_k: -67.85369856978798 best_b: -79.30247873696365, and the loss is: 282031.65862786537\n",
      "When time is : 149, get best_k: -67.75369856978799 best_b: -79.20247873696366, and the loss is: 281254.9588838728\n",
      "When time is : 150, get best_k: -67.65369856978799 best_b: -79.10247873696366, and the loss is: 280479.33031174773\n",
      "When time is : 151, get best_k: -67.553698569788 best_b: -79.00247873696367, and the loss is: 279704.7729114905\n"
     ]
    },
    {
     "name": "stdout",
     "output_type": "stream",
     "text": [
      "When time is : 152, get best_k: -67.453698569788 best_b: -78.90247873696367, and the loss is: 278931.2866831003\n",
      "When time is : 153, get best_k: -67.35369856978801 best_b: -78.80247873696368, and the loss is: 278158.87162657734\n",
      "When time is : 154, get best_k: -67.25369856978801 best_b: -78.70247873696368, and the loss is: 277387.52774192224\n",
      "When time is : 155, get best_k: -67.15369856978802 best_b: -78.60247873696369, and the loss is: 276617.2550291347\n",
      "When time is : 156, get best_k: -67.05369856978803 best_b: -78.5024787369637, and the loss is: 275848.05348821444\n",
      "When time is : 157, get best_k: -66.95369856978803 best_b: -78.4024787369637, and the loss is: 275079.923119162\n",
      "When time is : 158, get best_k: -66.85369856978804 best_b: -78.3024787369637, and the loss is: 274312.86392197653\n",
      "When time is : 159, get best_k: -66.75369856978804 best_b: -78.20247873696371, and the loss is: 273546.87589665834\n",
      "When time is : 160, get best_k: -66.65369856978805 best_b: -78.10247873696372, and the loss is: 272781.959043208\n",
      "When time is : 161, get best_k: -66.55369856978805 best_b: -78.00247873696372, and the loss is: 272018.11336162564\n",
      "When time is : 162, get best_k: -66.45369856978806 best_b: -77.90247873696373, and the loss is: 271255.33885190997\n",
      "When time is : 163, get best_k: -66.35369856978807 best_b: -77.80247873696374, and the loss is: 270493.63551406213\n",
      "When time is : 164, get best_k: -66.25369856978807 best_b: -77.70247873696374, and the loss is: 269733.00334808184\n",
      "When time is : 165, get best_k: -66.15369856978808 best_b: -77.60247873696375, and the loss is: 268973.4423539685\n",
      "When time is : 166, get best_k: -66.05369856978808 best_b: -77.50247873696375, and the loss is: 268214.9525317231\n",
      "When time is : 167, get best_k: -65.95369856978809 best_b: -77.40247873696376, and the loss is: 267457.53388134507\n",
      "When time is : 168, get best_k: -65.8536985697881 best_b: -77.30247873696376, and the loss is: 266701.18640283454\n",
      "When time is : 169, get best_k: -65.7536985697881 best_b: -77.20247873696377, and the loss is: 265945.91009619157\n",
      "When time is : 170, get best_k: -65.6536985697881 best_b: -77.10247873696377, and the loss is: 265191.70496141585\n",
      "When time is : 171, get best_k: -65.55369856978811 best_b: -77.00247873696378, and the loss is: 264438.5709985074\n",
      "When time is : 172, get best_k: -65.45369856978812 best_b: -76.90247873696379, and the loss is: 263686.5082074671\n",
      "When time is : 173, get best_k: -65.35369856978812 best_b: -76.80247873696379, and the loss is: 262935.5165882936\n",
      "When time is : 174, get best_k: -65.25369856978813 best_b: -76.7024787369638, and the loss is: 262185.596140988\n",
      "When time is : 175, get best_k: -65.15369856978813 best_b: -76.6024787369638, and the loss is: 261436.7468655497\n",
      "When time is : 176, get best_k: -65.05369856978814 best_b: -76.50247873696381, and the loss is: 260688.968761979\n",
      "When time is : 177, get best_k: -64.95369856978814 best_b: -76.40247873696381, and the loss is: 259942.26183027527\n",
      "When time is : 178, get best_k: -64.85369856978815 best_b: -76.30247873696382, and the loss is: 259196.62607043967\n",
      "When time is : 179, get best_k: -64.75369856978816 best_b: -76.20247873696383, and the loss is: 258452.06148247115\n",
      "When time is : 180, get best_k: -64.65369856978816 best_b: -76.10247873696383, and the loss is: 257708.5680663702\n",
      "When time is : 181, get best_k: -64.55369856978817 best_b: -76.00247873696384, and the loss is: 256966.14582213666\n",
      "When time is : 182, get best_k: -64.45369856978817 best_b: -75.90247873696384, and the loss is: 256224.79474977075\n",
      "When time is : 183, get best_k: -64.35369856978818 best_b: -75.80247873696385, and the loss is: 255484.51484927253\n",
      "When time is : 184, get best_k: -64.25369856978818 best_b: -75.70247873696385, and the loss is: 254745.30612064133\n",
      "When time is : 185, get best_k: -64.15369856978819 best_b: -75.60247873696386, and the loss is: 254007.1685638776\n",
      "When time is : 186, get best_k: -64.0536985697882 best_b: -75.50247873696387, and the loss is: 253270.10217898194\n",
      "When time is : 187, get best_k: -63.953698569788195 best_b: -75.40247873696387, and the loss is: 252534.1069659529\n",
      "When time is : 188, get best_k: -63.85369856978819 best_b: -75.30247873696388, and the loss is: 251799.1829247917\n",
      "When time is : 189, get best_k: -63.75369856978819 best_b: -75.20247873696388, and the loss is: 251065.33005549788\n",
      "When time is : 190, get best_k: -63.65369856978819 best_b: -75.10247873696389, and the loss is: 250332.5483580718\n",
      "When time is : 191, get best_k: -63.55369856978819 best_b: -75.0024787369639, and the loss is: 249600.83783251303\n",
      "When time is : 192, get best_k: -63.45369856978819 best_b: -74.9024787369639, and the loss is: 248870.19847882178\n",
      "When time is : 193, get best_k: -63.353698569788186 best_b: -74.8024787369639, and the loss is: 248140.63029699778\n",
      "When time is : 194, get best_k: -63.253698569788185 best_b: -74.70247873696391, and the loss is: 247412.13328704124\n",
      "When time is : 195, get best_k: -63.15369856978818 best_b: -74.60247873696392, and the loss is: 246684.70744895237\n",
      "When time is : 196, get best_k: -63.05369856978818 best_b: -74.50247873696392, and the loss is: 245958.35278273086\n",
      "When time is : 197, get best_k: -62.95369856978818 best_b: -74.40247873696393, and the loss is: 245233.06928837704\n",
      "When time is : 198, get best_k: -62.85369856978818 best_b: -74.30247873696393, and the loss is: 244508.85696589053\n",
      "When time is : 199, get best_k: -62.75369856978818 best_b: -74.20247873696394, and the loss is: 243785.71581527154\n",
      "When time is : 200, get best_k: -62.653698569788176 best_b: -74.10247873696395, and the loss is: 243063.64583651963\n",
      "When time is : 201, get best_k: -62.553698569788175 best_b: -74.00247873696395, and the loss is: 242342.64702963567\n",
      "When time is : 202, get best_k: -62.45369856978817 best_b: -73.90247873696396, and the loss is: 241622.71939461902\n",
      "When time is : 203, get best_k: -62.35369856978817 best_b: -73.80247873696396, and the loss is: 240903.86293147\n",
      "When time is : 204, get best_k: -62.25369856978817 best_b: -73.70247873696397, and the loss is: 240186.07764018822\n",
      "When time is : 205, get best_k: -62.15369856978817 best_b: -73.60247873696397, and the loss is: 239469.36352077386\n",
      "When time is : 206, get best_k: -62.05369856978817 best_b: -73.50247873696398, and the loss is: 238753.72057322727\n",
      "When time is : 207, get best_k: -61.953698569788166 best_b: -73.40247873696399, and the loss is: 238039.1487975479\n",
      "When time is : 208, get best_k: -61.853698569788165 best_b: -73.30247873696399, and the loss is: 237325.64819373607\n",
      "When time is : 209, get best_k: -61.75369856978816 best_b: -73.202478736964, and the loss is: 236613.21876179188\n",
      "When time is : 210, get best_k: -61.65369856978816 best_b: -73.102478736964, and the loss is: 235901.86050171498\n",
      "When time is : 211, get best_k: -61.55369856978816 best_b: -73.00247873696401, and the loss is: 235191.57341350548\n",
      "When time is : 212, get best_k: -61.45369856978816 best_b: -72.90247873696401, and the loss is: 234482.35749716358\n",
      "When time is : 213, get best_k: -61.35369856978816 best_b: -72.80247873696402, and the loss is: 233774.21275268926\n",
      "When time is : 214, get best_k: -61.253698569788156 best_b: -72.70247873696403, and the loss is: 233067.139180082\n",
      "When time is : 215, get best_k: -61.153698569788155 best_b: -72.60247873696403, and the loss is: 232361.13677934295\n",
      "When time is : 216, get best_k: -61.05369856978815 best_b: -72.50247873696404, and the loss is: 231656.20555047077\n",
      "When time is : 217, get best_k: -60.95369856978815 best_b: -72.40247873696404, and the loss is: 230952.34549346607\n",
      "When time is : 218, get best_k: -60.85369856978815 best_b: -72.30247873696405, and the loss is: 230249.55660832915\n",
      "When time is : 219, get best_k: -60.75369856978815 best_b: -72.20247873696405, and the loss is: 229547.8388950596\n",
      "When time is : 220, get best_k: -60.65369856978815 best_b: -72.10247873696406, and the loss is: 228847.19235365727\n",
      "When time is : 221, get best_k: -60.553698569788146 best_b: -72.00247873696406, and the loss is: 228147.61698412264\n",
      "When time is : 222, get best_k: -60.453698569788145 best_b: -71.90247873696407, and the loss is: 227449.11278645514\n",
      "When time is : 223, get best_k: -60.35369856978814 best_b: -71.80247873696408, and the loss is: 226751.67976065518\n",
      "When time is : 224, get best_k: -60.25369856978814 best_b: -71.70247873696408, and the loss is: 226055.31790672315\n",
      "When time is : 225, get best_k: -60.15369856978814 best_b: -71.60247873696409, and the loss is: 225360.0272246585\n",
      "When time is : 226, get best_k: -60.05369856978814 best_b: -71.5024787369641, and the loss is: 224665.80771446112\n",
      "When time is : 227, get best_k: -59.95369856978814 best_b: -71.4024787369641, and the loss is: 223972.65937613114\n",
      "When time is : 228, get best_k: -59.853698569788136 best_b: -71.3024787369641, and the loss is: 223280.5822096693\n",
      "When time is : 229, get best_k: -59.753698569788135 best_b: -71.20247873696411, and the loss is: 222589.57621507382\n",
      "When time is : 230, get best_k: -59.65369856978813 best_b: -71.10247873696412, and the loss is: 221899.64139234636\n",
      "When time is : 231, get best_k: -59.55369856978813 best_b: -71.00247873696412, and the loss is: 221210.77774148644\n",
      "When time is : 232, get best_k: -59.45369856978813 best_b: -70.90247873696413, and the loss is: 220522.98526249366\n",
      "When time is : 233, get best_k: -59.35369856978813 best_b: -70.80247873696413, and the loss is: 219836.26395536907\n",
      "When time is : 234, get best_k: -59.25369856978813 best_b: -70.70247873696414, and the loss is: 219150.61382011138\n",
      "When time is : 235, get best_k: -59.153698569788126 best_b: -70.60247873696414, and the loss is: 218466.0348567213\n",
      "When time is : 236, get best_k: -59.053698569788125 best_b: -70.50247873696415, and the loss is: 217782.52706519846\n",
      "When time is : 237, get best_k: -58.95369856978812 best_b: -70.40247873696416, and the loss is: 217100.09044554338\n",
      "When time is : 238, get best_k: -58.85369856978812 best_b: -70.30247873696416, and the loss is: 216418.72499775598\n",
      "When time is : 239, get best_k: -58.75369856978812 best_b: -70.20247873696417, and the loss is: 215738.43072183558\n",
      "When time is : 240, get best_k: -58.65369856978812 best_b: -70.10247873696417, and the loss is: 215059.20761778293\n",
      "When time is : 241, get best_k: -58.55369856978812 best_b: -70.00247873696418, and the loss is: 214381.05568559738\n",
      "When time is : 242, get best_k: -58.453698569788116 best_b: -69.90247873696418, and the loss is: 213703.9749252797\n",
      "When time is : 243, get best_k: -58.353698569788115 best_b: -69.80247873696419, and the loss is: 213027.96533682937\n",
      "When time is : 244, get best_k: -58.253698569788114 best_b: -69.7024787369642, and the loss is: 212353.0269202463\n",
      "When time is : 245, get best_k: -58.15369856978811 best_b: -69.6024787369642, and the loss is: 211679.159675531\n",
      "When time is : 246, get best_k: -58.05369856978811 best_b: -69.5024787369642, and the loss is: 211006.36360268327\n",
      "When time is : 247, get best_k: -57.95369856978811 best_b: -69.40247873696421, and the loss is: 210334.6387017027\n",
      "When time is : 248, get best_k: -57.85369856978811 best_b: -69.30247873696422, and the loss is: 209663.98497258956\n",
      "When time is : 249, get best_k: -57.75369856978811 best_b: -69.20247873696422, and the loss is: 208994.4024153442\n",
      "When time is : 250, get best_k: -57.653698569788105 best_b: -69.10247873696423, and the loss is: 208325.89102996618\n",
      "When time is : 251, get best_k: -57.553698569788104 best_b: -69.00247873696424, and the loss is: 207658.4508164556\n",
      "When time is : 252, get best_k: -57.4536985697881 best_b: -68.90247873696424, and the loss is: 206992.08177481245\n",
      "When time is : 253, get best_k: -57.3536985697881 best_b: -68.80247873696425, and the loss is: 206326.78390503692\n",
      "When time is : 254, get best_k: -57.2536985697881 best_b: -68.70247873696425, and the loss is: 205662.55720712853\n",
      "When time is : 255, get best_k: -57.1536985697881 best_b: -68.60247873696426, and the loss is: 204999.4016810879\n",
      "When time is : 256, get best_k: -57.0536985697881 best_b: -68.50247873696426, and the loss is: 204337.3173269145\n",
      "When time is : 257, get best_k: -56.953698569788095 best_b: -68.40247873696427, and the loss is: 203676.30414460876\n",
      "When time is : 258, get best_k: -56.853698569788094 best_b: -68.30247873696428, and the loss is: 203016.36213417072\n",
      "When time is : 259, get best_k: -56.75369856978809 best_b: -68.20247873696428, and the loss is: 202357.49129560005\n",
      "When time is : 260, get best_k: -56.65369856978809 best_b: -68.10247873696429, and the loss is: 201699.69162889657\n",
      "When time is : 261, get best_k: -56.55369856978809 best_b: -68.00247873696429, and the loss is: 201042.96313406073\n",
      "When time is : 262, get best_k: -56.45369856978809 best_b: -67.9024787369643, and the loss is: 200387.30581109226\n",
      "When time is : 263, get best_k: -56.35369856978809 best_b: -67.8024787369643, and the loss is: 199732.71965999127\n",
      "When time is : 264, get best_k: -56.253698569788085 best_b: -67.70247873696431, and the loss is: 199079.20468075766\n",
      "When time is : 265, get best_k: -56.153698569788084 best_b: -67.60247873696431, and the loss is: 198426.7608733918\n",
      "When time is : 266, get best_k: -56.05369856978808 best_b: -67.50247873696432, and the loss is: 197775.3882378932\n",
      "When time is : 267, get best_k: -55.95369856978808 best_b: -67.40247873696433, and the loss is: 197125.08677426222\n",
      "When time is : 268, get best_k: -55.85369856978808 best_b: -67.30247873696433, and the loss is: 196475.85648249873\n",
      "When time is : 269, get best_k: -55.75369856978808 best_b: -67.20247873696434, and the loss is: 195827.69736260246\n",
      "When time is : 270, get best_k: -55.65369856978808 best_b: -67.10247873696434, and the loss is: 195180.60941457408\n",
      "When time is : 271, get best_k: -55.553698569788075 best_b: -67.00247873696435, and the loss is: 194534.59263841252\n",
      "When time is : 272, get best_k: -55.453698569788074 best_b: -66.90247873696435, and the loss is: 193889.64703411903\n",
      "When time is : 273, get best_k: -55.35369856978807 best_b: -66.80247873696436, and the loss is: 193245.7726016932\n",
      "When time is : 274, get best_k: -55.25369856978807 best_b: -66.70247873696437, and the loss is: 192602.96934113404\n",
      "When time is : 275, get best_k: -55.15369856978807 best_b: -66.60247873696437, and the loss is: 191961.23725244275\n",
      "When time is : 276, get best_k: -55.05369856978807 best_b: -66.50247873696438, and the loss is: 191320.57633561885\n",
      "When time is : 277, get best_k: -54.95369856978807 best_b: -66.40247873696438, and the loss is: 190680.98659066233\n",
      "When time is : 278, get best_k: -54.853698569788065 best_b: -66.30247873696439, and the loss is: 190042.46801757382\n",
      "When time is : 279, get best_k: -54.753698569788064 best_b: -66.2024787369644, and the loss is: 189405.02061635238\n",
      "When time is : 280, get best_k: -54.65369856978806 best_b: -66.1024787369644, and the loss is: 188768.6443869983\n",
      "When time is : 281, get best_k: -54.55369856978806 best_b: -66.0024787369644, and the loss is: 188133.33932951183\n",
      "When time is : 282, get best_k: -54.45369856978806 best_b: -65.90247873696441, and the loss is: 187499.10544389274\n",
      "When time is : 283, get best_k: -54.35369856978806 best_b: -65.80247873696442, and the loss is: 186865.94273014125\n",
      "When time is : 284, get best_k: -54.25369856978806 best_b: -65.70247873696442, and the loss is: 186233.8511882572\n",
      "When time is : 285, get best_k: -54.153698569788055 best_b: -65.60247873696443, and the loss is: 185602.8308182408\n",
      "When time is : 286, get best_k: -54.053698569788054 best_b: -65.50247873696443, and the loss is: 184972.88162009147\n",
      "When time is : 287, get best_k: -53.95369856978805 best_b: -65.40247873696444, and the loss is: 184344.0035938101\n",
      "When time is : 288, get best_k: -53.85369856978805 best_b: -65.30247873696445, and the loss is: 183716.19673939588\n",
      "When time is : 289, get best_k: -53.75369856978805 best_b: -65.20247873696445, and the loss is: 183089.46105684913\n",
      "When time is : 290, get best_k: -53.65369856978805 best_b: -65.10247873696446, and the loss is: 182463.7965461697\n",
      "When time is : 291, get best_k: -53.55369856978805 best_b: -65.00247873696446, and the loss is: 181839.203207358\n",
      "When time is : 292, get best_k: -53.453698569788045 best_b: -64.90247873696447, and the loss is: 181215.68104041368\n",
      "When time is : 293, get best_k: -53.353698569788044 best_b: -64.80247873696447, and the loss is: 180593.23004533676\n",
      "When time is : 294, get best_k: -53.25369856978804 best_b: -64.70247873696448, and the loss is: 179971.85022212763\n",
      "When time is : 295, get best_k: -53.15369856978804 best_b: -64.60247873696449, and the loss is: 179351.54157078575\n",
      "When time is : 296, get best_k: -53.05369856978804 best_b: -64.50247873696449, and the loss is: 178732.3040913112\n",
      "When time is : 297, get best_k: -52.95369856978804 best_b: -64.4024787369645, and the loss is: 178114.1377837043\n",
      "When time is : 298, get best_k: -52.85369856978804 best_b: -64.3024787369645, and the loss is: 177497.04264796496\n",
      "When time is : 299, get best_k: -52.753698569788035 best_b: -64.20247873696451, and the loss is: 176881.01868409276\n",
      "When time is : 300, get best_k: -52.653698569788034 best_b: -64.10247873696451, and the loss is: 176266.0658920883\n",
      "When time is : 301, get best_k: -52.55369856978803 best_b: -64.00247873696452, and the loss is: 175652.18427195097\n",
      "When time is : 302, get best_k: -52.45369856978803 best_b: -63.90247873696452, and the loss is: 175039.37382368182\n",
      "When time is : 303, get best_k: -52.35369856978803 best_b: -63.80247873696452, and the loss is: 174427.63454727968\n",
      "When time is : 304, get best_k: -52.25369856978803 best_b: -63.702478736964515, and the loss is: 173816.96644274468\n",
      "When time is : 305, get best_k: -52.15369856978803 best_b: -63.602478736964514, and the loss is: 173207.36951007758\n",
      "When time is : 306, get best_k: -52.053698569788025 best_b: -63.50247873696451, and the loss is: 172598.84374927805\n",
      "When time is : 307, get best_k: -51.953698569788024 best_b: -63.40247873696451, and the loss is: 171991.38916034586\n",
      "When time is : 308, get best_k: -51.85369856978802 best_b: -63.30247873696451, and the loss is: 171385.00574328093\n",
      "When time is : 309, get best_k: -51.75369856978802 best_b: -63.20247873696451, and the loss is: 170779.6934980834\n",
      "When time is : 310, get best_k: -51.65369856978802 best_b: -63.10247873696451, and the loss is: 170175.45242475398\n",
      "When time is : 311, get best_k: -51.55369856978802 best_b: -63.002478736964505, and the loss is: 169572.28252329127\n",
      "When time is : 312, get best_k: -51.45369856978802 best_b: -62.902478736964504, and the loss is: 168970.1837936966\n",
      "When time is : 313, get best_k: -51.353698569788016 best_b: -62.8024787369645, and the loss is: 168369.15623596907\n",
      "When time is : 314, get best_k: -51.253698569788014 best_b: -62.7024787369645, and the loss is: 167769.199850109\n",
      "When time is : 315, get best_k: -51.15369856978801 best_b: -62.6024787369645, and the loss is: 167170.31463611673\n",
      "When time is : 316, get best_k: -51.05369856978801 best_b: -62.5024787369645, and the loss is: 166572.50059399163\n",
      "When time is : 317, get best_k: -50.95369856978801 best_b: -62.4024787369645, and the loss is: 165975.75772373402\n",
      "When time is : 318, get best_k: -50.85369856978801 best_b: -62.302478736964495, and the loss is: 165380.0860253441\n",
      "When time is : 319, get best_k: -50.75369856978801 best_b: -62.202478736964494, and the loss is: 164785.48549882145\n",
      "When time is : 320, get best_k: -50.653698569788006 best_b: -62.10247873696449, and the loss is: 164191.95614416624\n",
      "When time is : 321, get best_k: -50.553698569788004 best_b: -62.00247873696449, and the loss is: 163599.49796137866\n",
      "When time is : 322, get best_k: -50.453698569788 best_b: -61.90247873696449, and the loss is: 163008.11095045824\n",
      "When time is : 323, get best_k: -50.353698569788 best_b: -61.80247873696449, and the loss is: 162417.79511140572\n",
      "When time is : 324, get best_k: -50.253698569788 best_b: -61.70247873696449, and the loss is: 161828.5504442206\n",
      "When time is : 325, get best_k: -50.153698569788 best_b: -61.602478736964486, and the loss is: 161240.3769489026\n",
      "When time is : 326, get best_k: -50.053698569788 best_b: -61.502478736964484, and the loss is: 160653.27462545232\n",
      "When time is : 327, get best_k: -49.953698569787996 best_b: -61.40247873696448, and the loss is: 160067.2434738697\n",
      "When time is : 328, get best_k: -49.853698569787994 best_b: -61.30247873696448, and the loss is: 159482.28349415428\n",
      "When time is : 329, get best_k: -49.75369856978799 best_b: -61.20247873696448, and the loss is: 158898.39468630648\n",
      "When time is : 330, get best_k: -49.65369856978799 best_b: -61.10247873696448, and the loss is: 158315.57705032593\n",
      "When time is : 331, get best_k: -49.55369856978799 best_b: -61.00247873696448, and the loss is: 157733.8305862129\n",
      "When time is : 332, get best_k: -49.45369856978799 best_b: -60.902478736964476, and the loss is: 157153.15529396752\n",
      "When time is : 333, get best_k: -49.35369856978799 best_b: -60.802478736964474, and the loss is: 156573.5511735896\n",
      "When time is : 334, get best_k: -49.253698569787986 best_b: -60.70247873696447, and the loss is: 155995.01822507873\n",
      "When time is : 335, get best_k: -49.153698569787984 best_b: -60.60247873696447, and the loss is: 155417.55644843596\n",
      "When time is : 336, get best_k: -49.05369856978798 best_b: -60.50247873696447, and the loss is: 154841.16584366016\n",
      "When time is : 337, get best_k: -48.95369856978798 best_b: -60.40247873696447, and the loss is: 154265.84641075198\n",
      "When time is : 338, get best_k: -48.85369856978798 best_b: -60.30247873696447, and the loss is: 153691.59814971147\n",
      "When time is : 339, get best_k: -48.75369856978798 best_b: -60.202478736964466, and the loss is: 153118.42106053824\n",
      "When time is : 340, get best_k: -48.65369856978798 best_b: -60.102478736964464, and the loss is: 152546.31514323244\n",
      "When time is : 341, get best_k: -48.553698569787976 best_b: -60.00247873696446, and the loss is: 151975.28039779433\n",
      "When time is : 342, get best_k: -48.453698569787974 best_b: -59.90247873696446, and the loss is: 151405.31682422356\n",
      "When time is : 343, get best_k: -48.35369856978797 best_b: -59.80247873696446, and the loss is: 150836.42442252015\n",
      "When time is : 344, get best_k: -48.25369856978797 best_b: -59.70247873696446, and the loss is: 150268.60319268427\n",
      "When time is : 345, get best_k: -48.15369856978797 best_b: -59.60247873696446, and the loss is: 149701.853134716\n",
      "When time is : 346, get best_k: -48.05369856978797 best_b: -59.502478736964456, and the loss is: 149136.17424861522\n",
      "When time is : 347, get best_k: -47.95369856978797 best_b: -59.402478736964454, and the loss is: 148571.56653438185\n",
      "When time is : 348, get best_k: -47.853698569787966 best_b: -59.30247873696445, and the loss is: 148008.0299920157\n",
      "When time is : 349, get best_k: -47.753698569787964 best_b: -59.20247873696445, and the loss is: 147445.56462151714\n",
      "When time is : 350, get best_k: -47.65369856978796 best_b: -59.10247873696445, and the loss is: 146884.170422886\n",
      "When time is : 351, get best_k: -47.55369856978796 best_b: -59.00247873696445, and the loss is: 146323.8473961226\n",
      "When time is : 352, get best_k: -47.45369856978796 best_b: -58.90247873696445, and the loss is: 145764.5955412267\n",
      "When time is : 353, get best_k: -47.35369856978796 best_b: -58.802478736964446, and the loss is: 145206.4148581979\n",
      "When time is : 354, get best_k: -47.25369856978796 best_b: -58.702478736964444, and the loss is: 144649.30534703674\n",
      "When time is : 355, get best_k: -47.153698569787956 best_b: -58.60247873696444, and the loss is: 144093.26700774307\n",
      "When time is : 356, get best_k: -47.053698569787954 best_b: -58.50247873696444, and the loss is: 143538.29984031693\n",
      "When time is : 357, get best_k: -46.95369856978795 best_b: -58.40247873696444, and the loss is: 142984.4038447581\n",
      "When time is : 358, get best_k: -46.85369856978795 best_b: -58.30247873696444, and the loss is: 142431.5790210669\n",
      "When time is : 359, get best_k: -46.75369856978795 best_b: -58.20247873696444, and the loss is: 141879.82536924322\n",
      "When time is : 360, get best_k: -46.65369856978795 best_b: -58.102478736964436, and the loss is: 141329.14288928677\n",
      "When time is : 361, get best_k: -46.55369856978795 best_b: -58.002478736964434, and the loss is: 140779.53158119813\n",
      "When time is : 362, get best_k: -46.453698569787946 best_b: -57.90247873696443, and the loss is: 140230.9914449768\n",
      "When time is : 363, get best_k: -46.353698569787944 best_b: -57.80247873696443, and the loss is: 139683.52248062275\n",
      "When time is : 364, get best_k: -46.25369856978794 best_b: -57.70247873696443, and the loss is: 139137.12468813636\n",
      "When time is : 365, get best_k: -46.15369856978794 best_b: -57.60247873696443, and the loss is: 138591.79806751737\n",
      "When time is : 366, get best_k: -46.05369856978794 best_b: -57.50247873696443, and the loss is: 138047.5426187659\n",
      "When time is : 367, get best_k: -45.95369856978794 best_b: -57.402478736964426, and the loss is: 137504.35834188192\n",
      "When time is : 368, get best_k: -45.85369856978794 best_b: -57.302478736964424, and the loss is: 136962.2452368653\n",
      "When time is : 369, get best_k: -45.753698569787936 best_b: -57.20247873696442, and the loss is: 136421.20330371612\n",
      "When time is : 370, get best_k: -45.653698569787935 best_b: -57.10247873696442, and the loss is: 135881.23254243462\n",
      "When time is : 371, get best_k: -45.55369856978793 best_b: -57.00247873696442, and the loss is: 135342.33295302038\n",
      "When time is : 372, get best_k: -45.45369856978793 best_b: -56.90247873696442, and the loss is: 134804.50453547385\n",
      "When time is : 373, get best_k: -45.35369856978793 best_b: -56.80247873696442, and the loss is: 134267.74728979444\n",
      "When time is : 374, get best_k: -45.25369856978793 best_b: -56.702478736964416, and the loss is: 133732.06121598277\n",
      "When time is : 375, get best_k: -45.15369856978793 best_b: -56.602478736964414, and the loss is: 133197.44631403848\n",
      "When time is : 376, get best_k: -45.053698569787926 best_b: -56.50247873696441, and the loss is: 132663.9025839618\n",
      "When time is : 377, get best_k: -44.953698569787925 best_b: -56.40247873696441, and the loss is: 132131.43002575263\n",
      "When time is : 378, get best_k: -44.85369856978792 best_b: -56.30247873696441, and the loss is: 131600.0286394106\n",
      "When time is : 379, get best_k: -44.75369856978792 best_b: -56.20247873696441, and the loss is: 131069.69842493637\n",
      "When time is : 380, get best_k: -44.65369856978792 best_b: -56.10247873696441, and the loss is: 130540.43938232923\n",
      "When time is : 381, get best_k: -44.55369856978792 best_b: -56.002478736964406, and the loss is: 130012.25151158989\n",
      "When time is : 382, get best_k: -44.45369856978792 best_b: -55.902478736964405, and the loss is: 129485.13481271801\n",
      "When time is : 383, get best_k: -44.353698569787916 best_b: -55.8024787369644, and the loss is: 128959.08928571356\n",
      "When time is : 384, get best_k: -44.253698569787915 best_b: -55.7024787369644, and the loss is: 128434.11493057634\n",
      "When time is : 385, get best_k: -44.15369856978791 best_b: -55.6024787369644, and the loss is: 127910.21174730679\n",
      "When time is : 386, get best_k: -44.05369856978791 best_b: -55.5024787369644, and the loss is: 127387.37973590482\n",
      "When time is : 387, get best_k: -43.95369856978791 best_b: -55.4024787369644, and the loss is: 126865.61889637013\n"
     ]
    },
    {
     "name": "stdout",
     "output_type": "stream",
     "text": [
      "When time is : 388, get best_k: -43.85369856978791 best_b: -55.302478736964396, and the loss is: 126344.92922870303\n",
      "When time is : 389, get best_k: -43.75369856978791 best_b: -55.202478736964395, and the loss is: 125825.3107329033\n",
      "When time is : 390, get best_k: -43.653698569787906 best_b: -55.10247873696439, and the loss is: 125306.7634089712\n",
      "When time is : 391, get best_k: -43.553698569787905 best_b: -55.00247873696439, and the loss is: 124789.2872569064\n",
      "When time is : 392, get best_k: -43.4536985697879 best_b: -54.90247873696439, and the loss is: 124272.8822767091\n",
      "When time is : 393, get best_k: -43.3536985697879 best_b: -54.80247873696439, and the loss is: 123757.54846837925\n",
      "When time is : 394, get best_k: -43.2536985697879 best_b: -54.70247873696439, and the loss is: 123243.28583191696\n",
      "When time is : 395, get best_k: -43.1536985697879 best_b: -54.602478736964386, and the loss is: 122730.09436732208\n",
      "When time is : 396, get best_k: -43.0536985697879 best_b: -54.502478736964385, and the loss is: 122217.97407459478\n",
      "When time is : 397, get best_k: -42.953698569787896 best_b: -54.40247873696438, and the loss is: 121706.9249537349\n",
      "When time is : 398, get best_k: -42.853698569787895 best_b: -54.30247873696438, and the loss is: 121196.94700474238\n",
      "When time is : 399, get best_k: -42.75369856978789 best_b: -54.20247873696438, and the loss is: 120688.04022761747\n",
      "When time is : 400, get best_k: -42.65369856978789 best_b: -54.10247873696438, and the loss is: 120180.20462235998\n",
      "When time is : 401, get best_k: -42.55369856978789 best_b: -54.00247873696438, and the loss is: 119673.4401889699\n",
      "When time is : 402, get best_k: -42.45369856978789 best_b: -53.902478736964376, and the loss is: 119167.74692744731\n",
      "When time is : 403, get best_k: -42.35369856978789 best_b: -53.802478736964375, and the loss is: 118663.12483779233\n",
      "When time is : 404, get best_k: -42.253698569787886 best_b: -53.70247873696437, and the loss is: 118159.57392000462\n",
      "When time is : 405, get best_k: -42.153698569787885 best_b: -53.60247873696437, and the loss is: 117657.09417408443\n",
      "When time is : 406, get best_k: -42.05369856978788 best_b: -53.50247873696437, and the loss is: 117155.6856000317\n",
      "When time is : 407, get best_k: -41.95369856978788 best_b: -53.40247873696437, and the loss is: 116655.34819784664\n",
      "When time is : 408, get best_k: -41.85369856978788 best_b: -53.30247873696437, and the loss is: 116156.08196752888\n",
      "When time is : 409, get best_k: -41.75369856978788 best_b: -53.202478736964366, and the loss is: 115657.88690907863\n",
      "When time is : 410, get best_k: -41.65369856978788 best_b: -53.102478736964365, and the loss is: 115160.76302249593\n",
      "When time is : 411, get best_k: -41.553698569787876 best_b: -53.00247873696436, and the loss is: 114664.71030778055\n",
      "When time is : 412, get best_k: -41.453698569787875 best_b: -52.90247873696436, and the loss is: 114169.72876493262\n",
      "When time is : 413, get best_k: -41.35369856978787 best_b: -52.80247873696436, and the loss is: 113675.8183939523\n",
      "When time is : 414, get best_k: -41.25369856978787 best_b: -52.70247873696436, and the loss is: 113182.97919483935\n",
      "When time is : 415, get best_k: -41.15369856978787 best_b: -52.60247873696436, and the loss is: 112691.2111675939\n",
      "When time is : 416, get best_k: -41.05369856978787 best_b: -52.502478736964356, and the loss is: 112200.51431221602\n",
      "When time is : 417, get best_k: -40.95369856978787 best_b: -52.402478736964355, and the loss is: 111710.88862870538\n",
      "When time is : 418, get best_k: -40.853698569787866 best_b: -52.30247873696435, and the loss is: 111222.33411706233\n",
      "When time is : 419, get best_k: -40.753698569787865 best_b: -52.20247873696435, and the loss is: 110734.85077728689\n",
      "When time is : 420, get best_k: -40.65369856978786 best_b: -52.10247873696435, and the loss is: 110248.43860937882\n",
      "When time is : 421, get best_k: -40.55369856978786 best_b: -52.00247873696435, and the loss is: 109763.09761333813\n",
      "When time is : 422, get best_k: -40.45369856978786 best_b: -51.90247873696435, and the loss is: 109278.82778916498\n",
      "When time is : 423, get best_k: -40.35369856978786 best_b: -51.802478736964346, and the loss is: 108795.6291368593\n",
      "When time is : 424, get best_k: -40.25369856978786 best_b: -51.702478736964345, and the loss is: 108313.50165642105\n",
      "When time is : 425, get best_k: -40.153698569787856 best_b: -51.60247873696434, and the loss is: 107832.44534785039\n",
      "When time is : 426, get best_k: -40.053698569787855 best_b: -51.50247873696434, and the loss is: 107352.46021114715\n",
      "When time is : 427, get best_k: -39.95369856978785 best_b: -51.40247873696434, and the loss is: 106873.54624631134\n",
      "When time is : 428, get best_k: -39.85369856978785 best_b: -51.30247873696434, and the loss is: 106395.70345334291\n",
      "When time is : 429, get best_k: -39.75369856978785 best_b: -51.20247873696434, and the loss is: 105918.93183224204\n",
      "When time is : 430, get best_k: -39.65369856978785 best_b: -51.102478736964336, and the loss is: 105443.23138300871\n",
      "When time is : 431, get best_k: -39.55369856978785 best_b: -51.002478736964335, and the loss is: 104968.60210564279\n",
      "When time is : 432, get best_k: -39.453698569787846 best_b: -50.90247873696433, and the loss is: 104495.04400014441\n",
      "When time is : 433, get best_k: -39.353698569787845 best_b: -50.80247873696433, and the loss is: 104022.55706651337\n",
      "When time is : 434, get best_k: -39.253698569787844 best_b: -50.70247873696433, and the loss is: 103551.1413047499\n",
      "When time is : 435, get best_k: -39.15369856978784 best_b: -50.60247873696433, and the loss is: 103080.79671485373\n",
      "When time is : 436, get best_k: -39.05369856978784 best_b: -50.50247873696433, and the loss is: 102611.52329682524\n",
      "When time is : 437, get best_k: -38.95369856978784 best_b: -50.402478736964326, and the loss is: 102143.3210506641\n",
      "When time is : 438, get best_k: -38.85369856978784 best_b: -50.302478736964325, and the loss is: 101676.1899763706\n",
      "When time is : 439, get best_k: -38.75369856978784 best_b: -50.20247873696432, and the loss is: 101210.13007394454\n",
      "When time is : 440, get best_k: -38.653698569787835 best_b: -50.10247873696432, and the loss is: 100745.14134338565\n",
      "When time is : 441, get best_k: -38.553698569787834 best_b: -50.00247873696432, and the loss is: 100281.22378469446\n",
      "When time is : 442, get best_k: -38.45369856978783 best_b: -49.90247873696432, and the loss is: 99818.37739787078\n",
      "When time is : 443, get best_k: -38.35369856978783 best_b: -49.80247873696432, and the loss is: 99356.60218291452\n",
      "When time is : 444, get best_k: -38.25369856978783 best_b: -49.702478736964316, and the loss is: 98895.89813982569\n",
      "When time is : 445, get best_k: -38.15369856978783 best_b: -49.602478736964315, and the loss is: 98436.26526860437\n",
      "When time is : 446, get best_k: -38.05369856978783 best_b: -49.502478736964314, and the loss is: 97977.7035692504\n",
      "When time is : 447, get best_k: -37.953698569787825 best_b: -49.40247873696431, and the loss is: 97520.21304176396\n",
      "When time is : 448, get best_k: -37.853698569787824 best_b: -49.30247873696431, and the loss is: 97063.79368614519\n",
      "When time is : 449, get best_k: -37.75369856978782 best_b: -49.20247873696431, and the loss is: 96608.44550239368\n",
      "When time is : 450, get best_k: -37.65369856978782 best_b: -49.10247873696431, and the loss is: 96154.16849050966\n",
      "When time is : 451, get best_k: -37.55369856978782 best_b: -49.00247873696431, and the loss is: 95700.96265049331\n",
      "When time is : 452, get best_k: -37.45369856978782 best_b: -48.902478736964305, and the loss is: 95248.82798234421\n",
      "When time is : 453, get best_k: -37.35369856978782 best_b: -48.802478736964304, and the loss is: 94797.76448606254\n",
      "When time is : 454, get best_k: -37.253698569787815 best_b: -48.7024787369643, and the loss is: 94347.7721616485\n",
      "When time is : 455, get best_k: -37.153698569787814 best_b: -48.6024787369643, and the loss is: 93898.8510091018\n",
      "When time is : 456, get best_k: -37.05369856978781 best_b: -48.5024787369643, and the loss is: 93451.00102842282\n",
      "When time is : 457, get best_k: -36.95369856978781 best_b: -48.4024787369643, and the loss is: 93004.22221961097\n",
      "When time is : 458, get best_k: -36.85369856978781 best_b: -48.3024787369643, and the loss is: 92558.51458266676\n",
      "When time is : 459, get best_k: -36.75369856978781 best_b: -48.202478736964295, and the loss is: 92113.87811759007\n",
      "When time is : 460, get best_k: -36.65369856978781 best_b: -48.102478736964294, and the loss is: 91670.31282438085\n",
      "When time is : 461, get best_k: -36.553698569787805 best_b: -48.00247873696429, and the loss is: 91227.81870303905\n",
      "When time is : 462, get best_k: -36.453698569787804 best_b: -47.90247873696429, and the loss is: 90786.39575356466\n",
      "When time is : 463, get best_k: -36.3536985697878 best_b: -47.80247873696429, and the loss is: 90346.04397595773\n",
      "When time is : 464, get best_k: -36.2536985697878 best_b: -47.70247873696429, and the loss is: 89906.76337021834\n",
      "When time is : 465, get best_k: -36.1536985697878 best_b: -47.60247873696429, and the loss is: 89468.55393634648\n",
      "When time is : 466, get best_k: -36.0536985697878 best_b: -47.502478736964285, and the loss is: 89031.41567434199\n",
      "When time is : 467, get best_k: -35.9536985697878 best_b: -47.402478736964284, and the loss is: 88595.34858420506\n",
      "When time is : 468, get best_k: -35.853698569787795 best_b: -47.30247873696428, and the loss is: 88160.3526659355\n",
      "When time is : 469, get best_k: -35.753698569787794 best_b: -47.20247873696428, and the loss is: 87726.42791953348\n",
      "When time is : 470, get best_k: -35.65369856978779 best_b: -47.10247873696428, and the loss is: 87293.5743449989\n",
      "When time is : 471, get best_k: -35.55369856978779 best_b: -47.00247873696428, and the loss is: 86861.79194233168\n",
      "When time is : 472, get best_k: -35.45369856978779 best_b: -46.90247873696428, and the loss is: 86431.08071153222\n",
      "When time is : 473, get best_k: -35.35369856978779 best_b: -46.802478736964275, and the loss is: 86001.4406526\n",
      "When time is : 474, get best_k: -35.25369856978779 best_b: -46.702478736964274, and the loss is: 85572.87176553524\n",
      "When time is : 475, get best_k: -35.153698569787785 best_b: -46.60247873696427, and the loss is: 85145.3740503381\n",
      "When time is : 476, get best_k: -35.053698569787784 best_b: -46.50247873696427, and the loss is: 84718.94750700844\n",
      "When time is : 477, get best_k: -34.95369856978778 best_b: -46.40247873696427, and the loss is: 84293.59213554609\n",
      "When time is : 478, get best_k: -34.85369856978778 best_b: -46.30247873696427, and the loss is: 83869.30793595123\n",
      "When time is : 479, get best_k: -34.75369856978778 best_b: -46.20247873696427, and the loss is: 83446.0949082239\n",
      "When time is : 480, get best_k: -34.65369856978778 best_b: -46.102478736964265, and the loss is: 83023.953052364\n",
      "When time is : 481, get best_k: -34.55369856978778 best_b: -46.002478736964264, and the loss is: 82602.88236837166\n",
      "When time is : 482, get best_k: -34.453698569787775 best_b: -45.90247873696426, and the loss is: 82182.88285624667\n",
      "When time is : 483, get best_k: -34.353698569787774 best_b: -45.80247873696426, and the loss is: 81763.95451598933\n",
      "When time is : 484, get best_k: -34.25369856978777 best_b: -45.70247873696426, and the loss is: 81346.09734759925\n",
      "When time is : 485, get best_k: -34.15369856978777 best_b: -45.60247873696426, and the loss is: 80929.3113510767\n",
      "When time is : 486, get best_k: -34.05369856978777 best_b: -45.50247873696426, and the loss is: 80513.59652642184\n",
      "When time is : 487, get best_k: -33.95369856978777 best_b: -45.402478736964255, and the loss is: 80098.9528736341\n",
      "When time is : 488, get best_k: -33.85369856978777 best_b: -45.302478736964254, and the loss is: 79685.38039271401\n",
      "When time is : 489, get best_k: -33.753698569787765 best_b: -45.20247873696425, and the loss is: 79272.8790836614\n",
      "When time is : 490, get best_k: -33.653698569787764 best_b: -45.10247873696425, and the loss is: 78861.44894647627\n",
      "When time is : 491, get best_k: -33.55369856978776 best_b: -45.00247873696425, and the loss is: 78451.08998115858\n",
      "When time is : 492, get best_k: -33.45369856978776 best_b: -44.90247873696425, and the loss is: 78041.80218770834\n",
      "When time is : 493, get best_k: -33.35369856978776 best_b: -44.80247873696425, and the loss is: 77633.58556612556\n",
      "When time is : 494, get best_k: -33.25369856978776 best_b: -44.702478736964245, and the loss is: 77226.44011641033\n",
      "When time is : 495, get best_k: -33.15369856978776 best_b: -44.602478736964244, and the loss is: 76820.36583856233\n",
      "When time is : 496, get best_k: -33.053698569787755 best_b: -44.50247873696424, and the loss is: 76415.36273258211\n",
      "When time is : 497, get best_k: -32.953698569787754 best_b: -44.40247873696424, and the loss is: 76011.43079846921\n",
      "When time is : 498, get best_k: -32.85369856978775 best_b: -44.30247873696424, and the loss is: 75608.57003622377\n",
      "When time is : 499, get best_k: -32.75369856978775 best_b: -44.20247873696424, and the loss is: 75206.7804458459\n",
      "When time is : 500, get best_k: -32.65369856978775 best_b: -44.10247873696424, and the loss is: 74806.0620273355\n",
      "When time is : 501, get best_k: -32.55369856978775 best_b: -44.002478736964235, and the loss is: 74406.41478069249\n",
      "When time is : 502, get best_k: -32.45369856978775 best_b: -43.902478736964234, and the loss is: 74007.83870591696\n",
      "When time is : 503, get best_k: -32.353698569787745 best_b: -43.80247873696423, and the loss is: 73610.33380300897\n",
      "When time is : 504, get best_k: -32.253698569787744 best_b: -43.70247873696423, and the loss is: 73213.90007196827\n",
      "When time is : 505, get best_k: -32.15369856978774 best_b: -43.60247873696423, and the loss is: 72818.53751279532\n",
      "When time is : 506, get best_k: -32.05369856978774 best_b: -43.50247873696423, and the loss is: 72424.24612548956\n",
      "When time is : 507, get best_k: -31.95369856978774 best_b: -43.40247873696423, and the loss is: 72031.02591005141\n",
      "When time is : 508, get best_k: -31.85369856978774 best_b: -43.302478736964225, and the loss is: 71638.87686648077\n",
      "When time is : 509, get best_k: -31.753698569787737 best_b: -43.202478736964224, and the loss is: 71247.79899477753\n",
      "When time is : 510, get best_k: -31.653698569787736 best_b: -43.10247873696422, and the loss is: 70857.79229494173\n",
      "When time is : 511, get best_k: -31.553698569787734 best_b: -43.00247873696422, and the loss is: 70468.85676697342\n",
      "When time is : 512, get best_k: -31.453698569787733 best_b: -42.90247873696422, and the loss is: 70080.99241087264\n",
      "When time is : 513, get best_k: -31.35369856978773 best_b: -42.80247873696422, and the loss is: 69694.19922663928\n",
      "When time is : 514, get best_k: -31.25369856978773 best_b: -42.70247873696422, and the loss is: 69308.47721427339\n",
      "When time is : 515, get best_k: -31.15369856978773 best_b: -42.602478736964215, and the loss is: 68923.82637377497\n",
      "When time is : 516, get best_k: -31.053698569787727 best_b: -42.502478736964214, and the loss is: 68540.24670514406\n",
      "When time is : 517, get best_k: -30.953698569787726 best_b: -42.40247873696421, and the loss is: 68157.73820838062\n",
      "When time is : 518, get best_k: -30.853698569787724 best_b: -42.30247873696421, and the loss is: 67776.3008834846\n",
      "When time is : 519, get best_k: -30.753698569787723 best_b: -42.20247873696421, and the loss is: 67395.93473045608\n",
      "When time is : 520, get best_k: -30.65369856978772 best_b: -42.10247873696421, and the loss is: 67016.63974929498\n",
      "When time is : 521, get best_k: -30.55369856978772 best_b: -42.00247873696421, and the loss is: 66638.41594000143\n",
      "When time is : 522, get best_k: -30.45369856978772 best_b: -41.902478736964206, and the loss is: 66261.2633025753\n",
      "When time is : 523, get best_k: -30.353698569787717 best_b: -41.802478736964204, and the loss is: 65885.18183701667\n",
      "When time is : 524, get best_k: -30.253698569787716 best_b: -41.7024787369642, and the loss is: 65510.17154332555\n",
      "When time is : 525, get best_k: -30.153698569787714 best_b: -41.6024787369642, and the loss is: 65136.23242150189\n",
      "When time is : 526, get best_k: -30.053698569787713 best_b: -41.5024787369642, and the loss is: 64763.36447154559\n",
      "When time is : 527, get best_k: -29.95369856978771 best_b: -41.4024787369642, and the loss is: 64391.5676934568\n",
      "When time is : 528, get best_k: -29.85369856978771 best_b: -41.3024787369642, and the loss is: 64020.84208723552\n",
      "When time is : 529, get best_k: -29.75369856978771 best_b: -41.202478736964196, and the loss is: 63651.18765288166\n",
      "When time is : 530, get best_k: -29.653698569787707 best_b: -41.102478736964194, and the loss is: 63282.60439039538\n",
      "When time is : 531, get best_k: -29.553698569787706 best_b: -41.00247873696419, and the loss is: 62915.09229977652\n",
      "When time is : 532, get best_k: -29.453698569787704 best_b: -40.90247873696419, and the loss is: 62548.65138102511\n",
      "When time is : 533, get best_k: -29.353698569787703 best_b: -40.80247873696419, and the loss is: 62183.28163414123\n",
      "When time is : 534, get best_k: -29.2536985697877 best_b: -40.70247873696419, and the loss is: 61818.983059124635\n",
      "When time is : 535, get best_k: -29.1536985697877 best_b: -40.60247873696419, and the loss is: 61455.75565597573\n",
      "When time is : 536, get best_k: -29.0536985697877 best_b: -40.502478736964186, and the loss is: 61093.59942469412\n",
      "When time is : 537, get best_k: -28.953698569787697 best_b: -40.402478736964184, and the loss is: 60732.514365280076\n",
      "When time is : 538, get best_k: -28.853698569787696 best_b: -40.30247873696418, and the loss is: 60372.50047773353\n",
      "When time is : 539, get best_k: -28.753698569787694 best_b: -40.20247873696418, and the loss is: 60013.55776205437\n",
      "When time is : 540, get best_k: -28.653698569787693 best_b: -40.10247873696418, and the loss is: 59655.68621824274\n",
      "When time is : 541, get best_k: -28.55369856978769 best_b: -40.00247873696418, and the loss is: 59298.88584629854\n",
      "When time is : 542, get best_k: -28.45369856978769 best_b: -39.90247873696418, and the loss is: 58943.15664622184\n",
      "When time is : 543, get best_k: -28.35369856978769 best_b: -39.802478736964176, and the loss is: 58588.49861801257\n",
      "When time is : 544, get best_k: -28.253698569787687 best_b: -39.702478736964174, and the loss is: 58234.911761670824\n",
      "When time is : 545, get best_k: -28.153698569787686 best_b: -39.60247873696417, and the loss is: 57882.39607719666\n",
      "When time is : 546, get best_k: -28.053698569787684 best_b: -39.50247873696417, and the loss is: 57530.95156458974\n",
      "When time is : 547, get best_k: -27.953698569787683 best_b: -39.40247873696417, and the loss is: 57180.57822385039\n",
      "When time is : 548, get best_k: -27.85369856978768 best_b: -39.30247873696417, and the loss is: 56831.27605497855\n",
      "When time is : 549, get best_k: -27.75369856978768 best_b: -39.20247873696417, and the loss is: 56483.0450579741\n",
      "When time is : 550, get best_k: -27.65369856978768 best_b: -39.102478736964166, and the loss is: 56135.88523283718\n",
      "When time is : 551, get best_k: -27.553698569787677 best_b: -39.002478736964164, and the loss is: 55789.79657956767\n",
      "When time is : 552, get best_k: -27.453698569787676 best_b: -38.90247873696416, and the loss is: 55444.77909816567\n",
      "When time is : 553, get best_k: -27.353698569787674 best_b: -38.80247873696416, and the loss is: 55100.832788631145\n",
      "When time is : 554, get best_k: -27.253698569787673 best_b: -38.70247873696416, and the loss is: 54757.95765096403\n",
      "When time is : 555, get best_k: -27.15369856978767 best_b: -38.60247873696416, and the loss is: 54416.15368516451\n",
      "When time is : 556, get best_k: -27.05369856978767 best_b: -38.50247873696416, and the loss is: 54075.42089123236\n",
      "When time is : 557, get best_k: -26.95369856978767 best_b: -38.402478736964156, and the loss is: 53735.75926916777\n",
      "When time is : 558, get best_k: -26.853698569787667 best_b: -38.302478736964154, and the loss is: 53397.16881897059\n",
      "When time is : 559, get best_k: -26.753698569787666 best_b: -38.20247873696415, and the loss is: 53059.64954064089\n",
      "When time is : 560, get best_k: -26.653698569787664 best_b: -38.10247873696415, and the loss is: 52723.201434178656\n",
      "When time is : 561, get best_k: -26.553698569787663 best_b: -38.00247873696415, and the loss is: 52387.82449958385\n",
      "When time is : 562, get best_k: -26.45369856978766 best_b: -37.90247873696415, and the loss is: 52053.51873685656\n",
      "When time is : 563, get best_k: -26.35369856978766 best_b: -37.80247873696415, and the loss is: 51720.2841459967\n",
      "When time is : 564, get best_k: -26.25369856978766 best_b: -37.702478736964146, and the loss is: 51388.12072700435\n",
      "When time is : 565, get best_k: -26.153698569787657 best_b: -37.602478736964144, and the loss is: 51057.02847987952\n",
      "When time is : 566, get best_k: -26.053698569787656 best_b: -37.50247873696414, and the loss is: 50727.00740462211\n",
      "When time is : 567, get best_k: -25.953698569787655 best_b: -37.40247873696414, and the loss is: 50398.057501232135\n",
      "When time is : 568, get best_k: -25.853698569787653 best_b: -37.30247873696414, and the loss is: 50070.1787697097\n",
      "When time is : 569, get best_k: -25.75369856978765 best_b: -37.20247873696414, and the loss is: 49743.37121005465\n",
      "When time is : 570, get best_k: -25.65369856978765 best_b: -37.10247873696414, and the loss is: 49417.63482226716\n",
      "When time is : 571, get best_k: -25.55369856978765 best_b: -37.002478736964136, and the loss is: 49092.96960634705\n",
      "When time is : 572, get best_k: -25.453698569787647 best_b: -36.902478736964134, and the loss is: 48769.37556229449\n",
      "When time is : 573, get best_k: -25.353698569787646 best_b: -36.80247873696413, and the loss is: 48446.8526901094\n",
      "When time is : 574, get best_k: -25.253698569787645 best_b: -36.70247873696413, and the loss is: 48125.400989791684\n",
      "When time is : 575, get best_k: -25.153698569787643 best_b: -36.60247873696413, and the loss is: 47805.02046134147\n",
      "When time is : 576, get best_k: -25.05369856978764 best_b: -36.50247873696413, and the loss is: 47485.71110475881\n",
      "When time is : 577, get best_k: -24.95369856978764 best_b: -36.40247873696413, and the loss is: 47167.472920043525\n",
      "When time is : 578, get best_k: -24.85369856978764 best_b: -36.302478736964126, and the loss is: 46850.305907195754\n",
      "When time is : 579, get best_k: -24.753698569787637 best_b: -36.202478736964125, and the loss is: 46534.21006621547\n",
      "When time is : 580, get best_k: -24.653698569787636 best_b: -36.10247873696412, and the loss is: 46219.185397102636\n",
      "When time is : 581, get best_k: -24.553698569787635 best_b: -36.00247873696412, and the loss is: 45905.23189985722\n",
      "When time is : 582, get best_k: -24.453698569787633 best_b: -35.90247873696412, and the loss is: 45592.34957447945\n",
      "When time is : 583, get best_k: -24.353698569787632 best_b: -35.80247873696412, and the loss is: 45280.53842096895\n",
      "When time is : 584, get best_k: -24.25369856978763 best_b: -35.70247873696412, and the loss is: 44969.79843932604\n",
      "When time is : 585, get best_k: -24.15369856978763 best_b: -35.602478736964116, and the loss is: 44660.12962955057\n",
      "When time is : 586, get best_k: -24.053698569787628 best_b: -35.502478736964115, and the loss is: 44351.5319916426\n",
      "When time is : 587, get best_k: -23.953698569787626 best_b: -35.40247873696411, and the loss is: 44044.005525602035\n",
      "When time is : 588, get best_k: -23.853698569787625 best_b: -35.30247873696411, and the loss is: 43737.55023142896\n",
      "When time is : 589, get best_k: -23.753698569787623 best_b: -35.20247873696411, and the loss is: 43432.166109123325\n",
      "When time is : 590, get best_k: -23.653698569787622 best_b: -35.10247873696411, and the loss is: 43127.853158685255\n",
      "When time is : 591, get best_k: -23.55369856978762 best_b: -35.00247873696411, and the loss is: 42824.611380114555\n",
      "When time is : 592, get best_k: -23.45369856978762 best_b: -34.902478736964106, and the loss is: 42522.44077341134\n",
      "When time is : 593, get best_k: -23.353698569787618 best_b: -34.802478736964105, and the loss is: 42221.341338575665\n",
      "When time is : 594, get best_k: -23.253698569787616 best_b: -34.7024787369641, and the loss is: 41921.31307560737\n",
      "When time is : 595, get best_k: -23.153698569787615 best_b: -34.6024787369641, and the loss is: 41622.35598450666\n",
      "When time is : 596, get best_k: -23.053698569787613 best_b: -34.5024787369641, and the loss is: 41324.4700652733\n",
      "When time is : 597, get best_k: -22.953698569787612 best_b: -34.4024787369641, and the loss is: 41027.65531790752\n"
     ]
    },
    {
     "name": "stdout",
     "output_type": "stream",
     "text": [
      "When time is : 598, get best_k: -22.85369856978761 best_b: -34.3024787369641, and the loss is: 40731.911742409204\n",
      "When time is : 599, get best_k: -22.75369856978761 best_b: -34.202478736964096, and the loss is: 40437.239338778185\n",
      "When time is : 600, get best_k: -22.653698569787608 best_b: -34.102478736964095, and the loss is: 40143.63810701484\n",
      "When time is : 601, get best_k: -22.553698569787606 best_b: -34.00247873696409, and the loss is: 39851.108047118876\n",
      "When time is : 602, get best_k: -22.453698569787605 best_b: -33.90247873696409, and the loss is: 39559.649159090455\n",
      "When time is : 603, get best_k: -22.353698569787603 best_b: -33.80247873696409, and the loss is: 39269.26144292939\n",
      "When time is : 604, get best_k: -22.253698569787602 best_b: -33.70247873696409, and the loss is: 38979.94489863583\n",
      "When time is : 605, get best_k: -22.1536985697876 best_b: -33.60247873696409, and the loss is: 38691.69952620977\n",
      "When time is : 606, get best_k: -22.0536985697876 best_b: -33.502478736964086, and the loss is: 38404.525325651186\n",
      "When time is : 607, get best_k: -21.953698569787598 best_b: -33.402478736964085, and the loss is: 38118.42229696004\n",
      "When time is : 608, get best_k: -21.853698569787596 best_b: -33.30247873696408, and the loss is: 37833.39044013638\n",
      "When time is : 609, get best_k: -21.753698569787595 best_b: -33.20247873696408, and the loss is: 37549.42975518019\n",
      "When time is : 610, get best_k: -21.653698569787593 best_b: -33.10247873696408, and the loss is: 37266.54024209149\n",
      "When time is : 611, get best_k: -21.553698569787592 best_b: -33.00247873696408, and the loss is: 36984.72190087027\n",
      "When time is : 612, get best_k: -21.45369856978759 best_b: -32.90247873696408, and the loss is: 36703.974731516435\n",
      "When time is : 613, get best_k: -21.35369856978759 best_b: -32.802478736964076, and the loss is: 36424.29873403016\n",
      "When time is : 614, get best_k: -21.253698569787588 best_b: -32.702478736964075, and the loss is: 36145.69390841134\n",
      "When time is : 615, get best_k: -21.153698569787586 best_b: -32.60247873696407, and the loss is: 35868.16025465991\n",
      "When time is : 616, get best_k: -21.053698569787585 best_b: -32.50247873696407, and the loss is: 35591.69777277608\n",
      "When time is : 617, get best_k: -20.953698569787583 best_b: -32.40247873696407, and the loss is: 35316.30646275966\n",
      "When time is : 618, get best_k: -20.853698569787582 best_b: -32.30247873696407, and the loss is: 35041.98632461072\n",
      "When time is : 619, get best_k: -20.75369856978758 best_b: -32.20247873696407, and the loss is: 34768.73735832921\n",
      "When time is : 620, get best_k: -20.65369856978758 best_b: -32.102478736964066, and the loss is: 34496.55956391519\n",
      "When time is : 621, get best_k: -20.553698569787578 best_b: -32.002478736964065, and the loss is: 34225.452941368625\n",
      "When time is : 622, get best_k: -20.453698569787576 best_b: -31.902478736964063, and the loss is: 33955.41749068953\n",
      "When time is : 623, get best_k: -20.353698569787575 best_b: -31.802478736964062, and the loss is: 33686.45321187795\n",
      "When time is : 624, get best_k: -20.253698569787574 best_b: -31.70247873696406, and the loss is: 33418.56010493383\n",
      "When time is : 625, get best_k: -20.153698569787572 best_b: -31.60247873696406, and the loss is: 33151.73816985718\n",
      "When time is : 626, get best_k: -20.05369856978757 best_b: -31.502478736964058, and the loss is: 32885.98740664797\n",
      "When time is : 627, get best_k: -19.95369856978757 best_b: -31.402478736964056, and the loss is: 32621.307815306256\n",
      "When time is : 628, get best_k: -19.853698569787568 best_b: -31.302478736964055, and the loss is: 32357.69939583201\n",
      "When time is : 629, get best_k: -19.753698569787566 best_b: -31.202478736964053, and the loss is: 32095.16214822521\n",
      "When time is : 630, get best_k: -19.653698569787565 best_b: -31.102478736964052, and the loss is: 31833.696072485887\n",
      "When time is : 631, get best_k: -19.553698569787564 best_b: -31.00247873696405, and the loss is: 31573.30116861404\n",
      "When time is : 632, get best_k: -19.453698569787562 best_b: -30.90247873696405, and the loss is: 31313.97743660971\n",
      "When time is : 633, get best_k: -19.35369856978756 best_b: -30.802478736964048, and the loss is: 31055.72487647281\n",
      "When time is : 634, get best_k: -19.25369856978756 best_b: -30.702478736964046, and the loss is: 30798.543488203362\n",
      "When time is : 635, get best_k: -19.153698569787558 best_b: -30.602478736964045, and the loss is: 30542.433271801376\n",
      "When time is : 636, get best_k: -19.053698569787556 best_b: -30.502478736964044, and the loss is: 30287.394227266923\n",
      "When time is : 637, get best_k: -18.953698569787555 best_b: -30.402478736964042, and the loss is: 30033.426354599917\n",
      "When time is : 638, get best_k: -18.853698569787554 best_b: -30.30247873696404, and the loss is: 29780.529653800324\n",
      "When time is : 639, get best_k: -18.753698569787552 best_b: -30.20247873696404, and the loss is: 29528.704124868265\n",
      "When time is : 640, get best_k: -18.65369856978755 best_b: -30.102478736964038, and the loss is: 29277.94976780365\n",
      "When time is : 641, get best_k: -18.55369856978755 best_b: -30.002478736964036, and the loss is: 29028.26658260652\n",
      "When time is : 642, get best_k: -18.453698569787548 best_b: -29.902478736964035, and the loss is: 28779.654569276863\n",
      "When time is : 643, get best_k: -18.353698569787547 best_b: -29.802478736964034, and the loss is: 28532.113727814638\n",
      "When time is : 644, get best_k: -18.253698569787545 best_b: -29.702478736964032, and the loss is: 28285.644058219943\n",
      "When time is : 645, get best_k: -18.153698569787544 best_b: -29.60247873696403, and the loss is: 28040.24556049267\n",
      "When time is : 646, get best_k: -18.053698569787542 best_b: -29.50247873696403, and the loss is: 27795.91823463291\n",
      "When time is : 647, get best_k: -17.95369856978754 best_b: -29.402478736964028, and the loss is: 27552.662080640588\n",
      "When time is : 648, get best_k: -17.85369856978754 best_b: -29.302478736964026, and the loss is: 27310.47709851574\n",
      "When time is : 649, get best_k: -17.753698569787538 best_b: -29.202478736964025, and the loss is: 27069.363288258377\n",
      "When time is : 650, get best_k: -17.653698569787537 best_b: -29.102478736964024, and the loss is: 26829.32064986848\n",
      "When time is : 651, get best_k: -17.553698569787535 best_b: -29.002478736964022, and the loss is: 26590.349183346014\n",
      "When time is : 652, get best_k: -17.453698569787534 best_b: -28.90247873696402, and the loss is: 26352.448888691048\n",
      "When time is : 653, get best_k: -17.353698569787532 best_b: -28.80247873696402, and the loss is: 26115.619765903575\n",
      "When time is : 654, get best_k: -17.25369856978753 best_b: -28.702478736964018, and the loss is: 25879.861814983542\n",
      "When time is : 655, get best_k: -17.15369856978753 best_b: -28.602478736964017, and the loss is: 25645.175035930974\n",
      "When time is : 656, get best_k: -17.053698569787528 best_b: -28.502478736964015, and the loss is: 25411.55942874594\n",
      "When time is : 657, get best_k: -16.953698569787527 best_b: -28.402478736964014, and the loss is: 25179.014993428325\n",
      "When time is : 658, get best_k: -16.853698569787525 best_b: -28.302478736964012, and the loss is: 24947.541729978147\n",
      "When time is : 659, get best_k: -16.753698569787524 best_b: -28.20247873696401, and the loss is: 24717.13963839552\n",
      "When time is : 660, get best_k: -16.653698569787522 best_b: -28.10247873696401, and the loss is: 24487.808718680324\n",
      "When time is : 661, get best_k: -16.55369856978752 best_b: -28.002478736964008, and the loss is: 24259.54897083256\n",
      "When time is : 662, get best_k: -16.45369856978752 best_b: -27.902478736964007, and the loss is: 24032.360394852287\n",
      "When time is : 663, get best_k: -16.353698569787518 best_b: -27.802478736964005, and the loss is: 23806.242990739553\n",
      "When time is : 664, get best_k: -16.253698569787517 best_b: -27.702478736964004, and the loss is: 23581.1967584942\n",
      "When time is : 665, get best_k: -16.153698569787515 best_b: -27.602478736964002, and the loss is: 23357.221698116362\n",
      "When time is : 666, get best_k: -16.053698569787514 best_b: -27.502478736964, and the loss is: 23134.317809605993\n",
      "When time is : 667, get best_k: -15.953698569787514 best_b: -27.402478736964, and the loss is: 22912.485092963067\n",
      "When time is : 668, get best_k: -15.853698569787515 best_b: -27.302478736963998, and the loss is: 22691.723548187656\n",
      "When time is : 669, get best_k: -15.753698569787515 best_b: -27.202478736963997, and the loss is: 22472.0331752797\n",
      "When time is : 670, get best_k: -15.653698569787515 best_b: -27.102478736963995, and the loss is: 22253.41397423918\n",
      "When time is : 671, get best_k: -15.553698569787516 best_b: -27.002478736963994, and the loss is: 22035.865945066165\n",
      "When time is : 672, get best_k: -15.453698569787516 best_b: -26.902478736963992, and the loss is: 21819.389087760603\n",
      "When time is : 673, get best_k: -15.353698569787516 best_b: -26.80247873696399, and the loss is: 21603.983402322585\n",
      "When time is : 674, get best_k: -15.253698569787517 best_b: -26.70247873696399, and the loss is: 21389.648888751926\n",
      "When time is : 675, get best_k: -15.153698569787517 best_b: -26.602478736963988, and the loss is: 21176.385547048783\n",
      "When time is : 676, get best_k: -15.053698569787517 best_b: -26.502478736963987, and the loss is: 20964.193377213138\n",
      "When time is : 677, get best_k: -14.953698569787518 best_b: -26.402478736963985, and the loss is: 20753.072379244924\n",
      "When time is : 678, get best_k: -14.853698569787518 best_b: -26.302478736963984, and the loss is: 20543.022553144183\n",
      "When time is : 679, get best_k: -14.753698569787518 best_b: -26.202478736963982, and the loss is: 20334.043898910957\n",
      "When time is : 680, get best_k: -14.653698569787519 best_b: -26.10247873696398, and the loss is: 20126.13641654515\n",
      "When time is : 681, get best_k: -14.55369856978752 best_b: -26.00247873696398, and the loss is: 19919.300106046856\n",
      "When time is : 682, get best_k: -14.45369856978752 best_b: -25.902478736963978, and the loss is: 19713.534967415988\n",
      "When time is : 683, get best_k: -14.35369856978752 best_b: -25.802478736963977, and the loss is: 19508.8410006526\n",
      "When time is : 684, get best_k: -14.25369856978752 best_b: -25.702478736963975, and the loss is: 19305.218205756704\n",
      "When time is : 685, get best_k: -14.15369856978752 best_b: -25.602478736963974, and the loss is: 19102.666582728274\n",
      "When time is : 686, get best_k: -14.053698569787521 best_b: -25.502478736963972, and the loss is: 18901.186131567305\n",
      "When time is : 687, get best_k: -13.953698569787521 best_b: -25.40247873696397, and the loss is: 18700.776852273797\n",
      "When time is : 688, get best_k: -13.853698569787522 best_b: -25.30247873696397, and the loss is: 18501.43874484778\n",
      "When time is : 689, get best_k: -13.753698569787522 best_b: -25.20247873696397, and the loss is: 18303.171809289226\n",
      "When time is : 690, get best_k: -13.653698569787522 best_b: -25.102478736963967, and the loss is: 18105.976045598138\n",
      "When time is : 691, get best_k: -13.553698569787523 best_b: -25.002478736963965, and the loss is: 17909.85145377452\n",
      "When time is : 692, get best_k: -13.453698569787523 best_b: -24.902478736963964, and the loss is: 17714.798033818388\n",
      "When time is : 693, get best_k: -13.353698569787523 best_b: -24.802478736963963, and the loss is: 17520.8157857297\n",
      "When time is : 694, get best_k: -13.253698569787524 best_b: -24.70247873696396, and the loss is: 17327.90470950849\n",
      "When time is : 695, get best_k: -13.153698569787524 best_b: -24.60247873696396, and the loss is: 17136.064805154765\n",
      "When time is : 696, get best_k: -13.053698569787525 best_b: -24.50247873696396, and the loss is: 16945.296072668483\n",
      "When time is : 697, get best_k: -12.953698569787525 best_b: -24.402478736963957, and the loss is: 16755.598512049703\n",
      "When time is : 698, get best_k: -12.853698569787525 best_b: -24.302478736963955, and the loss is: 16566.972123298394\n",
      "When time is : 699, get best_k: -12.753698569787526 best_b: -24.202478736963954, and the loss is: 16379.416906414535\n",
      "When time is : 700, get best_k: -12.653698569787526 best_b: -24.102478736963953, and the loss is: 16192.93286139816\n",
      "When time is : 701, get best_k: -12.553698569787526 best_b: -24.00247873696395, and the loss is: 16007.51998824924\n",
      "When time is : 702, get best_k: -12.453698569787527 best_b: -23.90247873696395, and the loss is: 15823.178286967797\n",
      "When time is : 703, get best_k: -12.353698569787527 best_b: -23.80247873696395, and the loss is: 15639.907757553832\n",
      "When time is : 704, get best_k: -12.253698569787527 best_b: -23.702478736963947, and the loss is: 15457.70840000734\n",
      "When time is : 705, get best_k: -12.153698569787528 best_b: -23.602478736963945, and the loss is: 15276.580214328302\n",
      "When time is : 706, get best_k: -12.053698569787528 best_b: -23.502478736963944, and the loss is: 15096.523200516747\n",
      "When time is : 707, get best_k: -11.953698569787528 best_b: -23.402478736963943, and the loss is: 14917.53735857267\n",
      "When time is : 708, get best_k: -11.853698569787529 best_b: -23.30247873696394, and the loss is: 14739.622688496038\n",
      "When time is : 709, get best_k: -11.75369856978753 best_b: -23.20247873696394, and the loss is: 14562.779190286888\n",
      "When time is : 710, get best_k: -11.65369856978753 best_b: -23.10247873696394, and the loss is: 14387.006863945211\n",
      "When time is : 711, get best_k: -11.55369856978753 best_b: -23.002478736963937, and the loss is: 14212.305709471006\n",
      "When time is : 712, get best_k: -11.45369856978753 best_b: -22.902478736963936, and the loss is: 14038.675726864258\n",
      "When time is : 713, get best_k: -11.35369856978753 best_b: -22.802478736963934, and the loss is: 13866.116916125\n",
      "When time is : 714, get best_k: -11.253698569787531 best_b: -22.702478736963933, and the loss is: 13694.629277253205\n",
      "When time is : 715, get best_k: -11.153698569787531 best_b: -22.60247873696393, and the loss is: 13524.212810248879\n",
      "When time is : 716, get best_k: -11.053698569787532 best_b: -22.50247873696393, and the loss is: 13354.867515112028\n",
      "When time is : 717, get best_k: -10.953698569787532 best_b: -22.40247873696393, and the loss is: 13186.593391842622\n",
      "When time is : 718, get best_k: -10.853698569787532 best_b: -22.302478736963927, and the loss is: 13019.390440440717\n",
      "When time is : 719, get best_k: -10.753698569787533 best_b: -22.202478736963926, and the loss is: 12853.258660906287\n",
      "When time is : 720, get best_k: -10.653698569787533 best_b: -22.102478736963924, and the loss is: 12688.198053239314\n",
      "When time is : 721, get best_k: -10.553698569787533 best_b: -22.002478736963923, and the loss is: 12524.208617439795\n",
      "When time is : 722, get best_k: -10.453698569787534 best_b: -21.90247873696392, and the loss is: 12361.290353507755\n",
      "When time is : 723, get best_k: -10.353698569787534 best_b: -21.80247873696392, and the loss is: 12199.443261443208\n",
      "When time is : 724, get best_k: -10.253698569787534 best_b: -21.70247873696392, and the loss is: 12038.66734124611\n",
      "When time is : 725, get best_k: -10.153698569787535 best_b: -21.602478736963917, and the loss is: 11878.962592916489\n",
      "When time is : 726, get best_k: -10.053698569787535 best_b: -21.502478736963916, and the loss is: 11720.329016454341\n",
      "When time is : 727, get best_k: -9.953698569787536 best_b: -21.402478736963914, and the loss is: 11562.766611859644\n",
      "When time is : 728, get best_k: -9.853698569787536 best_b: -21.302478736963913, and the loss is: 11406.275379132436\n",
      "When time is : 729, get best_k: -9.753698569787536 best_b: -21.20247873696391, and the loss is: 11250.855318272694\n",
      "When time is : 730, get best_k: -9.653698569787537 best_b: -21.10247873696391, and the loss is: 11096.50642928043\n",
      "When time is : 731, get best_k: -9.553698569787537 best_b: -21.00247873696391, and the loss is: 10943.22871215565\n",
      "When time is : 732, get best_k: -9.453698569787537 best_b: -20.902478736963907, and the loss is: 10791.0221668983\n",
      "When time is : 733, get best_k: -9.353698569787538 best_b: -20.802478736963906, and the loss is: 10639.886793508445\n",
      "When time is : 734, get best_k: -9.253698569787538 best_b: -20.702478736963904, and the loss is: 10489.822591986052\n",
      "When time is : 735, get best_k: -9.153698569787538 best_b: -20.602478736963903, and the loss is: 10340.82956233113\n",
      "When time is : 736, get best_k: -9.053698569787539 best_b: -20.5024787369639, and the loss is: 10192.90770454369\n",
      "When time is : 737, get best_k: -8.953698569787539 best_b: -20.4024787369639, and the loss is: 10046.057018623715\n",
      "When time is : 738, get best_k: -8.85369856978754 best_b: -20.3024787369639, and the loss is: 9900.277504571202\n",
      "When time is : 739, get best_k: -8.75369856978754 best_b: -20.202478736963897, and the loss is: 9755.569162386153\n",
      "When time is : 740, get best_k: -8.65369856978754 best_b: -20.102478736963896, and the loss is: 9611.931992068592\n",
      "When time is : 741, get best_k: -8.55369856978754 best_b: -20.002478736963894, and the loss is: 9469.365993618498\n",
      "When time is : 742, get best_k: -8.45369856978754 best_b: -19.902478736963893, and the loss is: 9327.871167035875\n",
      "When time is : 743, get best_k: -8.353698569787541 best_b: -19.80247873696389, and the loss is: 9187.447512320716\n",
      "When time is : 744, get best_k: -8.253698569787542 best_b: -19.70247873696389, and the loss is: 9048.095029473021\n",
      "When time is : 745, get best_k: -8.153698569787542 best_b: -19.60247873696389, and the loss is: 8909.813718492811\n",
      "When time is : 746, get best_k: -8.053698569787542 best_b: -19.502478736963887, and the loss is: 8772.603579380066\n",
      "When time is : 747, get best_k: -7.953698569787543 best_b: -19.402478736963886, and the loss is: 8636.46461213479\n",
      "When time is : 748, get best_k: -7.853698569787543 best_b: -19.302478736963884, and the loss is: 8501.396816756987\n",
      "When time is : 749, get best_k: -7.753698569787543 best_b: -19.202478736963883, and the loss is: 8367.400193246653\n",
      "When time is : 750, get best_k: -7.653698569787544 best_b: -19.10247873696388, and the loss is: 8234.474741603783\n",
      "When time is : 751, get best_k: -7.553698569787544 best_b: -19.00247873696388, and the loss is: 8102.620461828397\n",
      "When time is : 752, get best_k: -7.453698569787544 best_b: -18.90247873696388, and the loss is: 7971.837353920476\n",
      "When time is : 753, get best_k: -7.353698569787545 best_b: -18.802478736963877, and the loss is: 7842.1254178800145\n",
      "When time is : 754, get best_k: -7.253698569787545 best_b: -18.702478736963876, and the loss is: 7713.484653707038\n",
      "When time is : 755, get best_k: -7.1536985697875455 best_b: -18.602478736963874, and the loss is: 7585.9150614015325\n",
      "When time is : 756, get best_k: -7.053698569787546 best_b: -18.502478736963873, and the loss is: 7459.416640963485\n",
      "When time is : 757, get best_k: -6.953698569787546 best_b: -18.40247873696387, and the loss is: 7333.989392392916\n",
      "When time is : 758, get best_k: -6.8536985697875465 best_b: -18.30247873696387, and the loss is: 7209.633315689819\n",
      "When time is : 759, get best_k: -6.753698569787547 best_b: -18.20247873696387, and the loss is: 7086.3484108542\n",
      "When time is : 760, get best_k: -6.653698569787547 best_b: -18.102478736963867, and the loss is: 6964.134677886011\n",
      "When time is : 761, get best_k: -6.553698569787548 best_b: -18.002478736963866, and the loss is: 6842.99211678534\n",
      "When time is : 762, get best_k: -6.453698569787548 best_b: -17.902478736963864, and the loss is: 6722.920727552121\n",
      "When time is : 763, get best_k: -6.353698569787548 best_b: -17.802478736963863, and the loss is: 6603.9205101863645\n",
      "When time is : 764, get best_k: -6.253698569787549 best_b: -17.70247873696386, and the loss is: 6485.991464688095\n",
      "When time is : 765, get best_k: -6.153698569787549 best_b: -17.60247873696386, and the loss is: 6369.133591057276\n",
      "When time is : 766, get best_k: -6.053698569787549 best_b: -17.50247873696386, and the loss is: 6253.346889293942\n",
      "When time is : 767, get best_k: -5.95369856978755 best_b: -17.402478736963857, and the loss is: 6138.631359398071\n",
      "When time is : 768, get best_k: -5.85369856978755 best_b: -17.302478736963856, and the loss is: 6024.987001369674\n",
      "When time is : 769, get best_k: -5.7536985697875505 best_b: -17.202478736963855, and the loss is: 5912.4138152087535\n",
      "When time is : 770, get best_k: -5.653698569787551 best_b: -17.102478736963853, and the loss is: 5800.911800915287\n",
      "When time is : 771, get best_k: -5.553698569787551 best_b: -17.00247873696385, and the loss is: 5690.480958489308\n",
      "When time is : 772, get best_k: -5.4536985697875515 best_b: -16.90247873696385, and the loss is: 5581.12128793079\n",
      "When time is : 773, get best_k: -5.353698569787552 best_b: -16.80247873696385, and the loss is: 5472.832789239739\n",
      "When time is : 774, get best_k: -5.253698569787552 best_b: -16.702478736963847, and the loss is: 5365.615462416169\n",
      "When time is : 775, get best_k: -5.153698569787553 best_b: -16.602478736963846, and the loss is: 5259.4693074600655\n",
      "When time is : 776, get best_k: -5.053698569787553 best_b: -16.502478736963845, and the loss is: 5154.394324371429\n",
      "When time is : 777, get best_k: -4.953698569787553 best_b: -16.402478736963843, and the loss is: 5050.390513150268\n",
      "When time is : 778, get best_k: -4.853698569787554 best_b: -16.30247873696384, and the loss is: 4947.457873796571\n",
      "When time is : 779, get best_k: -4.753698569787554 best_b: -16.20247873696384, and the loss is: 4845.596406310349\n",
      "When time is : 780, get best_k: -4.653698569787554 best_b: -16.10247873696384, and the loss is: 4744.8061106915975\n",
      "When time is : 781, get best_k: -4.553698569787555 best_b: -16.002478736963837, and the loss is: 4645.086986940312\n",
      "When time is : 782, get best_k: -4.453698569787555 best_b: -15.902478736963838, and the loss is: 4546.4390350565045\n",
      "When time is : 783, get best_k: -4.353698569787555 best_b: -15.802478736963838, and the loss is: 4448.862255040156\n",
      "When time is : 784, get best_k: -4.253698569787556 best_b: -15.702478736963839, and the loss is: 4352.356646891287\n",
      "When time is : 785, get best_k: -4.153698569787556 best_b: -15.602478736963839, and the loss is: 4256.922210609889\n",
      "When time is : 786, get best_k: -4.0536985697875565 best_b: -15.50247873696384, and the loss is: 4162.558946195959\n",
      "When time is : 787, get best_k: -3.9536985697875564 best_b: -15.40247873696384, and the loss is: 4069.2668536494944\n",
      "When time is : 788, get best_k: -3.8536985697875563 best_b: -15.30247873696384, and the loss is: 3977.045932970507\n",
      "When time is : 789, get best_k: -3.7536985697875562 best_b: -15.20247873696384, and the loss is: 3885.896184158985\n",
      "When time is : 790, get best_k: -3.653698569787556 best_b: -15.10247873696384, and the loss is: 3795.8176072149354\n",
      "When time is : 791, get best_k: -3.553698569787556 best_b: -15.002478736963841, and the loss is: 3706.810202138359\n",
      "When time is : 792, get best_k: -3.453698569787556 best_b: -14.902478736963841, and the loss is: 3618.8739689292474\n",
      "When time is : 793, get best_k: -3.353698569787556 best_b: -14.802478736963842, and the loss is: 3532.008907587609\n",
      "When time is : 794, get best_k: -3.253698569787556 best_b: -14.702478736963842, and the loss is: 3446.2150181134443\n",
      "When time is : 795, get best_k: -3.1536985697875557 best_b: -14.602478736963842, and the loss is: 3361.4923005067453\n",
      "When time is : 796, get best_k: -3.0536985697875556 best_b: -14.502478736963843, and the loss is: 3277.8407547675183\n",
      "When time is : 797, get best_k: -2.9536985697875555 best_b: -14.402478736963843, and the loss is: 3195.260380895758\n",
      "When time is : 798, get best_k: -2.8536985697875554 best_b: -14.302478736963844, and the loss is: 3113.751178891472\n",
      "When time is : 799, get best_k: -2.7536985697875553 best_b: -14.202478736963844, and the loss is: 3033.3131487546502\n",
      "When time is : 800, get best_k: -2.6536985697875553 best_b: -14.102478736963844, and the loss is: 2953.9462904853112\n",
      "When time is : 801, get best_k: -2.553698569787555 best_b: -14.002478736963845, and the loss is: 2875.650604083432\n",
      "When time is : 802, get best_k: -2.453698569787555 best_b: -13.902478736963845, and the loss is: 2798.426089549028\n",
      "When time is : 803, get best_k: -2.353698569787555 best_b: -13.802478736963845, and the loss is: 2722.2727468820963\n",
      "When time is : 804, get best_k: -2.253698569787555 best_b: -13.702478736963846, and the loss is: 2647.190576082629\n",
      "When time is : 805, get best_k: -2.153698569787555 best_b: -13.602478736963846, and the loss is: 2573.1795771506336\n",
      "When time is : 806, get best_k: -2.0536985697875547 best_b: -13.502478736963846, and the loss is: 2500.2397500861084\n",
      "When time is : 807, get best_k: -1.9536985697875546 best_b: -13.402478736963847, and the loss is: 2428.371094889056\n",
      "When time is : 808, get best_k: -1.8536985697875545 best_b: -13.302478736963847, and the loss is: 2357.5736115594736\n",
      "When time is : 809, get best_k: -1.7536985697875545 best_b: -13.202478736963847, and the loss is: 2287.84730009736\n",
      "When time is : 810, get best_k: -1.6536985697875544 best_b: -13.102478736963848, and the loss is: 2219.192160502718\n",
      "When time is : 811, get best_k: -1.5536985697875543 best_b: -13.002478736963848, and the loss is: 2151.6081927755454\n",
      "When time is : 812, get best_k: -1.4536985697875542 best_b: -12.902478736963849, and the loss is: 2085.095396915846\n",
      "When time is : 813, get best_k: -1.353698569787554 best_b: -12.802478736963849, and the loss is: 2019.653772923614\n",
      "When time is : 814, get best_k: -1.253698569787554 best_b: -12.70247873696385, and the loss is: 1955.283320798851\n",
      "When time is : 815, get best_k: -1.153698569787554 best_b: -12.60247873696385, and the loss is: 1891.984040541561\n",
      "When time is : 816, get best_k: -1.0536985697875538 best_b: -12.50247873696385, and the loss is: 1829.7559321517383\n",
      "When time is : 817, get best_k: -0.9536985697875539 best_b: -12.40247873696385, and the loss is: 1768.598995629392\n",
      "When time is : 818, get best_k: -0.8536985697875539 best_b: -12.30247873696385, and the loss is: 1708.5132309745113\n",
      "When time is : 819, get best_k: -0.7536985697875539 best_b: -12.202478736963851, and the loss is: 1649.4986381871024\n",
      "When time is : 820, get best_k: -0.6536985697875539 best_b: -12.102478736963851, and the loss is: 1591.555217267163\n",
      "When time is : 821, get best_k: -0.5536985697875539 best_b: -12.002478736963852, and the loss is: 1534.6829682146938\n",
      "When time is : 822, get best_k: -0.45369856978755396 best_b: -11.902478736963852, and the loss is: 1478.8818910296964\n",
      "When time is : 823, get best_k: -0.353698569787554 best_b: -11.802478736963852, and the loss is: 1424.1519857121682\n",
      "When time is : 824, get best_k: -0.253698569787554 best_b: -11.702478736963853, and the loss is: 1370.493252262111\n",
      "When time is : 825, get best_k: -0.153698569787554 best_b: -11.602478736963853, and the loss is: 1317.905690679524\n",
      "When time is : 826, get best_k: -0.053698569787553996 best_b: -11.502478736963853, and the loss is: 1266.3893009644066\n",
      "When time is : 827, get best_k: 0.04630143021244601 best_b: -11.402478736963854, and the loss is: 1215.9440831167612\n",
      "When time is : 828, get best_k: 0.14630143021244602 best_b: -11.302478736963854, and the loss is: 1166.570037136585\n",
      "When time is : 829, get best_k: 0.24630143021244602 best_b: -11.202478736963855, and the loss is: 1118.2671630238792\n",
      "When time is : 830, get best_k: 0.346301430212446 best_b: -11.102478736963855, and the loss is: 1071.0354607786442\n",
      "When time is : 831, get best_k: 0.44630143021244606 best_b: -11.002478736963855, and the loss is: 1024.8749304008786\n",
      "When time is : 832, get best_k: 0.546301430212446 best_b: -10.902478736963856, and the loss is: 979.7855718905837\n",
      "When time is : 833, get best_k: 0.646301430212446 best_b: -10.802478736963856, and the loss is: 935.76738524776\n",
      "When time is : 834, get best_k: 0.746301430212446 best_b: -10.702478736963856, and the loss is: 892.8203704724052\n",
      "When time is : 835, get best_k: 0.846301430212446 best_b: -10.602478736963857, and the loss is: 850.9445275645216\n",
      "When time is : 836, get best_k: 0.946301430212446 best_b: -10.502478736963857, and the loss is: 810.1398565241083\n",
      "When time is : 837, get best_k: 1.046301430212446 best_b: -10.402478736963857, and the loss is: 770.4063573511658\n",
      "When time is : 838, get best_k: 1.1463014302124461 best_b: -10.302478736963858, and the loss is: 731.7440300456935\n",
      "When time is : 839, get best_k: 1.2463014302124462 best_b: -10.202478736963858, and the loss is: 694.1528746076907\n",
      "When time is : 840, get best_k: 1.3463014302124463 best_b: -10.102478736963858, and the loss is: 657.6328910371601\n",
      "When time is : 841, get best_k: 1.4463014302124464 best_b: -10.002478736963859, and the loss is: 622.1840793340983\n",
      "When time is : 842, get best_k: 1.5463014302124465 best_b: -9.90247873696386, and the loss is: 587.8064394985064\n",
      "When time is : 843, get best_k: 1.6463014302124466 best_b: -9.80247873696386, and the loss is: 554.4999715303861\n",
      "When time is : 844, get best_k: 1.7463014302124467 best_b: -9.70247873696386, and the loss is: 522.2646754297358\n",
      "When time is : 845, get best_k: 1.8463014302124467 best_b: -9.60247873696386, and the loss is: 491.100551196556\n",
      "When time is : 846, get best_k: 1.9463014302124468 best_b: -9.50247873696386, and the loss is: 461.0075988308455\n",
      "When time is : 847, get best_k: 2.0463014302124467 best_b: -9.402478736963861, and the loss is: 431.98581833260636\n",
      "When time is : 848, get best_k: 2.146301430212447 best_b: -9.302478736963861, and the loss is: 404.03520970183746\n",
      "When time is : 849, get best_k: 2.246301430212447 best_b: -9.202478736963862, and the loss is: 377.155772938539\n",
      "When time is : 850, get best_k: 2.346301430212447 best_b: -9.102478736963862, and the loss is: 351.3475080427109\n",
      "When time is : 851, get best_k: 2.446301430212447 best_b: -9.002478736963862, and the loss is: 326.6104150143527\n",
      "When time is : 852, get best_k: 2.546301430212447 best_b: -8.902478736963863, and the loss is: 302.9444938534651\n",
      "When time is : 853, get best_k: 2.6463014302124472 best_b: -8.802478736963863, and the loss is: 280.34974456004767\n"
     ]
    },
    {
     "name": "stdout",
     "output_type": "stream",
     "text": [
      "When time is : 854, get best_k: 2.7463014302124473 best_b: -8.702478736963863, and the loss is: 258.82616713410107\n",
      "When time is : 855, get best_k: 2.8463014302124474 best_b: -8.602478736963864, and the loss is: 238.37376157562466\n",
      "When time is : 856, get best_k: 2.9463014302124475 best_b: -8.502478736963864, and the loss is: 218.99252788461826\n",
      "When time is : 857, get best_k: 3.0463014302124476 best_b: -8.402478736963864, and the loss is: 200.68246606108255\n",
      "When time is : 858, get best_k: 3.1463014302124477 best_b: -8.302478736963865, and the loss is: 183.44357610501723\n",
      "When time is : 859, get best_k: 3.2463014302124478 best_b: -8.202478736963865, and the loss is: 167.2758580164222\n",
      "When time is : 860, get best_k: 3.346301430212448 best_b: -8.102478736963866, and the loss is: 152.17931179529745\n",
      "When time is : 861, get best_k: 3.446301430212448 best_b: -8.002478736963866, and the loss is: 138.15393744164294\n",
      "When time is : 862, get best_k: 3.546301430212448 best_b: -7.902478736963866, and the loss is: 125.1997349554591\n",
      "When time is : 863, get best_k: 3.646301430212448 best_b: -7.802478736963867, and the loss is: 113.31670433674552\n",
      "When time is : 864, get best_k: 3.746301430212448 best_b: -7.702478736963867, and the loss is: 102.50484558550222\n",
      "When time is : 865, get best_k: 3.8463014302124483 best_b: -7.602478736963867, and the loss is: 92.76415870172929\n",
      "When time is : 866, get best_k: 3.9463014302124484 best_b: -7.502478736963868, and the loss is: 84.09464368542679\n",
      "When time is : 867, get best_k: 4.0463014302124485 best_b: -7.402478736963868, and the loss is: 76.49630053659453\n",
      "When time is : 868, get best_k: 4.146301430212448 best_b: -7.302478736963868, and the loss is: 69.96912925523264\n",
      "When time is : 869, get best_k: 4.246301430212448 best_b: -7.202478736963869, and the loss is: 64.51312984134115\n",
      "When time is : 870, get best_k: 4.346301430212447 best_b: -7.102478736963869, and the loss is: 60.12830229492002\n",
      "When time is : 871, get best_k: 4.446301430212447 best_b: -7.0024787369638695, and the loss is: 56.814646615969274\n",
      "When time is : 872, get best_k: 4.546301430212447 best_b: -6.90247873696387, and the loss is: 54.57216280448877\n",
      "When time is : 873, get best_k: 4.646301430212446 best_b: -6.80247873696387, and the loss is: 53.40085086047872\n",
      "When time is : 874, get best_k: 4.746301430212446 best_b: -6.7024787369638705, and the loss is: 53.300710783938975\n"
     ]
    }
   ],
   "source": [
    "trying_times = 2000\n",
    "\n",
    "min_loss = float('inf')\n",
    "\n",
    "best_k = random.random() * 200 - 100\n",
    "best_b = random.random() * 200 - 100\n",
    "\n",
    "direction = [\n",
    "    (+1, -1),  # first element: k's change direction, second element: b's change direction\n",
    "    (+1, +1), \n",
    "    (-1, -1), \n",
    "    (-1, +1),\n",
    "]\n",
    "\n",
    "next_direction = random.choice(direction)\n",
    "\n",
    "scalar = 0.1\n",
    "\n",
    "for i in range(trying_times):\n",
    "    \n",
    "    k_direction, b_direction = next_direction\n",
    "    \n",
    "    current_k, current_b = best_k + k_direction * scalar, best_b + b_direction * scalar\n",
    "    \n",
    "    price_by_k_and_b = [func(r, current_k, current_b) for r in room_num]\n",
    "\n",
    "    current_loss = loss(y, price_by_k_and_b)\n",
    "    \n",
    "    if current_loss < min_loss: # performance became better\n",
    "        min_loss = current_loss\n",
    "        best_k, best_b = current_k, current_b\n",
    "        \n",
    "        next_direction = next_direction\n",
    "        print('When time is : {}, get best_k: {} best_b: {}, and the loss is: {}'.format(i, best_k, best_b, min_loss))\n",
    "    else:\n",
    "        next_direction = random.choice(direction)"
   ]
  },
  {
   "cell_type": "code",
   "execution_count": null,
   "metadata": {},
   "outputs": [],
   "source": []
  }
 ],
 "metadata": {
  "kernelspec": {
   "display_name": "Python 3",
   "language": "python",
   "name": "python3"
  },
  "language_info": {
   "codemirror_mode": {
    "name": "ipython",
    "version": 3
   },
   "file_extension": ".py",
   "mimetype": "text/x-python",
   "name": "python",
   "nbconvert_exporter": "python",
   "pygments_lexer": "ipython3",
   "version": "3.7.3"
  }
 },
 "nbformat": 4,
 "nbformat_minor": 2
}
