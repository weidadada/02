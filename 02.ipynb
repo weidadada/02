{
 "cells": [
  {
   "cell_type": "markdown",
   "metadata": {},
   "source": [
    "# lambda 函数用法"
   ]
  },
  {
   "cell_type": "code",
   "execution_count": 2,
   "metadata": {},
   "outputs": [],
   "source": [
    "import random"
   ]
  },
  {
   "cell_type": "code",
   "execution_count": 3,
   "metadata": {},
   "outputs": [],
   "source": [
    "def adj():\n",
    "    return random.choice('蓝色的 | 好看的 | 小小的'.split('|'))#.split()[0]"
   ]
  },
  {
   "cell_type": "code",
   "execution_count": 4,
   "metadata": {},
   "outputs": [
    {
     "data": {
      "text/plain": [
       "' 小小的'"
      ]
     },
     "execution_count": 4,
     "metadata": {},
     "output_type": "execute_result"
    }
   ],
   "source": [
    "adj()"
   ]
  },
  {
   "cell_type": "code",
   "execution_count": 5,
   "metadata": {},
   "outputs": [],
   "source": [
    "def adj_star():\n",
    "    return random.choice([\"\",adj()+adj_star()])#会死循环，每一次.choice"
   ]
  },
  {
   "cell_type": "code",
   "execution_count": 6,
   "metadata": {},
   "outputs": [],
   "source": [
    "def adj_star_1():\n",
    "    return random.choice([lambda :'',lambda : adj()+adj_star_1()])()"
   ]
  },
  {
   "cell_type": "code",
   "execution_count": 7,
   "metadata": {},
   "outputs": [
    {
     "data": {
      "text/plain": [
       "' 小小的'"
      ]
     },
     "execution_count": 7,
     "metadata": {},
     "output_type": "execute_result"
    }
   ],
   "source": [
    "adj_star_1()"
   ]
  },
  {
   "cell_type": "markdown",
   "metadata": {},
   "source": [
    "# 02"
   ]
  },
  {
   "cell_type": "markdown",
   "metadata": {},
   "source": [
    "# 城市坐标"
   ]
  },
  {
   "cell_type": "code",
   "execution_count": 9,
   "metadata": {},
   "outputs": [],
   "source": [
    "coordination_source = \"\"\"\n",
    "{name:'兰州', geoCoord:[103.73, 36.03]},\n",
    "{name:'嘉峪关', geoCoord:[98.17, 39.47]},\n",
    "{name:'西宁', geoCoord:[101.74, 36.56]},\n",
    "{name:'成都', geoCoord:[104.06, 30.67]},\n",
    "{name:'石家庄', geoCoord:[114.48, 38.03]},\n",
    "{name:'拉萨', geoCoord:[102.73, 25.04]},\n",
    "{name:'贵阳', geoCoord:[106.71, 26.57]},\n",
    "{name:'武汉', geoCoord:[114.31, 30.52]},\n",
    "{name:'郑州', geoCoord:[113.65, 34.76]},\n",
    "{name:'济南', geoCoord:[117, 36.65]},\n",
    "{name:'南京', geoCoord:[118.78, 32.04]},\n",
    "{name:'合肥', geoCoord:[117.27, 31.86]},\n",
    "{name:'杭州', geoCoord:[120.19, 30.26]},\n",
    "{name:'南昌', geoCoord:[115.89, 28.68]},\n",
    "{name:'福州', geoCoord:[119.3, 26.08]},\n",
    "{name:'广州', geoCoord:[113.23, 23.16]},\n",
    "{name:'长沙', geoCoord:[113, 28.21]},\n",
    "//{name:'海口', geoCoord:[110.35, 20.02]},\n",
    "{name:'沈阳', geoCoord:[123.38, 41.8]},\n",
    "{name:'长春', geoCoord:[125.35, 43.88]},\n",
    "{name:'哈尔滨', geoCoord:[126.63, 45.75]},\n",
    "{name:'太原', geoCoord:[112.53, 37.87]},\n",
    "{name:'西安', geoCoord:[108.95, 34.27]},\n",
    "//{name:'台湾', geoCoord:[121.30, 25.03]},\n",
    "{name:'北京', geoCoord:[116.46, 39.92]},\n",
    "{name:'上海', geoCoord:[121.48, 31.22]},\n",
    "{name:'重庆', geoCoord:[106.54, 29.59]},\n",
    "{name:'天津', geoCoord:[117.2, 39.13]},\n",
    "{name:'呼和浩特', geoCoord:[111.65, 40.82]},\n",
    "{name:'南宁', geoCoord:[108.33, 22.84]},\n",
    "//{name:'西藏', geoCoord:[91.11, 29.97]},\n",
    "{name:'银川', geoCoord:[106.27, 38.47]},\n",
    "{name:'乌鲁木齐', geoCoord:[87.68, 43.77]},\n",
    "{name:'香港', geoCoord:[114.17, 22.28]},\n",
    "{name:'澳门', geoCoord:[113.54, 22.19]}\n",
    "\"\"\""
   ]
  },
  {
   "cell_type": "code",
   "execution_count": 10,
   "metadata": {},
   "outputs": [],
   "source": [
    "import re"
   ]
  },
  {
   "cell_type": "code",
   "execution_count": 11,
   "metadata": {},
   "outputs": [],
   "source": [
    "test_string = \"{name:'兰州', geoCoord:[103.73, 36.03]},\""
   ]
  },
  {
   "cell_type": "code",
   "execution_count": 12,
   "metadata": {},
   "outputs": [],
   "source": [
    "pattern = re.compile(r\"name:'(\\w+)',\\s+geoCoord:\\[(\\d+.?\\d+),\\s(\\d+.?\\d+)\\]\")#r代表这是个正则表达，？表示有或者没有，\\[:\\斜杠表示转译,[在正则中有其他意思。\\s？？"
   ]
  },
  {
   "cell_type": "code",
   "execution_count": 13,
   "metadata": {},
   "outputs": [
    {
     "data": {
      "text/plain": [
       "[('兰州', '103.73', '36.03')]"
      ]
     },
     "execution_count": 13,
     "metadata": {},
     "output_type": "execute_result"
    }
   ],
   "source": [
    "city_info = pattern.findall(test_string)\n",
    "city_info"
   ]
  },
  {
   "cell_type": "code",
   "execution_count": 14,
   "metadata": {},
   "outputs": [],
   "source": [
    "city_location = {}"
   ]
  },
  {
   "cell_type": "code",
   "execution_count": 15,
   "metadata": {},
   "outputs": [],
   "source": [
    "for line in coordination_source.split('\\n'):\n",
    "    city_info = pattern.findall(line)\n",
    "    if not city_info: continue\n",
    "    \n",
    "    # following: we find the city info\n",
    "    \n",
    "    city, long, lat = city_info[0]##[0]别忘了\n",
    "    \n",
    "    long, lat = float(long), float(lat)#字符串转float数子\n",
    "    \n",
    "    city_location[city] = (long, lat)"
   ]
  },
  {
   "cell_type": "code",
   "execution_count": 16,
   "metadata": {},
   "outputs": [
    {
     "data": {
      "text/plain": [
       "{'兰州': (103.73, 36.03),\n",
       " '嘉峪关': (98.17, 39.47),\n",
       " '西宁': (101.74, 36.56),\n",
       " '成都': (104.06, 30.67),\n",
       " '石家庄': (114.48, 38.03),\n",
       " '拉萨': (102.73, 25.04),\n",
       " '贵阳': (106.71, 26.57),\n",
       " '武汉': (114.31, 30.52),\n",
       " '郑州': (113.65, 34.76),\n",
       " '济南': (117.0, 36.65),\n",
       " '南京': (118.78, 32.04),\n",
       " '合肥': (117.27, 31.86),\n",
       " '杭州': (120.19, 30.26),\n",
       " '南昌': (115.89, 28.68),\n",
       " '福州': (119.3, 26.08),\n",
       " '广州': (113.23, 23.16),\n",
       " '长沙': (113.0, 28.21),\n",
       " '海口': (110.35, 20.02),\n",
       " '沈阳': (123.38, 41.8),\n",
       " '长春': (125.35, 43.88),\n",
       " '哈尔滨': (126.63, 45.75),\n",
       " '太原': (112.53, 37.87),\n",
       " '西安': (108.95, 34.27),\n",
       " '台湾': (121.3, 25.03),\n",
       " '北京': (116.46, 39.92),\n",
       " '上海': (121.48, 31.22),\n",
       " '重庆': (106.54, 29.59),\n",
       " '天津': (117.2, 39.13),\n",
       " '呼和浩特': (111.65, 40.82),\n",
       " '南宁': (108.33, 22.84),\n",
       " '西藏': (91.11, 29.97),\n",
       " '银川': (106.27, 38.47),\n",
       " '乌鲁木齐': (87.68, 43.77),\n",
       " '香港': (114.17, 22.28),\n",
       " '澳门': (113.54, 22.19)}"
      ]
     },
     "execution_count": 16,
     "metadata": {},
     "output_type": "execute_result"
    }
   ],
   "source": [
    "city_location"
   ]
  },
  {
   "cell_type": "code",
   "execution_count": 17,
   "metadata": {},
   "outputs": [],
   "source": [
    "import math"
   ]
  },
  {
   "cell_type": "code",
   "execution_count": 18,
   "metadata": {},
   "outputs": [],
   "source": [
    "#根据经纬度计算直线距离\n",
    "def geo_distance(origin, destination):\n",
    "    \"\"\"\n",
    "    Calculate the Haversine distance.\n",
    "\n",
    "    Parameters\n",
    "    ----------\n",
    "    origin : tuple of float\n",
    "        (lat, long)\n",
    "    destination : tuple of float\n",
    "        (lat, long)\n",
    "\n",
    "    Returns\n",
    "    -------\n",
    "    distance_in_km : float\n",
    "\n",
    "    Examples\n",
    "    --------\n",
    "    >>> origin = (48.1372, 11.5756)  # Munich\n",
    "    >>> destination = (52.5186, 13.4083)  # Berlin\n",
    "    >>> round(distance(origin, destination), 1)\n",
    "    504.2\n",
    "    \"\"\"\n",
    "    lat1, lon1 = origin\n",
    "    lat2, lon2 = destination\n",
    "    radius = 6371  # km\n",
    "\n",
    "    dlat = math.radians(lat2 - lat1)#radians() 方法将角度转换为弧度\n",
    "    dlon = math.radians(lon2 - lon1)\n",
    "    a = (math.sin(dlat / 2) * math.sin(dlat / 2) +\n",
    "         math.cos(math.radians(lat1)) * math.cos(math.radians(lat2)) *\n",
    "         math.sin(dlon / 2) * math.sin(dlon / 2))\n",
    "    c = 2 * math.atan2(math.sqrt(a), math.sqrt(1 - a))#atan2() 返回给定的 X 及 Y 坐标值的反正切值;sqrt() 方法返回数字x的平方根\n",
    "    d = radius * c\n",
    "\n",
    "    return d"
   ]
  },
  {
   "cell_type": "code",
   "execution_count": 19,
   "metadata": {},
   "outputs": [
    {
     "data": {
      "text/plain": [
       "70.16960262636923"
      ]
     },
     "execution_count": 19,
     "metadata": {},
     "output_type": "execute_result"
    }
   ],
   "source": [
    "geo_distance((114.17, 22.28),(113.54, 22.19))"
   ]
  },
  {
   "cell_type": "code",
   "execution_count": 20,
   "metadata": {},
   "outputs": [],
   "source": [
    "def get_geo_distance(city1, city2):\n",
    "    return geo_distance(city_location[city1], city_location[city2])"
   ]
  },
  {
   "cell_type": "code",
   "execution_count": 21,
   "metadata": {},
   "outputs": [
    {
     "data": {
      "text/plain": [
       "70.16960262636923"
      ]
     },
     "execution_count": 21,
     "metadata": {},
     "output_type": "execute_result"
    }
   ],
   "source": [
    "get_geo_distance(\"香港\",\"澳门\")"
   ]
  },
  {
   "cell_type": "code",
   "execution_count": null,
   "metadata": {},
   "outputs": [],
   "source": []
  },
  {
   "cell_type": "code",
   "execution_count": 22,
   "metadata": {},
   "outputs": [],
   "source": [
    "import networkx as nx"
   ]
  },
  {
   "cell_type": "code",
   "execution_count": 23,
   "metadata": {},
   "outputs": [],
   "source": [
    "city_graph = nx.Graph()#创建一个nx.Graph对象"
   ]
  },
  {
   "cell_type": "code",
   "execution_count": 24,
   "metadata": {},
   "outputs": [],
   "source": [
    "city_graph.add_nodes_from(list(city_location.keys()))#.keys() 方法会返回一个由一个给定对象的自身可枚举属性组成的数组"
   ]
  },
  {
   "cell_type": "code",
   "execution_count": 25,
   "metadata": {},
   "outputs": [
    {
     "data": {
      "text/plain": [
       "['兰州',\n",
       " '嘉峪关',\n",
       " '西宁',\n",
       " '成都',\n",
       " '石家庄',\n",
       " '拉萨',\n",
       " '贵阳',\n",
       " '武汉',\n",
       " '郑州',\n",
       " '济南',\n",
       " '南京',\n",
       " '合肥',\n",
       " '杭州',\n",
       " '南昌',\n",
       " '福州',\n",
       " '广州',\n",
       " '长沙',\n",
       " '海口',\n",
       " '沈阳',\n",
       " '长春',\n",
       " '哈尔滨',\n",
       " '太原',\n",
       " '西安',\n",
       " '台湾',\n",
       " '北京',\n",
       " '上海',\n",
       " '重庆',\n",
       " '天津',\n",
       " '呼和浩特',\n",
       " '南宁',\n",
       " '西藏',\n",
       " '银川',\n",
       " '乌鲁木齐',\n",
       " '香港',\n",
       " '澳门']"
      ]
     },
     "execution_count": 25,
     "metadata": {},
     "output_type": "execute_result"
    }
   ],
   "source": [
    "list(city_location.keys())"
   ]
  },
  {
   "cell_type": "code",
   "execution_count": 26,
   "metadata": {},
   "outputs": [],
   "source": [
    "%matplotlib inline"
   ]
  },
  {
   "cell_type": "code",
   "execution_count": 27,
   "metadata": {},
   "outputs": [],
   "source": [
    "import matplotlib.pyplot as plt"
   ]
  },
  {
   "cell_type": "code",
   "execution_count": 28,
   "metadata": {},
   "outputs": [
    {
     "data": {
      "image/png": "[encoded data removed]",
      "text/plain": [
       "<Figure size 432x288 with 1 Axes>"
      ]
     },
     "metadata": {},
     "output_type": "display_data"
    }
   ],
   "source": [
    "nx.draw(city_graph, city_location, with_labels=True, node_size=50)"
   ]
  },
  {
   "cell_type": "code",
   "execution_count": 29,
   "metadata": {},
   "outputs": [],
   "source": [
    "from collections import defaultdict\n",
    "city_connection = defaultdict(list)#defaultdict类的初始化函数接受一个类型作为参数，当所访问的键不存在的时候，可以实例化一个值作为默认值"
   ]
  },
  {
   "cell_type": "code",
   "execution_count": 30,
   "metadata": {},
   "outputs": [],
   "source": [
    "for c1 in city_location:\n",
    "    for c2 in city_location:\n",
    "        if c1 == c2: continue\n",
    "        \n",
    "        distance = get_geo_distance(c1, c2)\n",
    "        \n",
    "        if distance < 300:\n",
    "            city_connection[c1].append(c2)\n",
    "            city_connection[c2].append(c1)"
   ]
  },
  {
   "cell_type": "code",
   "execution_count": 31,
   "metadata": {},
   "outputs": [
    {
     "data": {
      "text/plain": [
       "defaultdict(list,\n",
       "            {'兰州': ['西宁', '成都', '银川', '西宁', '成都', '银川'],\n",
       "             '西宁': ['兰州', '兰州', '成都', '拉萨', '成都', '拉萨'],\n",
       "             '成都': ['兰州', '西宁', '兰州', '西宁', '拉萨', '重庆', '拉萨', '重庆'],\n",
       "             '银川': ['兰州', '重庆', '兰州', '重庆'],\n",
       "             '拉萨': ['西宁', '成都', '西宁', '成都'],\n",
       "             '重庆': ['成都', '贵阳', '成都', '贵阳', '银川', '银川'],\n",
       "             '石家庄': ['郑州', '济南', '太原', '北京', '郑州', '济南', '太原', '北京'],\n",
       "             '郑州': ['石家庄', '武汉', '石家庄', '武汉', '长沙', '太原', '长沙', '太原'],\n",
       "             '济南': ['石家庄', '石家庄', '合肥', '北京', '天津', '合肥', '北京', '天津'],\n",
       "             '太原': ['石家庄', '郑州', '石家庄', '郑州', '呼和浩特', '呼和浩特'],\n",
       "             '北京': ['石家庄', '济南', '石家庄', '济南', '天津', '天津'],\n",
       "             '贵阳': ['重庆', '南宁', '重庆', '南宁'],\n",
       "             '南宁': ['贵阳', '海口', '贵阳', '海口'],\n",
       "             '武汉': ['郑州', '南昌', '长沙', '郑州', '南昌', '长沙'],\n",
       "             '南昌': ['武汉', '合肥', '武汉', '合肥'],\n",
       "             '长沙': ['武汉',\n",
       "              '郑州',\n",
       "              '广州',\n",
       "              '武汉',\n",
       "              '郑州',\n",
       "              '广州',\n",
       "              '香港',\n",
       "              '澳门',\n",
       "              '香港',\n",
       "              '澳门'],\n",
       "             '合肥': ['济南', '南京', '济南', '南京', '南昌', '南昌'],\n",
       "             '天津': ['济南', '北京', '济南', '北京'],\n",
       "             '南京': ['合肥', '杭州', '合肥', '杭州'],\n",
       "             '杭州': ['南京', '南京', '福州', '上海', '福州', '上海'],\n",
       "             '福州': ['杭州', '杭州', '台湾', '台湾'],\n",
       "             '上海': ['杭州', '杭州'],\n",
       "             '台湾': ['福州', '福州'],\n",
       "             '广州': ['长沙', '香港', '澳门', '长沙', '香港', '澳门'],\n",
       "             '香港': ['广州', '长沙', '广州', '长沙', '澳门', '澳门'],\n",
       "             '澳门': ['广州', '长沙', '香港', '广州', '长沙', '香港'],\n",
       "             '海口': ['南宁', '南宁'],\n",
       "             '沈阳': ['长春', '长春'],\n",
       "             '长春': ['沈阳', '沈阳', '哈尔滨', '哈尔滨'],\n",
       "             '哈尔滨': ['长春', '长春'],\n",
       "             '呼和浩特': ['太原', '太原']})"
      ]
     },
     "execution_count": 31,
     "metadata": {},
     "output_type": "execute_result"
    }
   ],
   "source": [
    "city_connection"
   ]
  },
  {
   "cell_type": "code",
   "execution_count": 32,
   "metadata": {},
   "outputs": [],
   "source": [
    "city_with_road = nx.Graph(city_connection)"
   ]
  },
  {
   "cell_type": "code",
   "execution_count": 33,
   "metadata": {},
   "outputs": [
    {
     "data": {
      "image/png": "[encoded data removed]",
      "text/plain": [
       "<Figure size 432x288 with 1 Axes>"
      ]
     },
     "metadata": {},
     "output_type": "display_data"
    }
   ],
   "source": [
    "nx.draw(city_with_road, city_location, with_labels=True, node_size=30)"
   ]
  },
  {
   "cell_type": "markdown",
   "metadata": {},
   "source": [
    "# 例子"
   ]
  },
  {
   "cell_type": "code",
   "execution_count": 34,
   "metadata": {},
   "outputs": [],
   "source": [
    "simple_connection_info_src = {\n",
    "    '北京': ['太原', '沈阳'],\n",
    "    '太原': ['北京', '西安', '郑州'],\n",
    "    '兰州': ['西安'],\n",
    "    '郑州': ['太原'],\n",
    "    '西安': ['兰州', '长沙'],\n",
    "    '长沙': ['福州', '南宁'],\n",
    "    '沈阳': ['北京']\n",
    "}"
   ]
  },
  {
   "cell_type": "code",
   "execution_count": 35,
   "metadata": {},
   "outputs": [],
   "source": [
    "simple_connection_info = defaultdict(list)"
   ]
  },
  {
   "cell_type": "code",
   "execution_count": 36,
   "metadata": {},
   "outputs": [],
   "source": [
    "simple_connection_info.update(simple_connection_info_src)#update() 方法用于更新字典中的键/值对，可以修改存在的键对应的值，也可以添加新的键/值对到字典中。"
   ]
  },
  {
   "cell_type": "code",
   "execution_count": 37,
   "metadata": {},
   "outputs": [
    {
     "data": {
      "text/plain": [
       "defaultdict(list,\n",
       "            {'北京': ['太原', '沈阳'],\n",
       "             '太原': ['北京', '西安', '郑州'],\n",
       "             '兰州': ['西安'],\n",
       "             '郑州': ['太原'],\n",
       "             '西安': ['兰州', '长沙'],\n",
       "             '长沙': ['福州', '南宁'],\n",
       "             '沈阳': ['北京']})"
      ]
     },
     "execution_count": 37,
     "metadata": {},
     "output_type": "execute_result"
    }
   ],
   "source": [
    "simple_connection_info"
   ]
  },
  {
   "cell_type": "code",
   "execution_count": 38,
   "metadata": {},
   "outputs": [],
   "source": [
    "def bfs(graph, start):\n",
    "    \"\"\"\n",
    "    breath first search\n",
    "    \"\"\"\n",
    "    visited = [start]\n",
    "    \n",
    "    seen = set()##set() 函数创建一个无序不重复元素集，可进行关系测试，删除重复数据，还可以计算交集、差集、并集等\n",
    "    while visited:\n",
    "        froninter = visited.pop() #用于移除列表中的一个元素（默认最后一个元素），并且返回该元素的值\n",
    "        #print(froninter)\n",
    "        if froninter in seen: continue\n",
    "        for successor in graph[froninter]:\n",
    "            if successor in seen: continue\n",
    "            visited = visited + [successor] # 我们每次扩展都扩展最新发现的点 -> depth first\n",
    "            #visited = [successor] + visited # 我们每次扩展都先考虑已经发现的 老的点 -> breath first\n",
    "            \n",
    "            # 所以说，这个扩展顺序其实是决定了我们的深度优先还是广度优先\n",
    "        print(seen)\n",
    "        seen.add(froninter)\n",
    "    \n",
    "    return seen"
   ]
  },
  {
   "cell_type": "code",
   "execution_count": 39,
   "metadata": {},
   "outputs": [],
   "source": [
    "number_grpah = defaultdict(list)\n",
    "\n",
    "number_grpah.update({\n",
    "    1: [2, 3],\n",
    "    2: [1, 4], \n",
    "    3: [1, 5],\n",
    "    4: [2, 6], \n",
    "    5: [3, 7],\n",
    "    7: [5, 8]\n",
    "})"
   ]
  },
  {
   "cell_type": "code",
   "execution_count": 84,
   "metadata": {},
   "outputs": [
    {
     "name": "stdout",
     "output_type": "stream",
     "text": [
      "set()\n",
      "{3}\n",
      "{3, 5}\n",
      "{3, 5, 7}\n",
      "{8, 3, 5, 7}\n",
      "{1, 3, 5, 7, 8}\n",
      "{1, 2, 3, 5, 7, 8}\n",
      "{1, 2, 3, 4, 5, 7, 8}\n"
     ]
    },
    {
     "data": {
      "text/plain": [
       "{1, 2, 3, 4, 5, 6, 7, 8}"
      ]
     },
     "execution_count": 84,
     "metadata": {},
     "output_type": "execute_result"
    }
   ],
   "source": [
    "bfs(number_grpah, 3)"
   ]
  },
  {
   "cell_type": "code",
   "execution_count": 41,
   "metadata": {},
   "outputs": [
    {
     "data": {
      "text/plain": [
       "['兰州', '长沙']"
      ]
     },
     "execution_count": 41,
     "metadata": {},
     "output_type": "execute_result"
    }
   ],
   "source": [
    "simple_connection_info['西安']"
   ]
  },
  {
   "cell_type": "code",
   "execution_count": 82,
   "metadata": {},
   "outputs": [
    {
     "name": "stdout",
     "output_type": "stream",
     "text": [
      "set()\n",
      "{'西安'}\n",
      "{'长沙', '西安'}\n",
      "{'长沙', '南宁', '西安'}\n",
      "{'长沙', '南宁', '福州', '西安'}\n"
     ]
    },
    {
     "data": {
      "text/plain": [
       "{'兰州', '南宁', '福州', '西安', '长沙'}"
      ]
     },
     "execution_count": 82,
     "metadata": {},
     "output_type": "execute_result"
    }
   ],
   "source": [
    "bfs(simple_connection_info, \"西安\")"
   ]
  },
  {
   "cell_type": "code",
   "execution_count": 42,
   "metadata": {},
   "outputs": [
    {
     "data": {
      "image/png": "[encoded data removed]",
      "text/plain": [
       "<Figure size 432x288 with 1 Axes>"
      ]
     },
     "metadata": {},
     "output_type": "display_data"
    }
   ],
   "source": [
    "nx.draw(nx.Graph(simple_connection_info), city_location, with_labels=True, node_size=10)"
   ]
  },
  {
   "cell_type": "markdown",
   "metadata": {},
   "source": [
    "# 例子结束"
   ]
  },
  {
   "cell_type": "code",
   "execution_count": 32,
   "metadata": {},
   "outputs": [],
   "source": [
    "def search(start, destination, connection_grpah, sort_candidate):\n",
    "    pathes = [[start]]##[[起始，目的地]]\n",
    "    \n",
    "    visitied = set()\n",
    "    \n",
    "    while pathes: # if we find existing pathes\n",
    "        path = pathes.pop(0)\n",
    "        froninter = path[-1]\n",
    "        \n",
    "        if froninter in visitied: continue#找到目的地\n",
    "            \n",
    "        successors = connection_grpah[froninter]\n",
    "        \n",
    "        for city in successors:\n",
    "            if city in path: continue  # eliminate loop，找到起始\n",
    "                \n",
    "            new_path = path + [city]\n",
    "            \n",
    "            pathes.append(new_path)\n",
    "            \n",
    "            if city == destination: return new_path\n",
    "        \n",
    "        visitied.add(froninter)\n",
    "        \n",
    "        #pathes = sort_candidate(pathes) # 我们可以加一个排序函数 对我们的搜索策略进行控制\n",
    "        #print(pathes)"
   ]
  },
  {
   "cell_type": "code",
   "execution_count": 33,
   "metadata": {},
   "outputs": [],
   "source": [
    "def transfer_stations_first(pathes): \n",
    "    return sorted(pathes, key=len)"
   ]
  },
  {
   "cell_type": "code",
   "execution_count": 34,
   "metadata": {},
   "outputs": [],
   "source": [
    "def transfer_as_much_possible(pathes):\n",
    "    return sorted(pathes, key=len, reverse=True)"
   ]
  },
  {
   "cell_type": "code",
   "execution_count": 35,
   "metadata": {},
   "outputs": [],
   "source": [
    "def shortest_path_first(pathes):\n",
    "    \n",
    "    if len(pathes) <= 1: return pathes\n",
    "    \n",
    "    def get_path_distnace(path):\n",
    "        distance = 0\n",
    "        for i in range(1, len(path)):\n",
    "            distance += get_geo_distance(path[i - 1], path[i])\n",
    "        return distance\n",
    "\n",
    "    return sorted(pathes, key=get_path_distnace)# key主要是用来进行比较的元素，只有一个参数，具体的函数的参数就是取自于可迭代对象中，指定可迭代对象中的一个元素来进行排序"
   ]
  },
  {
   "cell_type": "code",
   "execution_count": 36,
   "metadata": {},
   "outputs": [],
   "source": [
    "def pretty_print(cities):\n",
    "    print('🚗->'.join(cities))"
   ]
  },
  {
   "cell_type": "code",
   "execution_count": 37,
   "metadata": {},
   "outputs": [],
   "source": [
    "#pretty_print(search('北京', '福州', simple_connection_info))"
   ]
  },
  {
   "cell_type": "code",
   "execution_count": 40,
   "metadata": {},
   "outputs": [
    {
     "name": "stdout",
     "output_type": "stream",
     "text": [
      "香港🚗->长沙🚗->郑州🚗->太原\n"
     ]
    }
   ],
   "source": [
    "pretty_print(search('香港', '太原', city_connection, sort_candidate=shortest_path_first))"
   ]
  },
  {
   "cell_type": "markdown",
   "metadata": {},
   "source": [
    "# "
   ]
  },
  {
   "cell_type": "markdown",
   "metadata": {},
   "source": [
    "# networkx不显示中文"
   ]
  },
  {
   "cell_type": "code",
   "execution_count": 6,
   "metadata": {},
   "outputs": [],
   "source": [
    "matplotlib.rcParams['font.sans-serif'] = ['SimHei'] ###加这两家显示中文\n",
    "matplotlib.rcParams['font.family']='sans-serif'"
   ]
  },
  {
   "cell_type": "code",
   "execution_count": 7,
   "metadata": {},
   "outputs": [
    {
     "data": {
      "image/png": "[encoded data removed]",
      "text/plain": [
       "<Figure size 432x288 with 1 Axes>"
      ]
     },
     "metadata": {},
     "output_type": "display_data"
    }
   ],
   "source": [
    "# coding = utf-8\n",
    "from pylab import *\n",
    "import networkx as nx\n",
    "g=nx.Graph()\n",
    "g.add_edge('张三','李四')\n",
    "g.add_edge('张三','王五')\n",
    "nx.draw(g,with_labels=True)\n",
    "plt.show()"
   ]
  },
  {
   "cell_type": "code",
   "execution_count": 51,
   "metadata": {},
   "outputs": [
    {
     "name": "stdout",
     "output_type": "stream",
     "text": [
      "['D:\\\\Anaconda3\\\\lib\\\\site-packages\\\\matplotlib']\n"
     ]
    }
   ],
   "source": [
    "import matplotlib\n",
    "print(matplotlib.__path__)"
   ]
  },
  {
   "cell_type": "markdown",
   "metadata": {},
   "source": [
    "# 作业02 北京地铁换乘"
   ]
  },
  {
   "cell_type": "markdown",
   "metadata": {},
   "source": [
    "\n",
    "# 爬虫"
   ]
  },
  {
   "cell_type": "code",
   "execution_count": 89,
   "metadata": {},
   "outputs": [],
   "source": [
    "import requests"
   ]
  },
  {
   "cell_type": "code",
   "execution_count": 90,
   "metadata": {},
   "outputs": [
    {
     "data": {
      "text/plain": [
       "'<!DOCTYPE html PUBLIC \"-//W3C//DTD XHTML 1.0 Transitional//EN\" \"http://www.w3.org/TR/xhtml1/DTD/xhtml1-transitional.dtd\">\\r\\n<html xmlns=\"http://www.w3.org/1999/xhtml\">\\r\\n<head>\\r\\n<meta http-equiv=\"Content-Type\" content=\"text/html; charset=gb2312\" />\\r\\n<title>站间公里数 | 北京地铁官方网站</title>\\r\\n<meta name=\"keywords\" content=\"北京地铁官方网站,首末车时间\" />\\r\\n<meta name=\"description\" content=\"可以查询站点的首末车通车时间，避免错过对出行造成不便。\" />\\r\\n<link rel=\"shortcut icon\" href=\"http://www.bjsubway.com/favicon.ico\" type=\"image/x-icon\" />\\r\\n<link href=\"http://www.bjsubway.com/subway/css/common.css\" rel=\"stylesheet\" type=\"text/css\" />\\r\\n<link href=\"http://www.bjsubway.com/subway/css/search.css\" rel=\"stylesheet\" type=\"text/css\" />\\r\\n<script type=\"text/javascript\" src=\"http://www.bjsubway.com/subway/js/jquery.js\"></script>\\r\\n<script type=\"text/javascript\" src=\"http://www.bjsubway.com/subway/js/around.js\"></script>\\r\\n<script type=\"text/javascript\">\\r\\n/*线路名称多窗口切换效果*/\\r\\nfunction GetId(id){\\r\\n  return document.getElementById(id)        \\r\\n }\\r\\n  function doClick(o){\\r\\n  var j,id,e;\\r\\n  for(var i=0;i<=17;i++){     \\r\\n      id =i;\\r\\n      j =GetId(id);\\r\\n      e = GetId(\"sub\"+i);\\r\\n      if(id != o.id){      \\r\\n          j.className=\"\";\\r\\n          e.style.display=\"none\";\\r\\n    }else{\\r\\n          if(o.id==0){j.className=\"current0\";} \\r\\n\\telse if(o.id==1){j.className=\"current1\";}\\r\\n\\telse if(o.id==2){j.className=\"current2\";}\\r\\n\\telse if(o.id==3){j.className=\"current3\";}\\r\\n\\telse if(o.id==4){j.className=\"current4\";}\\r\\n\\telse if(o.id==5){j.className=\"current5\";}\\r\\n\\telse if(o.id==6){j.className=\"current6\";}\\r\\n\\telse if(o.id==7){j.className=\"current7\";}\\r\\n\\telse if(o.id==8){j.className=\"current8\";}\\r\\n\\telse if(o.id==9){j.className=\"current9\";}\\r\\n\\telse if(o.id==10){j.className=\"current10\";}\\r\\n\\telse if(o.id==11){j.className=\"current11\";}\\r\\n\\telse if(o.id==12){j.className=\"current12\";}\\r\\n\\telse if(o.id==13){j.className=\"current13\";}\\r\\n\\telse if(o.id==14){j.className=\"current14\";}\\r\\n\\telse if(o.id==15){j.className=\"current15\";}\\r\\n\\telse if(o.id==16){j.className=\"current16\";}\\t\\t\\r\\n\\telse if(o.id==17){j.className=\"current17\";}\\t\\t\\r\\n            e.style.display = \"block\";   \\r\\n        }\\r\\n    }\\r\\n}\\r\\n</script>\\r\\n</head>\\r\\n\\r\\n<body>\\r\\n<div class=\"wrap\">\\r\\n    <div class=\"header\">\\r\\n       <div class=\"header_top\">\\r\\n          <div class=\"logo\" onclick=\"javascript:window.location.href=\\'http://www.bjsubway.com/index.html\\'\" onmouseover=\"this.style.backgroundColor=\\'#e6edf5\\'\" onmouseleave=\"this.style.backgroundColor=\\'#fff\\'\"  style=\"cursor:pointer\"></div>\\r\\n          <div class=\"weather\"><script type=\"text/javascript\" src=\"http://ext.weather.com.cn/45339.js\"></script></div>\\r\\n          <div class=\"search\">\\r\\n          \\t<div class=\"search_top\">\\r\\n            \\t<!--<div class=\"lang\">\\r\\n              \\t<ul>\\r\\n                    <li><a href=\"http://www.bjsubway.com/\">首&nbsp;页</a></li>\\r\\n                    <li><a href=\"javascript:void(0)\">ENGLISH</a></li>\\r\\n                </ul>\\r\\n              </div>-->\\r\\n              <div class=\"info\">\\r\\n              \\t<ul>\\r\\n                  <li style=\"text-align:left;\"><a href=\"http://www.bjsubway.com/\" >网站首页</a></li>\\r\\n                  <li><a href=\"http://www.bjsubway.com/support/xxgkzn/2013-12-13/1297.html\" >信息公开</a></li>\\r\\n                 \\r\\n                  <li><a href=\"http://www.bjsubway.com/job/\">人才招聘</a></li>\\r\\n                  <li style=\"text-align:right;\"><a href=\"http://www.bjsubway.com/contact/\" target=\"_blank\">联系我们</a></li>\\r\\n                  <li style=\"text-align:right;\"><a href=\"http://www.bjsubway.com/en/\" >English</a></li>\\r\\n              \\t</ul>\\r\\n              </div>\\r\\n            </div>\\r\\n            <div class=\"search_bottom\">\\r\\n            \\t<form  action=\\'http://www.bjsubway.com/e/sch/index.php\\' method=\"GET\" >\\r\\n                    <input type=\"hidden\" name=\"hh\" value=\"LK\">\\r\\n                    <input type=hidden name=classid value=\"115,170,62,63,104,70,265,266,267,268,269,270,271,272\">\\r\\n            \\t    <input type=\"text\" name=\"keyboard\" class=\"text\"  value=\"\"/>\\r\\n               \\t    <input type=\"submit\" name=\"Submit2\" class=\"sub\" value=\"\" />\\r\\n              \\t</form>\\r\\n            </div>\\r\\n          </div>\\r\\n      </div>\\r\\n      <div class=\"banner_ej\" id=oTransContainer  style=\"FILTER: progid:DXImageTransform.Microsoft.Wipe(GradientSize=1.0,wipeStyle=0, motion=\\'forward\\')\" ><img id=oDIV1 src=\"http://www.bjsubway.com/subway/images/stationinfo/2.jpg\"/><script>var NowFrame = 1;var MaxFrame = 5;var bStart = 0;function fnToggle(){var next = NowFrame + 1;if(next == MaxFrame+1) {NowFrame = MaxFrame;next = 1;}if(bStart == 0){bStart = 1;setTimeout(\\'fnToggle()\\', 2000);return;}else{oTransContainer.filters[0].Apply();document.images[\\'oDIV\\'+next].style.display = \"\";document.images[\\'oDIV\\'+NowFrame].style.display = \"none\";oTransContainer.filters[0].Play(duration=2);if(NowFrame == MaxFrame){NowFrame = 1;}else{NowFrame++;}}\\tsetTimeout(\\'fnToggle()\\', 6000);}fnToggle();</script>\\r\\n          <img class=pic id=oDIV2 src=\"http://www.bjsubway.com/subway/images/stationinfo/3.jpg\" style=\"DISPLAY: none;\">\\r\\n          <img  id=oDIV3 src=\"http://www.bjsubway.com/subway/images/stationinfo/4.jpg\" style=\"DISPLAY: none;\">\\r\\n          <img  id=oDIV4 src=\"http://www.bjsubway.com/subway/images/stationinfo/5.jpg\" style=\"DISPLAY: none;\">\\r\\n          <img  id=oDIV5 src=\"http://www.bjsubway.com/subway/images/stationinfo/6.jpg\" style=\"DISPLAY: none;\">\\r\\n          <img  id=oDIV5 src=\"http://www.bjsubway.com/subway/images/stationinfo/1.jpg\" style=\"DISPLAY: none;\">\\r\\n      </div>\\r\\n      <script>\\r\\nvar _hmt = _hmt || [];\\r\\n(function() {\\r\\n  var hm = document.createElement(\"script\");\\r\\n  hm.src = \"https://hm.baidu.com/hm.js?01cf1cc88df5ecf7e38164197b4a2001\";\\r\\n  var s = document.getElementsByTagName(\"script\")[0]; \\r\\n  s.parentNode.insertBefore(hm, s);\\r\\n})();\\r\\n</script>\\r\\n<div class=\"header_nav\">\\r\\n      <ul id=\"nav_zzjs\">\\r\\n      <li class=\"menu\" style=\"width:121px;\">\\r\\n            <a href=\"http://map.bjsubway.com:8080/subwaymap2/public/\" class=\"title_ts1\">地铁查询</a>\\r\\n            <dl class=\"submenu_zzjs\">\\r\\n           \\t<dd><a href=\"http://map.bjsubway.com:8080/subwaymap2/public/\">线路图查询</a></dd>\\r\\n            <!--<dd><a href=\"http://www.bjsubway.com/station/zjgls/\">站间公里数</a></dd>-->\\r\\n            \\t<dd><a href=\"http://www.bjsubway.com/station/xltcx/\">站点及周边信息</a></dd>\\r\\n            \\t<dd><a href=\"http://www.bjsubway.com/e/action/ListInfo/?classid=39&ph=1\">首末车时间</a></dd>\\r\\n                <dd><a href=\"http://www.bjsubway.com/jcsk.html\">机场线时刻表</a></dd>\\r\\n                <dd><a href=\"http://www.bjsubway.com/e/action/ListInfo/?classid=40&ph=1&station=苹果园\">服务设施</a></dd>\\r\\n                <dd><a href=\"http://www.bjsubway.com/e/action/ListInfo/?classid=41&ph=1&station=苹果园\">无障碍服务设施</a></dd>\\r\\n            \\t<dd><a href=\"http://www.bjsubway.com/e/action/ListInfo/?classid=42&ph=1\">一卡通服务网点</a></dd>\\r\\n               <dd><a href=\"http://www.bjsubway.com/station/xltzs/\">线路图下载</a></dd>\\r\\n               \\r\\n           </dl>\\r\\n          </li>\\r\\n          <!--<li class=\"menu\">\\r\\n          \\t<a href=\"http://www.bjsubway.com/e/action/ListInfo/?classid=43&ph=1&station=苹果园\" class=\"title\">乘客服务</a>\\r\\n                <dl class=\"submenu_zzjs\">\\r\\n                  <dd><a href=\"http://www.bjsubway.com/e/action/ListInfo/?classid=44\">周边美食</a></dd>\\r\\n                  <dd><a href=\"http://www.bjsubway.com/e/action/ListInfo/?classid=45\">周边商场</a></dd>\\r\\n                  <dd><a href=\"http://www.bjsubway.com/attractions/\">周边景点</a></dd>\\r\\n                  <dd><a href=\"http://www.bjsubway.com/e/action/ListInfo/?classid=47\">周边医院</a></dd>\\r\\n            </dl>\\r\\n          </li>-->\\r\\n          <li class=\"menu\">\\r\\n          \\t<a href=\"http://www.bjsubway.com/support/cxyd/cxts/\" class=\"title\">乘客服务</a>\\r\\n            <dl class=\"submenu_zzjs\">\\r\\n                <dd><a href=\"http://www.bjsubway.com/support/cxyd/cxts/\">出行引导</a></dd>\\r\\n                <!--<dd><a href=\"http://www.bjsubway.com/support/ywgz/\">延误告知</a></dd>-->\\r\\n                <dd><a href=\"http://www.bjsubway.com/support/swzl/\">失物招领</a></dd>\\r\\n                <dd><a href=\"http://www.bjsubway.com/support/ccgd/\">乘车规定</a></dd>\\r\\n                <dd><a href=\"http://www.bjsubway.com/e/tool/gbook/?bid=4\">乘客问答</a></dd>\\r\\n                <!--<dd><a href=\"http://www.bjsubway.com/e/tool/feedback/?bid=1\">网上调查</a></dd>-->\\r\\n                <!--<dd><a href=\"http://www.bjsubway.com/support/xxgkzn/2013-12-13/1297.html\">信息公开</a></dd>-->\\r\\n            </dl>\\r\\n          </li>\\r\\n          <!--<li class=\"menu\">\\r\\n          \\t<a href=\"http://www.bjsubway.com/ride/ccgd/\" class=\"title\">乘车须知</a>\\r\\n            <dl class=\"submenu_zzjs\">\\r\\n                <dd><a href=\"http://www.bjsubway.com/ride/ccgd/\">乘车规定</a></dd>\\r\\n                <dd><a href=\"http://www.bjsubway.com/ride/pwxx/\">票务信息</a></dd>\\r\\n                <dd><a href=\"http://www.bjsubway.com/ride/ccaq/aqgd/\">乘车安全</a></dd>\\r\\n            </dl>\\r\\n          </li>-->\\r\\n          <li class=\"menu\">\\r\\n          \\t<a href=\"http://www.bjsubway.com/news/qyxw/yyzd/\" class=\"title\">企业动态</a>\\r\\n            <dl class=\"submenu_zzjs\">\\r\\n            \\t<dd><a href=\"http://www.bjsubway.com/news/qyxw/yyzd/\">地铁新闻</a></dd>\\r\\n            \\t<dd><a href=\"javascript:void(0)\" style=\"color:#737373;  cursor:default\">更新改造</a></dd>\\r\\n            \\t<dd><a href=\"http://www.bjsubway.com/news/ghjs/\">规划建设</a></dd>\\r\\n                <dd><a href=\"http://www.bjsubway.com/news/qyxw/ygzj/\">员工之家</a></dd>\\r\\n           </dl>\\r\\n          </li>\\r\\n          <li class=\"menu\">\\r\\n          \\t<a href=\"http://www.bjsubway.com/culture/dtzs/\" class=\"title\">地铁文化</a>\\r\\n           \\t<dl class=\"submenu_zzjs\">\\r\\n            \\t<dd><a href=\"http://www.bjsubway.com/culture/dtzs/\">地铁知识</a></dd>\\r\\n            \\t<dd><a href=\"http://www.bjsubway.com/culture/qywh/\">企业文化</a></dd>\\r\\n                <dd><a href=\"http://www.bjsubway.com/culture/ygzp/\">员工展示</a></dd>\\r\\n            \\t<!--<dd><a href=\"http://www.bjsubway.com/culture/zbcp/\">周边产品</a></dd>-->\\r\\n           \\t</dl>\\r\\n          </li>\\r\\n          <li class=\"menu\">\\r\\n          \\t<a href=\"http://www.bjsubway.com/corporate/gsgk/\"  class=\"title\">走进地铁</a>\\r\\n                 <dl class=\"submenu_zzjs\">\\r\\n            \\t<dd><a href=\"http://www.bjsubway.com/corporate/gsgk/\">公司概况</a></dd>\\r\\n            \\t<!--<dd><a href=\"http://www.bjsubway.com/corporate/zzjg/\">组织机构</a></dd>-->\\r\\n            \\t<dd><a href=\"http://www.bjsubway.com/corporate/dtdsj/\">地铁大事记</a></dd>\\r\\n           </dl>\\r\\n          </li>\\r\\n          <li class=\"menu\">\\r\\n                <a href=\"http://www.bjsubway.com/tsjlb/ckhd/\" class=\"title\">铁丝俱乐部</a>\\r\\n           \\t<dl class=\"submenu_zzjs\">\\r\\n            \\t<dd><a href=\"http://www.bjsubway.com/tsjlb/ckhd/\">乘客活动</a></dd>\\r\\n                <dd><a href=\"http://www.bjsubway.com/tsjlb/wjdc/\">问卷调查</a></dd>\\r\\n            \\t<!--<dd><a href=\"http://www.bjsubway.com/culture/zbcp/\">周边产品</a></dd>-->\\r\\n           \\t</dl>\\r\\n          </li>\\r\\n          <li class=\"menu\" style=\"\">\\r\\n          \\t<a href=\"http://www.bjsubway.com/support/ywgz/\" class=\"title\">延误告知</a>\\r\\n           \\t<dl class=\"submenu_zzjs\">\\r\\n\\r\\n           \\t</dl>\\r\\n          </li>\\r\\n          <li class=\"menu\" style=\"width:121px;\">\\r\\n          \\t<a href=\"http://www.bjsubway.com/wzcg/\" class=\"title_ts7\">物资采购</a>\\r\\n           \\t<dl class=\"submenu_zzjs\">\\r\\n\\r\\n           \\t</dl>\\r\\n          </li>\\r\\n        </ul>\\r\\n        <script type=\"text/javascript\">\\r\\n        var nav_zzjs = document.getElementById(\"nav_zzjs\").childNodes;\\r\\n        for (var i=0;i<nav_zzjs.length;i++)\\r\\n        {\\r\\n        \\tif (nav_zzjs[i].className==\"menu\")\\r\\n         \\t{\\r\\n          \\t\\tnav_zzjs[i].onmouseover = function(){fnNav(this,\"block\")};\\r\\n          \\t\\tnav_zzjs[i].onmouseout = function(){fnNav(this,\"none\")};\\r\\n         \\t}\\r\\n        }\\r\\n        function fnNav(obj,flag)\\r\\n        {\\r\\n         \\tobj.getElementsByTagName(\"dl\")[0].style.display = flag;\\r\\n        }\\r\\n        </script>\\r\\n      </div>\\r\\n    </div>\\r\\n    <div class=\"here\"><a href=\"http://www.bjsubway.com/index.html\">首页</a> > <a href=\"http://www.bjsubway.com/station/xltcx/\">地铁查询</a> > <a href=\"http://www.bjsubway.com/e/action/ListInfo/?classid=39&ph=1\">站间公里数</a></div>\\r\\n    <div class=\"clear\"></div>\\r\\n    <div class=\"content\">\\r\\n        <div class=\"main\">\\r\\n        <div class=\"about_right_center_history\">\\r\\n            <div class=\"history_top\">\\r\\n\\t<div class=\"history_top_c\">\\r\\n                    <ul>\\r\\n                         <li class=\"current0\" id=\"0\" onclick=\"doClick(this)\"><a href=\"#\">1号线</a></li>\\r\\n                         <li class=\" \" id=\"1\" onclick=\"doClick(this)\"><a href=\"#\">2号线</a></li>\\r\\n                         <li class=\" \" id=\"2\" onclick=\"doClick(this)\"><a href=\"#\">4号线</a></li>\\r\\n                         <li class=\" \" id=\"3\" onclick=\"doClick(this)\"><a href=\"#\">5号线</a></li>\\r\\n                         <li class=\" \" id=\"4\" onclick=\"doClick(this)\"><a href=\"#\">6号线</a></li>\\r\\n                         <li class=\" \" id=\"17\" onclick=\"doClick(this)\"><a href=\"#\">7号线</a></li>\\r\\n                         <li class=\" \" id=\"5\" onclick=\"doClick(this)\"><a href=\"#\">8号线</a></li>\\r\\n                         <li class=\" \" id=\"6\" onclick=\"doClick(this)\"><a href=\"#\">9号线</a></li>\\r\\n                         <li class=\" \" id=\"7\" onclick=\"doClick(this)\"><a href=\"#\">10号线</a></li>\\r\\n                         <li class=\" \" id=\"8\" onclick=\"doClick(this)\"><a href=\"#\">13号线</a></li>\\r\\n                         <li class=\" \" id=\"9\" onclick=\"doClick(this)\"><a href=\"#\">14号线</a></li>\\r\\n                         <li class=\" \" id=\"10\" onclick=\"doClick(this)\"><a href=\"#\">15号线</a></li>\\r\\n                         <li class=\" \" id=\"11\" onclick=\"doClick(this)\"><a href=\"#\">八通线</a></li>\\r\\n                         <li class=\" \" id=\"12\" onclick=\"doClick(this)\"><a href=\"#\">昌平线</a></li>\\r\\n                         <li class=\" \" id=\"13\" onclick=\"doClick(this)\"><a href=\"#\">亦庄线</a></li>\\r\\n                         <li class=\" \" id=\"14\" onclick=\"doClick(this)\"><a href=\"#\">大兴线</a></li>\\r\\n                         <li class=\" \" id=\"15\" onclick=\"doClick(this)\"><a href=\"#\">房山线</a></li>\\r\\n                         <li class=\" \" id=\"16\" onclick=\"doClick(this)\"><a href=\"#\">机场线</a></li>\\r\\n                    </ul>\\r\\n                </div>\\r\\n\\t<div class=\"goarrow\"></div>\\r\\n                <div class=\"history_top_l\">\\r\\n                    <a href=\"javascript:void(0)\"><img src=\"http://www.bjsubway.com/subway/images/stationinfo/arrowl.png\"/></a>\\r\\n                </div>\\r\\n                <div class=\"arrow\">|</div>\\r\\n                <div class=\"history_top_r\">\\r\\n                    <a href=\"javascript:void(0)\"><img src=\"http://www.bjsubway.com/subway/images/stationinfo/arrowr.png\"/></a>\\r\\n                </div>\\r\\n            </div>\\r\\n        </div>\\r\\n        <div class=\"line_content\">\\r\\n            <div class=\"line_place\" id=\"sub0\">\\r\\n                <div class=\"con_text\">\\r\\n<table width=\"738\" height=\"1001\" cellspacing=\"0\" cellpadding=\"0\" border=\"0\" class=\"one\">\\r\\n\\t<thead>\\r\\n\\t<tr style=\"height:56px; background:#c43b33; color:#fff; font-size:26px;\">\\r\\n  \\t<td colspan=\"5\">1号线相邻站间距信息统计表</td>\\r\\n  </tr>\\r\\n  <tr style=\"height:56px; background:#d3795e; color:#fff; font-size:20px\">\\r\\n    <td width=\"171\">起始/终到车站</td>\\r\\n    <td  width=\"171\">区间距离（米）</td>\\r\\n       <td  width=\"171\">方向</td>\\r\\n  </tr>\\r\\n  \\r\\n  </thead>\\r\\n  <tbody>\\r\\n  <tr>\\r\\n    <th>苹果园——古城</th>\\r\\n    <td width=\"146\">2606</td>\\r\\n    <td width=\"148\">上行/下行</td>\\r\\n   \\r\\n  </tr>\\r\\n  <tr>\\r\\n    <th>古城——八角游乐园</th>\\r\\n    <td>1921</td>\\r\\n    <td>上行/下行</td>\\r\\n   \\r\\n   \\r\\n  </tr>\\r\\n  <tr>\\r\\n    <th>八角游乐园——八宝山</th>\\r\\n    <td>1953</td>\\r\\n    <td>上行/下行</td>\\r\\n  \\r\\n  \\r\\n  </tr>\\r\\n  <tr>\\r\\n    <th>八宝山——玉泉路</th>\\r\\n     <td>1479</td>\\r\\n    <td>上行/下行</td>\\r\\n    \\r\\n  </tr>\\r\\n  <tr>\\r\\n    <th>玉泉路——五棵松</th>\\r\\n    <td>1810</td>\\r\\n    <td>上行/下行</td>\\r\\n \\r\\n   \\r\\n  </tr>\\r\\n  <tr>\\r\\n    <th>五棵松——万寿路</th>\\r\\n    <td>1778</td>\\r\\n    <td>上行/下行</td>\\r\\n \\r\\n    \\r\\n   \\r\\n  </tr>\\r\\n  <tr>\\r\\n    <th>万寿路——公主坟</th>\\r\\n    <td>1313</td>\\r\\n    <td>上行/下行</td>\\r\\n \\r\\n    \\r\\n    \\r\\n  </tr>\\r\\n  <tr>\\r\\n    <th>公主坟——军事博物馆</th>\\r\\n     <td>1172</td>\\r\\n    <td>上行/下行</td>\\r\\n  \\r\\n   \\r\\n    \\r\\n  </tr>\\r\\n  <tr>\\r\\n    <th>军事博物馆——木樨地</th>\\r\\n     <td>1166</td>\\r\\n    <td>上行/下行</td>\\r\\n  \\r\\n   \\r\\n   \\r\\n  </tr>\\r\\n  <tr>\\r\\n    <th>木樨地——南礼士路</th>\\r\\n    <td>1291</td>\\r\\n    <td>上行/下行</td>\\r\\n  \\r\\n    \\r\\n   \\r\\n  </tr>\\r\\n  <tr>\\r\\n    <th>南礼士路——复兴门</th>\\r\\n     <td>424</td>\\r\\n    <td>上行/下行</td>\\r\\n   \\r\\n   \\r\\n   \\r\\n  </tr>\\r\\n  <tr>\\r\\n    <th>复兴门——西单</th>\\r\\n     <td>1590</td>\\r\\n    <td>上行/下行</td>\\r\\n   \\r\\n   \\r\\n   \\r\\n  </tr>\\r\\n  <tr>\\r\\n    <th>西单——天安门西</th>\\r\\n    <td>1217</td>\\r\\n    <td>上行/下行</td>\\r\\n  \\r\\n  \\r\\n   \\r\\n  </tr>\\r\\n  <tr>\\r\\n    <th>天安门西——天安门东</th>\\r\\n     <td>925</td>\\r\\n    <td>上行/下行</td>\\r\\n   \\r\\n   \\r\\n    \\r\\n  </tr>\\r\\n  <tr>\\r\\n    <th>天安门东——王府井</th>\\r\\n     <td>852</td>\\r\\n    <td>上行/下行</td>\\r\\n   \\r\\n   \\r\\n  </tr>\\r\\n  <tr>\\r\\n    <th>王府井——东单</th>\\r\\n    <td>774</td>\\r\\n    <td>上行/下行</td>\\r\\n   \\r\\n   \\r\\n  </tr>\\r\\n  <tr>\\r\\n    <th>东单——建国门</th>\\r\\n     <td>1230</td>\\r\\n    <td>上行/下行</td>\\r\\n    \\r\\n   \\r\\n   \\r\\n  </tr>\\r\\n  <tr>\\r\\n    <th>建国门——永安里</th>\\r\\n    <td>1377</td>\\r\\n    <td>上行/下行</td>\\r\\n   \\r\\n    \\r\\n  \\r\\n  </tr>\\r\\n  <tr>\\r\\n    <th>永安里——国贸</th>\\r\\n    <td>790</td>\\r\\n    <td>上行/下行</td>\\r\\n  \\r\\n    \\r\\n   \\r\\n  </tr>\\r\\n  <tr>\\r\\n    <th>国贸——大望路</th>\\r\\n    <td>1385</td>\\r\\n     <td>上行/下行</td>\\r\\n  \\r\\n  </tr>\\r\\n  <tr>\\r\\n    <th>大望路——四惠</th>\\r\\n    <td>1673</td>\\r\\n    <td>上行/下行</td>\\r\\n    \\r\\n    \\r\\n  </tr>\\r\\n  <tr>\\r\\n    <th>四惠——四惠东</th>\\r\\n     <td>1714</td>\\r\\n    <td>上行/下行</td>\\r\\n   \\r\\n   \\r\\n  </tr>\\r\\n  </tbody>\\r\\n</table></div>\\r\\n          </div>\\r\\n          <div class=\"line_place\" id=\"sub1\" style=\"display:none;\">\\r\\n              <div class=\"con_text\">\\r\\n<table width=\"738\" height=\"918\" cellspacing=\"0\" cellpadding=\"0\" border=\"0\" class=\"two\">\\r\\n\\t<thead>\\r\\n\\t<tr style=\"height:56px; background:#016299; color:#fff; font-size:26px;\">\\r\\n  \\t<td colspan=\"7\">2号线相邻站间距信息统计表</td>\\r\\n  </tr>\\r\\n  <tr style=\"height:56px; background:#6c89b3; color:#fff; font-size:20px\">\\r\\n   <td width=\"171\">起始/终到车站</td>\\r\\n      <td  width=\"171\">区间距离（米）</td>\\r\\n      <td  width=\"171\">方向</td>\\r\\n  </tr>\\r\\n\\r\\n  </thead>\\r\\n  <tbody>\\r\\n  <tr>\\r\\n    <th>西直门——车公庄</th>\\r\\n       <td>909</td>\\r\\n    <td>上行/下行</td>\\r\\n   \\r\\n \\r\\n   \\r\\n  </tr>\\r\\n  <tr>\\r\\n    <th>车公庄——阜成门</th>\\r\\n     <td>960</td>\\r\\n    <td>上行/下行</td>\\r\\n  \\r\\n   \\r\\n   \\r\\n  </tr>\\r\\n  <tr>\\r\\n    <th>阜成门——复兴门</th>\\r\\n    <td>1832</td>\\r\\n     <td>上行/下行</td>\\r\\n   \\r\\n  </tr>\\r\\n  <tr>\\r\\n    <th>复兴门——长椿街</th>\\r\\n     <td>1234</td>\\r\\n    <td>上行/下行</td>\\r\\n   \\r\\n   \\r\\n  </tr>\\r\\n  <tr>\\r\\n    <th>长椿街——宣武门</th>\\r\\n     <td>929</td>\\r\\n    <td>上行/下行</td>\\r\\n   \\r\\n   \\r\\n  </tr>\\r\\n  <tr>\\r\\n    <th>宣武门——和平门</th>\\r\\n     <td>851</td>\\r\\n    <td>上行/下行</td>\\r\\n  \\r\\n   \\r\\n   \\r\\n  </tr>\\r\\n  <tr>\\r\\n    <th>和平门——前门</th>\\r\\n      <td>1171</td>\\r\\n    <td>上行/下行</td>\\r\\n  \\r\\n  \\r\\n  \\r\\n  </tr>\\r\\n  <tr>\\r\\n    <th>前门——崇文门</th>\\r\\n     <td>1634</td>\\r\\n    <td>上行/下行</td>\\r\\n   \\r\\n   \\r\\n   \\r\\n  </tr>\\r\\n  <tr>\\r\\n    <th>崇文门——北京站</th>\\r\\n     <td>1023</td>\\r\\n    <td>上行/下行</td>\\r\\n  \\r\\n   \\r\\n   \\r\\n  </tr>\\r\\n  <tr>\\r\\n    <th>北京站——建国门</th>\\r\\n       <td>945</td>\\r\\n    <td>上行/下行</td>\\r\\n  \\r\\n \\r\\n   \\r\\n  </tr>\\r\\n  <tr>\\r\\n    <th>建国门——朝阳门</th>\\r\\n     <td>1763</td>\\r\\n    <td>上行/下行</td>\\r\\n  \\r\\n   \\r\\n   \\r\\n  </tr>\\r\\n  <tr>\\r\\n    <th>朝阳门——东四十条</th>\\r\\n     <td>1027</td>\\r\\n    <td>上行/下行</td>\\r\\n \\r\\n   \\r\\n   \\r\\n  </tr>\\r\\n  <tr>\\r\\n    <th>东四十条——东直门</th>\\r\\n     <td>824</td>\\r\\n    <td>上行/下行</td>\\r\\n \\r\\n   \\r\\n   \\r\\n  </tr>\\r\\n  <tr>\\r\\n    <th>东直门——雍和宫</th>\\r\\n      <td>2228</td>\\r\\n    <td>上行/下行</td>\\r\\n  \\r\\n   \\r\\n  </tr>\\r\\n  <tr>\\r\\n    <th>雍和宫——安定门</th>\\r\\n      <td>794</td>\\r\\n    <td>上行/下行</td>\\r\\n  \\r\\n  \\r\\n  \\r\\n  </tr>\\r\\n  <tr>\\r\\n    <th>安定门——鼓楼大街</th>\\r\\n      <td>1237</td>\\r\\n    <td>上行/下行</td>\\r\\n \\r\\n  \\r\\n  \\r\\n  </tr>\\r\\n  <tr>\\r\\n    <th>鼓楼大街——积水潭</th>\\r\\n      <td>1766</td>\\r\\n    <td>上行/下行</td>\\r\\n   \\r\\n  \\r\\n   \\r\\n  </tr>\\r\\n  <tr>\\r\\n    <th>积水潭——西直门</th>\\r\\n      <td>1899</td>\\r\\n    <td>上行/下行</td>\\r\\n   \\r\\n  \\r\\n  \\r\\n  </tr>\\r\\n  </tbody>\\r\\n</table>\\r\\n</div>\\r\\n          </div>\\r\\n          <div class=\"line_place\" id=\"sub2\" style=\"display:none;\">\\r\\n              <div class=\"con_text\">\\r\\n<table width=\"738\" height=\"1465\" cellspacing=\"0\" cellpadding=\"0\" border=\"0\" class=\"four\">\\r\\n\\t<thead>\\r\\n\\t<tr style=\"height:56px; background:#008e9c; color:#fff; font-size:26px;\">\\r\\n  \\t<td colspan=\"7\">4号线相邻站间距信息统计表</td>\\r\\n  </tr>\\r\\n  \\r\\n  <tr style=\"height:56px;   font-size:20px\">\\r\\n  \\r\\n    <th width=\"171\" bgcolor=\"#55adb7\">起始/终到车站</th>\\r\\n    <th  width=\"171\" bgcolor=\"#55adb7\">区间距离（米）</th>\\r\\n    <th  width=\"171\" bgcolor=\"#55adb7\">方向</th>\\r\\n \\r\\n    \\r\\n   \\r\\n  </tr>\\r\\n  </thead>\\r\\n  <tbody>\\r\\n  <tr>\\r\\n  <th>安河桥北——北宫门</th>\\r\\n    <td>1363</td>\\r\\n    <td>上行/下行</td>\\r\\n   \\r\\n  \\r\\n  </tr>\\r\\n  <tr>\\r\\n    <th>北宫门——西苑</th>\\r\\n    <td>1251</td>\\r\\n    <td>上行/下行</td>\\r\\n   \\r\\n    \\r\\n  </tr>\\r\\n  <tr>\\r\\n    <th>西苑——圆明园</th>\\r\\n    <td>1672</td>\\r\\n     <td>上行/下行</td>\\r\\n  </tr>\\r\\n  <tr>\\r\\n  <th>圆明园——北京大学东门</th>\\r\\n   <td>1295</td>\\r\\n    <td>上行/下行</td>\\r\\n   \\r\\n   \\r\\n  </tr>\\r\\n  <tr>\\r\\n   <th>北京大学东门——中关村</th>\\r\\n     <td>887</td>\\r\\n    <td>上行/下行</td>\\r\\n   \\r\\n  \\r\\n  </tr>\\r\\n  <tr>\\r\\n    <th>中关村——海淀黄庄</th>\\r\\n    <td>900</td>\\r\\n    <td>上行/下行</td>\\r\\n  \\r\\n    \\r\\n  </tr>\\r\\n  <tr>\\r\\n   <th>海淀黄庄——人民大学</th>\\r\\n    <td>1063</td>\\r\\n    <td>上行/下行</td>\\r\\n   \\r\\n   \\r\\n  </tr>\\r\\n  <tr>\\r\\n   <th>人民大学——魏公村</th>\\r\\n    <td>1051</td>\\r\\n    <td>上行/下行</td>\\r\\n    \\r\\n   \\r\\n  </tr>\\r\\n  <tr>\\r\\n  <th>魏公村——国家图书馆</th>\\r\\n    <td>1658</td>\\r\\n    <td>上行/下行</td>\\r\\n\\r\\n  \\r\\n  </tr>\\r\\n  <tr>\\r\\n    <th>国家图书馆——动物园</th>\\r\\n     <td>1517</td>\\r\\n    <td>上行/下行</td>\\r\\n   \\r\\n  </tr>\\r\\n  <tr>\\r\\n   <th>动物园——西直门</th>\\r\\n    <td>1441</td>\\r\\n    <td>上行/下行</td>\\r\\n \\r\\n   \\r\\n  </tr>\\r\\n  <tr>\\r\\n   <th>西直门——新街口</th>\\r\\n   <td>1025</td>\\r\\n    <td>上行/下行</td>\\r\\n    \\r\\n    \\r\\n  </tr>\\r\\n  <tr>\\r\\n   <th>新街口——平安里</th>\\r\\n    <td>1100</td>\\r\\n    <td>上行/下行</td>\\r\\n   \\r\\n   \\r\\n  </tr>\\r\\n  <tr>\\r\\n  <th>平安里——西四</th>\\r\\n    <td>1100</td>\\r\\n    <td>上行/下行</td>\\r\\n  \\r\\n  \\r\\n  </tr>\\r\\n  <tr>\\r\\n  <th>西四——灵境胡同</th>\\r\\n  <td>869</td>\\r\\n    <td>上行/下行</td>\\r\\n   \\r\\n    \\r\\n  </tr>\\r\\n  <tr>\\r\\n    <th>灵境胡同——西单</th>\\r\\n     <td>1011</td>\\r\\n    <td>上行/下行</td>\\r\\n  \\r\\n   \\r\\n  </tr>\\r\\n  <tr>\\r\\n   <th>西单——宣武门</th>\\r\\n     <td>815</td>\\r\\n    <td>上行/下行</td>\\r\\n  \\r\\n  \\r\\n  </tr>\\r\\n  <tr>\\r\\n    <th>宣武门——菜市口</th>\\r\\n      <td>1152</td>\\r\\n    <td>上行/下行</td>\\r\\n  \\r\\n  \\r\\n  </tr>\\r\\n  <tr>\\r\\n    <th>菜市口——陶然亭</th>\\r\\n      <td>1200</td>\\r\\n    <td>上行/下行</td>\\r\\n   \\r\\n  \\r\\n  </tr>\\r\\n  <tr>\\r\\n    <th>陶然亭——北京南站</th>\\r\\n     <td>1643</td>\\r\\n    <td>上行/下行</td>\\r\\n   \\r\\n   \\r\\n  </tr>\\r\\n  <tr>\\r\\n    <th>北京南站——马家堡</th>\\r\\n     <td>1480</td>\\r\\n    <td>上行/下行</td>\\r\\n  \\r\\n   \\r\\n  </tr>\\r\\n  <tr>\\r\\n   <th>马家堡——角门西</th>\\r\\n   <td>827</td>\\r\\n    <td>上行/下行</td>\\r\\n   \\r\\n    \\r\\n  </tr>\\r\\n  <tr>\\r\\n    <th>角门西——公益西桥</th>\\r\\n     <td>989</td>\\r\\n    <td>上行/下行</td>\\r\\n  \\r\\n   \\r\\n  </tr>\\r\\n  \\r\\n\\r\\n  </tbody>\\r\\n</table>\\r\\n</div>\\r\\n          </div>\\r\\n          <div class=\"line_place\" id=\"sub3\" style=\"display:none;\">\\r\\n              <div class=\"con_text\">\\r\\n<table width=\"738\" height=\"1001\" cellspacing=\"0\" cellpadding=\"0\" border=\"0\" class=\"five\">\\r\\n\\t<thead>\\r\\n\\t<tr style=\"height:56px; background:#a42380; color:#fff; font-size:26px;\">\\r\\n  \\t<td colspan=\"5\">5号线相邻站间距信息统计表</td>\\r\\n  </tr>\\r\\n  <tr style=\"height:56px; background:#bc6ea2; color:#fff; font-size:20px\">\\r\\n    <td width=\"171\">起始/终到车站</td>\\r\\n     <td  width=\"171\">区间距离（米）</td>\\r\\n    <td  width=\"171\">方向</td>\\r\\n  </tr>\\r\\n  </thead>\\r\\n  <tbody>\\r\\n  <tr>\\r\\n    <th>天通苑北——天通苑</th>\\r\\n     <td>939</td>\\r\\n    <td>上行/下行</td>\\r\\n\\r\\n   \\r\\n  </tr>\\r\\n  <tr>\\r\\n    <th>天通苑——天通苑南</th>\\r\\n      <td>965</td>\\r\\n    <td>上行/下行</td>\\r\\n   \\r\\n  \\r\\n  </tr>\\r\\n  <tr>\\r\\n    <th>天通苑南——立水桥</th>\\r\\n    <td>1544</td>\\r\\n    <td>上行/下行</td>\\r\\n   \\r\\n    \\r\\n  </tr>\\r\\n  <tr>\\r\\n    <th>立水桥——立水桥南</th>\\r\\n     <td>1305</td>\\r\\n    <td>上行/下行</td>\\r\\n   \\r\\n   \\r\\n  </tr>\\r\\n  <tr>\\r\\n    <th>立水桥南——北苑路北</th>\\r\\n     <td>1286</td>\\r\\n    <td>上行/下行</td>\\r\\n  \\r\\n   \\r\\n  </tr>\\r\\n <tr>\\r\\n    <th>北苑路北——大屯路东</th>\\r\\n    <td>3000</td>\\r\\n    <td>上行/下行</td>\\r\\n \\r\\n    \\r\\n  </tr>\\r\\n <tr>\\r\\n    <th>大屯路东——惠新西街北口</th>\\r\\n      <td>1838</td>\\r\\n    <td>上行/下行</td>\\r\\n   \\r\\n  \\r\\n  </tr>\\r\\n <tr>\\r\\n    <th>惠新西街北口——惠新西街南口</th>\\r\\n    <td>1122</td>\\r\\n    <td>上行/下行</td>\\r\\n   \\r\\n    \\r\\n  </tr>\\r\\n  <tr>\\r\\n    <th>惠新西街南口——和平西桥</th>\\r\\n    <td>1025</td>\\r\\n    <td>上行/下行</td>\\r\\n   \\r\\n    \\r\\n  </tr>\\r\\n <tr>\\r\\n    <th>和平西桥——和平里北街</th>\\r\\n     <td>1059</td>\\r\\n    <td>上行/下行</td>\\r\\n   \\r\\n   \\r\\n  </tr>\\r\\n <tr>\\r\\n    <th>和平里北街——雍和宫</th>\\r\\n      <td>1151</td>\\r\\n    <td>上行/下行</td>\\r\\n  \\r\\n  \\r\\n  </tr>\\r\\n <tr>\\r\\n    <th>雍和宫——北新桥</th>\\r\\n     <td>866</td>\\r\\n    <td>上行/下行</td>\\r\\n \\r\\n   \\r\\n  </tr>\\r\\n <tr>\\r\\n    <th>北新桥——张自忠路</th>\\r\\n     <td>791</td>\\r\\n    <td>上行/下行</td>\\r\\n  \\r\\n   \\r\\n  </tr>\\r\\n  <tr>\\r\\n    <th>张自忠路——东四</th>\\r\\n      <td>1016</td>\\r\\n    <td>上行/下行</td>\\r\\n  \\r\\n  \\r\\n  </tr>\\r\\n <tr>\\r\\n    <th>东四——灯市口</th>\\r\\n     <td>848</td>\\r\\n    <td>上行/下行</td>\\r\\n  \\r\\n   \\r\\n  </tr>\\r\\n  <tr>\\r\\n    <th>灯市口——东单</th>\\r\\n    <td>945</td>\\r\\n    <td>上行/下行</td>\\r\\n \\r\\n    \\r\\n  </tr>\\r\\n  <tr>\\r\\n    <th>东单——崇文门</th>\\r\\n     <td>821</td>\\r\\n    <td>上行/下行</td>\\r\\n  \\r\\n   \\r\\n  </tr>\\r\\n <tr>\\r\\n    <th>崇文门——磁器口</th>\\r\\n     <td>876</td>\\r\\n    <td>上行/下行</td>\\r\\n \\r\\n   \\r\\n  </tr>\\r\\n <tr>\\r\\n    <th>磁器口——天坛东门</th>\\r\\n     <td>1183</td>\\r\\n    <td>上行/下行</td>\\r\\n    \\r\\n   \\r\\n  </tr>\\r\\n <tr>\\r\\n    <th>天坛东门——蒲黄榆</th>\\r\\n     <td>1900</td>\\r\\n    <td>上行/下行</td>\\r\\n \\r\\n   \\r\\n  </tr>\\r\\n <tr>\\r\\n    <th>蒲黄榆——刘家窑</th>\\r\\n     <td>905</td>\\r\\n    <td>上行/下行</td>\\r\\n  \\r\\n   \\r\\n  </tr>\\r\\n  <tr>\\r\\n    <th>刘家窑——宋家庄</th>\\r\\n       <td>1670</td>\\r\\n    <td>上行/下行</td>\\r\\n  \\r\\n \\r\\n  </tr>\\r\\n  </tbody>\\r\\n</table>\\r\\n</div>\\r\\n          </div>\\r\\n          <div class=\"line_place\" id=\"sub4\" style=\"display:none;\">\\r\\n              <div class=\"con_text\">\\r\\n<table width=\"738\" height=\"887\" cellspacing=\"0\" cellpadding=\"0\" border=\"0\" class=\"six\">\\r\\n\\t<thead>\\r\\n\\t<tr style=\"height:56px; background:#d09900; color:#fff; font-size:26px;\">\\r\\n  \\t<td colspan=\"5\">6号线相邻站间距信息统计表</td>\\r\\n  </tr>\\r\\n  <tr style=\"height:56px; background:#dfb65a; color:#fff; font-size:20px\">\\r\\n     <td width=\"171\">起始/终到车站</td>\\r\\n      <td  width=\"171\">区间距离（米）</td>\\r\\n    <td  width=\"171\">方向</td>\\r\\n\\r\\n   \\r\\n  </tr>\\r\\n  </thead>\\r\\n  <tbody>\\r\\n <tr>\\r\\n    <th>海淀五路居——慈寿寺</th>\\r\\n      <td>1508</td>\\r\\n    <td>上行/下行</td>\\r\\n   \\r\\n  \\r\\n  </tr>\\r\\n\\r\\n <tr>\\r\\n    <th>慈寿寺——花园桥</th>\\r\\n     <td>1431</td>\\r\\n    <td>上行/下行</td>\\r\\n  \\r\\n   \\r\\n  </tr>\\r\\n <tr>\\r\\n    <th>花园桥——白石桥南</th>\\r\\n       <td>1166</td>\\r\\n    <td>上行/下行</td>\\r\\n \\r\\n \\r\\n  </tr>\\r\\n <tr>\\r\\n    <th>白石桥南——车公庄西</th>\\r\\n     <td>1664</td>\\r\\n    <td>上行/下行</td>\\r\\n\\r\\n   \\r\\n  </tr>\\r\\n  <tr>\\r\\n    <th>车公庄西——车公庄</th>\\r\\n      <td>887</td>\\r\\n    <td>上行/下行</td>\\r\\n  \\r\\n  \\r\\n  </tr>\\r\\n  <tr>\\r\\n    <th>车公庄——平安里</th>\\r\\n      <td>1443</td>\\r\\n    <td>上行/下行</td>\\r\\n  \\r\\n  \\r\\n  </tr>\\r\\n <tr>\\r\\n    <th>平安里——北海北</th>\\r\\n     <td>1321</td>\\r\\n    <td>上行/下行</td>\\r\\n   \\r\\n   \\r\\n  </tr>\\r\\n <tr>\\r\\n    <th>北海北——南锣鼓巷</th>\\r\\n      <td>1349</td>\\r\\n    <td>上行/下行</td>\\r\\n\\r\\n  \\r\\n  </tr>\\r\\n <tr>\\r\\n    <th>南锣鼓巷——东四</th>\\r\\n       <td>1937</td>\\r\\n    <td>上行/下行</td>\\r\\n   \\r\\n \\r\\n  </tr>\\r\\n  <tr>\\r\\n    <th>东四——朝阳门</th>\\r\\n      <td>1399</td>\\r\\n    <td>上行/下行</td>\\r\\n  \\r\\n  \\r\\n  </tr>\\r\\n <tr>\\r\\n    <th>朝阳门——东大桥</th>\\r\\n        <td>1668</td>\\r\\n    <td>上行/下行</td>\\r\\n  \\r\\n\\r\\n  </tr>\\r\\n <tr>\\r\\n    <th>东大桥——呼家楼</th>\\r\\n      <td>845</td>\\r\\n    <td>上行/下行</td>\\r\\n   \\r\\n  \\r\\n  </tr>\\r\\n <tr>\\r\\n    <th>呼家楼——金台路</th>\\r\\n      <td>1450</td>\\r\\n    <td>上行/下行</td>\\r\\n\\r\\n  \\r\\n  </tr>\\r\\n  <tr>\\r\\n    <th>金台路——十里堡</th>\\r\\n     <td>2036</td>\\r\\n    <td>上行/下行</td>\\r\\n   \\r\\n  </tr>\\r\\n   <tr>\\r\\n    <th>十里堡——青年路</th>\\r\\n     <td>1282</td>\\r\\n    <td>上行/下行</td>\\r\\n   \\r\\n  </tr>\\r\\n <tr>\\r\\n    <th>青年路——褡裢坡</th>\\r\\n    <td>3999</td>\\r\\n       <td>上行/下行</td>\\r\\n  </tr>\\r\\n <tr>\\r\\n    <th>褡裢坡——黄渠</th>\\r\\n    <td>1238</td>\\r\\n    <td>上行/下行</td>\\r\\n  </tr>\\r\\n  <tr>\\r\\n    <th>黄渠——常营</th>\\r\\n      <td>1854</td>\\r\\n    <td>上行/下行</td>\\r\\n  \\r\\n  \\r\\n  </tr>\\r\\n <tr>\\r\\n    <th>常营——草房</th>\\r\\n     <td>1405</td>\\r\\n    <td>上行/下行</td>\\r\\n  \\r\\n   \\r\\n  </tr>\\r\\n <tr>\\r\\n    <th>草房——物资学院路</th>\\r\\n      <td>2115</td>\\r\\n    <td>上行/下行</td>\\r\\n   \\r\\n  \\r\\n  </tr>\\r\\n  <tr>\\r\\n    <th>物资学院路——通州北关</th>\\r\\n      <td>2557</td>\\r\\n    <td>上行/下行</td>\\r\\n   \\r\\n  \\r\\n  </tr>\\r\\n  <tr>\\r\\n    <th>通州北关——通运门</th>\\r\\n     <td>1468</td>\\r\\n    <td>上行/下行</td>\\r\\n  \\r\\n   \\r\\n  </tr>\\r\\n  <tr>\\r\\n    <th>通运门——北运河西</th>\\r\\n     <td>1543</td>\\r\\n    <td>上行/下行</td>\\r\\n   \\r\\n  </tr>\\r\\n  <tr>\\r\\n    <th>北运河西——北运河东</th>\\r\\n      <td>1599</td>\\r\\n    <td>上行/下行</td>\\r\\n\\r\\n  \\r\\n  </tr>\\r\\n  <tr>\\r\\n    <th>北运河东——郝家府</th>\\r\\n      <td>929</td>\\r\\n    <td>上行/下行</td>\\r\\n\\r\\n  \\r\\n  </tr>\\r\\n  <tr>\\r\\n    <th>郝家府——东夏园</th>\\r\\n     <td>1346</td>\\r\\n    <td>上行/下行</td>\\r\\n  \\r\\n   \\r\\n  </tr>\\r\\n  <tr>\\r\\n    <th>东夏园——潞城</th>\\r\\n     <td>1194</td>\\r\\n    <td>上行/下行</td>\\r\\n \\r\\n   \\r\\n  </tr>\\r\\n  </tbody>\\r\\n</table>\\r\\n</div>\\r\\n          </div>\\r\\n          \\r\\n          <div class=\"line_place\" id=\"sub17\" style=\"display:none;\">\\r\\n              <div class=\"con_text\">\\r\\n<table width=\"738\" height=\"887\" cellspacing=\"0\" cellpadding=\"0\" border=\"0\" class=\"six\">\\r\\n\\t<thead>\\r\\n\\t<tr style=\"height:56px; background:#f2c171; color:#fff; font-size:26px;\">\\r\\n  \\t<td colspan=\"5\">7号线相邻站间距信息统计表</td>\\r\\n  </tr>\\r\\n  <tr style=\"height:56px; background:#e2b771; color:#fff; font-size:20px\">\\r\\n     <td width=\"171\">起始/终到车站</td>\\r\\n       <td  width=\"171\">区间距离（米）</td>\\r\\n    <td  width=\"171\">方向</td>\\r\\n \\r\\n  \\r\\n  </tr>\\r\\n  </thead>\\r\\n  <tbody>\\r\\n <tr>\\r\\n    <th>北京西站——湾子</th>\\r\\n       <td>935</td>\\r\\n    <td>上行/下行</td>\\r\\n  \\r\\n \\r\\n  </tr>\\r\\n  <tr>\\r\\n    <th>湾子——达官营</th>\\r\\n     <td>734</td>\\r\\n    <td>上行/下行</td>\\r\\n   \\r\\n   \\r\\n  </tr>\\r\\n <tr>\\r\\n    <th>达官营——广安门内</th>\\r\\n     <td>1874</td>\\r\\n    <td>上行/下行</td>\\r\\n    \\r\\n   \\r\\n  </tr>\\r\\n <tr>\\r\\n    <th>广安门内——菜市口</th>\\r\\n     <td>1374</td>\\r\\n    <td>上行/下行</td>\\r\\n   \\r\\n   \\r\\n  </tr>\\r\\n <tr>\\r\\n    <th>菜市口——虎坊桥</th>\\r\\n       <td>885</td>\\r\\n    <td>上行/下行</td>\\r\\n   \\r\\n \\r\\n  </tr>\\r\\n  <tr>\\r\\n    <th>虎坊桥——珠市口</th>\\r\\n     <td>1205</td>\\r\\n    <td>上行/下行</td>\\r\\n  \\r\\n   \\r\\n  </tr>\\r\\n  <tr>\\r\\n    <th>珠市口——桥湾</th>\\r\\n      <td>869</td>\\r\\n    <td>上行/下行</td>\\r\\n    \\r\\n  \\r\\n  </tr>\\r\\n <tr>\\r\\n    <th>桥湾——磁器口</th>\\r\\n    <td>1016</td>\\r\\n    <td>上行/下行</td>\\r\\n \\r\\n    \\r\\n  </tr>\\r\\n <tr>\\r\\n    <th>磁器口——广渠门内</th>\\r\\n     <td>1138</td>\\r\\n    <td>上行/下行</td>\\r\\n\\r\\n   \\r\\n  </tr>\\r\\n <tr>\\r\\n    <th>广渠门内——广渠门外</th>\\r\\n      <td>1332</td>\\r\\n    <td>上行/下行</td>\\r\\n   \\r\\n  \\r\\n  </tr>\\r\\n  <tr>\\r\\n    <th>广渠门外——双井</th>\\r\\n      <td>1241</td>\\r\\n    <td>上行/下行</td>\\r\\n  \\r\\n  \\r\\n  </tr>\\r\\n <tr>\\r\\n    <th>双井——九龙山</th>\\r\\n    <td>1311</td>\\r\\n    <td>上行/下行</td>\\r\\n  \\r\\n    \\r\\n  </tr>\\r\\n <tr>\\r\\n    <th>九龙山——大郊亭</th>\\r\\n       <td>781</td>\\r\\n    <td>上行/下行</td>\\r\\n   \\r\\n \\r\\n  </tr>\\r\\n <tr>\\r\\n    <th>大郊亭——百子湾</th>\\r\\n     <td>865</td>\\r\\n    <td>上行/下行</td>\\r\\n\\r\\n   \\r\\n  </tr>\\r\\n  <tr>\\r\\n    <th>百子湾——化工</th>\\r\\n     <td>903</td>\\r\\n    <td>上行/下行</td>\\r\\n \\r\\n   \\r\\n  </tr>\\r\\n <tr>\\r\\n    <th>化工——南楼梓庄</th>\\r\\n    <td>1464</td>\\r\\n    <td>上行/下行</td>\\r\\n  \\r\\n    \\r\\n  </tr>\\r\\n <tr>\\r\\n    <th>南楼梓庄——欢乐谷景区</th>\\r\\n      <td>906</td>\\r\\n    <td>上行/下行</td>\\r\\n   \\r\\n  \\r\\n  </tr>\\r\\n  <tr>\\r\\n    <th>欢乐谷景区——垡头</th>\\r\\n      <td>1679</td>\\r\\n    <td>上行/下行</td>\\r\\n  \\r\\n  \\r\\n  </tr>\\r\\n <tr>\\r\\n    <th>垡头——双合</th>\\r\\n      <td>1304</td>\\r\\n    <td>上行/下行</td>\\r\\n \\r\\n  \\r\\n  </tr>\\r\\n <tr>\\r\\n    <th>双合——焦化厂</th>\\r\\n    <td>1021</td>\\r\\n    <td>上行/下行</td>\\r\\n   \\r\\n    \\r\\n  </tr>\\r\\n \\r\\n  </tbody>\\r\\n</table>\\r\\n</div>\\r\\n          </div>\\r\\n          \\r\\n          \\r\\n          \\r\\n          <div class=\"line_place\" id=\"sub5\" style=\"display:none;\">\\r\\n              <div class=\"con_text\">\\r\\n<table width=\"738\" height=\"827\" cellspacing=\"0\" cellpadding=\"0\" border=\"0\" class=\"eight\">\\r\\n\\t<thead>\\r\\n\\t<tr style=\"height:56px; background:#009d6a; color:#fff; font-size:26px;\">\\r\\n  \\t<td colspan=\"5\">8号线相邻站间距信息统计表</td>\\r\\n  </tr>\\r\\n  <tr style=\"height:56px; background:#34b692; color:#fff; font-size:20px\">\\r\\n    <td  width=\"171\">起始/终到车站</td>\\r\\n      <td width=\"171\">区间距离（米）</td>\\r\\n    <td width=\"171\">方向</td>\\r\\n  \\r\\n  \\r\\n  </tr>\\r\\n  </thead>\\r\\n  <tbody>\\r\\n   <tr>\\r\\n    <th>朱辛庄——育知路</th>\\r\\n      <td>2318</td>\\r\\n    <td>上行/下行</td>\\r\\n   \\r\\n  \\r\\n  </tr>\\r\\n  <tr>\\r\\n    <th>育知路——平西府</th>\\r\\n    <td>1985</td>\\r\\n    <td>上行/下行</td>\\r\\n \\r\\n    \\r\\n    \\r\\n  </tr>\\r\\n  <tr>\\r\\n    <th>平西府——回龙观东大街</th>\\r\\n      <td>2056</td>\\r\\n    <td>上行/下行</td>\\r\\n  \\r\\n   \\r\\n  </tr>\\r\\n  <tr>\\r\\n    <th>回龙观东大街——霍营</th>\\r\\n      <td>1114</td>\\r\\n    <td>上行/下行</td>\\r\\n  \\r\\n  \\r\\n   \\r\\n  </tr>\\r\\n  <tr>\\r\\n    <th>霍营——育新</th>\\r\\n      <td>1894</td>\\r\\n    <td>上行/下行</td>\\r\\n \\r\\n  \\r\\n    \\r\\n  </tr>\\r\\n  <tr>\\r\\n    <th>育新——西小口</th>\\r\\n       <td>1543</td>\\r\\n    <td>上行/下行</td>\\r\\n \\r\\n \\r\\n   \\r\\n  </tr>\\r\\n  <tr>\\r\\n    <th>西小口——永泰庄</th>\\r\\n     <td>1041</td>\\r\\n    <td>上行/下行</td>\\r\\n \\r\\n   \\r\\n   \\r\\n  </tr>\\r\\n  <tr>\\r\\n    <th>永泰庄——林萃桥</th>\\r\\n       <td>2553</td>\\r\\n    <td>上行/下行</td>\\r\\n   \\r\\n \\r\\n    \\r\\n  </tr>\\r\\n  <tr>\\r\\n    <th>林萃桥——森林公园南门</th>\\r\\n      <td>2555</td>\\r\\n    <td>上行/下行</td>\\r\\n  \\r\\n    \\r\\n  </tr>\\r\\n  <tr>\\r\\n    <th>森林公园南门——奥林匹克公园</th>\\r\\n     <td>1016</td>\\r\\n    <td>上行/下行</td>\\r\\n  \\r\\n   \\r\\n    \\r\\n  </tr>\\r\\n  <tr>\\r\\n    <th>奥林匹克公园——奥体中心</th>\\r\\n     <td>1667</td>\\r\\n    <td>上行/下行</td>\\r\\n  \\r\\n   \\r\\n    \\r\\n  </tr>\\r\\n  <tr>\\r\\n    <th>奥体中心——北土城</th>\\r\\n      <td>900</td>\\r\\n    <td>上行/下行</td>\\r\\n  \\r\\n    \\r\\n  </tr>\\r\\n  <tr>\\r\\n    <th>北土城——安华桥</th>\\r\\n     <td>1018</td>\\r\\n    <td>上行/下行</td>\\r\\n   \\r\\n   \\r\\n   \\r\\n  </tr>\\r\\n  <tr>\\r\\n    <th>安华桥——安德里北街</th>\\r\\n     <td>1274</td>\\r\\n    <td>上行/下行</td>\\r\\n  \\r\\n   \\r\\n    \\r\\n  </tr>\\r\\n  <tr>\\r\\n    <th>安德里北街——鼓楼大街</th>\\r\\n      <td>1083</td>\\r\\n    <td>上行/下行</td>\\r\\n  \\r\\n  \\r\\n    \\r\\n  </tr>\\r\\n  <tr>\\r\\n    <th>鼓楼大街——什刹海</th>\\r\\n       <td>1188</td>\\r\\n    <td>上行/下行</td>\\r\\n  \\r\\n \\r\\n   \\r\\n  </tr>\\r\\n   <tr>\\r\\n    <th>什刹海——南锣鼓巷</th>\\r\\n     <td>902</td>\\r\\n    <td>上行/下行</td>\\r\\n   \\r\\n   \\r\\n   \\r\\n  </tr>\\r\\n \\r\\n  </tbody>\\r\\n</table>\\r\\n</div>\\r\\n          </div>\\r\\n         <div class=\"line_place\" id=\"sub6\" style=\"display:none;\">\\r\\n             <div class=\"con_text\">\\r\\n<table width=\"738\" height=\"638\" cellspacing=\"0\" cellpadding=\"0\" border=\"0\" class=\"nine\">\\r\\n\\t<thead>\\r\\n\\t<tr style=\"height:56px; background:#8fc41e; color:#fff; font-size:26px;\">\\r\\n  \\t<td colspan=\"5\">9号线相邻站间距信息统计表</td>\\r\\n  </tr>\\r\\n  <tr style=\"height:56px; background:#b6d669; color:#fff; font-size:20px\">\\r\\n    <td  width=\"171\">起始/终到车站</td>\\r\\n       <td width=\"171\">区间距离（米）</td>\\r\\n    <td width=\"171\">方向</td>\\r\\n    \\r\\n \\r\\n  </tr>\\r\\n  </thead>\\r\\n  <tbody>\\r\\n  <tr>\\r\\n    <th>国家图书馆——白石桥南</th>\\r\\n    <td>1096</td>\\r\\n    <td>上行/下行</td>\\r\\n   \\r\\n    \\r\\n  </tr>\\r\\n   <tr>\\r\\n    <th>白石桥南——白堆子</th>\\r\\n      <td>943</td>\\r\\n    <td>上行/下行</td>\\r\\n\\r\\n   \\r\\n  \\r\\n  </tr>\\r\\n  <tr>\\r\\n    <th>白堆子——军事博物馆</th>\\r\\n     <td>1912</td>\\r\\n    <td>上行/下行</td>\\r\\n \\r\\n   \\r\\n  </tr>\\r\\n   <tr>\\r\\n    <th>军事博物馆——北京西站</th>\\r\\n        <td>1398</td>\\r\\n    <td>上行/下行</td>\\r\\n \\r\\n\\r\\n  </tr>\\r\\n   <tr>\\r\\n    <th>北京西站——六里桥东</th>\\r\\n      <td>1170</td>\\r\\n    <td>上行/下行</td>\\r\\n   \\r\\n  \\r\\n  </tr>\\r\\n  <tr>\\r\\n    <th>六里桥东——六里桥</th>\\r\\n      <td>1309</td>\\r\\n    <td>上行/下行</td>\\r\\n   \\r\\n  \\r\\n  </tr>\\r\\n  <tr>\\r\\n    <th>六里桥——七里庄</th>\\r\\n      <td>1778</td>\\r\\n    <td>上行/下行</td>\\r\\n    \\r\\n  \\r\\n  </tr>\\r\\n  <tr>\\r\\n    <th>七里庄——丰台东大街</th>\\r\\n      <td>1325</td>\\r\\n    <td>上行/下行</td>\\r\\n \\r\\n  \\r\\n  </tr>\\r\\n  <tr>\\r\\n    <th>丰台东大街——丰台南路</th>\\r\\n      <td>1585</td>\\r\\n    <td>上行/下行</td>\\r\\n  \\r\\n  </tr>\\r\\n  <tr>\\r\\n    <th>丰台南路——科怡路</th>\\r\\n       <td>980</td>\\r\\n    <td>上行/下行</td>\\r\\n  \\r\\n \\r\\n  </tr>\\r\\n   <tr>\\r\\n    <th>科怡路——丰台科技园</th>\\r\\n       <td>788</td>\\r\\n    <td>上行/下行</td>\\r\\n  \\r\\n \\r\\n  </tr>\\r\\n <tr>\\r\\n    <th>丰台科技园——郭公庄</th>\\r\\n     <td>1347</td>\\r\\n    <td>上行/下行</td>\\r\\n   \\r\\n   \\r\\n  </tr>\\r\\n \\r\\n  </tbody>\\r\\n</table>\\r\\n</div>\\r\\n          </div>\\r\\n          <div class=\"line_place\" id=\"sub7\" style=\"display:none;\">\\r\\n              <div class=\"con_text\">\\r\\n<table width=\"738\" height=\"1947\" cellspacing=\"0\" cellpadding=\"0\" border=\"0\" class=\"ten\">\\r\\n  <thead>\\r\\n    <tr style=\"height:56px; background:#009dbe; color:#fff; font-size:26px;\">\\r\\n      <td colspan=\"9\">10号线相邻站间距信息统计表</td>\\r\\n    </tr>\\r\\n    <tr style=\"height:56px; background:#66b7d2; color:#fff; font-size:20px\">\\r\\n        <td  width=\"171\">起始/终到车站</td>\\r\\n          <td width=\"171\">区间距离（米）</td>\\r\\n        <td width=\"171\">方向</td>\\r\\n     \\r\\n      \\r\\n    </tr>\\r\\n  </thead>\\r\\n  <tbody>\\r\\n   <tr>\\r\\n    <th>巴沟——苏州街</th>\\r\\n    <td>1110</td>\\r\\n    <td>上行/下行</td>\\r\\n   \\r\\n    \\r\\n  </tr>\\r\\n    <tr>\\r\\n    <th>苏州街——海淀黄庄</th>\\r\\n       <td>950</td>\\r\\n    <td>上行/下行</td>\\r\\n \\r\\n \\r\\n  </tr>\\r\\n  <tr>\\r\\n    <th>海淀黄庄——知春里</th>\\r\\n     <td>975</td>\\r\\n    <td>上行/下行</td>\\r\\n   \\r\\n   \\r\\n  </tr>\\r\\n  <tr>\\r\\n    <th>知春里——知春路</th>\\r\\n      <td>1058</td>\\r\\n    <td>上行/下行</td>\\r\\n   \\r\\n  \\r\\n  </tr>\\r\\n  <tr>\\r\\n    <th>知春路——西土城</th>\\r\\n      <td>1101</td>\\r\\n    <td>上行/下行</td>\\r\\n  \\r\\n  \\r\\n  </tr>\\r\\n  <tr>\\r\\n    <th>西土城——牡丹园</th>\\r\\n       <td>1330</td>\\r\\n    <td>上行/下行</td>\\r\\n  \\r\\n \\r\\n  </tr>\\r\\n  <tr>\\r\\n    <th>牡丹园——健德门</th>\\r\\n        <td>973</td>\\r\\n    <td>上行/下行</td>\\r\\n  \\r\\n\\r\\n  </tr>\\r\\n  <tr>\\r\\n    <th>健德门——北土城</th>\\r\\n      <td>1100</td>\\r\\n    <td>上行/下行</td>\\r\\n  \\r\\n  \\r\\n  </tr>\\r\\n  <tr>\\r\\n    <th>北土城——安贞门</th>\\r\\n     <td>1020</td>\\r\\n    <td>上行/下行</td>\\r\\n   \\r\\n   \\r\\n  </tr>\\r\\n  <tr>\\r\\n    <th>安贞门——惠新西街南口</th>\\r\\n     <td>982</td>\\r\\n    <td>上行/下行</td>\\r\\n  \\r\\n   \\r\\n  </tr>\\r\\n  <tr>\\r\\n    <th>惠新西街南口——芍药居</th>\\r\\n    <td>1712</td>\\r\\n    <td>上行/下行</td>\\r\\n  </tr>\\r\\n  <tr>\\r\\n    <th>芍药居——太阳宫</th>\\r\\n        <td>1003</td>\\r\\n    <td>上行/下行</td>\\r\\n \\r\\n\\r\\n  </tr>\\r\\n  <tr>\\r\\n    <th>太阳宫——三元桥</th>\\r\\n    <td>1759</td>\\r\\n    <td>上行/下行</td>\\r\\n \\r\\n    \\r\\n  </tr>\\r\\n  <tr>\\r\\n    <th>三元桥——亮马桥</th>\\r\\n      <td>1506</td>\\r\\n    <td>上行/下行</td>\\r\\n  \\r\\n  \\r\\n  </tr>\\r\\n  <tr>\\r\\n    <th>亮马桥——农业展览馆</th>\\r\\n      <td>914</td>\\r\\n    <td>上行/下行</td>\\r\\n   \\r\\n  \\r\\n  </tr>\\r\\n  <tr>\\r\\n    <th>农业展览馆——团结湖</th>\\r\\n      <td>853</td>\\r\\n    <td>上行/下行</td>\\r\\n  \\r\\n  \\r\\n  </tr>\\r\\n  <tr>\\r\\n    <th>团结湖——呼家楼</th>\\r\\n     <td>1149</td>\\r\\n    <td>上行/下行</td>\\r\\n  \\r\\n   \\r\\n  </tr>\\r\\n  <tr>\\r\\n    <th>呼家楼——金台夕照</th>\\r\\n      <td>734</td>\\r\\n    <td>上行/下行</td>\\r\\n    \\r\\n  \\r\\n  </tr>\\r\\n\\r\\n  <tr>\\r\\n    <th>金台夕照——国贸</th>\\r\\n    <td>835</td>\\r\\n    <td>上行/下行</td>\\r\\n  </tr>\\r\\n  <tr>\\r\\n    <th>国贸——双井</th>\\r\\n     <td>1759</td>\\r\\n    <td>上行/下行</td>\\r\\n   \\r\\n   \\r\\n  </tr>\\r\\n  <tr>\\r\\n    <th>双井——劲松</th>\\r\\n    <td>1006</td>\\r\\n    <td>上行/下行</td>\\r\\n  </tr>\\r\\n  <tr>\\r\\n    <th>劲松——潘家园</th>\\r\\n    <td>1021</td>\\r\\n    <td>上行/下行</td>\\r\\n  </tr>\\r\\n  <tr>\\r\\n    <th>潘家园——十里河</th>\\r\\n    <td>1097</td>\\r\\n    <td>上行/下行</td>\\r\\n  </tr>\\r\\n  <tr>\\r\\n    <th>十里河——分钟寺</th>\\r\\n    <td>1804</td>\\r\\n    <td>上行/下行</td>\\r\\n  </tr>\\r\\n  <tr>\\r\\n    <th>分钟寺——成寿寺</th>\\r\\n    <td>1058</td>\\r\\n    <td>上行/下行</td>\\r\\n  </tr>\\r\\n  <tr>\\r\\n    <th>成寿寺——宋家庄</th>\\r\\n    <td>1677</td>\\r\\n    <td>上行/下行</td>\\r\\n  </tr>\\r\\n  <tr>\\r\\n    <th>宋家庄——石榴庄</th>\\r\\n    <td>1269</td>\\r\\n    <td>上行/下行</td>\\r\\n  </tr>\\r\\n  <tr>\\r\\n    <th>石榴庄——大红门</th>\\r\\n    <td>1244</td>\\r\\n    <td>上行/下行</td>\\r\\n  </tr>\\r\\n  <tr>\\r\\n    <th>大红门——角门东</th>\\r\\n    <td>1130</td>\\r\\n    <td>上行/下行</td>\\r\\n  </tr>\\r\\n  <tr>\\r\\n    <th>角门东——角门西</th>\\r\\n    <td>1254</td>\\r\\n    <td>上行/下行</td>\\r\\n  </tr>\\r\\n  <tr>\\r\\n    <th>角门西——草桥</th>\\r\\n    <td>1688</td>\\r\\n    <td>上行/下行</td>\\r\\n  </tr>\\r\\n  <tr>\\r\\n    <th>草桥——纪家庙</th>\\r\\n    <td>1547</td>\\r\\n    <td>上行/下行</td>\\r\\n  </tr>\\r\\n  <tr>\\r\\n    <th>纪家庙——首经贸</th>\\r\\n    <td>1143</td>\\r\\n    <td>上行/下行</td>\\r\\n  </tr>\\r\\n  <tr>\\r\\n    <th>首经贸——丰台站</th>\\r\\n    <td>1717</td>\\r\\n    <td>上行/下行</td>\\r\\n  </tr>\\r\\n  <tr>\\r\\n    <th>丰台站——泥洼</th>\\r\\n    <td>954</td>\\r\\n    <td>上行/下行</td>\\r\\n  </tr>\\r\\n  <tr>\\r\\n    <th>泥洼——西局</th>\\r\\n    <td>749</td>\\r\\n    <td>上行/下行</td>\\r\\n  </tr>\\r\\n  <tr>\\r\\n    <th>西局——六里桥</th>\\r\\n    <td>1584</td>\\r\\n    <td>上行/下行</td>\\r\\n  </tr>\\r\\n  <tr>\\r\\n    <th>六里桥——莲花桥</th>\\r\\n    <td>2392</td>\\r\\n    <td>上行/下行</td>\\r\\n  </tr>\\r\\n  <tr>\\r\\n    <th>莲花桥——公主坟</th>\\r\\n    <td>1016</td>\\r\\n    <td>上行/下行</td>\\r\\n  </tr>\\r\\n  <tr>\\r\\n    <th>公主坟——西钓鱼台</th>\\r\\n    <td>2386</td>\\r\\n    <td>上行/下行</td>\\r\\n  </tr>\\r\\n  <tr>\\r\\n    <th>西钓鱼台——慈寿寺</th>\\r\\n    <td>1214</td>\\r\\n    <td>上行/下行</td>\\r\\n  </tr>\\r\\n  <tr>\\r\\n    <th>慈寿寺——车道沟</th>\\r\\n    <td>1590</td>\\r\\n    <td>上行/下行</td>\\r\\n  </tr>\\r\\n  <tr>\\r\\n    <th>车道沟——长春桥</th>\\r\\n    <td>1205</td>\\r\\n    <td>上行/下行</td>\\r\\n  </tr>\\r\\n  <tr>\\r\\n    <th>长春桥——火器营</th>\\r\\n    <td>961</td>\\r\\n    <td>上行/下行</td>\\r\\n  </tr>\\r\\n  <tr>\\r\\n    <th>火器营——巴沟</th>\\r\\n    <td>1495</td>\\r\\n    <td>上行/下行</td>\\r\\n  </tr>\\r\\n  </tbody>\\r\\n</table>\\r\\n</div>\\r\\n          </div>\\r\\n          <div class=\"line_place\" id=\"sub8\" style=\"display:none;\">\\r\\n              <div class=\"con_text\">\\r\\n<table width=\"738\" height=\"886\" cellspacing=\"0\" cellpadding=\"0\" border=\"0\" class=\"thirteen\">\\r\\n\\t<thead>\\r\\n\\t<tr style=\"height:56px; background:#f9e701; color:#000; font-size:26px;\">\\r\\n  \\t<td colspan=\"7\">13号线相邻站间距信息统计表</td>\\r\\n  </tr>\\r\\n  <tr style=\"height:56px; background:#fdee77; color:#000; font-size:20px\">\\r\\n  \\t  <td width=\"171\">起始/终到车站</td>\\r\\n    <td  width=\"171\">区间距离（米）</td>\\r\\n       <td  width=\"171\">方向</td>\\r\\n  </tr>\\r\\n \\r\\n  </thead>\\r\\n  <tbody>\\r\\n <tr>\\r\\n    <th>西直门——大钟寺</th>\\r\\n    <td>2839</td>\\r\\n    <td>上行/下行</td>\\r\\n  </tr>\\r\\n  <tr>\\r\\n    <th>大钟寺——知春路</th>\\r\\n    <td>1206</td>\\r\\n   <td>上行/下行</td>\\r\\n  </tr>\\r\\n  <tr>\\r\\n    <th>知春路——五道口</th>\\r\\n    <td>1829</td>\\r\\n   <td>上行/下行</td>\\r\\n  </tr>\\r\\n  <tr>\\r\\n    <th>五道口——上地</th>\\r\\n    <td>4866</td>\\r\\n    <td>上行/下行</td>\\r\\n  </tr>\\r\\n  <tr>\\r\\n    <th>上地——西二旗</th>\\r\\n    <td>2538</td>\\r\\n   <td>上行/下行</td>\\r\\n  </tr>\\r\\n  <tr>\\r\\n    <th>西二旗——龙泽</th>\\r\\n    <td>3623</td>\\r\\n  <td>上行/下行</td>\\r\\n  </tr>\\r\\n  <tr>\\r\\n    <th>龙泽——回龙观</th>\\r\\n    <td>1423</td>\\r\\n   <td>上行/下行</td>\\r\\n  </tr>\\r\\n  <tr>\\r\\n    <th>回龙观——霍营</th>\\r\\n    <td>2110</td>\\r\\n   <td>上行/下行</td>\\r\\n  </tr>\\r\\n  <tr>\\r\\n    <th>霍营——立水桥</th>\\r\\n    <td>4785</td>\\r\\n   <td>上行/下行</td>\\r\\n  </tr>\\r\\n  <tr>\\r\\n    <th>立水桥——北苑</th>\\r\\n    <td>2272</td>\\r\\n  <td>上行/下行</td>\\r\\n  </tr>\\r\\n  <tr>\\r\\n    <th>北苑——望京西</th>\\r\\n    <td>6720</td>\\r\\n  <td>上行/下行</td>\\r\\n  </tr>\\r\\n  <tr>\\r\\n    <th>望京西——芍药居</th>\\r\\n    <td>2152</td>\\r\\n    <td>上行/下行</td>\\r\\n  </tr>\\r\\n  <tr>\\r\\n    <th>芍药居——光熙门</th>\\r\\n    <td>1110</td>\\r\\n   <td>上行/下行</td>\\r\\n  </tr>\\r\\n  <tr>\\r\\n    <th>光熙门——柳芳</th>\\r\\n    <td>1135</td>\\r\\n   <td>上行/下行</td>\\r\\n  </tr>\\r\\n  <tr>\\r\\n    <th>柳芳——东直门</th>\\r\\n    <td>1769</td>\\r\\n  <td>上行/下行</td>\\r\\n  </tr>\\r\\n \\r\\n  </tbody>\\r\\n</table>\\r\\n</div>\\r\\n          </div>\\r\\n          <div class=\"line_place\" id=\"sub9\" style=\"display:none;\">\\r\\n              <div class=\"con_text\">\\r\\n<table width=\"738\" height=\"405\" cellspacing=\"0\" cellpadding=\"0\" border=\"0\" class=\"fourteen\">\\r\\n\\t<thead>\\r\\n\\t<tr style=\"height:56px; background:#d4a7a2; color:#fff; font-size:26px;\">\\r\\n  \\t<td colspan=\"7\">14号线(西段)相邻站间距信息统计表</td>\\r\\n  </tr>\\r\\n  <tr style=\"height:56px; background:#e1c2bd; color:#000; font-size:20px\">\\r\\n       <td width=\"171\">起始/终到车站</td>\\r\\n    <td  width=\"171\">区间距离（米）</td>\\r\\n       <td  width=\"171\">方向</td>\\r\\n  </tr>\\r\\n  </thead>\\r\\n  <tbody>\\r\\n  <tr>\\r\\n    <th>张郭庄——园博园</th>\\r\\n    <td>1345</td>\\r\\n    <td>上行/下行</td>\\r\\n  </tr>\\r\\n <tr>\\r\\n    <th>园博园——大瓦窑</th>\\r\\n    <td>4073</td>\\r\\n    <td>上行/下行</td>\\r\\n  </tr>\\r\\n   <tr>\\r\\n    <th>大瓦窑——郭庄子</th>\\r\\n    <td>1236</td>\\r\\n    <td>上行/下行</td>\\r\\n  </tr>\\r\\n   <tr>\\r\\n    <th>郭庄子——大井</th>\\r\\n    <td>2044</td>\\r\\n    <td>上行/下行</td>\\r\\n  </tr>\\r\\n   <tr>\\r\\n    <th>大井——七里庄</th>\\r\\n    <td>1579</td>\\r\\n    <td>上行/下行</td>\\r\\n  </tr>\\r\\n   <tr>\\r\\n    <th>七里庄——西局</th>\\r\\n    <td>845</td>\\r\\n    <td>上行/下行</td>\\r\\n  </tr>\\r\\n  \\r\\n  </tbody>\\r\\n</table>\\r\\n<br />\\r\\n<br />\\r\\n<table width=\"738\" height=\"500\" cellspacing=\"0\" cellpadding=\"0\" border=\"0\" class=\"fourteen\">\\r\\n\\t<thead>\\r\\n\\t<tr style=\"height:56px; background:#d4a7a2; color:#fff; font-size:26px;\">\\r\\n  \\t<td colspan=\"7\">14号线（东段）相邻站间距信息统计表</td>\\r\\n  </tr>\\r\\n  <tr style=\"height:56px; background:#e1c2bd; color:#000; font-size:20px\">\\r\\n       <td width=\"171\">起始/终到车站</td>\\r\\n    <td  width=\"171\">区间距离（米）</td>\\r\\n       <td  width=\"171\">方向</td>\\r\\n  </tr>\\r\\n  </thead>\\r\\n  <tbody>\\r\\n  <tr>\\r\\n    <th>北京南站——陶然桥</th>\\r\\n    <td>887</td>\\r\\n    <td>上行/下行</td>\\r\\n  </tr>\\r\\n   <tr>\\r\\n    <th>陶然桥——永定门外</th>\\r\\n    <td>1063</td>\\r\\n    <td>上行/下行</td>\\r\\n  </tr>\\r\\n   <tr>\\r\\n    <th>永定门外——景泰</th>\\r\\n    <td>1119</td>\\r\\n    <td>上行/下行</td>\\r\\n  </tr>\\r\\n   <tr>\\r\\n    <th>景泰——蒲黄榆</th>\\r\\n    <td>1025</td>\\r\\n    <td>上行/下行</td>\\r\\n  </tr>\\r\\n   <tr>\\r\\n    <th>蒲黄榆——方庄</th>\\r\\n    <td>1486</td>\\r\\n    <td>上行/下行</td>\\r\\n  </tr>\\r\\n   <tr>\\r\\n    <th>方庄——十里河</th>\\r\\n    <td>1618</td>\\r\\n    <td>上行/下行</td>\\r\\n  </tr>\\r\\n   <tr>\\r\\n    <th>十里河——南八里庄</th>\\r\\n    <td>1147</td>\\r\\n    <td>上行/下行</td>\\r\\n  </tr>\\r\\n   <tr>\\r\\n    <th>南八里庄——北工大西门</th>\\r\\n    <td>1276</td>\\r\\n    <td>上行/下行</td>\\r\\n  </tr>\\r\\n   <tr>\\r\\n    <th>北工大西门——平乐园</th>\\r\\n    <td>1128</td>\\r\\n    <td>上行/下行</td>\\r\\n  </tr>\\r\\n   <tr>\\r\\n    <th>平乐园——九龙山</th>\\r\\n    <td>897</td>\\r\\n    <td>上行/下行</td>\\r\\n  </tr>\\r\\n   <tr>\\r\\n    <th>九龙山——大望路</th>\\r\\n    <td>1780</td>\\r\\n    <td>上行/下行</td>\\r\\n  </tr>\\r\\n   <tr>\\r\\n    <th>大望路——红庙</th>\\r\\n    <td>708</td>\\r\\n    <td>上行/下行</td>\\r\\n  </tr>\\r\\n   <tr>\\r\\n    <th>红庙——金台路</th>\\r\\n    <td>894</td>\\r\\n    <td>上行/下行</td>\\r\\n  </tr>\\r\\n\\r\\n\\r\\n\\r\\n   <tr>\\r\\n    <th>金台路——朝阳公园</th>\\r\\n    <td>1085</td>\\r\\n    <td>上行/下行</td>\\r\\n  </tr>\\r\\n   <tr>\\r\\n    <th>朝阳公园——枣营</th>\\r\\n    <td>1221</td>\\r\\n    <td>上行/下行</td>\\r\\n  </tr>\\r\\n   <tr>\\r\\n    <th>枣营——东风北桥</th>\\r\\n    <td>2173</td>\\r\\n    <td>上行/下行</td>\\r\\n  </tr>\\r\\n   <tr>\\r\\n    <th>东风北桥——将台</th>\\r\\n    <td>1600</td>\\r\\n    <td>上行/下行</td>\\r\\n  </tr>\\r\\n   <tr>\\r\\n    <th>将台——高家园</th>\\r\\n    <td>1171</td>\\r\\n    <td>上行/下行</td>\\r\\n  </tr>\\r\\n   <tr>\\r\\n    <th>高家园——望京南</th>\\r\\n    <td>676</td>\\r\\n    <td>上行/下行</td>\\r\\n  </tr>\\r\\n   <tr>\\r\\n    <th>望京南——阜通</th>\\r\\n    <td>1168</td>\\r\\n    <td>上行/下行</td>\\r\\n  </tr>\\r\\n   <tr>\\r\\n    <th>阜通——望京</th>\\r\\n    <td>903</td>\\r\\n    <td>上行/下行</td>\\r\\n  </tr>\\r\\n   <tr>\\r\\n    <th>望京——东湖渠</th>\\r\\n    <td>1283</td>\\r\\n    <td>上行/下行</td>\\r\\n  </tr>\\r\\n   <tr>\\r\\n    <th>东湖渠——来广营</th>\\r\\n    <td>1100</td>\\r\\n    <td>上行/下行</td>\\r\\n  </tr>\\r\\n   <tr>\\r\\n    <th>来广营——善各庄</th>\\r\\n    <td>1364</td>\\r\\n    <td>上行/下行</td>\\r\\n  </tr>\\r\\n  </tbody>\\r\\n</table>\\r\\n</div>\\r\\n          </div>\\r\\n          <div class=\"line_place\" id=\"sub10\" style=\"display:none;\">\\r\\n              <div class=\"con_text\">\\r\\n<table width=\"738\" height=\"700\" cellspacing=\"0\" cellpadding=\"0\" border=\"0\" class=\"fifteen\">\\r\\n\\t<thead>\\r\\n\\t<tr style=\"height:56px; background:#5d2d69; color:#fff; font-size:26px;\">\\r\\n  \\t<td colspan=\"6\">15号线相邻站间距信息统计表</td>\\r\\n  </tr>\\r\\n  <tr style=\"height:56px; background:#876389; color:#000; font-size:20px\">\\r\\n  \\t\\t  <td width=\"171\">起始/终到车站</td>\\r\\n    <td  width=\"171\">区间距离（米）</td>\\r\\n       <td  width=\"171\">方向</td>\\r\\n  </tr>\\r\\n  \\r\\n  </thead>\\r\\n  <tbody>\\r\\n  <tr>\\r\\n    <th>清华东路西口——六道口</th>\\r\\n    <td>1144</td>\\r\\n    <td>上行/下行</td>\\r\\n  </tr>\\r\\n   <tr>\\r\\n    <th>六道口——北沙滩</th>\\r\\n    <td>1337</td>\\r\\n    <td>上行/下行</td>\\r\\n  </tr>\\r\\n   <tr>\\r\\n    <th>北沙滩——奥林匹克公园</th>\\r\\n    <td>1999</td>\\r\\n    <td>上行/下行</td>\\r\\n  </tr>\\r\\n    <tr>\\r\\n    <th>奥林匹克公园——安立路</th>\\r\\n    <td>1368</td>\\r\\n    <td>上行/下行</td>\\r\\n  </tr>\\r\\n    <tr>\\r\\n    <th>安立路——大屯路东</th>\\r\\n    <td>938</td>\\r\\n    <td>上行/下行</td>\\r\\n  </tr>\\r\\n    <tr>\\r\\n    <th>大屯路东——关庄</th>\\r\\n    <td>1087</td>\\r\\n    <td>上行/下行</td>\\r\\n  </tr>\\r\\n    <tr>\\r\\n    <th>关庄——望京西</th>\\r\\n    <td>2071</td>\\r\\n    <td>上行/下行</td>\\r\\n  </tr>\\r\\n    <tr>\\r\\n    <th>望京西——望京</th>\\r\\n    <td>1758</td>\\r\\n    <td>上行/下行</td>\\r\\n  </tr>\\r\\n    <tr>\\r\\n    <th>望京——望京东</th>\\r\\n    <td>1652</td>\\r\\n    <td>上行/下行</td>\\r\\n  </tr>\\r\\n    <tr>\\r\\n    <th>望京东——崔各庄</th>\\r\\n    <td>2295</td>\\r\\n    <td>上行/下行</td>\\r\\n  </tr>\\r\\n    <tr>\\r\\n    <th>崔各庄——马泉营</th>\\r\\n    <td>2008</td>\\r\\n    <td>上行/下行</td>\\r\\n  </tr>\\r\\n    <tr>\\r\\n    <th>马泉营——孙河</th>\\r\\n    <td>3309</td>\\r\\n    <td>上行/下行</td>\\r\\n  </tr>\\r\\n    <tr>\\r\\n    <th>孙河——国展</th>\\r\\n    <td>3386</td>\\r\\n    <td>上行/下行</td>\\r\\n  </tr>\\r\\n    <tr>\\r\\n    <th>国展——花梨坎</th>\\r\\n    <td>1615</td>\\r\\n    <td>上行/下行</td>\\r\\n  </tr>\\r\\n    <tr>\\r\\n    <th>花梨坎——后沙峪</th>\\r\\n    <td>3354</td>\\r\\n    <td>上行/下行</td>\\r\\n  </tr>\\r\\n    <tr>\\r\\n    <th>后沙峪——南法信</th>\\r\\n    <td>4576</td>\\r\\n    <td>上行/下行</td>\\r\\n  </tr>\\r\\n    <tr>\\r\\n    <th>南法信——石门</th>\\r\\n    <td>2712</td>\\r\\n    <td>上行/下行</td>\\r\\n  </tr>\\r\\n    <tr>\\r\\n    <th>石门——顺义</th>\\r\\n    <td>1331</td>\\r\\n    <td>上行/下行</td>\\r\\n  </tr>\\r\\n    <tr>\\r\\n    <th>顺义——俸伯</th>\\r\\n    <td>2441</td>\\r\\n    <td>上行/下行</td>\\r\\n  </tr>\\r\\n  </tbody>\\r\\n</table>\\r\\n</div>\\r\\n          </div>\\r\\n          <div class=\"line_place\" id=\"sub11\" style=\"display:none;\">\\r\\n              <div class=\"con_text\">\\r\\n<table width=\"738\" height=\"645\" cellspacing=\"0\" cellpadding=\"0\" border=\"0\" class=\"bt\">\\r\\n\\t<thead>\\r\\n\\t<tr style=\"height:56px; background:#c33a32; color:#fff; font-size:26px;\">\\r\\n  \\t<td colspan=\"5\">八通线相邻站间距信息统计表</td>\\r\\n  </tr>\\r\\n  <tr style=\"height:56px; background:#d2785e; color:#fff; font-size:20px\">\\r\\n  \\t\\t  <td width=\"171\">起始/终到车站</td>\\r\\n    <td  width=\"171\">区间距离（米）</td>\\r\\n       <td  width=\"171\">方向</td>\\r\\n  </tr>\\r\\n  </thead>\\r\\n  <tbody>\\r\\n  <tr>\\r\\n    <th>四惠——四惠东</th>\\r\\n    <td>1715</td>\\r\\n    <td>上行/下行</td>\\r\\n  </tr>\\r\\n  <tr>\\r\\n    <th>四惠东——高碑店</th>\\r\\n    <td>1375</td>\\r\\n    <td>上行/下行</td>\\r\\n  </tr>\\r\\n  <tr>\\r\\n    <th>高碑店——传媒大学</th>\\r\\n    <td>2002</td>\\r\\n     <td>上行/下行</td>\\r\\n  </tr>\\r\\n  <tr>\\r\\n    <th>传媒大学——双桥</th>\\r\\n    <td>1894</td>\\r\\n    <td>上行/下行</td>\\r\\n  </tr>\\r\\n  <tr>\\r\\n    <th>双桥——管庄</th>\\r\\n    <td>1912</td>\\r\\n    <td>上行/下行</td>\\r\\n  </tr>\\r\\n  <tr>\\r\\n    <th>管庄——八里桥</th>\\r\\n    <td>1763</td>\\r\\n    <td>上行/下行</td>\\r\\n  </tr>\\r\\n  <tr>\\r\\n    <th>八里桥——通州北苑</th>\\r\\n    <td>1700</td>\\r\\n   <td>上行/下行</td>\\r\\n  </tr>\\r\\n  <tr>\\r\\n    <th>通州北苑——果园</th>\\r\\n    <td>1465</td>\\r\\n   <td>上行/下行</td>\\r\\n  </tr>\\r\\n  <tr>\\r\\n    <th>果园——九棵树</th>\\r\\n    <td>990</td>\\r\\n   <td>上行/下行</td>\\r\\n  </tr>\\r\\n  <tr>\\r\\n    <th>九棵树——梨园</th>\\r\\n    <td>1225</td>\\r\\n   <td>上行/下行</td>\\r\\n  </tr>\\r\\n  <tr>\\r\\n    <th>梨园——临河里</th>\\r\\n    <td>1257</td>\\r\\n    <td>上行/下行</td>\\r\\n  </tr>\\r\\n  <tr>\\r\\n    <th>临河里——土桥</th>\\r\\n    <td>776</td>\\r\\n   <td>上行/下行</td>\\r\\n  </tr>\\r\\n  </tbody>\\r\\n</table>\\r\\n</div>\\r\\n          </div>\\r\\n          <div class=\"line_place\" id=\"sub12\" style=\"display:none;\">\\r\\n               <div class=\"con_text\">\\r\\n<table width=\"738\" height=\"437\" cellspacing=\"0\" cellpadding=\"0\" border=\"0\" class=\"cp\">\\r\\n\\t<thead>\\r\\n\\t<tr style=\"height:56px; background:#de82b1; color:#fff; font-size:26px;\">\\r\\n  \\t<td colspan=\"6\">昌平线相邻站间距信息统计表</td>\\r\\n  </tr>\\r\\n  <tr style=\"height:46px; background:#e8adcd; color:#000; font-size:20px\">\\r\\n   \\t  <td width=\"171\">起始/终到车站</td>\\r\\n    <td  width=\"171\">区间距离（米）</td>\\r\\n       <td  width=\"171\">方向</td>\\r\\n    </tr>\\r\\n \\r\\n  </thead>\\r\\n  <tbody>\\r\\n  <tr>\\r\\n    <th>昌平西山口——十三陵景区</th>\\r\\n    <td>1213</td>\\r\\n    <td>上行/下行</td>\\r\\n  </tr>\\r\\n  <tr>\\r\\n    <th>十三陵景区——昌平</th>\\r\\n    <td>3508</td>\\r\\n    <td>上行/下行</td>\\r\\n  </tr>\\r\\n  <tr>\\r\\n    <th>昌平——昌平东关</th>\\r\\n    <td>2433</td>\\r\\n    <td>上行/下行</td>\\r\\n  </tr>\\r\\n  <tr>\\r\\n    <th>昌平东关——北邵洼</th>\\r\\n    <td>1683</td>\\r\\n    <td>上行/下行</td>\\r\\n  </tr>\\r\\n  <tr>\\r\\n    <th>北邵洼——南邵</th>\\r\\n    <td>1958</td>\\r\\n    <td>上行/下行</td>\\r\\n  </tr>\\r\\n\\r\\n\\r\\n\\r\\n  <tr>\\r\\n    <th>南邵——沙河高教园</th>\\r\\n    <td>5357</td>\\r\\n    <td>上行/下行</td>\\r\\n  </tr>\\r\\n  <tr>\\r\\n    <th>沙河高教园——沙河</th>\\r\\n    <td>1964</td>\\r\\n   <td>上行/下行</td>\\r\\n  </tr>\\r\\n  <tr>\\r\\n    <th>沙河——巩华城</th>\\r\\n    <td>2025</td>\\r\\n    <td>上行/下行</td>\\r\\n  </tr>\\r\\n  <tr>\\r\\n    <th>巩华城——朱辛庄</th>\\r\\n    <td>3799</td>\\r\\n    <td>上行/下行</td>\\r\\n  </tr>\\r\\n  <tr>\\r\\n    <th>朱辛庄——生命科学园</th>\\r\\n    <td>2367</td>\\r\\n    <td>上行/下行</td>\\r\\n  </tr>\\r\\n  <tr>\\r\\n    <th>生命科学园——西二旗</th>\\r\\n    <td>5440</td>\\r\\n   <td>上行/下行</td>\\r\\n  </tr>\\r\\n \\r\\n  </tbody>\\r\\n</table>\\r\\n</div>\\r\\n          </div>\\r\\n          <div class=\"line_place\" id=\"sub13\" style=\"display:none;\">\\r\\n              <div class=\"con_text\">\\r\\n<table width=\"738\" height=\"634\" cellspacing=\"0\" cellpadding=\"0\" border=\"0\" class=\"yz\">\\r\\n\\t<thead>\\r\\n\\t<tr style=\"height:56px; background:#e40177; color:#fff; font-size:26px;\">\\r\\n  \\t<td colspan=\"5\">亦庄线相邻站间距信息统计表</td>\\r\\n  </tr>\\r\\n  <tr style=\"height:56px; background:#ec6e9e; color:#fff; font-size:20px\">\\r\\n    \\t  <td width=\"171\">起始/终到车站</td>\\r\\n    <td  width=\"171\">区间距离（米）</td>\\r\\n       <td  width=\"171\">方向</td>\\r\\n  </tr>\\r\\n  </thead>\\r\\n  <tbody>\\r\\n  <tr>\\r\\n    <th>宋家庄——肖村</th>\\r\\n    <td>2631</td>\\r\\n   <td>上行/下行</td>\\r\\n  </tr>\\r\\n  <tr>\\r\\n    <th>肖村——小红门</th>\\r\\n    <td>1275</td>\\r\\n   <td>上行/下行</td>\\r\\n  </tr>\\r\\n  <tr>\\r\\n    <th>小红门——旧宫</th>\\r\\n    <td>2366</td>\\r\\n    <td>上行/下行</td>\\r\\n  </tr>\\r\\n  <tr>\\r\\n    <th>旧宫——亦庄桥</th>\\r\\n    <td>1982</td>\\r\\n   <td>上行/下行</td>\\r\\n  </tr>\\r\\n  <tr>\\r\\n    <th>亦庄桥——亦庄文化园</th>\\r\\n    <td>993</td>\\r\\n   <td>上行/下行</td>\\r\\n  </tr>\\r\\n  <tr>\\r\\n    <th>亦庄文化园——万源街</th>\\r\\n    <td>1728</td>\\r\\n <td>上行/下行</td>\\r\\n  </tr>\\r\\n  <tr>\\r\\n    <th>万源街——荣京东街</th>\\r\\n    <td>1090</td>\\r\\n  <td>上行/下行</td>\\r\\n  </tr>\\r\\n  <tr>\\r\\n    <th>荣京东街——荣昌东街</th>\\r\\n    <td>1355</td>\\r\\n   <td>上行/下行</td>\\r\\n  </tr>\\r\\n  <tr>\\r\\n    <th>荣昌东街——同济南路</th>\\r\\n    <td>2337</td>\\r\\n   <td>上行/下行</td>\\r\\n  </tr>\\r\\n  <tr>\\r\\n    <th>同济南路——经海路</th>\\r\\n    <td>2301</td>\\r\\n  <td>上行/下行</td>\\r\\n  </tr>\\r\\n  <tr>\\r\\n    <th>经海路——次渠南</th>\\r\\n    <td>2055</td>\\r\\n  <td>上行/下行</td>\\r\\n  </tr>\\r\\n  <tr>\\r\\n    <th>次渠南——次渠</th>\\r\\n    <td>1281</td>\\r\\n  <td>上行/下行</td>\\r\\n  </tr>\\r\\n \\r\\n  </tbody>\\r\\n</table>\\r\\n</div>\\r\\n          </div>\\r\\n          <div class=\"line_place\" id=\"sub14\" style=\"display:none;\">\\r\\n              <div class=\"con_text\">\\r\\n<table width=\"738\" height=\"665\" cellspacing=\"0\" cellpadding=\"0\" border=\"0\" class=\"four\">\\r\\n\\t<thead>\\r\\n\\t<tr style=\"height:56px; background:#008e9c; color:#fff; font-size:26px;\">\\r\\n  \\t<td colspan=\"7\">大兴线相邻站间距信息统计表</td>\\r\\n  </tr>\\r\\n  \\r\\n  <tr style=\"height:56px; font-size:20px\">\\r\\n    <td width=\"171\"  bgcolor=\"#55adb7\">起始/终到车站</td>\\r\\n    <td  width=\"171\"  bgcolor=\"#55adb7\">区间距离（米）</td>\\r\\n       <td  width=\"171\"  bgcolor=\"#55adb7\">方向</td>\\r\\n  </tr>\\r\\n  </thead>\\r\\n  <tbody>\\r\\n  <tr>\\r\\n    <th>公益西桥——新宫</th>\\r\\n    <td>2798</td>\\r\\n    <td>上行/下行</td>\\r\\n  </tr>\\r\\n  <tr>\\r\\n    <th>新宫——西红门</th>\\r\\n    <td>5102</td>\\r\\n    <td>上行/下行</td>\\r\\n  </tr>\\r\\n  <tr>\\r\\n    <th>西红门——高米店北</th>\\r\\n    <td>1810</td>\\r\\n    <td>上行/下行</td>\\r\\n  </tr>\\r\\n  <tr>\\r\\n    <th>高米店北——高米店南</th>\\r\\n    <td>1128</td>\\r\\n    <td>上行/下行</td>\\r\\n  </tr>\\r\\n  <tr>\\r\\n    <th>高米店南——枣园</th>\\r\\n    <td>1096</td>\\r\\n    <td>上行/下行</td>\\r\\n  </tr>\\r\\n  <tr>\\r\\n    <th>枣园——清源路</th>\\r\\n    <td>1200</td>\\r\\n\\r\\n    <td>上行/下行</td>\\r\\n  </tr>\\r\\n  <tr>\\r\\n    <th>清源路——黄村西大街</th>\\r\\n    <td>1214</td>\\r\\n    <td>上行/下行</td>\\r\\n  </tr>\\r\\n  <tr>\\r\\n    <th>黄村西大街——黄村火车站</th>\\r\\n    <td>987</td>\\r\\n    <td>上行/下行</td>\\r\\n  </tr>\\r\\n  <tr>\\r\\n    <th>黄村火车站——义和庄</th>\\r\\n    <td>2035</td>\\r\\n    <td>上行/下行</td>\\r\\n  </tr>\\r\\n <tr>\\r\\n    <th>义和庄——生物医药基地</th>\\r\\n    <td>2918</td>\\r\\n    <td>上行/下行</td>\\r\\n  </tr>\\r\\n   <tr>\\r\\n    <th>生物医药基地——天宫院</th>\\r\\n    <td>1811</td>\\r\\n    <td>上行/下行</td>\\r\\n  </tr>\\r\\n \\r\\n  </tbody>\\r\\n</table>\\r\\n</div>\\r\\n          </div>\\r\\n          <div class=\"line_place\" id=\"sub15\" style=\"display:none;\">\\r\\n              <div class=\"con_text\">\\r\\n<table width=\"738\" height=\"645\" cellspacing=\"0\" cellpadding=\"0\" border=\"0\" class=\"fs\">\\r\\n\\t<thead>\\r\\n\\t<tr style=\"height:56px; background:#e66021; color:#fff; font-size:26px;\">\\r\\n  \\t<td colspan=\"5\">房山线相邻站间距信息统计表</td>\\r\\n  </tr>\\r\\n  <tr style=\"height:56px; background:#ee935a; color:#fff; font-size:20px\">\\r\\n  <td width=\"171\">起始/终到车站</td>\\r\\n    <td  width=\"171\">区间距离（米）</td>\\r\\n       <td  width=\"171\">方向</td>  </tr>\\r\\n  </thead>\\r\\n  <tbody>\\r\\n  <tr>\\r\\n    <th>郭公庄——大葆台</th>\\r\\n    <td>1405</td>\\r\\n     <td>上行/下行</td>\\r\\n  </tr>\\r\\n  <tr>\\r\\n    <th>大葆台——稻田</th>\\r\\n    <td>6466</td>\\r\\n     <td>上行/下行</td>\\r\\n  </tr>\\r\\n  <tr>\\r\\n    <th>稻田——长阳</th>\\r\\n    <td>4041</td>\\r\\n     <td>上行/下行</td>\\r\\n  </tr>\\r\\n  <tr>\\r\\n    <th>长阳——篱笆房</th>\\r\\n    <td>2150</td>\\r\\n    <td>上行/下行</td>\\r\\n  </tr>\\r\\n  <tr>\\r\\n    <th>篱笆房——广阳城</th>\\r\\n    <td>1474</td>\\r\\n     <td>上行/下行</td>\\r\\n  </tr>\\r\\n  <tr>\\r\\n    <th>广阳城——良乡大学城北</th>\\r\\n    <td>2003</td>\\r\\n      <td>上行/下行</td>\\r\\n  </tr>\\r\\n  <tr>\\r\\n    <th>良乡大学城北——良乡大学城</th>\\r\\n    <td>1188</td>\\r\\n    <td>上行/下行</td>\\r\\n  </tr>\\r\\n  <tr>\\r\\n    <th>良乡大学城——良乡大学城西</th>\\r\\n    <td>1738</td>\\r\\n    <td>上行/下行</td>\\r\\n  </tr>\\r\\n  <tr>\\r\\n    <th>良乡大学城西——良乡南关</th>\\r\\n    <td>1332</td>\\r\\n    <td>上行/下行</td>\\r\\n  </tr>\\r\\n  <tr>\\r\\n    <th>良乡南关——苏庄</th>\\r\\n    <td>1330</td>\\r\\n     <td>上行/下行</td>\\r\\n  </tr>\\r\\n  </tbody>\\r\\n</table>\\r\\n</div>\\r\\n          </div>\\r\\n          <div class=\"line_place\" id=\"sub16\" style=\"display:none;\">\\r\\n              <div class=\"con_text\">\\r\\n<table width=\"738\" height=\"300\" cellspacing=\"0\" cellpadding=\"0\" border=\"0\" class=\"jc\">\\r\\n\\t<thead>\\r\\n\\t<tr style=\"height:56px; background:#a29bbc; color:#fff; font-size:26px;\">\\r\\n  \\t<td colspan=\"5\">机场线相邻站间距信息统计表</td>\\r\\n  </tr>\\r\\n  <tr style=\"height:56px; background:#bdb7cf; color:#fff; font-size:20px\">\\r\\n     <td width=\"171\">起始/终到车站</td>\\r\\n    <td  width=\"171\">区间距离（米）</td>\\r\\n       <td  width=\"171\">方向</td>\\r\\n  </tr>\\r\\n  </thead>\\r\\n  <tbody>\\r\\n  <tr>\\r\\n    <th>东直门——三元桥</th>\\r\\n    <td>2999</td>\\r\\n   <td>上行/下行</td>\\r\\n  </tr>\\r\\n  <tr>\\r\\n    <th>三元桥——T3航站楼</th>\\r\\n    <td>18329</td>\\r\\n   <td>下行</td>\\r\\n  </tr>\\r\\n  <tr>\\r\\n    <th>T3航站楼——T2航站楼</th>\\r\\n    <td>7239</td>\\r\\n    <td>下行</td>\\r\\n  </tr>\\r\\n  <tr>\\r\\n    <th>T2航站楼——三元桥</th>\\r\\n    <td>20619</td>\\r\\n    <td>上行</td>\\r\\n  </tr>\\r\\n  </tbody>\\r\\n</table>\\r\\n</div>\\r\\n          </div>\\r\\n          \\r\\n              \\r\\n            </div>\\r\\n            <div class=\"other\" style=\"display:none;\">\\r\\n        \\t<ul>\\r\\n               \\t<li><h2><a href=\"http://www.bjsubway.com/attractions/\">坐地铁游北京</a></h2><p style=\"color:#5c5c5c; line-height:1.75em; font-size:12px ; color: rgb(89,89,89); \">北京地铁为您提供完善的换乘指南服务，乘坐地铁便利快捷出行，轻松游遍整个北京！</p></li>\\r\\n                <li><h2><a href=\"http://www.bjsubway.com/support/swzl/\">失物招领</a></h2><p style=\" color:#5c5c5c; line-height:1.75em; font-size:12px; color: rgb(89,89,89);  \">提供物品丢失的相关信息与咨询。</p></li>\\r\\n                <li><h2><a href=\"http://www.bjsubway.com/culture/zbcp/\">周边产品</a></h2><p style=\"color:#5c5c5c; line-height:1.75em; font-size:12px ; color: rgb(89,89,89); \">定期推出文化车票等相关地铁周边产品，更好地展现了北京地铁的新风采、新形象。</p></li>\\r\\n                <li><h2><a href=\"http://www.bjsubway.com/news/qyxw/\">企业新闻</a></h2><p style=\" color:#5c5c5c; line-height:1.75em; font-size:12px ; color: rgb(89,89,89); \">第一时间向广大乘客发布北京地铁出行及时信息、行业动态和领导关怀指导与党群动态。</p></li>\\r\\n            </ul>\\r\\n         </div>\\r\\n        </div>\\r\\n        <div class=\"side\"><div class=\"search_right\" id=\"firstpane\">\\r\\n        \\t<div class=\"menu_head\"><div class=\"search_right_go\"></div><div class=\"search_right_tx\"><a href=\"http://www.bjsubway.com/station_map_xg.html\">线路图查询</a></div></div>\\r\\n   <div class=\"menu_head\"><div class=\"search_right_go\"></div><div class=\"search_right_tx\"><a href=\"http://www.bjsubway.com/station/zjgls/\">站间公里数</a></div></div>\\r\\n          \\t<div class=\"menu_head\"><div class=\"search_right_go\"></div><div class=\"search_right_tx\"><a href=\"http://www.bjsubway.com/station/xltcx/\">站点及周边信息</a></div></div>\\r\\n          \\t<div class=\"menu_head\"><div class=\"search_right_go\"></div><div class=\"search_right_tx\"><a href=\"http://www.bjsubway.com/e/action/ListInfo/?classid=39&ph=1\">首末车时间</a></div></div>\\r\\n                <div class=\"menu_head\"><div class=\"search_right_go\"></div><div class=\"search_right_tx\"><a href=\"http://www.bjsubway.com/jcsk.html\">机场线时刻表</a></div></div>\\r\\n          \\t<div class=\"menu_head\"><div class=\"search_right_go\"></div><div class=\"search_right_tx\"><a href=\"http://www.bjsubway.com/e/action/ListInfo/?classid=40&ph=1&station=苹果园\">服务设施</a></div></div>\\r\\n          \\t<div class=\"menu_head\"><div class=\"search_right_go\"></div><div class=\"search_right_tx\"><a href=\"http://www.bjsubway.com/e/action/ListInfo/?classid=41&ph=1&station=苹果园\">无障碍服务设施</a></div></div>\\r\\n          \\t<div class=\"menu_head\"><div class=\"search_right_go\"></div><div class=\"search_right_tx\"><a href=\"http://www.bjsubway.com/e/action/ListInfo/?classid=42&ph=1\">一卡通服务网点</a></div></div>\\r\\n                <div class=\"menu_head\"><div class=\"search_right_go\"></div><div class=\"search_right_tx\"><a href=\"http://www.bjsubway.com/station/xltzs/\">线路图下载</a></div></div>\\r\\n</div></div>\\r\\n        </div>\\r\\n        <div class=\"clear\"></div>\\r\\n        <div class=\"bottom\">\\r\\n    <div class=\"hot_line\">\\r\\n        <h1>地铁服务热线：010-96165</h1>\\r\\n        <h4 class=\"records\" style=\\'margin-top:-0px; line-height:20px;\\'><!--京ICP备12042668号-1  京公网安备110403010001 110102000183<br/> -->版权所有 北京市地铁运营有限公司  京ICP备12042668号-1<br/>网站建设：<a style=\"cursor: text;color:#fff;\" href=\"http://www.syouwadesign.com/\">北京市艺彩昭和企业形象设计有限责任公司</a>&nbsp;&nbsp;&nbsp;&nbsp;网站制作维护热线：400-667-1119</h4>\\r\\n      </div>\\r\\n                 <div class=\"ljt\">\\r\\n\\t\\t   <a href=\"http://www.bjsubway.com/contact/\"><img src=\"http://www.bjsubway.com/subway/images/weixin.png\" /></a>\\r\\n\\t\\t   <a href=\"http://e.weibo.com/bjsubway\"><img src=\"http://www.bjsubway.com/subway/images/xinlang.png\" /></a>\\r\\n\\t\\t   <a href=\"http://e.t.qq.com/bjsubway\"><img src=\"http://www.bjsubway.com/subway/images/tengxun.png\" /></a>\\r\\n\\t\\t   <a href=\"http://www.bjsubway.com/contact/\"><img src=\"http://www.bjsubway.com/subway/images/shouji.png\" /></a>\\r\\n\\t\\t   <a href=\"http://www.bjsubway.com/contact/\"><img src=\"http://www.bjsubway.com/subway/images/pingguo.png\" /></a>\\r\\n\\t\\t   <a href=\"http://www.bjsubway.com/contact/\"><img src=\"http://www.bjsubway.com/subway/images/anzhuo.png\" /></a>\\r\\n\\t\\t</div>\\r\\n\\r\\n\\t  \\r\\n       <script type=\"text/javascript\" src=\"http://www.bjsubway.com/subway/js/yqlj2.js\"></script>\\r\\n       <div class=\"friendmain\">\\r\\n        <div class=\"keleyi-com-menu\" style=\"background:url(http://www.bjsubway.com/subway/images/friendlink.png) no-repeat;\">\\r\\n        <ul class=\"lang\">\\r\\n        <li class=\"\">\\r\\n\\t\\t  <span style=\"float:left;color:rgb(89,89,89); line-height:22px; padding-left:2px;\">友情链接\\r\\n\\t\\t  <input type=\"text\" value=\"———请选择——\" style=\"text-align:center;border:0 none; width:150px; color:rgb(89,89,89);\" border=\"0\"/>\\r\\n\\t\\t  <img src=\"http://www.bjsubway.com/subway/images/down.jpg\" width=\"6px\" height=\"6px\"style=\"margin-top:10px;\"/></span>\\r\\n         <!--[if IE]>\\r\\n        <ul style=\"display: none;margin-bottom:-19px;background:url(http://www.bjsubway.com/subway/images/index_links_box.png) no-repeat;width:231px; margin-left:-1px;\">\\r\\n<![endif]-->\\r\\n<!--[if !IE]><!-->\\r\\n          <ul style=\"display: none;margin-bottom:-19px;background:url(http://www.bjsubway.com/subway/images/index_links_box.png) no-repeat;width:231px; margin-left:-1px;\">\\r\\n<!--<![endif]-->\\r\\n          \\r\\n\\t\\t  \\r\\n          <div style=\"text-align:center;width:224px; background:none; height:35px;\">\\r\\n <div style=\"height:5px;\"></div>\\r\\n\\t\\t  <div class=\"sublogo\"><img src=\"http://www.bjsubway.com/subway/images/guangzhou.jpg\"/></div>\\r\\n\\t\\t  <div class=\"subname\"><a href=\"http://www.gzmtr.com/\" target=\"_blank\" onclick=\"window.open(\\'http://www.gzmtr.com\\', \\'_blank\\')\" style=\"color:rgb(89,89,89);\">广州地铁</a></div>\\r\\n\\t\\t  </div>\\r\\n\\t\\t  \\r\\n\\t\\t  <div style=\"text-align:center;width:214px; background:none; height:1px; margin-left:5px;background:url(http://www.bjsubway.com/subway/images/links_linex.jpg);\"></div>\\r\\n\\t\\t  \\r\\n\\t\\t  <div style=\"text-align:center;width:224px; background:none; height:30px;\">\\r\\n\\t\\t  <div class=\"sublogo\"><img src=\"http://www.bjsubway.com/subway/images/shanghai.jpg\"/></div>\\r\\n\\t\\t  <div class=\"subname\"><a href=\"http://www.shmetro.com/\" target=\"_blank\" onclick=\"window.open(\\'http://www.shmetro.com/\\', \\'_blank\\')\" style=\"color:rgb(89,89,89);\">上海地铁</a></div>\\r\\n\\t\\t  </div>\\r\\n\\t\\t  <div style=\"text-align:center;width:214px; background:none; height:1px; margin-left:5px;background:url(http://www.bjsubway.com/subway/images/links_linex.jpg);\"></div>\\r\\n\\t\\t  \\r\\n          <div style=\"text-align:center;width:224px; background:none; height:30px;\">\\r\\n\\t\\t  <div class=\"sublogo\"><img src=\"http://www.bjsubway.com/subway/images/tianjin.jpg\"/></div>\\r\\n\\t\\t  <div class=\"subname\"><a href=\"http://www.tjdt.cn/\" target=\"_blank\" onclick=\"window.open(\\'http://www.tjdt.cn/\\', \\'_blank\\')\" style=\"color:rgb(89,89,89);\">天津地铁</a></div>\\r\\n\\t\\t  </div>\\r\\n\\t\\t  <div style=\"text-align:center;width:214px; background:none; height:1px;margin-left:5px;background:url(http://www.bjsubway.com/subway/images/links_linex.jpg);\"></div>\\r\\n\\t\\t\\r\\n          <div style=\"text-align:center;width:224px; background:none; height:30px;\">\\r\\n\\t\\t  <div class=\"sublogo\"><img src=\"http://www.bjsubway.com/subway/images/xianggang.jpg\"/></div>\\r\\n\\t\\t  <div class=\"subname\"><a href=\"http://www.mtrsz.com.cn\" target=\"_blank\" onclick=\"window.open(\\'http://www.mtrsz.com.cn\\', \\'_blank\\')\" style=\"color:rgb(89,89,89);\">港铁深圳</a></div>\\r\\n\\t\\t  </div>\\r\\n\\t\\t  <div style=\"text-align:center;width:214px; background:none; height:1px;margin-left:5px;background:url(http://www.bjsubway.com/subway/images/links_linex.jpg);\"></div>\\r\\n\\t\\t<div style=\"text-align:center;width:224px; background:#none; height:30px;\">\\r\\n\\t\\t  <div class=\"sublogo\"><img src=\"http://www.bjsubway.com/subway/images/jinggang.jpg\"/></div>\\r\\n\\t\\t  <div class=\"subname\"><a href=\"http://www.mtr.bj.cn\" target=\"_blank\" onclick=\"window.open(\\'http://www.mtr.bj.cn\\', \\'_blank\\')\" style=\"color:rgb(89,89,89);\">京港地铁</a></div>\\r\\n\\t\\t  </div>\\r\\n\\t\\t  <div style=\"text-align:center;width:214px; background:none; height:1px;margin-left:5px;background:url(http://www.bjsubway.com/subway/images/links_linex.jpg);\"></div>  \\r\\n\\t\\t<div style=\"text-align:center;width:224px; background:#none; height:30px;\">\\r\\n\\t\\t  <div class=\"sublogo\"><img src=\"http://www.bjsubway.com/subway/images/ruyixing.png\"/></div>\\r\\n\\t\\t  <div class=\"subname\"><a href=\"http://www.ruubypay.com\" target=\"_blank\" onclick=\"window.open(\\'http://www.ruubypay.com\\', \\'_blank\\')\" style=\"color:rgb(89,89,89);\">如易行科技</a></div>\\r\\n\\t\\t  </div>\\r\\n\\t\\t  <div style=\"text-align:center;width:214px; background:none; height:1px;margin-left:5px;background:url(http://www.bjsubway.com/subway/images/links_linex.jpg);\"></div> \\r\\n\\r\\n          </ul>   \\r\\n\\t\\t    </li>\\r\\n          </ul>\\r\\n         </div>\\r\\n      </div>\\r\\n      <script type=\"text/javascript\" src=\"http://www.bjsubway.com/subway/js/yqlj1.js\"></script>\\r\\n</div>\\r\\n<div style=\"display:none\"><script type=\"text/javascript\">\\r\\nvar _bdhmProtocol = ((\"https:\" == document.location.protocol) ? \" https://\" : \" http://\");\\r\\ndocument.write(unescape(\"%3Cscript src=\\'\" + _bdhmProtocol + \"hm.baidu.com/h.js%3F01cf1cc88df5ecf7e38164197b4a2001\\' type=\\'text/javascript\\'%3E%3C/script%3E\"));\\r\\n</script></div>\\r\\n        <!-- bottom end -->  \\r\\n    </div>\\r\\n</div>\\r\\n\\t\\r\\n</body>\\r\\n</html>'"
      ]
     },
     "execution_count": 90,
     "metadata": {},
     "output_type": "execute_result"
    }
   ],
   "source": [
    "url = 'http://www.bjsubway.com/station/zjgls/'\n",
    "response = requests.get(url)\n",
    "response.encoding = 'GBK'\n",
    "response.text"
   ]
  },
  {
   "cell_type": "code",
   "execution_count": null,
   "metadata": {},
   "outputs": [],
   "source": [
    "#模拟浏览器\n",
    "url = \"https://baike.baidu.com/item/%E5%8C%97%E4%BA%AC%E5%9C%B0%E9%93%81/408485\"\n",
    "headers = {\n",
    "    'accept': 'text/html,application/xhtml+xml,application/xml;q=0.9,image/webp,image/apng,*/*;q=0.8,application/signed-exchange;v=b3',\n",
    "    'user-agent': 'Mozilla/5.0 (Windows NT 10.0; Win64; x64) AppleWebKit/537.36 (KHTML, like Gecko) Chrome/75.0.3770.100 Safari/537.36',\n",
    "    'connection': 'keep-alive',\n",
    "    'host': 'baike.baidu.com',\n",
    "    'accept-encoding': 'gzip, deflate, br',\n",
    "    'accept-language': 'zh-CN,zh;q=0.9,en;q=0.8',\n",
    "    'upgrade-insecure-requests': '1'\n",
    "}\n",
    "header = {'User-Agent': 'Mozilla/5.0 (Windows NT 6.3; WOW64) AppleWebKit/537.36 (KHTML, like Gecko) Chrome/55.0.2883.87 Safari/537.36'}\n",
    "r = requests.get(url=url,headers = headers)\n",
    "r.encoding = 'utf-8'\n",
    "r.text"
   ]
  },
  {
   "cell_type": "code",
   "execution_count": 58,
   "metadata": {},
   "outputs": [
    {
     "name": "stdout",
     "output_type": "stream",
     "text": [
      "[('前门', '崇文门')]\n"
     ]
    }
   ],
   "source": [
    "test_string = \"<th>前门——崇文门</th>\"\n",
    "pattern = re.compile(r\"<th>(\\w+)——(\\w+)</th>\")\n",
    "info = pattern.findall(test_string)\n",
    "print(info)"
   ]
  },
  {
   "cell_type": "code",
   "execution_count": 59,
   "metadata": {},
   "outputs": [],
   "source": [
    "what_we_want = r'(\\w+)——(\\w+)'#正则专用符号. ? []"
   ]
  },
  {
   "cell_type": "code",
   "execution_count": 60,
   "metadata": {},
   "outputs": [],
   "source": [
    "pattern = re.compile(what_we_want)"
   ]
  },
  {
   "cell_type": "code",
   "execution_count": 64,
   "metadata": {},
   "outputs": [
    {
     "data": {
      "text/plain": [
       "[('苹果园', '古城'),\n",
       " ('古城', '八角游乐园'),\n",
       " ('八角游乐园', '八宝山'),\n",
       " ('八宝山', '玉泉路'),\n",
       " ('玉泉路', '五棵松'),\n",
       " ('五棵松', '万寿路'),\n",
       " ('万寿路', '公主坟'),\n",
       " ('公主坟', '军事博物馆'),\n",
       " ('军事博物馆', '木樨地'),\n",
       " ('木樨地', '南礼士路'),\n",
       " ('南礼士路', '复兴门'),\n",
       " ('复兴门', '西单'),\n",
       " ('西单', '天安门西'),\n",
       " ('天安门西', '天安门东'),\n",
       " ('天安门东', '王府井'),\n",
       " ('王府井', '东单'),\n",
       " ('东单', '建国门'),\n",
       " ('建国门', '永安里'),\n",
       " ('永安里', '国贸'),\n",
       " ('国贸', '大望路'),\n",
       " ('大望路', '四惠'),\n",
       " ('四惠', '四惠东'),\n",
       " ('西直门', '车公庄'),\n",
       " ('车公庄', '阜成门'),\n",
       " ('阜成门', '复兴门'),\n",
       " ('复兴门', '长椿街'),\n",
       " ('长椿街', '宣武门'),\n",
       " ('宣武门', '和平门'),\n",
       " ('和平门', '前门'),\n",
       " ('前门', '崇文门'),\n",
       " ('崇文门', '北京站'),\n",
       " ('北京站', '建国门'),\n",
       " ('建国门', '朝阳门'),\n",
       " ('朝阳门', '东四十条'),\n",
       " ('东四十条', '东直门'),\n",
       " ('东直门', '雍和宫'),\n",
       " ('雍和宫', '安定门'),\n",
       " ('安定门', '鼓楼大街'),\n",
       " ('鼓楼大街', '积水潭'),\n",
       " ('积水潭', '西直门'),\n",
       " ('安河桥北', '北宫门'),\n",
       " ('北宫门', '西苑'),\n",
       " ('西苑', '圆明园'),\n",
       " ('圆明园', '北京大学东门'),\n",
       " ('北京大学东门', '中关村'),\n",
       " ('中关村', '海淀黄庄'),\n",
       " ('海淀黄庄', '人民大学'),\n",
       " ('人民大学', '魏公村'),\n",
       " ('魏公村', '国家图书馆'),\n",
       " ('国家图书馆', '动物园'),\n",
       " ('动物园', '西直门'),\n",
       " ('西直门', '新街口'),\n",
       " ('新街口', '平安里'),\n",
       " ('平安里', '西四'),\n",
       " ('西四', '灵境胡同'),\n",
       " ('灵境胡同', '西单'),\n",
       " ('西单', '宣武门'),\n",
       " ('宣武门', '菜市口'),\n",
       " ('菜市口', '陶然亭'),\n",
       " ('陶然亭', '北京南站'),\n",
       " ('北京南站', '马家堡'),\n",
       " ('马家堡', '角门西'),\n",
       " ('角门西', '公益西桥'),\n",
       " ('天通苑北', '天通苑'),\n",
       " ('天通苑', '天通苑南'),\n",
       " ('天通苑南', '立水桥'),\n",
       " ('立水桥', '立水桥南'),\n",
       " ('立水桥南', '北苑路北'),\n",
       " ('北苑路北', '大屯路东'),\n",
       " ('大屯路东', '惠新西街北口'),\n",
       " ('惠新西街北口', '惠新西街南口'),\n",
       " ('惠新西街南口', '和平西桥'),\n",
       " ('和平西桥', '和平里北街'),\n",
       " ('和平里北街', '雍和宫'),\n",
       " ('雍和宫', '北新桥'),\n",
       " ('北新桥', '张自忠路'),\n",
       " ('张自忠路', '东四'),\n",
       " ('东四', '灯市口'),\n",
       " ('灯市口', '东单'),\n",
       " ('东单', '崇文门'),\n",
       " ('崇文门', '磁器口'),\n",
       " ('磁器口', '天坛东门'),\n",
       " ('天坛东门', '蒲黄榆'),\n",
       " ('蒲黄榆', '刘家窑'),\n",
       " ('刘家窑', '宋家庄'),\n",
       " ('海淀五路居', '慈寿寺'),\n",
       " ('慈寿寺', '花园桥'),\n",
       " ('花园桥', '白石桥南'),\n",
       " ('白石桥南', '车公庄西'),\n",
       " ('车公庄西', '车公庄'),\n",
       " ('车公庄', '平安里'),\n",
       " ('平安里', '北海北'),\n",
       " ('北海北', '南锣鼓巷'),\n",
       " ('南锣鼓巷', '东四'),\n",
       " ('东四', '朝阳门'),\n",
       " ('朝阳门', '东大桥'),\n",
       " ('东大桥', '呼家楼'),\n",
       " ('呼家楼', '金台路'),\n",
       " ('金台路', '十里堡'),\n",
       " ('十里堡', '青年路'),\n",
       " ('青年路', '褡裢坡'),\n",
       " ('褡裢坡', '黄渠'),\n",
       " ('黄渠', '常营'),\n",
       " ('常营', '草房'),\n",
       " ('草房', '物资学院路'),\n",
       " ('物资学院路', '通州北关'),\n",
       " ('通州北关', '通运门'),\n",
       " ('通运门', '北运河西'),\n",
       " ('北运河西', '北运河东'),\n",
       " ('北运河东', '郝家府'),\n",
       " ('郝家府', '东夏园'),\n",
       " ('东夏园', '潞城'),\n",
       " ('北京西站', '湾子'),\n",
       " ('湾子', '达官营'),\n",
       " ('达官营', '广安门内'),\n",
       " ('广安门内', '菜市口'),\n",
       " ('菜市口', '虎坊桥'),\n",
       " ('虎坊桥', '珠市口'),\n",
       " ('珠市口', '桥湾'),\n",
       " ('桥湾', '磁器口'),\n",
       " ('磁器口', '广渠门内'),\n",
       " ('广渠门内', '广渠门外'),\n",
       " ('广渠门外', '双井'),\n",
       " ('双井', '九龙山'),\n",
       " ('九龙山', '大郊亭'),\n",
       " ('大郊亭', '百子湾'),\n",
       " ('百子湾', '化工'),\n",
       " ('化工', '南楼梓庄'),\n",
       " ('南楼梓庄', '欢乐谷景区'),\n",
       " ('欢乐谷景区', '垡头'),\n",
       " ('垡头', '双合'),\n",
       " ('双合', '焦化厂'),\n",
       " ('朱辛庄', '育知路'),\n",
       " ('育知路', '平西府'),\n",
       " ('平西府', '回龙观东大街'),\n",
       " ('回龙观东大街', '霍营'),\n",
       " ('霍营', '育新'),\n",
       " ('育新', '西小口'),\n",
       " ('西小口', '永泰庄'),\n",
       " ('永泰庄', '林萃桥'),\n",
       " ('林萃桥', '森林公园南门'),\n",
       " ('森林公园南门', '奥林匹克公园'),\n",
       " ('奥林匹克公园', '奥体中心'),\n",
       " ('奥体中心', '北土城'),\n",
       " ('北土城', '安华桥'),\n",
       " ('安华桥', '安德里北街'),\n",
       " ('安德里北街', '鼓楼大街'),\n",
       " ('鼓楼大街', '什刹海'),\n",
       " ('什刹海', '南锣鼓巷'),\n",
       " ('国家图书馆', '白石桥南'),\n",
       " ('白石桥南', '白堆子'),\n",
       " ('白堆子', '军事博物馆'),\n",
       " ('军事博物馆', '北京西站'),\n",
       " ('北京西站', '六里桥东'),\n",
       " ('六里桥东', '六里桥'),\n",
       " ('六里桥', '七里庄'),\n",
       " ('七里庄', '丰台东大街'),\n",
       " ('丰台东大街', '丰台南路'),\n",
       " ('丰台南路', '科怡路'),\n",
       " ('科怡路', '丰台科技园'),\n",
       " ('丰台科技园', '郭公庄'),\n",
       " ('巴沟', '苏州街'),\n",
       " ('苏州街', '海淀黄庄'),\n",
       " ('海淀黄庄', '知春里'),\n",
       " ('知春里', '知春路'),\n",
       " ('知春路', '西土城'),\n",
       " ('西土城', '牡丹园'),\n",
       " ('牡丹园', '健德门'),\n",
       " ('健德门', '北土城'),\n",
       " ('北土城', '安贞门'),\n",
       " ('安贞门', '惠新西街南口'),\n",
       " ('惠新西街南口', '芍药居'),\n",
       " ('芍药居', '太阳宫'),\n",
       " ('太阳宫', '三元桥'),\n",
       " ('三元桥', '亮马桥'),\n",
       " ('亮马桥', '农业展览馆'),\n",
       " ('农业展览馆', '团结湖'),\n",
       " ('团结湖', '呼家楼'),\n",
       " ('呼家楼', '金台夕照'),\n",
       " ('金台夕照', '国贸'),\n",
       " ('国贸', '双井'),\n",
       " ('双井', '劲松'),\n",
       " ('劲松', '潘家园'),\n",
       " ('潘家园', '十里河'),\n",
       " ('十里河', '分钟寺'),\n",
       " ('分钟寺', '成寿寺'),\n",
       " ('成寿寺', '宋家庄'),\n",
       " ('宋家庄', '石榴庄'),\n",
       " ('石榴庄', '大红门'),\n",
       " ('大红门', '角门东'),\n",
       " ('角门东', '角门西'),\n",
       " ('角门西', '草桥'),\n",
       " ('草桥', '纪家庙'),\n",
       " ('纪家庙', '首经贸'),\n",
       " ('首经贸', '丰台站'),\n",
       " ('丰台站', '泥洼'),\n",
       " ('泥洼', '西局'),\n",
       " ('西局', '六里桥'),\n",
       " ('六里桥', '莲花桥'),\n",
       " ('莲花桥', '公主坟'),\n",
       " ('公主坟', '西钓鱼台'),\n",
       " ('西钓鱼台', '慈寿寺'),\n",
       " ('慈寿寺', '车道沟'),\n",
       " ('车道沟', '长春桥'),\n",
       " ('长春桥', '火器营'),\n",
       " ('火器营', '巴沟'),\n",
       " ('西直门', '大钟寺'),\n",
       " ('大钟寺', '知春路'),\n",
       " ('知春路', '五道口'),\n",
       " ('五道口', '上地'),\n",
       " ('上地', '西二旗'),\n",
       " ('西二旗', '龙泽'),\n",
       " ('龙泽', '回龙观'),\n",
       " ('回龙观', '霍营'),\n",
       " ('霍营', '立水桥'),\n",
       " ('立水桥', '北苑'),\n",
       " ('北苑', '望京西'),\n",
       " ('望京西', '芍药居'),\n",
       " ('芍药居', '光熙门'),\n",
       " ('光熙门', '柳芳'),\n",
       " ('柳芳', '东直门'),\n",
       " ('张郭庄', '园博园'),\n",
       " ('园博园', '大瓦窑'),\n",
       " ('大瓦窑', '郭庄子'),\n",
       " ('郭庄子', '大井'),\n",
       " ('大井', '七里庄'),\n",
       " ('七里庄', '西局'),\n",
       " ('北京南站', '陶然桥'),\n",
       " ('陶然桥', '永定门外'),\n",
       " ('永定门外', '景泰'),\n",
       " ('景泰', '蒲黄榆'),\n",
       " ('蒲黄榆', '方庄'),\n",
       " ('方庄', '十里河'),\n",
       " ('十里河', '南八里庄'),\n",
       " ('南八里庄', '北工大西门'),\n",
       " ('北工大西门', '平乐园'),\n",
       " ('平乐园', '九龙山'),\n",
       " ('九龙山', '大望路'),\n",
       " ('大望路', '红庙'),\n",
       " ('红庙', '金台路'),\n",
       " ('金台路', '朝阳公园'),\n",
       " ('朝阳公园', '枣营'),\n",
       " ('枣营', '东风北桥'),\n",
       " ('东风北桥', '将台'),\n",
       " ('将台', '高家园'),\n",
       " ('高家园', '望京南'),\n",
       " ('望京南', '阜通'),\n",
       " ('阜通', '望京'),\n",
       " ('望京', '东湖渠'),\n",
       " ('东湖渠', '来广营'),\n",
       " ('来广营', '善各庄'),\n",
       " ('清华东路西口', '六道口'),\n",
       " ('六道口', '北沙滩'),\n",
       " ('北沙滩', '奥林匹克公园'),\n",
       " ('奥林匹克公园', '安立路'),\n",
       " ('安立路', '大屯路东'),\n",
       " ('大屯路东', '关庄'),\n",
       " ('关庄', '望京西'),\n",
       " ('望京西', '望京'),\n",
       " ('望京', '望京东'),\n",
       " ('望京东', '崔各庄'),\n",
       " ('崔各庄', '马泉营'),\n",
       " ('马泉营', '孙河'),\n",
       " ('孙河', '国展'),\n",
       " ('国展', '花梨坎'),\n",
       " ('花梨坎', '后沙峪'),\n",
       " ('后沙峪', '南法信'),\n",
       " ('南法信', '石门'),\n",
       " ('石门', '顺义'),\n",
       " ('顺义', '俸伯'),\n",
       " ('四惠', '四惠东'),\n",
       " ('四惠东', '高碑店'),\n",
       " ('高碑店', '传媒大学'),\n",
       " ('传媒大学', '双桥'),\n",
       " ('双桥', '管庄'),\n",
       " ('管庄', '八里桥'),\n",
       " ('八里桥', '通州北苑'),\n",
       " ('通州北苑', '果园'),\n",
       " ('果园', '九棵树'),\n",
       " ('九棵树', '梨园'),\n",
       " ('梨园', '临河里'),\n",
       " ('临河里', '土桥'),\n",
       " ('昌平西山口', '十三陵景区'),\n",
       " ('十三陵景区', '昌平'),\n",
       " ('昌平', '昌平东关'),\n",
       " ('昌平东关', '北邵洼'),\n",
       " ('北邵洼', '南邵'),\n",
       " ('南邵', '沙河高教园'),\n",
       " ('沙河高教园', '沙河'),\n",
       " ('沙河', '巩华城'),\n",
       " ('巩华城', '朱辛庄'),\n",
       " ('朱辛庄', '生命科学园'),\n",
       " ('生命科学园', '西二旗'),\n",
       " ('宋家庄', '肖村'),\n",
       " ('肖村', '小红门'),\n",
       " ('小红门', '旧宫'),\n",
       " ('旧宫', '亦庄桥'),\n",
       " ('亦庄桥', '亦庄文化园'),\n",
       " ('亦庄文化园', '万源街'),\n",
       " ('万源街', '荣京东街'),\n",
       " ('荣京东街', '荣昌东街'),\n",
       " ('荣昌东街', '同济南路'),\n",
       " ('同济南路', '经海路'),\n",
       " ('经海路', '次渠南'),\n",
       " ('次渠南', '次渠'),\n",
       " ('公益西桥', '新宫'),\n",
       " ('新宫', '西红门'),\n",
       " ('西红门', '高米店北'),\n",
       " ('高米店北', '高米店南'),\n",
       " ('高米店南', '枣园'),\n",
       " ('枣园', '清源路'),\n",
       " ('清源路', '黄村西大街'),\n",
       " ('黄村西大街', '黄村火车站'),\n",
       " ('黄村火车站', '义和庄'),\n",
       " ('义和庄', '生物医药基地'),\n",
       " ('生物医药基地', '天宫院'),\n",
       " ('郭公庄', '大葆台'),\n",
       " ('大葆台', '稻田'),\n",
       " ('稻田', '长阳'),\n",
       " ('长阳', '篱笆房'),\n",
       " ('篱笆房', '广阳城'),\n",
       " ('广阳城', '良乡大学城北'),\n",
       " ('良乡大学城北', '良乡大学城'),\n",
       " ('良乡大学城', '良乡大学城西'),\n",
       " ('良乡大学城西', '良乡南关'),\n",
       " ('良乡南关', '苏庄'),\n",
       " ('东直门', '三元桥'),\n",
       " ('三元桥', 'T3航站楼'),\n",
       " ('T3航站楼', 'T2航站楼'),\n",
       " ('T2航站楼', '三元桥')]"
      ]
     },
     "execution_count": 64,
     "metadata": {},
     "output_type": "execute_result"
    }
   ],
   "source": [
    "subway_station = pattern.findall(response.text)\n",
    "subway_station"
   ]
  },
  {
   "cell_type": "code",
   "execution_count": 79,
   "metadata": {},
   "outputs": [],
   "source": [
    "subway_station_connection = defaultdict(list)\n",
    "for s1 in subway_station:\n",
    "    subway_station_connection[s1[0]].append(s1[1])\n",
    "    subway_station_connection[s1[1]].append(s1[0])"
   ]
  },
  {
   "cell_type": "code",
   "execution_count": 80,
   "metadata": {},
   "outputs": [
    {
     "data": {
      "text/plain": [
       "defaultdict(list,\n",
       "            {'苹果园': ['古城'],\n",
       "             '古城': ['苹果园', '八角游乐园'],\n",
       "             '八角游乐园': ['古城', '八宝山'],\n",
       "             '八宝山': ['八角游乐园', '玉泉路'],\n",
       "             '玉泉路': ['八宝山', '五棵松'],\n",
       "             '五棵松': ['玉泉路', '万寿路'],\n",
       "             '万寿路': ['五棵松', '公主坟'],\n",
       "             '公主坟': ['万寿路', '军事博物馆', '莲花桥', '西钓鱼台'],\n",
       "             '军事博物馆': ['公主坟', '木樨地', '白堆子', '北京西站'],\n",
       "             '木樨地': ['军事博物馆', '南礼士路'],\n",
       "             '南礼士路': ['木樨地', '复兴门'],\n",
       "             '复兴门': ['南礼士路', '西单', '阜成门', '长椿街'],\n",
       "             '西单': ['复兴门', '天安门西', '灵境胡同', '宣武门'],\n",
       "             '天安门西': ['西单', '天安门东'],\n",
       "             '天安门东': ['天安门西', '王府井'],\n",
       "             '王府井': ['天安门东', '东单'],\n",
       "             '东单': ['王府井', '建国门', '灯市口', '崇文门'],\n",
       "             '建国门': ['东单', '永安里', '北京站', '朝阳门'],\n",
       "             '永安里': ['建国门', '国贸'],\n",
       "             '国贸': ['永安里', '大望路', '金台夕照', '双井'],\n",
       "             '大望路': ['国贸', '四惠', '九龙山', '红庙'],\n",
       "             '四惠': ['大望路', '四惠东', '四惠东'],\n",
       "             '四惠东': ['四惠', '四惠', '高碑店'],\n",
       "             '西直门': ['车公庄', '积水潭', '动物园', '新街口', '大钟寺'],\n",
       "             '车公庄': ['西直门', '阜成门', '车公庄西', '平安里'],\n",
       "             '阜成门': ['车公庄', '复兴门'],\n",
       "             '长椿街': ['复兴门', '宣武门'],\n",
       "             '宣武门': ['长椿街', '和平门', '西单', '菜市口'],\n",
       "             '和平门': ['宣武门', '前门'],\n",
       "             '前门': ['和平门', '崇文门'],\n",
       "             '崇文门': ['前门', '北京站', '东单', '磁器口'],\n",
       "             '北京站': ['崇文门', '建国门'],\n",
       "             '朝阳门': ['建国门', '东四十条', '东四', '东大桥'],\n",
       "             '东四十条': ['朝阳门', '东直门'],\n",
       "             '东直门': ['东四十条', '雍和宫', '柳芳', '三元桥'],\n",
       "             '雍和宫': ['东直门', '安定门', '和平里北街', '北新桥'],\n",
       "             '安定门': ['雍和宫', '鼓楼大街'],\n",
       "             '鼓楼大街': ['安定门', '积水潭', '安德里北街', '什刹海'],\n",
       "             '积水潭': ['鼓楼大街', '西直门'],\n",
       "             '安河桥北': ['北宫门'],\n",
       "             '北宫门': ['安河桥北', '西苑'],\n",
       "             '西苑': ['北宫门', '圆明园'],\n",
       "             '圆明园': ['西苑', '北京大学东门'],\n",
       "             '北京大学东门': ['圆明园', '中关村'],\n",
       "             '中关村': ['北京大学东门', '海淀黄庄'],\n",
       "             '海淀黄庄': ['中关村', '人民大学', '苏州街', '知春里'],\n",
       "             '人民大学': ['海淀黄庄', '魏公村'],\n",
       "             '魏公村': ['人民大学', '国家图书馆'],\n",
       "             '国家图书馆': ['魏公村', '动物园', '白石桥南'],\n",
       "             '动物园': ['国家图书馆', '西直门'],\n",
       "             '新街口': ['西直门', '平安里'],\n",
       "             '平安里': ['新街口', '西四', '车公庄', '北海北'],\n",
       "             '西四': ['平安里', '灵境胡同'],\n",
       "             '灵境胡同': ['西四', '西单'],\n",
       "             '菜市口': ['宣武门', '陶然亭', '广安门内', '虎坊桥'],\n",
       "             '陶然亭': ['菜市口', '北京南站'],\n",
       "             '北京南站': ['陶然亭', '马家堡', '陶然桥'],\n",
       "             '马家堡': ['北京南站', '角门西'],\n",
       "             '角门西': ['马家堡', '公益西桥', '角门东', '草桥'],\n",
       "             '公益西桥': ['角门西', '新宫'],\n",
       "             '天通苑北': ['天通苑'],\n",
       "             '天通苑': ['天通苑北', '天通苑南'],\n",
       "             '天通苑南': ['天通苑', '立水桥'],\n",
       "             '立水桥': ['天通苑南', '立水桥南', '霍营', '北苑'],\n",
       "             '立水桥南': ['立水桥', '北苑路北'],\n",
       "             '北苑路北': ['立水桥南', '大屯路东'],\n",
       "             '大屯路东': ['北苑路北', '惠新西街北口', '安立路', '关庄'],\n",
       "             '惠新西街北口': ['大屯路东', '惠新西街南口'],\n",
       "             '惠新西街南口': ['惠新西街北口', '和平西桥', '安贞门', '芍药居'],\n",
       "             '和平西桥': ['惠新西街南口', '和平里北街'],\n",
       "             '和平里北街': ['和平西桥', '雍和宫'],\n",
       "             '北新桥': ['雍和宫', '张自忠路'],\n",
       "             '张自忠路': ['北新桥', '东四'],\n",
       "             '东四': ['张自忠路', '灯市口', '南锣鼓巷', '朝阳门'],\n",
       "             '灯市口': ['东四', '东单'],\n",
       "             '磁器口': ['崇文门', '天坛东门', '桥湾', '广渠门内'],\n",
       "             '天坛东门': ['磁器口', '蒲黄榆'],\n",
       "             '蒲黄榆': ['天坛东门', '刘家窑', '景泰', '方庄'],\n",
       "             '刘家窑': ['蒲黄榆', '宋家庄'],\n",
       "             '宋家庄': ['刘家窑', '成寿寺', '石榴庄', '肖村'],\n",
       "             '海淀五路居': ['慈寿寺'],\n",
       "             '慈寿寺': ['海淀五路居', '花园桥', '西钓鱼台', '车道沟'],\n",
       "             '花园桥': ['慈寿寺', '白石桥南'],\n",
       "             '白石桥南': ['花园桥', '车公庄西', '国家图书馆', '白堆子'],\n",
       "             '车公庄西': ['白石桥南', '车公庄'],\n",
       "             '北海北': ['平安里', '南锣鼓巷'],\n",
       "             '南锣鼓巷': ['北海北', '东四', '什刹海'],\n",
       "             '东大桥': ['朝阳门', '呼家楼'],\n",
       "             '呼家楼': ['东大桥', '金台路', '团结湖', '金台夕照'],\n",
       "             '金台路': ['呼家楼', '十里堡', '红庙', '朝阳公园'],\n",
       "             '十里堡': ['金台路', '青年路'],\n",
       "             '青年路': ['十里堡', '褡裢坡'],\n",
       "             '褡裢坡': ['青年路', '黄渠'],\n",
       "             '黄渠': ['褡裢坡', '常营'],\n",
       "             '常营': ['黄渠', '草房'],\n",
       "             '草房': ['常营', '物资学院路'],\n",
       "             '物资学院路': ['草房', '通州北关'],\n",
       "             '通州北关': ['物资学院路', '通运门'],\n",
       "             '通运门': ['通州北关', '北运河西'],\n",
       "             '北运河西': ['通运门', '北运河东'],\n",
       "             '北运河东': ['北运河西', '郝家府'],\n",
       "             '郝家府': ['北运河东', '东夏园'],\n",
       "             '东夏园': ['郝家府', '潞城'],\n",
       "             '潞城': ['东夏园'],\n",
       "             '北京西站': ['湾子', '军事博物馆', '六里桥东'],\n",
       "             '湾子': ['北京西站', '达官营'],\n",
       "             '达官营': ['湾子', '广安门内'],\n",
       "             '广安门内': ['达官营', '菜市口'],\n",
       "             '虎坊桥': ['菜市口', '珠市口'],\n",
       "             '珠市口': ['虎坊桥', '桥湾'],\n",
       "             '桥湾': ['珠市口', '磁器口'],\n",
       "             '广渠门内': ['磁器口', '广渠门外'],\n",
       "             '广渠门外': ['广渠门内', '双井'],\n",
       "             '双井': ['广渠门外', '九龙山', '国贸', '劲松'],\n",
       "             '九龙山': ['双井', '大郊亭', '平乐园', '大望路'],\n",
       "             '大郊亭': ['九龙山', '百子湾'],\n",
       "             '百子湾': ['大郊亭', '化工'],\n",
       "             '化工': ['百子湾', '南楼梓庄'],\n",
       "             '南楼梓庄': ['化工', '欢乐谷景区'],\n",
       "             '欢乐谷景区': ['南楼梓庄', '垡头'],\n",
       "             '垡头': ['欢乐谷景区', '双合'],\n",
       "             '双合': ['垡头', '焦化厂'],\n",
       "             '焦化厂': ['双合'],\n",
       "             '朱辛庄': ['育知路', '巩华城', '生命科学园'],\n",
       "             '育知路': ['朱辛庄', '平西府'],\n",
       "             '平西府': ['育知路', '回龙观东大街'],\n",
       "             '回龙观东大街': ['平西府', '霍营'],\n",
       "             '霍营': ['回龙观东大街', '育新', '回龙观', '立水桥'],\n",
       "             '育新': ['霍营', '西小口'],\n",
       "             '西小口': ['育新', '永泰庄'],\n",
       "             '永泰庄': ['西小口', '林萃桥'],\n",
       "             '林萃桥': ['永泰庄', '森林公园南门'],\n",
       "             '森林公园南门': ['林萃桥', '奥林匹克公园'],\n",
       "             '奥林匹克公园': ['森林公园南门', '奥体中心', '北沙滩', '安立路'],\n",
       "             '奥体中心': ['奥林匹克公园', '北土城'],\n",
       "             '北土城': ['奥体中心', '安华桥', '健德门', '安贞门'],\n",
       "             '安华桥': ['北土城', '安德里北街'],\n",
       "             '安德里北街': ['安华桥', '鼓楼大街'],\n",
       "             '什刹海': ['鼓楼大街', '南锣鼓巷'],\n",
       "             '白堆子': ['白石桥南', '军事博物馆'],\n",
       "             '六里桥东': ['北京西站', '六里桥'],\n",
       "             '六里桥': ['六里桥东', '七里庄', '西局', '莲花桥'],\n",
       "             '七里庄': ['六里桥', '丰台东大街', '大井', '西局'],\n",
       "             '丰台东大街': ['七里庄', '丰台南路'],\n",
       "             '丰台南路': ['丰台东大街', '科怡路'],\n",
       "             '科怡路': ['丰台南路', '丰台科技园'],\n",
       "             '丰台科技园': ['科怡路', '郭公庄'],\n",
       "             '郭公庄': ['丰台科技园', '大葆台'],\n",
       "             '巴沟': ['苏州街', '火器营'],\n",
       "             '苏州街': ['巴沟', '海淀黄庄'],\n",
       "             '知春里': ['海淀黄庄', '知春路'],\n",
       "             '知春路': ['知春里', '西土城', '大钟寺', '五道口'],\n",
       "             '西土城': ['知春路', '牡丹园'],\n",
       "             '牡丹园': ['西土城', '健德门'],\n",
       "             '健德门': ['牡丹园', '北土城'],\n",
       "             '安贞门': ['北土城', '惠新西街南口'],\n",
       "             '芍药居': ['惠新西街南口', '太阳宫', '望京西', '光熙门'],\n",
       "             '太阳宫': ['芍药居', '三元桥'],\n",
       "             '三元桥': ['太阳宫', '亮马桥', '东直门', 'T3航站楼', 'T2航站楼'],\n",
       "             '亮马桥': ['三元桥', '农业展览馆'],\n",
       "             '农业展览馆': ['亮马桥', '团结湖'],\n",
       "             '团结湖': ['农业展览馆', '呼家楼'],\n",
       "             '金台夕照': ['呼家楼', '国贸'],\n",
       "             '劲松': ['双井', '潘家园'],\n",
       "             '潘家园': ['劲松', '十里河'],\n",
       "             '十里河': ['潘家园', '分钟寺', '方庄', '南八里庄'],\n",
       "             '分钟寺': ['十里河', '成寿寺'],\n",
       "             '成寿寺': ['分钟寺', '宋家庄'],\n",
       "             '石榴庄': ['宋家庄', '大红门'],\n",
       "             '大红门': ['石榴庄', '角门东'],\n",
       "             '角门东': ['大红门', '角门西'],\n",
       "             '草桥': ['角门西', '纪家庙'],\n",
       "             '纪家庙': ['草桥', '首经贸'],\n",
       "             '首经贸': ['纪家庙', '丰台站'],\n",
       "             '丰台站': ['首经贸', '泥洼'],\n",
       "             '泥洼': ['丰台站', '西局'],\n",
       "             '西局': ['泥洼', '六里桥', '七里庄'],\n",
       "             '莲花桥': ['六里桥', '公主坟'],\n",
       "             '西钓鱼台': ['公主坟', '慈寿寺'],\n",
       "             '车道沟': ['慈寿寺', '长春桥'],\n",
       "             '长春桥': ['车道沟', '火器营'],\n",
       "             '火器营': ['长春桥', '巴沟'],\n",
       "             '大钟寺': ['西直门', '知春路'],\n",
       "             '五道口': ['知春路', '上地'],\n",
       "             '上地': ['五道口', '西二旗'],\n",
       "             '西二旗': ['上地', '龙泽', '生命科学园'],\n",
       "             '龙泽': ['西二旗', '回龙观'],\n",
       "             '回龙观': ['龙泽', '霍营'],\n",
       "             '北苑': ['立水桥', '望京西'],\n",
       "             '望京西': ['北苑', '芍药居', '关庄', '望京'],\n",
       "             '光熙门': ['芍药居', '柳芳'],\n",
       "             '柳芳': ['光熙门', '东直门'],\n",
       "             '张郭庄': ['园博园'],\n",
       "             '园博园': ['张郭庄', '大瓦窑'],\n",
       "             '大瓦窑': ['园博园', '郭庄子'],\n",
       "             '郭庄子': ['大瓦窑', '大井'],\n",
       "             '大井': ['郭庄子', '七里庄'],\n",
       "             '陶然桥': ['北京南站', '永定门外'],\n",
       "             '永定门外': ['陶然桥', '景泰'],\n",
       "             '景泰': ['永定门外', '蒲黄榆'],\n",
       "             '方庄': ['蒲黄榆', '十里河'],\n",
       "             '南八里庄': ['十里河', '北工大西门'],\n",
       "             '北工大西门': ['南八里庄', '平乐园'],\n",
       "             '平乐园': ['北工大西门', '九龙山'],\n",
       "             '红庙': ['大望路', '金台路'],\n",
       "             '朝阳公园': ['金台路', '枣营'],\n",
       "             '枣营': ['朝阳公园', '东风北桥'],\n",
       "             '东风北桥': ['枣营', '将台'],\n",
       "             '将台': ['东风北桥', '高家园'],\n",
       "             '高家园': ['将台', '望京南'],\n",
       "             '望京南': ['高家园', '阜通'],\n",
       "             '阜通': ['望京南', '望京'],\n",
       "             '望京': ['阜通', '东湖渠', '望京西', '望京东'],\n",
       "             '东湖渠': ['望京', '来广营'],\n",
       "             '来广营': ['东湖渠', '善各庄'],\n",
       "             '善各庄': ['来广营'],\n",
       "             '清华东路西口': ['六道口'],\n",
       "             '六道口': ['清华东路西口', '北沙滩'],\n",
       "             '北沙滩': ['六道口', '奥林匹克公园'],\n",
       "             '安立路': ['奥林匹克公园', '大屯路东'],\n",
       "             '关庄': ['大屯路东', '望京西'],\n",
       "             '望京东': ['望京', '崔各庄'],\n",
       "             '崔各庄': ['望京东', '马泉营'],\n",
       "             '马泉营': ['崔各庄', '孙河'],\n",
       "             '孙河': ['马泉营', '国展'],\n",
       "             '国展': ['孙河', '花梨坎'],\n",
       "             '花梨坎': ['国展', '后沙峪'],\n",
       "             '后沙峪': ['花梨坎', '南法信'],\n",
       "             '南法信': ['后沙峪', '石门'],\n",
       "             '石门': ['南法信', '顺义'],\n",
       "             '顺义': ['石门', '俸伯'],\n",
       "             '俸伯': ['顺义'],\n",
       "             '高碑店': ['四惠东', '传媒大学'],\n",
       "             '传媒大学': ['高碑店', '双桥'],\n",
       "             '双桥': ['传媒大学', '管庄'],\n",
       "             '管庄': ['双桥', '八里桥'],\n",
       "             '八里桥': ['管庄', '通州北苑'],\n",
       "             '通州北苑': ['八里桥', '果园'],\n",
       "             '果园': ['通州北苑', '九棵树'],\n",
       "             '九棵树': ['果园', '梨园'],\n",
       "             '梨园': ['九棵树', '临河里'],\n",
       "             '临河里': ['梨园', '土桥'],\n",
       "             '土桥': ['临河里'],\n",
       "             '昌平西山口': ['十三陵景区'],\n",
       "             '十三陵景区': ['昌平西山口', '昌平'],\n",
       "             '昌平': ['十三陵景区', '昌平东关'],\n",
       "             '昌平东关': ['昌平', '北邵洼'],\n",
       "             '北邵洼': ['昌平东关', '南邵'],\n",
       "             '南邵': ['北邵洼', '沙河高教园'],\n",
       "             '沙河高教园': ['南邵', '沙河'],\n",
       "             '沙河': ['沙河高教园', '巩华城'],\n",
       "             '巩华城': ['沙河', '朱辛庄'],\n",
       "             '生命科学园': ['朱辛庄', '西二旗'],\n",
       "             '肖村': ['宋家庄', '小红门'],\n",
       "             '小红门': ['肖村', '旧宫'],\n",
       "             '旧宫': ['小红门', '亦庄桥'],\n",
       "             '亦庄桥': ['旧宫', '亦庄文化园'],\n",
       "             '亦庄文化园': ['亦庄桥', '万源街'],\n",
       "             '万源街': ['亦庄文化园', '荣京东街'],\n",
       "             '荣京东街': ['万源街', '荣昌东街'],\n",
       "             '荣昌东街': ['荣京东街', '同济南路'],\n",
       "             '同济南路': ['荣昌东街', '经海路'],\n",
       "             '经海路': ['同济南路', '次渠南'],\n",
       "             '次渠南': ['经海路', '次渠'],\n",
       "             '次渠': ['次渠南'],\n",
       "             '新宫': ['公益西桥', '西红门'],\n",
       "             '西红门': ['新宫', '高米店北'],\n",
       "             '高米店北': ['西红门', '高米店南'],\n",
       "             '高米店南': ['高米店北', '枣园'],\n",
       "             '枣园': ['高米店南', '清源路'],\n",
       "             '清源路': ['枣园', '黄村西大街'],\n",
       "             '黄村西大街': ['清源路', '黄村火车站'],\n",
       "             '黄村火车站': ['黄村西大街', '义和庄'],\n",
       "             '义和庄': ['黄村火车站', '生物医药基地'],\n",
       "             '生物医药基地': ['义和庄', '天宫院'],\n",
       "             '天宫院': ['生物医药基地'],\n",
       "             '大葆台': ['郭公庄', '稻田'],\n",
       "             '稻田': ['大葆台', '长阳'],\n",
       "             '长阳': ['稻田', '篱笆房'],\n",
       "             '篱笆房': ['长阳', '广阳城'],\n",
       "             '广阳城': ['篱笆房', '良乡大学城北'],\n",
       "             '良乡大学城北': ['广阳城', '良乡大学城'],\n",
       "             '良乡大学城': ['良乡大学城北', '良乡大学城西'],\n",
       "             '良乡大学城西': ['良乡大学城', '良乡南关'],\n",
       "             '良乡南关': ['良乡大学城西', '苏庄'],\n",
       "             '苏庄': ['良乡南关'],\n",
       "             'T3航站楼': ['三元桥', 'T2航站楼'],\n",
       "             'T2航站楼': ['T3航站楼', '三元桥']})"
      ]
     },
     "execution_count": 80,
     "metadata": {},
     "output_type": "execute_result"
    }
   ],
   "source": [
    "subway_station_connection"
   ]
  },
  {
   "cell_type": "code",
   "execution_count": 81,
   "metadata": {},
   "outputs": [
    {
     "data": {
      "text/plain": [
       "['天安门东', '东单']"
      ]
     },
     "execution_count": 81,
     "metadata": {},
     "output_type": "execute_result"
    }
   ],
   "source": [
    "subway_station_connection['王府井']"
   ]
  },
  {
   "cell_type": "markdown",
   "metadata": {},
   "source": [
    "# search"
   ]
  },
  {
   "cell_type": "code",
   "execution_count": 85,
   "metadata": {},
   "outputs": [],
   "source": [
    "def search(start, destination, connection_grpah, sort_candidate):\n",
    "    pathes = [[start]]##[[起始，目的地]]\n",
    "    \n",
    "    visitied = set()\n",
    "    \n",
    "    while pathes: # if we find existing pathes\n",
    "        path = pathes.pop(0)\n",
    "        froninter = path[-1]\n",
    "        \n",
    "        if froninter in visitied: continue#找到目的地\n",
    "            \n",
    "        successors = connection_grpah[froninter]\n",
    "        \n",
    "        for city in successors:\n",
    "            if city in path: continue  # eliminate loop，找到起始\n",
    "                \n",
    "            new_path = path + [city]\n",
    "            \n",
    "            pathes.append(new_path)\n",
    "            \n",
    "            if city == destination: return new_path\n",
    "        \n",
    "        visitied.add(froninter)\n",
    "        \n",
    "        #pathes = sort_candidate(pathes) # 我们可以加一个排序函数 对我们的搜索策略进行控制\n",
    "        #print(pathes)"
   ]
  },
  {
   "cell_type": "code",
   "execution_count": 86,
   "metadata": {},
   "outputs": [],
   "source": [
    "def shortest_path_first(pathes):\n",
    "    \n",
    "    if len(pathes) <= 1: return pathes\n",
    "    \n",
    "    def get_path_distnace(path):\n",
    "        distance = 0\n",
    "        for i in range(1, len(path)):\n",
    "            distance += 1#距离默认1\n",
    "        return distance\n",
    "\n",
    "    return sorted(pathes, key=get_path_distnace)# key主要是用来进行比较的元素，只有一个参数，具体的函数的参数就是取自于可迭代对象中，指定可迭代对象中的一个元素来进行排序"
   ]
  },
  {
   "cell_type": "code",
   "execution_count": 88,
   "metadata": {},
   "outputs": [
    {
     "name": "stdout",
     "output_type": "stream",
     "text": [
      "五道口🚗->上地🚗->西二旗🚗->生命科学园\n"
     ]
    }
   ],
   "source": [
    "pretty_print(search('五道口', '生命科学园', subway_station_connection, sort_candidate=shortest_path_first))"
   ]
  },
  {
   "cell_type": "markdown",
   "metadata": {},
   "source": [
    "# Machine Learning"
   ]
  },
  {
   "cell_type": "code",
   "execution_count": 1,
   "metadata": {},
   "outputs": [],
   "source": [
    "from sklearn.datasets import load_boston#boston数据\n",
    "import matplotlib.pyplot as plt"
   ]
  },
  {
   "cell_type": "code",
   "execution_count": 2,
   "metadata": {},
   "outputs": [],
   "source": [
    "dataset = load_boston()"
   ]
  },
  {
   "cell_type": "code",
   "execution_count": 3,
   "metadata": {},
   "outputs": [],
   "source": [
    "x = dataset[\"data\"]"
   ]
  },
  {
   "cell_type": "code",
   "execution_count": 11,
   "metadata": {},
   "outputs": [
    {
     "data": {
      "text/plain": [
       "array([6.320e-03, 1.800e+01, 2.310e+00, 0.000e+00, 5.380e-01, 6.575e+00,\n",
       "       6.520e+01, 4.090e+00, 1.000e+00, 2.960e+02, 1.530e+01, 3.969e+02,\n",
       "       4.980e+00])"
      ]
     },
     "execution_count": 11,
     "metadata": {},
     "output_type": "execute_result"
    }
   ],
   "source": [
    "x[0]"
   ]
  },
  {
   "cell_type": "code",
   "execution_count": 4,
   "metadata": {},
   "outputs": [],
   "source": [
    "y = dataset[\"target\"]"
   ]
  },
  {
   "cell_type": "code",
   "execution_count": 5,
   "metadata": {},
   "outputs": [
    {
     "data": {
      "text/plain": [
       "<matplotlib.collections.PathCollection at 0x294ef4c87f0>"
      ]
     },
     "execution_count": 5,
     "metadata": {},
     "output_type": "execute_result"
    },
    {
     "data": {
      "image/png": "[encoded data removed]",
      "text/plain": [
       "<Figure size 432x288 with 1 Axes>"
      ]
     },
     "metadata": {
      "needs_background": "light"
     },
     "output_type": "display_data"
    }
   ],
   "source": [
    "plt.scatter(x[0:20,5], y[0:20])"
   ]
  },
  {
   "cell_type": "code",
   "execution_count": 6,
   "metadata": {},
   "outputs": [],
   "source": [
    "def draw_rm_and_price():\n",
    "    plt.scatter(x[:,5], y)"
   ]
  },
  {
   "cell_type": "code",
   "execution_count": 7,
   "metadata": {},
   "outputs": [
    {
     "data": {
      "image/png": "[encoded data removed]",
      "text/plain": [
       "<Figure size 432x288 with 1 Axes>"
      ]
     },
     "metadata": {
      "needs_background": "light"
     },
     "output_type": "display_data"
    }
   ],
   "source": [
    "draw_rm_and_price()"
   ]
  },
  {
   "cell_type": "code",
   "execution_count": 8,
   "metadata": {},
   "outputs": [],
   "source": [
    "room_num = x[:, 5]\n",
    "price = y"
   ]
  },
  {
   "cell_type": "code",
   "execution_count": 9,
   "metadata": {},
   "outputs": [],
   "source": [
    "import random\n",
    "import numpy as np"
   ]
  },
  {
   "cell_type": "code",
   "execution_count": 10,
   "metadata": {},
   "outputs": [],
   "source": [
    "def func(age, k, b): return k * age + b"
   ]
  },
  {
   "cell_type": "code",
   "execution_count": 11,
   "metadata": {},
   "outputs": [],
   "source": [
    "def loss(y,yhat):#**2,平方\n",
    "    return np.sum((y_i - yhat_i)**2 for y_i,yhat_i in zip(y,yhat))/len(list(y))#zip() 函数用于将可迭代的对象作为参数，将对象中对应的元素打包成一个个元组，然后返回由这些元组组成的列表。"
   ]
  },
  {
   "cell_type": "code",
   "execution_count": 20,
   "metadata": {},
   "outputs": [
    {
     "name": "stderr",
     "output_type": "stream",
     "text": [
      "D:\\Anaconda3\\lib\\site-packages\\ipykernel_launcher.py:2: DeprecationWarning: Calling np.sum(generator) is deprecated, and in the future will give a different result. Use np.sum(np.fromiter(generator)) or the python sum builtin instead.\n",
      "  \n"
     ]
    },
    {
     "name": "stdout",
     "output_type": "stream",
     "text": [
      "best_k:-14 best_b:-81,and min_loss:36985.58037393672\n",
      "best_k:-13 best_b:-73,and min_loss:31695.83895522332\n",
      "best_k:11 best_b:26,and min_loss:5315.869803729247\n",
      "best_k:5 best_b:21,and min_loss:945.3252375000001\n",
      "best_k:-5 best_b:37,and min_loss:429.0877908596842\n",
      "best_k:16 best_b:-81,and min_loss:75.91582615019774\n",
      "best_k:9 best_b:-39,and min_loss:68.3174925039526\n",
      "best_k:10 best_b:-44,and min_loss:57.58777213438735\n",
      "best_k:14 best_b:-64,and min_loss:57.52850516205533\n"
     ]
    }
   ],
   "source": [
    "min_loss = float(\"inf\")#\n",
    "for i in  range(1000):\n",
    "    k = random.randint(-100,100)\n",
    "    b = random.randint(-100,100)\n",
    "    price_by_random_k_and_b = [func(r,k,b) for r in room_num]\n",
    "    #draw_rm_and_price()\n",
    "    #plt.scatter(room_num,price_by_random_k_and_b)\n",
    "    current_loss =loss(y,price_by_random_k_and_b)\n",
    "    if current_loss < min_loss:\n",
    "        best_k = k\n",
    "        best_b = b\n",
    "        min_loss = current_loss        \n",
    "        print(\"best_k:{} best_b:{},and min_loss:{}\".format(best_k,best_b,min_loss))"
   ]
  },
  {
   "cell_type": "code",
   "execution_count": 21,
   "metadata": {},
   "outputs": [
    {
     "data": {
      "text/plain": [
       "<matplotlib.collections.PathCollection at 0x2bddd573f98>"
      ]
     },
     "execution_count": 21,
     "metadata": {},
     "output_type": "execute_result"
    },
    {
     "data": {
      "image/png": "[encoded data removed]",
      "text/plain": [
       "<Figure size 432x288 with 1 Axes>"
      ]
     },
     "metadata": {
      "needs_background": "light"
     },
     "output_type": "display_data"
    }
   ],
   "source": [
    "price_by_random_k_and_b = [func(r,4.746301430212446,-6.7024787369638705) for r in room_num]\n",
    "draw_rm_and_price()\n",
    "plt.scatter(room_num,price_by_random_k_and_b)"
   ]
  },
  {
   "cell_type": "code",
   "execution_count": 22,
   "metadata": {},
   "outputs": [
    {
     "name": "stderr",
     "output_type": "stream",
     "text": [
      "D:\\Anaconda3\\lib\\site-packages\\ipykernel_launcher.py:2: DeprecationWarning: Calling np.sum(generator) is deprecated, and in the future will give a different result. Use np.sum(np.fromiter(generator)) or the python sum builtin instead.\n",
      "  \n"
     ]
    },
    {
     "name": "stdout",
     "output_type": "stream",
     "text": [
      "When time is : 0, get best_k: -32.63334413228208 best_b: 80.04013645705962, and the loss is: 22682.042801955467\n",
      "When time is : 5, get best_k: -32.53334413228208 best_b: 79.94013645705962, and the loss is: 22522.23178136393\n",
      "When time is : 6, get best_k: -32.43334413228208 best_b: 79.84013645705963, and the loss is: 22362.989161888865\n",
      "When time is : 7, get best_k: -32.33334413228208 best_b: 79.74013645705963, and the loss is: 22204.31494353025\n",
      "When time is : 8, get best_k: -32.23334413228208 best_b: 79.64013645705964, and the loss is: 22046.209126288155\n",
      "When time is : 9, get best_k: -32.133344132282076 best_b: 79.54013645705965, and the loss is: 21888.671710162515\n",
      "When time is : 10, get best_k: -32.033344132282075 best_b: 79.44013645705965, and the loss is: 21731.70269515339\n",
      "When time is : 11, get best_k: -31.933344132282073 best_b: 79.34013645705966, and the loss is: 21575.302081260706\n",
      "When time is : 12, get best_k: -31.833344132282072 best_b: 79.24013645705966, and the loss is: 21419.46986848452\n",
      "When time is : 13, get best_k: -31.73334413228207 best_b: 79.14013645705967, and the loss is: 21264.206056824838\n",
      "When time is : 14, get best_k: -31.63334413228207 best_b: 79.04013645705967, and the loss is: 21109.51064628162\n",
      "When time is : 15, get best_k: -31.533344132282068 best_b: 78.94013645705968, and the loss is: 20955.383636854876\n",
      "When time is : 16, get best_k: -31.433344132282066 best_b: 78.84013645705969, and the loss is: 20801.825028544677\n",
      "When time is : 17, get best_k: -31.333344132282065 best_b: 78.74013645705969, and the loss is: 20648.834821350865\n",
      "When time is : 18, get best_k: -31.233344132282063 best_b: 78.6401364570597, and the loss is: 20496.413015273592\n",
      "When time is : 19, get best_k: -31.133344132282062 best_b: 78.5401364570597, and the loss is: 20344.559610312786\n",
      "When time is : 20, get best_k: -31.03334413228206 best_b: 78.44013645705971, and the loss is: 20193.27460646847\n",
      "When time is : 21, get best_k: -30.93334413228206 best_b: 78.34013645705971, and the loss is: 20042.558003740636\n",
      "When time is : 22, get best_k: -30.833344132282058 best_b: 78.24013645705972, and the loss is: 19892.409802129267\n",
      "When time is : 23, get best_k: -30.733344132282056 best_b: 78.14013645705973, and the loss is: 19742.830001634415\n",
      "When time is : 24, get best_k: -30.633344132282055 best_b: 78.04013645705973, and the loss is: 19593.818602255975\n",
      "When time is : 25, get best_k: -30.533344132282053 best_b: 77.94013645705974, and the loss is: 19445.3756039941\n",
      "When time is : 26, get best_k: -30.433344132282052 best_b: 77.84013645705974, and the loss is: 19297.50100684867\n",
      "When time is : 27, get best_k: -30.33334413228205 best_b: 77.74013645705975, and the loss is: 19150.194810819696\n",
      "When time is : 28, get best_k: -30.23334413228205 best_b: 77.64013645705975, and the loss is: 19003.457015907254\n",
      "When time is : 29, get best_k: -30.133344132282048 best_b: 77.54013645705976, and the loss is: 18857.287622111267\n",
      "When time is : 30, get best_k: -30.033344132282046 best_b: 77.44013645705977, and the loss is: 18711.686629431766\n",
      "When time is : 31, get best_k: -29.933344132282045 best_b: 77.34013645705977, and the loss is: 18566.654037868753\n",
      "When time is : 32, get best_k: -29.833344132282043 best_b: 77.24013645705978, and the loss is: 18422.189847422225\n",
      "When time is : 33, get best_k: -29.733344132282042 best_b: 77.14013645705978, and the loss is: 18278.294058092164\n",
      "When time is : 34, get best_k: -29.63334413228204 best_b: 77.04013645705979, and the loss is: 18134.9666698786\n",
      "When time is : 35, get best_k: -29.53334413228204 best_b: 76.9401364570598, and the loss is: 17992.207682781504\n",
      "When time is : 36, get best_k: -29.433344132282038 best_b: 76.8401364570598, and the loss is: 17850.0170968009\n",
      "When time is : 37, get best_k: -29.333344132282036 best_b: 76.7401364570598, and the loss is: 17708.394911936775\n",
      "When time is : 38, get best_k: -29.233344132282035 best_b: 76.64013645705981, and the loss is: 17567.341128189135\n",
      "When time is : 39, get best_k: -29.133344132282033 best_b: 76.54013645705982, and the loss is: 17426.85574555797\n",
      "When time is : 40, get best_k: -29.033344132282032 best_b: 76.44013645705982, and the loss is: 17286.938764043298\n",
      "When time is : 41, get best_k: -28.93334413228203 best_b: 76.34013645705983, and the loss is: 17147.590183645105\n",
      "When time is : 42, get best_k: -28.83334413228203 best_b: 76.24013645705983, and the loss is: 17008.810004363382\n",
      "When time is : 43, get best_k: -28.733344132282028 best_b: 76.14013645705984, and the loss is: 16870.598226198177\n",
      "When time is : 44, get best_k: -28.633344132282026 best_b: 76.04013645705984, and the loss is: 16732.95484914942\n",
      "When time is : 45, get best_k: -28.533344132282025 best_b: 75.94013645705985, and the loss is: 16595.879873217153\n",
      "When time is : 46, get best_k: -28.433344132282024 best_b: 75.84013645705986, and the loss is: 16459.37329840138\n",
      "When time is : 47, get best_k: -28.333344132282022 best_b: 75.74013645705986, and the loss is: 16323.435124702066\n",
      "When time is : 48, get best_k: -28.23334413228202 best_b: 75.64013645705987, and the loss is: 16188.065352119258\n",
      "When time is : 49, get best_k: -28.13334413228202 best_b: 75.54013645705987, and the loss is: 16053.263980652922\n",
      "When time is : 50, get best_k: -28.033344132282018 best_b: 75.44013645705988, and the loss is: 15919.031010303062\n",
      "When time is : 51, get best_k: -27.933344132282016 best_b: 75.34013645705988, and the loss is: 15785.366441069684\n",
      "When time is : 52, get best_k: -27.833344132282015 best_b: 75.24013645705989, and the loss is: 15652.270272952783\n",
      "When time is : 53, get best_k: -27.733344132282014 best_b: 75.1401364570599, and the loss is: 15519.742505952383\n",
      "When time is : 54, get best_k: -27.633344132282012 best_b: 75.0401364570599, and the loss is: 15387.78314006846\n",
      "When time is : 55, get best_k: -27.53334413228201 best_b: 74.94013645705991, and the loss is: 15256.392175301016\n",
      "When time is : 56, get best_k: -27.43334413228201 best_b: 74.84013645705991, and the loss is: 15125.569611650059\n",
      "When time is : 57, get best_k: -27.333344132282008 best_b: 74.74013645705992, and the loss is: 14995.315449115573\n",
      "When time is : 58, get best_k: -27.233344132282006 best_b: 74.64013645705992, and the loss is: 14865.629687697587\n",
      "When time is : 59, get best_k: -27.133344132282005 best_b: 74.54013645705993, and the loss is: 14736.512327396067\n",
      "When time is : 60, get best_k: -27.033344132282004 best_b: 74.44013645705994, and the loss is: 14607.963368211049\n",
      "When time is : 61, get best_k: -26.933344132282002 best_b: 74.34013645705994, and the loss is: 14479.982810142501\n",
      "When time is : 62, get best_k: -26.833344132282 best_b: 74.24013645705995, and the loss is: 14352.570653190442\n",
      "When time is : 63, get best_k: -26.733344132282 best_b: 74.14013645705995, and the loss is: 14225.726897354838\n",
      "When time is : 64, get best_k: -26.633344132281998 best_b: 74.04013645705996, and the loss is: 14099.45154263575\n",
      "When time is : 65, get best_k: -26.533344132281997 best_b: 73.94013645705996, and the loss is: 13973.744589033111\n",
      "When time is : 66, get best_k: -26.433344132281995 best_b: 73.84013645705997, and the loss is: 13848.606036546964\n",
      "When time is : 67, get best_k: -26.333344132281994 best_b: 73.74013645705998, and the loss is: 13724.035885177322\n",
      "When time is : 68, get best_k: -26.233344132281992 best_b: 73.64013645705998, and the loss is: 13600.034134924146\n",
      "When time is : 69, get best_k: -26.13334413228199 best_b: 73.54013645705999, and the loss is: 13476.600785787476\n",
      "When time is : 70, get best_k: -26.03334413228199 best_b: 73.44013645705999, and the loss is: 13353.735837767244\n",
      "When time is : 71, get best_k: -25.933344132281988 best_b: 73.34013645706, and the loss is: 13231.43929086352\n",
      "When time is : 72, get best_k: -25.833344132281987 best_b: 73.24013645706, and the loss is: 13109.71114507628\n",
      "When time is : 73, get best_k: -25.733344132281985 best_b: 73.14013645706001, and the loss is: 12988.551400405517\n",
      "When time is : 74, get best_k: -25.633344132281984 best_b: 73.04013645706002, and the loss is: 12867.960056851236\n",
      "When time is : 75, get best_k: -25.533344132281982 best_b: 72.94013645706002, and the loss is: 12747.937114413431\n",
      "When time is : 76, get best_k: -25.43334413228198 best_b: 72.84013645706003, and the loss is: 12628.48257309213\n",
      "When time is : 77, get best_k: -25.33334413228198 best_b: 72.74013645706003, and the loss is: 12509.596432887265\n",
      "When time is : 78, get best_k: -25.233344132281978 best_b: 72.64013645706004, and the loss is: 12391.278693798931\n",
      "When time is : 79, get best_k: -25.133344132281977 best_b: 72.54013645706004, and the loss is: 12273.529355827051\n",
      "When time is : 80, get best_k: -25.033344132281975 best_b: 72.44013645706005, and the loss is: 12156.348418971678\n",
      "When time is : 81, get best_k: -24.933344132281974 best_b: 72.34013645706005, and the loss is: 12039.735883232766\n",
      "When time is : 82, get best_k: -24.833344132281972 best_b: 72.24013645706006, and the loss is: 11923.691748610347\n",
      "When time is : 83, get best_k: -24.73334413228197 best_b: 72.14013645706007, and the loss is: 11808.216015104405\n",
      "When time is : 84, get best_k: -24.63334413228197 best_b: 72.04013645706007, and the loss is: 11693.308682714958\n",
      "When time is : 85, get best_k: -24.533344132281968 best_b: 71.94013645706008, and the loss is: 11578.969751441982\n",
      "When time is : 86, get best_k: -24.433344132281967 best_b: 71.84013645706008, and the loss is: 11465.199221285484\n",
      "When time is : 87, get best_k: -24.333344132281965 best_b: 71.74013645706009, and the loss is: 11351.99709224547\n",
      "When time is : 88, get best_k: -24.233344132281964 best_b: 71.6401364570601, and the loss is: 11239.363364321944\n",
      "When time is : 89, get best_k: -24.133344132281962 best_b: 71.5401364570601, and the loss is: 11127.298037514889\n",
      "When time is : 90, get best_k: -24.03334413228196 best_b: 71.4401364570601, and the loss is: 11015.801111824325\n",
      "When time is : 91, get best_k: -23.93334413228196 best_b: 71.34013645706011, and the loss is: 10904.872587250245\n",
      "When time is : 92, get best_k: -23.833344132281958 best_b: 71.24013645706012, and the loss is: 10794.512463792658\n",
      "When time is : 93, get best_k: -23.733344132281957 best_b: 71.14013645706012, and the loss is: 10684.720741451534\n",
      "When time is : 94, get best_k: -23.633344132281955 best_b: 71.04013645706013, and the loss is: 10575.49742022689\n",
      "When time is : 95, get best_k: -23.533344132281954 best_b: 70.94013645706013, and the loss is: 10466.842500118742\n",
      "When time is : 96, get best_k: -23.433344132281952 best_b: 70.84013645706014, and the loss is: 10358.755981127066\n",
      "When time is : 97, get best_k: -23.33334413228195 best_b: 70.74013645706015, and the loss is: 10251.237863251888\n",
      "When time is : 98, get best_k: -23.23334413228195 best_b: 70.64013645706015, and the loss is: 10144.288146493178\n",
      "When time is : 99, get best_k: -23.133344132281948 best_b: 70.54013645706016, and the loss is: 10037.906830850963\n",
      "When time is : 100, get best_k: -23.033344132281947 best_b: 70.44013645706016, and the loss is: 9932.093916325211\n",
      "When time is : 101, get best_k: -22.933344132281945 best_b: 70.34013645706017, and the loss is: 9826.849402915952\n",
      "When time is : 102, get best_k: -22.833344132281944 best_b: 70.24013645706017, and the loss is: 9722.173290623172\n",
      "When time is : 103, get best_k: -22.733344132281943 best_b: 70.14013645706018, and the loss is: 9618.065579446875\n",
      "When time is : 104, get best_k: -22.63334413228194 best_b: 70.04013645706019, and the loss is: 9514.526269387068\n",
      "When time is : 105, get best_k: -22.53334413228194 best_b: 69.94013645706019, and the loss is: 9411.555360443732\n",
      "When time is : 106, get best_k: -22.43334413228194 best_b: 69.8401364570602, and the loss is: 9309.152852616882\n",
      "When time is : 107, get best_k: -22.333344132281937 best_b: 69.7401364570602, and the loss is: 9207.318745906516\n",
      "When time is : 108, get best_k: -22.233344132281935 best_b: 69.64013645706021, and the loss is: 9106.053040312641\n",
      "When time is : 109, get best_k: -22.133344132281934 best_b: 69.54013645706021, and the loss is: 9005.355735835245\n",
      "When time is : 110, get best_k: -22.033344132281933 best_b: 69.44013645706022, and the loss is: 8905.226832474316\n",
      "When time is : 111, get best_k: -21.93334413228193 best_b: 69.34013645706023, and the loss is: 8805.666330229864\n",
      "When time is : 112, get best_k: -21.83334413228193 best_b: 69.24013645706023, and the loss is: 8706.674229101924\n",
      "When time is : 113, get best_k: -21.73334413228193 best_b: 69.14013645706024, and the loss is: 8608.250529090448\n",
      "When time is : 114, get best_k: -21.633344132281927 best_b: 69.04013645706024, and the loss is: 8510.395230195456\n",
      "When time is : 115, get best_k: -21.533344132281925 best_b: 68.94013645706025, and the loss is: 8413.108332416947\n",
      "When time is : 116, get best_k: -21.433344132281924 best_b: 68.84013645706025, and the loss is: 8316.389835754917\n",
      "When time is : 117, get best_k: -21.333344132281923 best_b: 68.74013645706026, and the loss is: 8220.239740209374\n",
      "When time is : 118, get best_k: -21.23334413228192 best_b: 68.64013645706027, and the loss is: 8124.658045780317\n",
      "When time is : 119, get best_k: -21.13334413228192 best_b: 68.54013645706027, and the loss is: 8029.64475246774\n",
      "When time is : 120, get best_k: -21.03334413228192 best_b: 68.44013645706028, and the loss is: 7935.199860271642\n",
      "When time is : 121, get best_k: -20.933344132281917 best_b: 68.34013645706028, and the loss is: 7841.323369192024\n",
      "When time is : 122, get best_k: -20.833344132281916 best_b: 68.24013645706029, and the loss is: 7748.015279228903\n",
      "When time is : 123, get best_k: -20.733344132281914 best_b: 68.1401364570603, and the loss is: 7655.275590382245\n",
      "When time is : 124, get best_k: -20.633344132281913 best_b: 68.0401364570603, and the loss is: 7563.1043026520765\n",
      "When time is : 125, get best_k: -20.53334413228191 best_b: 67.9401364570603, and the loss is: 7471.501416038392\n",
      "When time is : 126, get best_k: -20.43334413228191 best_b: 67.84013645706031, and the loss is: 7380.466930541191\n",
      "When time is : 127, get best_k: -20.33334413228191 best_b: 67.74013645706032, and the loss is: 7290.000846160462\n",
      "When time is : 128, get best_k: -20.233344132281907 best_b: 67.64013645706032, and the loss is: 7200.103162896224\n",
      "When time is : 129, get best_k: -20.133344132281906 best_b: 67.54013645706033, and the loss is: 7110.773880748481\n",
      "When time is : 130, get best_k: -20.033344132281904 best_b: 67.44013645706033, and the loss is: 7022.012999717197\n",
      "When time is : 131, get best_k: -19.933344132281903 best_b: 67.34013645706034, and the loss is: 6933.820519802413\n",
      "When time is : 132, get best_k: -19.8333441322819 best_b: 67.24013645706034, and the loss is: 6846.196441004093\n",
      "When time is : 133, get best_k: -19.7333441322819 best_b: 67.14013645706035, and the loss is: 6759.1407633222625\n",
      "When time is : 134, get best_k: -19.6333441322819 best_b: 67.04013645706036, and the loss is: 6672.65348675692\n",
      "When time is : 135, get best_k: -19.533344132281897 best_b: 66.94013645706036, and the loss is: 6586.734611308064\n",
      "When time is : 136, get best_k: -19.433344132281896 best_b: 66.84013645706037, and the loss is: 6501.384136975683\n",
      "When time is : 137, get best_k: -19.333344132281894 best_b: 66.74013645706037, and the loss is: 6416.6020637597785\n",
      "When time is : 138, get best_k: -19.233344132281893 best_b: 66.64013645706038, and the loss is: 6332.388391660353\n",
      "When time is : 139, get best_k: -19.13334413228189 best_b: 66.54013645706038, and the loss is: 6248.743120677429\n",
      "When time is : 140, get best_k: -19.03334413228189 best_b: 66.44013645706039, and the loss is: 6165.666250810973\n",
      "When time is : 141, get best_k: -18.93334413228189 best_b: 66.3401364570604, and the loss is: 6083.157782061005\n",
      "When time is : 142, get best_k: -18.833344132281887 best_b: 66.2401364570604, and the loss is: 6001.2177144275165\n",
      "When time is : 143, get best_k: -18.733344132281886 best_b: 66.14013645706041, and the loss is: 5919.846047910516\n",
      "When time is : 144, get best_k: -18.633344132281884 best_b: 66.04013645706041, and the loss is: 5839.042782509988\n",
      "When time is : 145, get best_k: -18.533344132281883 best_b: 65.94013645706042, and the loss is: 5758.807918225941\n",
      "When time is : 146, get best_k: -18.43334413228188 best_b: 65.84013645706042, and the loss is: 5679.14145505839\n",
      "When time is : 147, get best_k: -18.33334413228188 best_b: 65.74013645706043, and the loss is: 5600.043393007307\n",
      "When time is : 148, get best_k: -18.23334413228188 best_b: 65.64013645706044, and the loss is: 5521.513732072721\n",
      "When time is : 149, get best_k: -18.133344132281877 best_b: 65.54013645706044, and the loss is: 5443.552472254612\n",
      "When time is : 150, get best_k: -18.033344132281876 best_b: 65.44013645706045, and the loss is: 5366.159613552976\n",
      "When time is : 151, get best_k: -17.933344132281874 best_b: 65.34013645706045, and the loss is: 5289.335155967825\n",
      "When time is : 152, get best_k: -17.833344132281873 best_b: 65.24013645706046, and the loss is: 5213.079099499162\n",
      "When time is : 153, get best_k: -17.73334413228187 best_b: 65.14013645706046, and the loss is: 5137.391444146981\n",
      "When time is : 154, get best_k: -17.63334413228187 best_b: 65.04013645706047, and the loss is: 5062.272189911276\n",
      "When time is : 155, get best_k: -17.53334413228187 best_b: 64.94013645706048, and the loss is: 4987.7213367920585\n",
      "When time is : 156, get best_k: -17.433344132281867 best_b: 64.84013645706048, and the loss is: 4913.738884789327\n",
      "When time is : 157, get best_k: -17.333344132281866 best_b: 64.74013645706049, and the loss is: 4840.324833903066\n",
      "When time is : 158, get best_k: -17.233344132281864 best_b: 64.64013645706049, and the loss is: 4767.479184133302\n",
      "When time is : 159, get best_k: -17.133344132281863 best_b: 64.5401364570605, and the loss is: 4695.201935480011\n",
      "When time is : 160, get best_k: -17.03334413228186 best_b: 64.4401364570605, and the loss is: 4623.493087943202\n",
      "When time is : 161, get best_k: -16.93334413228186 best_b: 64.34013645706051, and the loss is: 4552.352641522882\n",
      "When time is : 162, get best_k: -16.83334413228186 best_b: 64.24013645706052, and the loss is: 4481.780596219032\n",
      "When time is : 163, get best_k: -16.733344132281857 best_b: 64.14013645706052, and the loss is: 4411.77695203168\n",
      "When time is : 164, get best_k: -16.633344132281856 best_b: 64.04013645706053, and the loss is: 4342.341708960796\n",
      "When time is : 165, get best_k: -16.533344132281854 best_b: 63.940136457060525, and the loss is: 4273.474867006397\n",
      "When time is : 166, get best_k: -16.433344132281853 best_b: 63.840136457060524, and the loss is: 4205.176426168489\n",
      "When time is : 167, get best_k: -16.33334413228185 best_b: 63.74013645706052, and the loss is: 4137.44638644706\n",
      "When time is : 168, get best_k: -16.23334413228185 best_b: 63.64013645706052, and the loss is: 4070.284747842111\n",
      "When time is : 169, get best_k: -16.13334413228185 best_b: 63.54013645706052, and the loss is: 4003.6915103536408\n",
      "When time is : 170, get best_k: -16.033344132281847 best_b: 63.44013645706052, and the loss is: 3937.6666739816615\n",
      "When time is : 171, get best_k: -15.933344132281848 best_b: 63.34013645706052, and the loss is: 3872.210238726158\n",
      "When time is : 172, get best_k: -15.833344132281848 best_b: 63.240136457060515, and the loss is: 3807.3222045871407\n",
      "When time is : 173, get best_k: -15.733344132281848 best_b: 63.140136457060514, and the loss is: 3743.002571564602\n",
      "When time is : 174, get best_k: -15.633344132281849 best_b: 63.04013645706051, and the loss is: 3679.251339658549\n",
      "When time is : 175, get best_k: -15.533344132281849 best_b: 62.94013645706051, and the loss is: 3616.068508868977\n",
      "When time is : 176, get best_k: -15.43334413228185 best_b: 62.84013645706051, and the loss is: 3553.4540791958902\n",
      "When time is : 177, get best_k: -15.33334413228185 best_b: 62.74013645706051, and the loss is: 3491.4080506392784\n",
      "When time is : 178, get best_k: -15.23334413228185 best_b: 62.64013645706051, and the loss is: 3429.930423199152\n",
      "When time is : 179, get best_k: -15.13334413228185 best_b: 62.540136457060505, and the loss is: 3369.021196875511\n",
      "When time is : 180, get best_k: -15.03334413228185 best_b: 62.440136457060504, and the loss is: 3308.6803716683503\n",
      "When time is : 181, get best_k: -14.933344132281851 best_b: 62.3401364570605, and the loss is: 3248.9079475776753\n",
      "When time is : 182, get best_k: -14.833344132281852 best_b: 62.2401364570605, and the loss is: 3189.703924603479\n",
      "When time is : 183, get best_k: -14.733344132281852 best_b: 62.1401364570605, and the loss is: 3131.0683027457662\n",
      "When time is : 184, get best_k: -14.633344132281852 best_b: 62.0401364570605, and the loss is: 3073.0010820045327\n",
      "When time is : 185, get best_k: -14.533344132281853 best_b: 61.9401364570605, and the loss is: 3015.5022623797827\n",
      "When time is : 186, get best_k: -14.433344132281853 best_b: 61.840136457060495, and the loss is: 2958.5718438715166\n",
      "When time is : 187, get best_k: -14.333344132281853 best_b: 61.740136457060494, and the loss is: 2902.209826479735\n",
      "When time is : 188, get best_k: -14.233344132281854 best_b: 61.64013645706049, and the loss is: 2846.416210204427\n",
      "When time is : 189, get best_k: -14.133344132281854 best_b: 61.54013645706049, and the loss is: 2791.1909950456106\n",
      "When time is : 190, get best_k: -14.033344132281854 best_b: 61.44013645706049, and the loss is: 2736.534181003269\n",
      "When time is : 191, get best_k: -13.933344132281855 best_b: 61.34013645706049, and the loss is: 2682.4457680774126\n",
      "When time is : 192, get best_k: -13.833344132281855 best_b: 61.24013645706049, and the loss is: 2628.9257562680395\n",
      "When time is : 193, get best_k: -13.733344132281855 best_b: 61.140136457060485, and the loss is: 2575.9741455751464\n",
      "When time is : 194, get best_k: -13.633344132281856 best_b: 61.040136457060484, and the loss is: 2523.590935998737\n",
      "When time is : 195, get best_k: -13.533344132281856 best_b: 60.94013645706048, and the loss is: 2471.7761275388107\n",
      "When time is : 196, get best_k: -13.433344132281857 best_b: 60.84013645706048, and the loss is: 2420.5297201953663\n",
      "When time is : 197, get best_k: -13.333344132281857 best_b: 60.74013645706048, and the loss is: 2369.851713968404\n",
      "When time is : 198, get best_k: -13.233344132281857 best_b: 60.64013645706048, and the loss is: 2319.7421088579217\n",
      "When time is : 199, get best_k: -13.133344132281858 best_b: 60.54013645706048, and the loss is: 2270.2009048639184\n",
      "When time is : 200, get best_k: -13.033344132281858 best_b: 60.440136457060476, and the loss is: 2221.2281019864045\n",
      "When time is : 201, get best_k: -12.933344132281858 best_b: 60.340136457060474, and the loss is: 2172.823700225368\n",
      "When time is : 202, get best_k: -12.833344132281859 best_b: 60.24013645706047, and the loss is: 2124.987699580818\n",
      "When time is : 203, get best_k: -12.733344132281859 best_b: 60.14013645706047, and the loss is: 2077.7201000527525\n",
      "When time is : 204, get best_k: -12.63334413228186 best_b: 60.04013645706047, and the loss is: 2031.0209016411625\n",
      "When time is : 205, get best_k: -12.53334413228186 best_b: 59.94013645706047, and the loss is: 1984.8901043460573\n",
      "When time is : 206, get best_k: -12.43334413228186 best_b: 59.84013645706047, and the loss is: 1939.3277081674332\n",
      "When time is : 207, get best_k: -12.33334413228186 best_b: 59.740136457060466, and the loss is: 1894.3337131052922\n",
      "When time is : 208, get best_k: -12.23334413228186 best_b: 59.640136457060464, and the loss is: 1849.9081191596335\n",
      "When time is : 209, get best_k: -12.133344132281861 best_b: 59.54013645706046, and the loss is: 1806.050926330457\n",
      "When time is : 210, get best_k: -12.033344132281862 best_b: 59.44013645706046, and the loss is: 1762.7621346177616\n",
      "When time is : 211, get best_k: -11.933344132281862 best_b: 59.34013645706046, and the loss is: 1720.0417440215497\n",
      "When time is : 212, get best_k: -11.833344132281862 best_b: 59.24013645706046, and the loss is: 1677.8897545418195\n",
      "When time is : 213, get best_k: -11.733344132281863 best_b: 59.14013645706046, and the loss is: 1636.306166178573\n",
      "When time is : 214, get best_k: -11.633344132281863 best_b: 59.040136457060456, and the loss is: 1595.2909789318055\n",
      "When time is : 215, get best_k: -11.533344132281863 best_b: 58.940136457060454, and the loss is: 1554.844192801524\n",
      "When time is : 216, get best_k: -11.433344132281864 best_b: 58.84013645706045, and the loss is: 1514.965807787721\n",
      "When time is : 217, get best_k: -11.333344132281864 best_b: 58.74013645706045, and the loss is: 1475.6558238904036\n",
      "When time is : 218, get best_k: -11.233344132281864 best_b: 58.64013645706045, and the loss is: 1436.9142411095663\n",
      "When time is : 219, get best_k: -11.133344132281865 best_b: 58.54013645706045, and the loss is: 1398.7410594452133\n",
      "When time is : 220, get best_k: -11.033344132281865 best_b: 58.44013645706045, and the loss is: 1361.1362788973386\n",
      "When time is : 221, get best_k: -10.933344132281865 best_b: 58.340136457060446, and the loss is: 1324.0998994659499\n",
      "When time is : 222, get best_k: -10.833344132281866 best_b: 58.240136457060444, and the loss is: 1287.6319211510404\n",
      "When time is : 223, get best_k: -10.733344132281866 best_b: 58.14013645706044, and the loss is: 1251.732343952616\n",
      "When time is : 224, get best_k: -10.633344132281866 best_b: 58.04013645706044, and the loss is: 1216.4011678706697\n",
      "When time is : 225, get best_k: -10.533344132281867 best_b: 57.94013645706044, and the loss is: 1181.6383929052106\n",
      "When time is : 226, get best_k: -10.433344132281867 best_b: 57.84013645706044, and the loss is: 1147.4440190562311\n",
      "When time is : 227, get best_k: -10.333344132281868 best_b: 57.74013645706044, and the loss is: 1113.8180463237345\n",
      "When time is : 228, get best_k: -10.233344132281868 best_b: 57.640136457060436, and the loss is: 1080.7604747077198\n",
      "When time is : 229, get best_k: -10.133344132281868 best_b: 57.540136457060434, and the loss is: 1048.2713042081873\n",
      "When time is : 230, get best_k: -10.033344132281869 best_b: 57.44013645706043, and the loss is: 1016.3505348251362\n",
      "When time is : 231, get best_k: -9.933344132281869 best_b: 57.34013645706043, and the loss is: 984.9981665585694\n",
      "When time is : 232, get best_k: -9.83334413228187 best_b: 57.24013645706043, and the loss is: 954.2141994084827\n",
      "When time is : 233, get best_k: -9.73334413228187 best_b: 57.14013645706043, and the loss is: 923.9986333748791\n",
      "When time is : 234, get best_k: -9.63334413228187 best_b: 57.04013645706043, and the loss is: 894.3514684577586\n",
      "When time is : 235, get best_k: -9.53334413228187 best_b: 56.940136457060426, and the loss is: 865.272704657119\n",
      "When time is : 236, get best_k: -9.43334413228187 best_b: 56.840136457060424, and the loss is: 836.7623419729617\n",
      "When time is : 237, get best_k: -9.333344132281871 best_b: 56.74013645706042, and the loss is: 808.8203804052864\n",
      "When time is : 238, get best_k: -9.233344132281871 best_b: 56.64013645706042, and the loss is: 781.4468199540936\n",
      "When time is : 239, get best_k: -9.133344132281872 best_b: 56.54013645706042, and the loss is: 754.6416606193836\n",
      "When time is : 240, get best_k: -9.033344132281872 best_b: 56.44013645706042, and the loss is: 728.4049024011554\n",
      "When time is : 241, get best_k: -8.933344132281873 best_b: 56.34013645706042, and the loss is: 702.7365452994102\n",
      "When time is : 242, get best_k: -8.833344132281873 best_b: 56.240136457060416, and the loss is: 677.6365893141458\n"
     ]
    },
    {
     "name": "stdout",
     "output_type": "stream",
     "text": [
      "When time is : 243, get best_k: -8.733344132281873 best_b: 56.140136457060414, and the loss is: 653.1050344453643\n",
      "When time is : 244, get best_k: -8.633344132281874 best_b: 56.04013645706041, and the loss is: 629.1418806930648\n",
      "When time is : 245, get best_k: -8.533344132281874 best_b: 55.94013645706041, and the loss is: 605.7471280572478\n",
      "When time is : 246, get best_k: -8.433344132281874 best_b: 55.84013645706041, and the loss is: 582.9207765379126\n",
      "When time is : 247, get best_k: -8.333344132281875 best_b: 55.74013645706041, and the loss is: 560.6628261350597\n",
      "When time is : 248, get best_k: -8.233344132281875 best_b: 55.64013645706041, and the loss is: 538.9732768486881\n",
      "When time is : 249, get best_k: -8.133344132281875 best_b: 55.540136457060406, and the loss is: 517.8521286788008\n",
      "When time is : 250, get best_k: -8.033344132281876 best_b: 55.440136457060404, and the loss is: 497.299381625395\n",
      "When time is : 251, get best_k: -7.933344132281876 best_b: 55.3401364570604, and the loss is: 477.3150356884707\n",
      "When time is : 252, get best_k: -7.833344132281876 best_b: 55.2401364570604, and the loss is: 457.89909086802896\n",
      "When time is : 253, get best_k: -7.733344132281877 best_b: 55.1401364570604, and the loss is: 439.0515471640694\n",
      "When time is : 254, get best_k: -7.633344132281877 best_b: 55.0401364570604, and the loss is: 420.772404576592\n",
      "When time is : 255, get best_k: -7.5333441322818775 best_b: 54.9401364570604, and the loss is: 403.06166310559666\n",
      "When time is : 256, get best_k: -7.433344132281878 best_b: 54.840136457060396, and the loss is: 385.9193227510837\n",
      "When time is : 257, get best_k: -7.333344132281878 best_b: 54.740136457060395, and the loss is: 369.345383513053\n",
      "When time is : 258, get best_k: -7.233344132281879 best_b: 54.64013645706039, and the loss is: 353.33984539150464\n",
      "When time is : 259, get best_k: -7.133344132281879 best_b: 54.54013645706039, and the loss is: 337.90270838643835\n",
      "When time is : 260, get best_k: -7.033344132281879 best_b: 54.44013645706039, and the loss is: 323.0339724978537\n",
      "When time is : 261, get best_k: -6.93334413228188 best_b: 54.34013645706039, and the loss is: 308.73363772575226\n",
      "When time is : 262, get best_k: -6.83334413228188 best_b: 54.24013645706039, and the loss is: 295.00170407013235\n",
      "When time is : 263, get best_k: -6.73334413228188 best_b: 54.140136457060386, and the loss is: 281.8381715309951\n",
      "When time is : 264, get best_k: -6.633344132281881 best_b: 54.040136457060385, and the loss is: 269.2430401083399\n",
      "When time is : 265, get best_k: -6.533344132281881 best_b: 53.94013645706038, and the loss is: 257.21630980216685\n",
      "When time is : 266, get best_k: -6.433344132281881 best_b: 53.84013645706038, and the loss is: 245.757980612476\n",
      "When time is : 267, get best_k: -6.333344132281882 best_b: 53.74013645706038, and the loss is: 234.86805253926727\n",
      "When time is : 268, get best_k: -6.233344132281882 best_b: 53.64013645706038, and the loss is: 224.54652558254062\n",
      "When time is : 269, get best_k: -6.1333441322818825 best_b: 53.54013645706038, and the loss is: 214.79339974229657\n",
      "When time is : 270, get best_k: -6.033344132281883 best_b: 53.440136457060376, and the loss is: 205.60867501853448\n",
      "When time is : 271, get best_k: -5.933344132281883 best_b: 53.340136457060375, and the loss is: 196.99235141125456\n",
      "When time is : 272, get best_k: -5.8333441322818835 best_b: 53.24013645706037, and the loss is: 188.94442892045706\n",
      "When time is : 273, get best_k: -5.733344132281884 best_b: 53.14013645706037, and the loss is: 181.4649075461414\n",
      "When time is : 274, get best_k: -5.633344132281884 best_b: 53.04013645706037, and the loss is: 174.55378728830829\n",
      "When time is : 275, get best_k: -5.533344132281885 best_b: 52.94013645706037, and the loss is: 168.21106814695707\n",
      "When time is : 276, get best_k: -5.433344132281885 best_b: 52.84013645706037, and the loss is: 162.4367501220883\n",
      "When time is : 277, get best_k: -5.333344132281885 best_b: 52.740136457060366, and the loss is: 157.23083321370186\n",
      "When time is : 278, get best_k: -5.233344132281886 best_b: 52.640136457060365, and the loss is: 152.59331742179725\n",
      "When time is : 279, get best_k: -5.133344132281886 best_b: 52.54013645706036, and the loss is: 148.52420274637544\n",
      "When time is : 280, get best_k: -5.033344132281886 best_b: 52.44013645706036, and the loss is: 145.02348918743527\n",
      "When time is : 281, get best_k: -4.933344132281887 best_b: 52.34013645706036, and the loss is: 142.09117674497736\n",
      "When time is : 282, get best_k: -4.833344132281887 best_b: 52.24013645706036, and the loss is: 139.72726541900158\n",
      "When time is : 283, get best_k: -4.733344132281887 best_b: 52.14013645706036, and the loss is: 137.93175520950842\n",
      "When time is : 284, get best_k: -4.633344132281888 best_b: 52.040136457060356, and the loss is: 136.7046461164972\n",
      "When time is : 285, get best_k: -4.533344132281888 best_b: 51.940136457060355, and the loss is: 136.04593813996829\n",
      "When time is : 286, get best_k: -4.4333441322818885 best_b: 51.84013645706035, and the loss is: 135.9556312799216\n",
      "When time is : 289, get best_k: -4.533344132281888 best_b: 51.74013645706035, and the loss is: 135.7191702561637\n",
      "When time is : 292, get best_k: -4.4333441322818885 best_b: 51.64013645706035, and the loss is: 135.41747802062272\n"
     ]
    }
   ],
   "source": [
    "trying_times = 2000\n",
    "\n",
    "min_loss = float('inf')\n",
    "\n",
    "best_k = random.random() * 200 - 100\n",
    "best_b = random.random() * 200 - 100\n",
    "\n",
    "direction = [\n",
    "    (+1, -1),  # first element: k's change direction, second element: b's change direction\n",
    "    (+1, +1), \n",
    "    (-1, -1), \n",
    "    (-1, +1),\n",
    "]\n",
    "\n",
    "next_direction = random.choice(direction)\n",
    "\n",
    "scalar = 0.1\n",
    "\n",
    "for i in range(trying_times):\n",
    "    \n",
    "    k_direction, b_direction = next_direction\n",
    "    \n",
    "    current_k, current_b = best_k + k_direction * scalar, best_b + b_direction * scalar\n",
    "    \n",
    "    price_by_k_and_b = [func(r, current_k, current_b) for r in room_num]\n",
    "\n",
    "    current_loss = loss(y, price_by_k_and_b)\n",
    "    \n",
    "    if current_loss < min_loss: # performance became better\n",
    "        min_loss = current_loss\n",
    "        best_k, best_b = current_k, current_b\n",
    "        \n",
    "        next_direction = next_direction\n",
    "        print('When time is : {}, get best_k: {} best_b: {}, and the loss is: {}'.format(i, best_k, best_b, min_loss))\n",
    "    else:\n",
    "        next_direction = random.choice(direction)"
   ]
  },
  {
   "cell_type": "markdown",
   "metadata": {},
   "source": [
    "# 导数"
   ]
  },
  {
   "cell_type": "code",
   "execution_count": 12,
   "metadata": {},
   "outputs": [],
   "source": [
    "def partial_k(x, y, y_hat):\n",
    "    n = len(y)\n",
    "\n",
    "    gradient = 0\n",
    "    \n",
    "    for x_i, y_i, y_hat_i in zip(list(x), list(y), list(y_hat)):\n",
    "        gradient += (y_i - y_hat_i) * x_i\n",
    "    \n",
    "    return -2 / n * gradient\n",
    "\n",
    "\n",
    "def partial_b(x, y, y_hat):\n",
    "    n = len(y)\n",
    "\n",
    "    gradient = 0\n",
    "    \n",
    "    for y_i, y_hat_i in zip(list(y), list(y_hat)):\n",
    "        gradient += (y_i - y_hat_i)\n",
    "    \n",
    "    return -2 / n * gradient"
   ]
  },
  {
   "cell_type": "code",
   "execution_count": 17,
   "metadata": {},
   "outputs": [
    {
     "name": "stderr",
     "output_type": "stream",
     "text": [
      "D:\\Anaconda3\\lib\\site-packages\\ipykernel_launcher.py:2: DeprecationWarning: Calling np.sum(generator) is deprecated, and in the future will give a different result. Use np.sum(np.fromiter(generator)) or the python sum builtin instead.\n",
      "  \n"
     ]
    },
    {
     "name": "stdout",
     "output_type": "stream",
     "text": [
      "When time is : 0, get best_k: -73.64563812181794 best_b: -70.1367058648236, and the loss is: 312003.45201660355\n",
      "When time is : 50, get best_k: 11.344674101181951 best_b: -56.74881151804545, and the loss is: 109.83042700979895\n",
      "When time is : 100, get best_k: 12.522487281341506 best_b: -56.53669935223602, and the loss is: 49.50167322046844\n",
      "When time is : 150, get best_k: 12.53479353090392 best_b: -56.50784317398786, and the loss is: 49.47586381247858\n",
      "When time is : 200, get best_k: 12.530896923350669 best_b: -56.48156651741683, and the loss is: 49.46174987096095\n",
      "When time is : 250, get best_k: 12.526779883937678 best_b: -56.45535682537289, and the loss is: 49.4476720788931\n",
      "When time is : 300, get best_k: 12.522664661298949 best_b: -56.42917912041676, and the loss is: 49.43362810018043\n",
      "When time is : 350, get best_k: 12.518554340197692 best_b: -56.403032878827446, and the loss is: 49.41961785317291\n",
      "When time is : 400, get best_k: 12.514448957671615 best_b: -56.37691805604844, and the loss is: 49.40564125685171\n",
      "When time is : 450, get best_k: 12.510348508383206 best_b: -56.35083461423141, and the loss is: 49.39169823039229\n",
      "When time is : 500, get best_k: 12.506252986412733 best_b: -56.32478251566599, and the loss is: 49.37778869316467\n",
      "When time is : 550, get best_k: 12.502162385839386 best_b: -56.298761722688454, and the loss is: 49.363912564732146\n",
      "When time is : 600, get best_k: 12.498076700749346 best_b: -56.27277219768033, and the loss is: 49.35006976485153\n",
      "When time is : 650, get best_k: 12.493995925235918 best_b: -56.246813903068386, and the loss is: 49.33626021347211\n",
      "When time is : 700, get best_k: 12.489920053399482 best_b: -56.220886801324504, and the loss is: 49.32248383073563\n",
      "When time is : 750, get best_k: 12.48584907934753 best_b: -56.19499085496568, and the loss is: 49.30874053697561\n",
      "When time is : 800, get best_k: 12.481782997194617 best_b: -56.16912602655394, and the loss is: 49.29503025271672\n",
      "When time is : 850, get best_k: 12.477721801062374 best_b: -56.14329227869632, and the loss is: 49.28135289867482\n",
      "When time is : 900, get best_k: 12.473665485079506 best_b: -56.11748957404473, and the loss is: 49.26770839575608\n",
      "When time is : 950, get best_k: 12.469614043381762 best_b: -56.091717875296034, and the loss is: 49.254096665056494\n",
      "When time is : 1000, get best_k: 12.465567470111939 best_b: -56.06597714519187, and the loss is: 49.240517627861784\n",
      "When time is : 1050, get best_k: 12.461525759419882 best_b: -56.040267346518704, and the loss is: 49.22697120564659\n",
      "When time is : 1100, get best_k: 12.457488905462453 best_b: -56.01458844210767, and the loss is: 49.213457320074404\n",
      "When time is : 1150, get best_k: 12.453456902403543 best_b: -55.98894039483455, and the loss is: 49.19997589299641\n",
      "When time is : 1200, get best_k: 12.449429744414052 best_b: -55.96332316761978, and the loss is: 49.18652684645191\n",
      "When time is : 1250, get best_k: 12.445407425671888 best_b: -55.93773672342832, and the loss is: 49.17311010266734\n",
      "When time is : 1300, get best_k: 12.441389940361956 best_b: -55.912181025269696, and the loss is: 49.15972558405584\n",
      "When time is : 1350, get best_k: 12.437377282676149 best_b: -55.88665603619782, and the loss is: 49.14637321321701\n",
      "When time is : 1400, get best_k: 12.43336944681333 best_b: -55.86116171931102, and the loss is: 49.13305291293636\n",
      "When time is : 1450, get best_k: 12.429366426979344 best_b: -55.83569803775195, and the loss is: 49.11976460618476\n",
      "When time is : 1500, get best_k: 12.425368217386998 best_b: -55.81026495470759, and the loss is: 49.10650821611823\n",
      "When time is : 1550, get best_k: 12.42137481225604 best_b: -55.78486243340912, and the loss is: 49.09328366607721\n",
      "When time is : 1600, get best_k: 12.41738620581318 best_b: -55.75949043713191, and the loss is: 49.080090879586386\n",
      "When time is : 1650, get best_k: 12.413402392292058 best_b: -55.7341489291955, and the loss is: 49.066929780354\n",
      "When time is : 1700, get best_k: 12.409423365933247 best_b: -55.70883787296346, and the loss is: 49.053800292271724\n",
      "When time is : 1750, get best_k: 12.405449120984231 best_b: -55.6835572318434, and the loss is: 49.040702339413805\n",
      "When time is : 1800, get best_k: 12.401479651699418 best_b: -55.658306969286905, and the loss is: 49.027635846037136\n",
      "When time is : 1850, get best_k: 12.397514952340115 best_b: -55.63308704878948, and the loss is: 49.01460073658018\n",
      "When time is : 1900, get best_k: 12.393555017174535 best_b: -55.60789743389056, and the loss is: 49.001596935663216\n",
      "When time is : 1950, get best_k: 12.389599840477755 best_b: -55.58273808817318, and the loss is: 48.988624368087414\n",
      "When time is : 2000, get best_k: 12.385649416531749 best_b: -55.55760897526436, and the loss is: 48.97568295883451\n",
      "When time is : 2050, get best_k: 12.38170373962536 best_b: -55.53251005883476, and the loss is: 48.962772633066585\n",
      "When time is : 2100, get best_k: 12.377762804054294 best_b: -55.507441302598664, and the loss is: 48.94989331612525\n",
      "When time is : 2150, get best_k: 12.373826604121108 best_b: -55.48240267031399, and the loss is: 48.9370449335318\n",
      "When time is : 2200, get best_k: 12.369895134135216 best_b: -55.457394125782194, and the loss is: 48.924227410986035\n",
      "When time is : 2250, get best_k: 12.365968388412854 best_b: -55.43241563284826, and the loss is: 48.91144067436636\n",
      "When time is : 2300, get best_k: 12.362046361277095 best_b: -55.40746715540053, and the loss is: 48.89868464972929\n",
      "When time is : 2350, get best_k: 12.358129047057833 best_b: -55.38254865737082, and the loss is: 48.885959263308706\n",
      "When time is : 2400, get best_k: 12.354216440091783 best_b: -55.35766010273426, and the loss is: 48.87326444151603\n",
      "When time is : 2450, get best_k: 12.350308534722451 best_b: -55.332801455509305, and the loss is: 48.860600110939124\n",
      "When time is : 2500, get best_k: 12.346405325300157 best_b: -55.307972679757576, and the loss is: 48.847966198342256\n",
      "When time is : 2550, get best_k: 12.342506806182 best_b: -55.28317373958399, and the loss is: 48.83536263066571\n",
      "When time is : 2600, get best_k: 12.338612971731852 best_b: -55.25840459913645, and the loss is: 48.82278933502509\n",
      "When time is : 2650, get best_k: 12.334723816320377 best_b: -55.23366522260607, and the loss is: 48.810246238711166\n",
      "When time is : 2700, get best_k: 12.330839334324985 best_b: -55.20895557422692, and the loss is: 48.79773326918924\n",
      "When time is : 2750, get best_k: 12.326959520129856 best_b: -55.18427561827606, and the loss is: 48.78525035409906\n",
      "When time is : 2800, get best_k: 12.323084368125915 best_b: -55.15962531907353, and the loss is: 48.772797421253784\n",
      "When time is : 2850, get best_k: 12.319213872710815 best_b: -55.13500464098219, and the loss is: 48.76037439864042\n",
      "When time is : 2900, get best_k: 12.31534802828896 best_b: -55.11041354840769, and the loss is: 48.747981214418544\n",
      "When time is : 2950, get best_k: 12.311486829271475 best_b: -55.08585200579859, and the loss is: 48.735617796920515\n"
     ]
    }
   ],
   "source": [
    "trying_times = 3000\n",
    "\n",
    "min_loss = float('inf')\n",
    "\n",
    "current_k = random.random() * 200 - 100#初始化研究\n",
    "current_b = random.random() * 200 - 100\n",
    "\n",
    "learning_rate = 0.001#学习率\n",
    "\n",
    "for i in range(trying_times):\n",
    "    \n",
    "    price_by_k_and_b = [func(r, current_k, current_b) for r in room_num]#func()复杂函数拟合研究\n",
    "\n",
    "    current_loss = loss(y, price_by_k_and_b)#loss()函数研究\n",
    "    \n",
    "    if current_loss < min_loss: # performance became better\n",
    "        min_loss = current_loss\n",
    "        \n",
    "        if i %50 == 0 :\n",
    "            print('When time is : {}, get best_k: {} best_b: {}, and the loss is: {}'.format(i, current_k,  current_b, min_loss))\n",
    "            \n",
    "    current_k = current_k + (-1*partial_k(room_num, y, price_by_k_and_b))*learning_rate\n",
    "    current_b = current_b + (-1*partial_b(room_num, y, price_by_k_and_b))*learning_rate \n",
    "                                                         "
   ]
  },
  {
   "cell_type": "code",
   "execution_count": null,
   "metadata": {},
   "outputs": [],
   "source": []
  }
 ],
 "metadata": {
  "kernelspec": {
   "display_name": "Python 3",
   "language": "python",
   "name": "python3"
  },
  "language_info": {
   "codemirror_mode": {
    "name": "ipython",
    "version": 3
   },
   "file_extension": ".py",
   "mimetype": "text/x-python",
   "name": "python",
   "nbconvert_exporter": "python",
   "pygments_lexer": "ipython3",
   "version": "3.7.3"
  }
 },
 "nbformat": 4,
 "nbformat_minor": 2
}
